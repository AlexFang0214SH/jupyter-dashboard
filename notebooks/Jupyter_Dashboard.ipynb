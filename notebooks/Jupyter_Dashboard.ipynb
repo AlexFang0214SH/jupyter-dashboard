{
 "cells": [
  {
   "cell_type": "markdown",
   "metadata": {},
   "source": [
    "<h1><center>Jupyter Dashboard with Voila</center></h1>\n",
    "\n",
    "<center><i>Dashboard to visualize open data, based on tutorial by <a href=\"https://duarteocarmo.com/\">Duarte OC</a> with <a href=\"https://github.com/voila-dashboards/voila\">Voila</a>, <a href=\"https://pandas.pydata.org/\">Pandas</a>, <a href=\"https://plot.ly/python/plotly-express/\">Plotly Express</a> and <a href=\"https://textblob.readthedocs.io/en/dev/\">TextBlob</a>.</i></center>\n",
    "<br></br>\n",
    "\n",
    "<center><i><a href=\"https://github.com/walteryu/jupyter-dashboard\">Source Code on Github</a></i></center>\n"
   ]
  },
  {
   "cell_type": "markdown",
   "metadata": {},
   "source": [
    "# Jupyter Dashboard with Voila\n",
    "\n",
    "## Introduction\n",
    "This notebook is a dashboard publication tool via Jupyter-Voila. It is developed based on this [tutorial](https://github.com/duarteocarmo/interactive-dashboard-post) by Duarte O. Carmo. He has also published an article to outline his tutorial [here](https://pbpython.com/interactive-dashboards.html).\n",
    "\n",
    "This notebook is organized into modules to complete the following tasks:\n",
    "\n",
    "1. Data Analysis\n",
    "2. Data Visualization\n",
    "3. Dashboard Publication\n",
    "\n",
    "## Notebook Tutorial\n",
    "This notebook is also a tutorial which demonstrates basic Notebook functionality, Python code required to run examples and features for analysis and visualization. It will require some basic understanding of the Python programming language, Jupyter platform and data analysis; however, we will work through these steps in each section so not to worry! After this tutorial, you should have a basic understanding of Notebook, Python and how to get started with your own notebook.\n",
    "\n",
    "Citation: This notebook is based on this Medium article [tutorial](https://medium.com/python-pandemonium/introduction-to-exploratory-data-analysis-in-python-8b6bcb55c190) and [Github Repo](https://github.com/kadnan/EDA_Python/).\n",
    "\n",
    "## Notebook for Collaboration\n",
    "\n",
    "Notebook are a powerful collaborative tool which is open-source and light-weight. It provides all the tools necessary to run data analysis, visualization, statistics and data science [out of the box](https://jupyter.org/jupyter-book/01/what-is-data-science.html). In addition, it has gain acceptance from industry and academia for collaborating on projects and publishing work.\n",
    "\n",
    "Notebook is a combination of text and code with the programming run-time built into the platform so there is no need to install additional software. The text is in the markdown file format (similar to HTML), and code in several languages. It is organized by cells which can consist of either text or code; placed together, they can be sent as a single document to share/publish work.\n"
   ]
  },
  {
   "cell_type": "markdown",
   "metadata": {},
   "source": [
    "## Notebook Usage\n",
    "\n",
    "Notebooks are organized by cells, which mainly consist of text (in markdown) and code (Python). It operations like a hybrid between MS Word and Excel file; whereas the entire file is like a document, the cells operate like a spreadsheet. For getting started, feel free to scroll down each cell and navigate around the cells for a quick tour. Here is a breakdown of how to view/edit cells:\n",
    "\n",
    "1. Each cell may be edited by hitting ENTER; toggle between cells using the arrow keys or mouse/scroller\n",
    "2. When editing a cell, be sure to select \"markdown\" for text or \"code\" before writing into it\n",
    "3. Each cell can be run by hitting CTRL + ENTER or the \"run\" button form the menu bar\n",
    "4. Output from each cell will appear below; if an error occurs, please read and try to debug it(!)\n",
    "5. File can be saved by hitting CTRL + \"s\" or file/save from the pulldown menu above\n",
    "\n",
    "## The Python Programming Language\n",
    "\n",
    "This tutorial will cover some basic programming, so we will focus on learning the Python programming language for this notebook since it is widely used and gain enough traction to be caught in [high school](https://codehs.com/info/curriculum/intropython) and AP Computer Science [courses](https://code.org/educate/curriculum/high-school).\n",
    "\n",
    "[Notebook](https://jupyter.org/) supports several different languages (R, Scala and Julia); however, Python is the most popular of them and can be used for other tasks, primarily data science and web programming.\n",
    "\n",
    "## Installation Instructions\n",
    "\n",
    "1. Create Help Desk ticket to install [Anaconda](https://www.anaconda.com/distribution/) application\n",
    "2. Verify that Jupyter Notebook was installed; it will be visible from Windows Start menu\n",
    "3. Start Jupyter Notebook; it will start CMD shell and load in the web browser\n",
    "4. Save this notebook and CSV data to your \"Documents\" folder and navigate to it from the Notebook start page\n",
    "5. Open this notebook from the start page; file and cells should be viewable\n",
    "6. This notebook contains introductory tutorial for getting started and running rules\n",
    "\n",
    "## Exercises\n",
    "\n",
    "If you are new to Jupyter Notebook, then please review the links below:\n",
    "\n",
    "1. [Intro Guide - DataQuest](https://www.dataquest.io/blog/jupyter-notebook-tutorial/)\n",
    "2. [Intro Guide - DataCamp](https://www.datacamp.com/community/tutorials/tutorial-jupyter-notebook)\n",
    "3. [Notebook Intro - Medium](https://towardsdatascience.com/a-beginners-tutorial-to-jupyter-notebooks-1b2f8705888a)\n",
    "\n",
    "If you are new to programming or Python, then please review the links below:\n",
    "\n",
    "1. [Quick Start](https://www.python.org/about/gettingstarted/)\n",
    "2. [Intro Tutorials](https://realpython.com/learning-paths/python3-introduction/)\n",
    "3. [Free Code Camp Guide](https://guide.freecodecamp.org/python/)\n",
    "\n",
    "If you are new to programming or Markdown, then please review the links below:\n",
    "\n",
    "1. [Quick Start - Github](https://guides.github.com/features/mastering-markdown/)\n",
    "2. [Quick Start Guide](https://www.markdownguide.org/getting-started/)\n",
    "3. [Quick Start Tutorial](https://www.markdowntutorial.com/)\n"
   ]
  },
  {
   "cell_type": "code",
   "execution_count": 3,
   "metadata": {},
   "outputs": [],
   "source": [
    "# 01 - import modules\n",
    "import pandas as pd\n",
    "import numpy as np\n",
    "\n",
    "# adjust default settings\n",
    "pd.options.display.max_columns = 60\n",
    "pd.options.display.max_rows = 35\n",
    "import warnings\n",
    "warnings.filterwarnings(\"ignore\")\n",
    "\n",
    "# import libraries\n",
    "# source: https://github.com/duarteocarmo/interactive-dashboard-post\n",
    "import requests\n",
    "# import textblob\n",
    "import plotly.express as px\n",
    "pd.set_option('display.max_colwidth', -1) # don't cut my pandas dataframes\n"
   ]
  },
  {
   "cell_type": "markdown",
   "metadata": {},
   "source": [
    "<p><center>Made with 🐍 and 🍕 by <a href=\"https://duarteocarmo.com\">Duarte OC</a></center></p>"
   ]
  }
 ],
 "metadata": {
  "kernelspec": {
   "display_name": "Python 3",
   "language": "python",
   "name": "python3"
  },
  "language_info": {
   "codemirror_mode": {
    "name": "ipython",
    "version": 3
   },
   "file_extension": ".py",
   "mimetype": "text/x-python",
   "name": "python",
   "nbconvert_exporter": "python",
   "pygments_lexer": "ipython3",
   "version": "3.6.9"
  }
 },
 "nbformat": 4,
 "nbformat_minor": 4
}
