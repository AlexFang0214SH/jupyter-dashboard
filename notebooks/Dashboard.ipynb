{
 "cells": [
  {
   "cell_type": "markdown",
   "metadata": {},
   "source": [
    "<h1><center>My Reddit monitoring dashboard for Python 🐍</center></h1>\n"
   ]
  },
  {
   "cell_type": "markdown",
   "metadata": {},
   "source": [
    "<center><i>A simple dashboard to monitor keywords in Reddit, made by <a href=\"https://duarteocarmo.com/\">Duarte OC</a> with <a href=\"https://github.com/voila-dashboards/voila\">Voila</a>, <a href=\"https://pandas.pydata.org/\">Pandas</a>, <a href=\"https://plot.ly/python/plotly-express/\">Plotly Express</a> and <a href=\"https://textblob.readthedocs.io/en/dev/\">TextBlob</a>.</i></center>"
   ]
  },
  {
   "cell_type": "markdown",
   "metadata": {},
   "source": [
    "<center><i><a href=\"https://github.com/duarteocarmo/interactive-dashboard-post\">Source code on github</a></i></center>"
   ]
  },
  {
   "cell_type": "code",
   "execution_count": 3,
   "metadata": {},
   "outputs": [
    {
     "name": "stderr",
     "output_type": "stream",
     "text": [
      "[nltk_data] Downloading package punkt to /home/doc/nltk_data...\n",
      "[nltk_data]   Package punkt is already up-to-date!\n"
     ]
    }
   ],
   "source": [
    "# import libraries\n",
    "\n",
    "import requests\n",
    "import pandas\n",
    "import textblob\n",
    "import plotly.express as px\n",
    "import nltk\n",
    "nltk.download('punkt')\n",
    "pandas.set_option('display.max_colwidth', -1) # don't cut my pandas dataframes"
   ]
  },
  {
   "cell_type": "code",
   "execution_count": 4,
   "metadata": {},
   "outputs": [],
   "source": [
    "# define variables\n",
    "\n",
    "COMMENT_COLOR         = \"blueviolet\"\n",
    "SUBMISSION_COLOR      = \"darkorange\"\n",
    "TEXT_PREVIEW_SIZE     = 240\n",
    "TERM_OF_INTEREST      = \"python\"\n",
    "SUBREDDIT_OF_INTEREST = \"python\"\n",
    "TIMEFRAME             = \"48h\""
   ]
  },
  {
   "cell_type": "code",
   "execution_count": 17,
   "metadata": {},
   "outputs": [],
   "source": [
    "# a couple of helper functions\n",
    "\n",
    "def get_pushshift_data(data_type, **kwargs):\n",
    "    \"\"\"\n",
    "    Gets data from the pushshift api.\n",
    "    \n",
    "    Data type can be 'comment' or 'submission'\n",
    "    The rest of the args as interpreted as payload.\n",
    "    \n",
    "    Read more: https://github.com/pushshift/api\n",
    "    \"\"\"\n",
    "    \n",
    "    base_url = f\"https://api.pushshift.io/reddit/search/{data_type}/\"\n",
    "    payload = kwargs\n",
    "    \n",
    "    request = requests.get(base_url, params=payload)\n",
    "    \n",
    "    return request.json()\n",
    "\n",
    "\n",
    "def make_clickable(val):\n",
    "    \"\"\"\n",
    "    Makes a pandas column clickable.\n",
    "    \"\"\"\n",
    "    \n",
    "    return '<a href=\"{}\">Link</a>'.format(val)"
   ]
  },
  {
   "cell_type": "markdown",
   "metadata": {},
   "source": [
    "# Figure Index\n",
    "\n",
    "- [Comment activity](#1)\n",
    "- [Submission activity](#2)\n",
    "- [Most upvoted comments](#3) \n",
    "- [Most upvoted submissions](#4) \n",
    "- [/r/python comment sentiment timeline](#5)"
   ]
  },
  {
   "cell_type": "markdown",
   "metadata": {},
   "source": [
    "## Comment activity <a class=\"anchor\" id=\"1\"></a>"
   ]
  },
  {
   "cell_type": "code",
   "execution_count": 18,
   "metadata": {},
   "outputs": [
    {
     "data": {
      "application/vnd.plotly.v1+json": {
       "config": {
        "plotlyServerURL": "https://plot.ly"
       },
       "data": [
        {
         "alignmentgroup": "True",
         "hoverlabel": {
          "namelength": 0
         },
         "hovertemplate": "Subreddits=%{x}<br># comments=%{y}",
         "legendgroup": "",
         "marker": {
          "color": "blueviolet"
         },
         "name": "",
         "offsetgroup": "",
         "orientation": "v",
         "showlegend": false,
         "textposition": "auto",
         "type": "bar",
         "x": [
          "learnpython",
          "AskReddit",
          "Python",
          "learnprogramming",
          "adventofcode",
          "ProgrammerHumor",
          "DestinyTheGame",
          "EliteDangerous",
          "cscareerquestions",
          "algotrading"
         ],
         "xaxis": "x",
         "y": [
          355,
          221,
          181,
          137,
          83,
          76,
          61,
          46,
          37,
          35
         ],
         "yaxis": "y"
        }
       ],
       "layout": {
        "barmode": "relative",
        "height": 500,
        "legend": {
         "tracegroupgap": 0
        },
        "template": {
         "data": {
          "bar": [
           {
            "error_x": {
             "color": "#2a3f5f"
            },
            "error_y": {
             "color": "#2a3f5f"
            },
            "marker": {
             "line": {
              "color": "#E5ECF6",
              "width": 0.5
             }
            },
            "type": "bar"
           }
          ],
          "barpolar": [
           {
            "marker": {
             "line": {
              "color": "#E5ECF6",
              "width": 0.5
             }
            },
            "type": "barpolar"
           }
          ],
          "carpet": [
           {
            "aaxis": {
             "endlinecolor": "#2a3f5f",
             "gridcolor": "white",
             "linecolor": "white",
             "minorgridcolor": "white",
             "startlinecolor": "#2a3f5f"
            },
            "baxis": {
             "endlinecolor": "#2a3f5f",
             "gridcolor": "white",
             "linecolor": "white",
             "minorgridcolor": "white",
             "startlinecolor": "#2a3f5f"
            },
            "type": "carpet"
           }
          ],
          "choropleth": [
           {
            "colorbar": {
             "outlinewidth": 0,
             "ticks": ""
            },
            "type": "choropleth"
           }
          ],
          "contour": [
           {
            "colorbar": {
             "outlinewidth": 0,
             "ticks": ""
            },
            "colorscale": [
             [
              0,
              "#0d0887"
             ],
             [
              0.1111111111111111,
              "#46039f"
             ],
             [
              0.2222222222222222,
              "#7201a8"
             ],
             [
              0.3333333333333333,
              "#9c179e"
             ],
             [
              0.4444444444444444,
              "#bd3786"
             ],
             [
              0.5555555555555556,
              "#d8576b"
             ],
             [
              0.6666666666666666,
              "#ed7953"
             ],
             [
              0.7777777777777778,
              "#fb9f3a"
             ],
             [
              0.8888888888888888,
              "#fdca26"
             ],
             [
              1,
              "#f0f921"
             ]
            ],
            "type": "contour"
           }
          ],
          "contourcarpet": [
           {
            "colorbar": {
             "outlinewidth": 0,
             "ticks": ""
            },
            "type": "contourcarpet"
           }
          ],
          "heatmap": [
           {
            "colorbar": {
             "outlinewidth": 0,
             "ticks": ""
            },
            "colorscale": [
             [
              0,
              "#0d0887"
             ],
             [
              0.1111111111111111,
              "#46039f"
             ],
             [
              0.2222222222222222,
              "#7201a8"
             ],
             [
              0.3333333333333333,
              "#9c179e"
             ],
             [
              0.4444444444444444,
              "#bd3786"
             ],
             [
              0.5555555555555556,
              "#d8576b"
             ],
             [
              0.6666666666666666,
              "#ed7953"
             ],
             [
              0.7777777777777778,
              "#fb9f3a"
             ],
             [
              0.8888888888888888,
              "#fdca26"
             ],
             [
              1,
              "#f0f921"
             ]
            ],
            "type": "heatmap"
           }
          ],
          "heatmapgl": [
           {
            "colorbar": {
             "outlinewidth": 0,
             "ticks": ""
            },
            "colorscale": [
             [
              0,
              "#0d0887"
             ],
             [
              0.1111111111111111,
              "#46039f"
             ],
             [
              0.2222222222222222,
              "#7201a8"
             ],
             [
              0.3333333333333333,
              "#9c179e"
             ],
             [
              0.4444444444444444,
              "#bd3786"
             ],
             [
              0.5555555555555556,
              "#d8576b"
             ],
             [
              0.6666666666666666,
              "#ed7953"
             ],
             [
              0.7777777777777778,
              "#fb9f3a"
             ],
             [
              0.8888888888888888,
              "#fdca26"
             ],
             [
              1,
              "#f0f921"
             ]
            ],
            "type": "heatmapgl"
           }
          ],
          "histogram": [
           {
            "marker": {
             "colorbar": {
              "outlinewidth": 0,
              "ticks": ""
             }
            },
            "type": "histogram"
           }
          ],
          "histogram2d": [
           {
            "colorbar": {
             "outlinewidth": 0,
             "ticks": ""
            },
            "colorscale": [
             [
              0,
              "#0d0887"
             ],
             [
              0.1111111111111111,
              "#46039f"
             ],
             [
              0.2222222222222222,
              "#7201a8"
             ],
             [
              0.3333333333333333,
              "#9c179e"
             ],
             [
              0.4444444444444444,
              "#bd3786"
             ],
             [
              0.5555555555555556,
              "#d8576b"
             ],
             [
              0.6666666666666666,
              "#ed7953"
             ],
             [
              0.7777777777777778,
              "#fb9f3a"
             ],
             [
              0.8888888888888888,
              "#fdca26"
             ],
             [
              1,
              "#f0f921"
             ]
            ],
            "type": "histogram2d"
           }
          ],
          "histogram2dcontour": [
           {
            "colorbar": {
             "outlinewidth": 0,
             "ticks": ""
            },
            "colorscale": [
             [
              0,
              "#0d0887"
             ],
             [
              0.1111111111111111,
              "#46039f"
             ],
             [
              0.2222222222222222,
              "#7201a8"
             ],
             [
              0.3333333333333333,
              "#9c179e"
             ],
             [
              0.4444444444444444,
              "#bd3786"
             ],
             [
              0.5555555555555556,
              "#d8576b"
             ],
             [
              0.6666666666666666,
              "#ed7953"
             ],
             [
              0.7777777777777778,
              "#fb9f3a"
             ],
             [
              0.8888888888888888,
              "#fdca26"
             ],
             [
              1,
              "#f0f921"
             ]
            ],
            "type": "histogram2dcontour"
           }
          ],
          "mesh3d": [
           {
            "colorbar": {
             "outlinewidth": 0,
             "ticks": ""
            },
            "type": "mesh3d"
           }
          ],
          "parcoords": [
           {
            "line": {
             "colorbar": {
              "outlinewidth": 0,
              "ticks": ""
             }
            },
            "type": "parcoords"
           }
          ],
          "pie": [
           {
            "automargin": true,
            "type": "pie"
           }
          ],
          "scatter": [
           {
            "marker": {
             "colorbar": {
              "outlinewidth": 0,
              "ticks": ""
             }
            },
            "type": "scatter"
           }
          ],
          "scatter3d": [
           {
            "line": {
             "colorbar": {
              "outlinewidth": 0,
              "ticks": ""
             }
            },
            "marker": {
             "colorbar": {
              "outlinewidth": 0,
              "ticks": ""
             }
            },
            "type": "scatter3d"
           }
          ],
          "scattercarpet": [
           {
            "marker": {
             "colorbar": {
              "outlinewidth": 0,
              "ticks": ""
             }
            },
            "type": "scattercarpet"
           }
          ],
          "scattergeo": [
           {
            "marker": {
             "colorbar": {
              "outlinewidth": 0,
              "ticks": ""
             }
            },
            "type": "scattergeo"
           }
          ],
          "scattergl": [
           {
            "marker": {
             "colorbar": {
              "outlinewidth": 0,
              "ticks": ""
             }
            },
            "type": "scattergl"
           }
          ],
          "scattermapbox": [
           {
            "marker": {
             "colorbar": {
              "outlinewidth": 0,
              "ticks": ""
             }
            },
            "type": "scattermapbox"
           }
          ],
          "scatterpolar": [
           {
            "marker": {
             "colorbar": {
              "outlinewidth": 0,
              "ticks": ""
             }
            },
            "type": "scatterpolar"
           }
          ],
          "scatterpolargl": [
           {
            "marker": {
             "colorbar": {
              "outlinewidth": 0,
              "ticks": ""
             }
            },
            "type": "scatterpolargl"
           }
          ],
          "scatterternary": [
           {
            "marker": {
             "colorbar": {
              "outlinewidth": 0,
              "ticks": ""
             }
            },
            "type": "scatterternary"
           }
          ],
          "surface": [
           {
            "colorbar": {
             "outlinewidth": 0,
             "ticks": ""
            },
            "colorscale": [
             [
              0,
              "#0d0887"
             ],
             [
              0.1111111111111111,
              "#46039f"
             ],
             [
              0.2222222222222222,
              "#7201a8"
             ],
             [
              0.3333333333333333,
              "#9c179e"
             ],
             [
              0.4444444444444444,
              "#bd3786"
             ],
             [
              0.5555555555555556,
              "#d8576b"
             ],
             [
              0.6666666666666666,
              "#ed7953"
             ],
             [
              0.7777777777777778,
              "#fb9f3a"
             ],
             [
              0.8888888888888888,
              "#fdca26"
             ],
             [
              1,
              "#f0f921"
             ]
            ],
            "type": "surface"
           }
          ],
          "table": [
           {
            "cells": {
             "fill": {
              "color": "#EBF0F8"
             },
             "line": {
              "color": "white"
             }
            },
            "header": {
             "fill": {
              "color": "#C8D4E3"
             },
             "line": {
              "color": "white"
             }
            },
            "type": "table"
           }
          ]
         },
         "layout": {
          "annotationdefaults": {
           "arrowcolor": "#2a3f5f",
           "arrowhead": 0,
           "arrowwidth": 1
          },
          "coloraxis": {
           "colorbar": {
            "outlinewidth": 0,
            "ticks": ""
           }
          },
          "colorscale": {
           "diverging": [
            [
             0,
             "#8e0152"
            ],
            [
             0.1,
             "#c51b7d"
            ],
            [
             0.2,
             "#de77ae"
            ],
            [
             0.3,
             "#f1b6da"
            ],
            [
             0.4,
             "#fde0ef"
            ],
            [
             0.5,
             "#f7f7f7"
            ],
            [
             0.6,
             "#e6f5d0"
            ],
            [
             0.7,
             "#b8e186"
            ],
            [
             0.8,
             "#7fbc41"
            ],
            [
             0.9,
             "#4d9221"
            ],
            [
             1,
             "#276419"
            ]
           ],
           "sequential": [
            [
             0,
             "#0d0887"
            ],
            [
             0.1111111111111111,
             "#46039f"
            ],
            [
             0.2222222222222222,
             "#7201a8"
            ],
            [
             0.3333333333333333,
             "#9c179e"
            ],
            [
             0.4444444444444444,
             "#bd3786"
            ],
            [
             0.5555555555555556,
             "#d8576b"
            ],
            [
             0.6666666666666666,
             "#ed7953"
            ],
            [
             0.7777777777777778,
             "#fb9f3a"
            ],
            [
             0.8888888888888888,
             "#fdca26"
            ],
            [
             1,
             "#f0f921"
            ]
           ],
           "sequentialminus": [
            [
             0,
             "#0d0887"
            ],
            [
             0.1111111111111111,
             "#46039f"
            ],
            [
             0.2222222222222222,
             "#7201a8"
            ],
            [
             0.3333333333333333,
             "#9c179e"
            ],
            [
             0.4444444444444444,
             "#bd3786"
            ],
            [
             0.5555555555555556,
             "#d8576b"
            ],
            [
             0.6666666666666666,
             "#ed7953"
            ],
            [
             0.7777777777777778,
             "#fb9f3a"
            ],
            [
             0.8888888888888888,
             "#fdca26"
            ],
            [
             1,
             "#f0f921"
            ]
           ]
          },
          "colorway": [
           "#636efa",
           "#EF553B",
           "#00cc96",
           "#ab63fa",
           "#FFA15A",
           "#19d3f3",
           "#FF6692",
           "#B6E880",
           "#FF97FF",
           "#FECB52"
          ],
          "font": {
           "color": "#2a3f5f"
          },
          "geo": {
           "bgcolor": "white",
           "lakecolor": "white",
           "landcolor": "#E5ECF6",
           "showlakes": true,
           "showland": true,
           "subunitcolor": "white"
          },
          "hoverlabel": {
           "align": "left"
          },
          "hovermode": "closest",
          "mapbox": {
           "style": "light"
          },
          "paper_bgcolor": "white",
          "plot_bgcolor": "#E5ECF6",
          "polar": {
           "angularaxis": {
            "gridcolor": "white",
            "linecolor": "white",
            "ticks": ""
           },
           "bgcolor": "#E5ECF6",
           "radialaxis": {
            "gridcolor": "white",
            "linecolor": "white",
            "ticks": ""
           }
          },
          "scene": {
           "xaxis": {
            "backgroundcolor": "#E5ECF6",
            "gridcolor": "white",
            "gridwidth": 2,
            "linecolor": "white",
            "showbackground": true,
            "ticks": "",
            "zerolinecolor": "white"
           },
           "yaxis": {
            "backgroundcolor": "#E5ECF6",
            "gridcolor": "white",
            "gridwidth": 2,
            "linecolor": "white",
            "showbackground": true,
            "ticks": "",
            "zerolinecolor": "white"
           },
           "zaxis": {
            "backgroundcolor": "#E5ECF6",
            "gridcolor": "white",
            "gridwidth": 2,
            "linecolor": "white",
            "showbackground": true,
            "ticks": "",
            "zerolinecolor": "white"
           }
          },
          "shapedefaults": {
           "line": {
            "color": "#2a3f5f"
           }
          },
          "ternary": {
           "aaxis": {
            "gridcolor": "white",
            "linecolor": "white",
            "ticks": ""
           },
           "baxis": {
            "gridcolor": "white",
            "linecolor": "white",
            "ticks": ""
           },
           "bgcolor": "#E5ECF6",
           "caxis": {
            "gridcolor": "white",
            "linecolor": "white",
            "ticks": ""
           }
          },
          "title": {
           "x": 0.05
          },
          "xaxis": {
           "automargin": true,
           "gridcolor": "white",
           "linecolor": "white",
           "ticks": "",
           "title": {
            "standoff": 15
           },
           "zerolinecolor": "white",
           "zerolinewidth": 2
          },
          "yaxis": {
           "automargin": true,
           "gridcolor": "white",
           "linecolor": "white",
           "ticks": "",
           "title": {
            "standoff": 15
           },
           "zerolinecolor": "white",
           "zerolinewidth": 2
          }
         }
        },
        "title": {
         "text": "Subreddits with most activity - comments with 'python' in the last 48h"
        },
        "width": 800,
        "xaxis": {
         "anchor": "y",
         "autorange": true,
         "domain": [
          0,
          1
         ],
         "range": [
          -0.5,
          9.5
         ],
         "title": {
          "text": "Subreddits"
         },
         "type": "category"
        },
        "yaxis": {
         "anchor": "x",
         "autorange": true,
         "domain": [
          0,
          1
         ],
         "range": [
          0,
          373.6842105263158
         ],
         "title": {
          "text": "# comments"
         },
         "type": "linear"
        }
       }
      },
      "image/png": "[encoded data removed]",
      "text/html": [
       "<div>\n",
       "        \n",
       "        \n",
       "            <div id=\"b7ec6025-5bb1-4783-973a-1ec3eaead9f7\" class=\"plotly-graph-div\" style=\"height:500px; width:800px;\"></div>\n",
       "            <script type=\"text/javascript\">\n",
       "                require([\"plotly\"], function(Plotly) {\n",
       "                    window.PLOTLYENV=window.PLOTLYENV || {};\n",
       "                    \n",
       "                if (document.getElementById(\"b7ec6025-5bb1-4783-973a-1ec3eaead9f7\")) {\n",
       "                    Plotly.newPlot(\n",
       "                        'b7ec6025-5bb1-4783-973a-1ec3eaead9f7',\n",
       "                        [{\"alignmentgroup\": \"True\", \"hoverlabel\": {\"namelength\": 0}, \"hovertemplate\": \"Subreddits=%{x}<br># comments=%{y}\", \"legendgroup\": \"\", \"marker\": {\"color\": \"blueviolet\"}, \"name\": \"\", \"offsetgroup\": \"\", \"orientation\": \"v\", \"showlegend\": false, \"textposition\": \"auto\", \"type\": \"bar\", \"x\": [\"learnpython\", \"AskReddit\", \"Python\", \"learnprogramming\", \"adventofcode\", \"ProgrammerHumor\", \"DestinyTheGame\", \"EliteDangerous\", \"cscareerquestions\", \"algotrading\"], \"xaxis\": \"x\", \"y\": [355, 221, 181, 137, 83, 76, 61, 46, 37, 35], \"yaxis\": \"y\"}],\n",
       "                        {\"barmode\": \"relative\", \"height\": 500, \"legend\": {\"tracegroupgap\": 0}, \"template\": {\"data\": {\"bar\": [{\"error_x\": {\"color\": \"#2a3f5f\"}, \"error_y\": {\"color\": \"#2a3f5f\"}, \"marker\": {\"line\": {\"color\": \"#E5ECF6\", \"width\": 0.5}}, \"type\": \"bar\"}], \"barpolar\": [{\"marker\": {\"line\": {\"color\": \"#E5ECF6\", \"width\": 0.5}}, \"type\": \"barpolar\"}], \"carpet\": [{\"aaxis\": {\"endlinecolor\": \"#2a3f5f\", \"gridcolor\": \"white\", \"linecolor\": \"white\", \"minorgridcolor\": \"white\", \"startlinecolor\": \"#2a3f5f\"}, \"baxis\": {\"endlinecolor\": \"#2a3f5f\", \"gridcolor\": \"white\", \"linecolor\": \"white\", \"minorgridcolor\": \"white\", \"startlinecolor\": \"#2a3f5f\"}, \"type\": \"carpet\"}], \"choropleth\": [{\"colorbar\": {\"outlinewidth\": 0, \"ticks\": \"\"}, \"type\": \"choropleth\"}], \"contour\": [{\"colorbar\": {\"outlinewidth\": 0, \"ticks\": \"\"}, \"colorscale\": [[0.0, \"#0d0887\"], [0.1111111111111111, \"#46039f\"], [0.2222222222222222, \"#7201a8\"], [0.3333333333333333, \"#9c179e\"], [0.4444444444444444, \"#bd3786\"], [0.5555555555555556, \"#d8576b\"], [0.6666666666666666, \"#ed7953\"], [0.7777777777777778, \"#fb9f3a\"], [0.8888888888888888, \"#fdca26\"], [1.0, \"#f0f921\"]], \"type\": \"contour\"}], \"contourcarpet\": [{\"colorbar\": {\"outlinewidth\": 0, \"ticks\": \"\"}, \"type\": \"contourcarpet\"}], \"heatmap\": [{\"colorbar\": {\"outlinewidth\": 0, \"ticks\": \"\"}, \"colorscale\": [[0.0, \"#0d0887\"], [0.1111111111111111, \"#46039f\"], [0.2222222222222222, \"#7201a8\"], [0.3333333333333333, \"#9c179e\"], [0.4444444444444444, \"#bd3786\"], [0.5555555555555556, \"#d8576b\"], [0.6666666666666666, \"#ed7953\"], [0.7777777777777778, \"#fb9f3a\"], [0.8888888888888888, \"#fdca26\"], [1.0, \"#f0f921\"]], \"type\": \"heatmap\"}], \"heatmapgl\": [{\"colorbar\": {\"outlinewidth\": 0, \"ticks\": \"\"}, \"colorscale\": [[0.0, \"#0d0887\"], [0.1111111111111111, \"#46039f\"], [0.2222222222222222, \"#7201a8\"], [0.3333333333333333, \"#9c179e\"], [0.4444444444444444, \"#bd3786\"], [0.5555555555555556, \"#d8576b\"], [0.6666666666666666, \"#ed7953\"], [0.7777777777777778, \"#fb9f3a\"], [0.8888888888888888, \"#fdca26\"], [1.0, \"#f0f921\"]], \"type\": \"heatmapgl\"}], \"histogram\": [{\"marker\": {\"colorbar\": {\"outlinewidth\": 0, \"ticks\": \"\"}}, \"type\": \"histogram\"}], \"histogram2d\": [{\"colorbar\": {\"outlinewidth\": 0, \"ticks\": \"\"}, \"colorscale\": [[0.0, \"#0d0887\"], [0.1111111111111111, \"#46039f\"], [0.2222222222222222, \"#7201a8\"], [0.3333333333333333, \"#9c179e\"], [0.4444444444444444, \"#bd3786\"], [0.5555555555555556, \"#d8576b\"], [0.6666666666666666, \"#ed7953\"], [0.7777777777777778, \"#fb9f3a\"], [0.8888888888888888, \"#fdca26\"], [1.0, \"#f0f921\"]], \"type\": \"histogram2d\"}], \"histogram2dcontour\": [{\"colorbar\": {\"outlinewidth\": 0, \"ticks\": \"\"}, \"colorscale\": [[0.0, \"#0d0887\"], [0.1111111111111111, \"#46039f\"], [0.2222222222222222, \"#7201a8\"], [0.3333333333333333, \"#9c179e\"], [0.4444444444444444, \"#bd3786\"], [0.5555555555555556, \"#d8576b\"], [0.6666666666666666, \"#ed7953\"], [0.7777777777777778, \"#fb9f3a\"], [0.8888888888888888, \"#fdca26\"], [1.0, \"#f0f921\"]], \"type\": \"histogram2dcontour\"}], \"mesh3d\": [{\"colorbar\": {\"outlinewidth\": 0, \"ticks\": \"\"}, \"type\": \"mesh3d\"}], \"parcoords\": [{\"line\": {\"colorbar\": {\"outlinewidth\": 0, \"ticks\": \"\"}}, \"type\": \"parcoords\"}], \"pie\": [{\"automargin\": true, \"type\": \"pie\"}], \"scatter\": [{\"marker\": {\"colorbar\": {\"outlinewidth\": 0, \"ticks\": \"\"}}, \"type\": \"scatter\"}], \"scatter3d\": [{\"line\": {\"colorbar\": {\"outlinewidth\": 0, \"ticks\": \"\"}}, \"marker\": {\"colorbar\": {\"outlinewidth\": 0, \"ticks\": \"\"}}, \"type\": \"scatter3d\"}], \"scattercarpet\": [{\"marker\": {\"colorbar\": {\"outlinewidth\": 0, \"ticks\": \"\"}}, \"type\": \"scattercarpet\"}], \"scattergeo\": [{\"marker\": {\"colorbar\": {\"outlinewidth\": 0, \"ticks\": \"\"}}, \"type\": \"scattergeo\"}], \"scattergl\": [{\"marker\": {\"colorbar\": {\"outlinewidth\": 0, \"ticks\": \"\"}}, \"type\": \"scattergl\"}], \"scattermapbox\": [{\"marker\": {\"colorbar\": {\"outlinewidth\": 0, \"ticks\": \"\"}}, \"type\": \"scattermapbox\"}], \"scatterpolar\": [{\"marker\": {\"colorbar\": {\"outlinewidth\": 0, \"ticks\": \"\"}}, \"type\": \"scatterpolar\"}], \"scatterpolargl\": [{\"marker\": {\"colorbar\": {\"outlinewidth\": 0, \"ticks\": \"\"}}, \"type\": \"scatterpolargl\"}], \"scatterternary\": [{\"marker\": {\"colorbar\": {\"outlinewidth\": 0, \"ticks\": \"\"}}, \"type\": \"scatterternary\"}], \"surface\": [{\"colorbar\": {\"outlinewidth\": 0, \"ticks\": \"\"}, \"colorscale\": [[0.0, \"#0d0887\"], [0.1111111111111111, \"#46039f\"], [0.2222222222222222, \"#7201a8\"], [0.3333333333333333, \"#9c179e\"], [0.4444444444444444, \"#bd3786\"], [0.5555555555555556, \"#d8576b\"], [0.6666666666666666, \"#ed7953\"], [0.7777777777777778, \"#fb9f3a\"], [0.8888888888888888, \"#fdca26\"], [1.0, \"#f0f921\"]], \"type\": \"surface\"}], \"table\": [{\"cells\": {\"fill\": {\"color\": \"#EBF0F8\"}, \"line\": {\"color\": \"white\"}}, \"header\": {\"fill\": {\"color\": \"#C8D4E3\"}, \"line\": {\"color\": \"white\"}}, \"type\": \"table\"}]}, \"layout\": {\"annotationdefaults\": {\"arrowcolor\": \"#2a3f5f\", \"arrowhead\": 0, \"arrowwidth\": 1}, \"coloraxis\": {\"colorbar\": {\"outlinewidth\": 0, \"ticks\": \"\"}}, \"colorscale\": {\"diverging\": [[0, \"#8e0152\"], [0.1, \"#c51b7d\"], [0.2, \"#de77ae\"], [0.3, \"#f1b6da\"], [0.4, \"#fde0ef\"], [0.5, \"#f7f7f7\"], [0.6, \"#e6f5d0\"], [0.7, \"#b8e186\"], [0.8, \"#7fbc41\"], [0.9, \"#4d9221\"], [1, \"#276419\"]], \"sequential\": [[0.0, \"#0d0887\"], [0.1111111111111111, \"#46039f\"], [0.2222222222222222, \"#7201a8\"], [0.3333333333333333, \"#9c179e\"], [0.4444444444444444, \"#bd3786\"], [0.5555555555555556, \"#d8576b\"], [0.6666666666666666, \"#ed7953\"], [0.7777777777777778, \"#fb9f3a\"], [0.8888888888888888, \"#fdca26\"], [1.0, \"#f0f921\"]], \"sequentialminus\": [[0.0, \"#0d0887\"], [0.1111111111111111, \"#46039f\"], [0.2222222222222222, \"#7201a8\"], [0.3333333333333333, \"#9c179e\"], [0.4444444444444444, \"#bd3786\"], [0.5555555555555556, \"#d8576b\"], [0.6666666666666666, \"#ed7953\"], [0.7777777777777778, \"#fb9f3a\"], [0.8888888888888888, \"#fdca26\"], [1.0, \"#f0f921\"]]}, \"colorway\": [\"#636efa\", \"#EF553B\", \"#00cc96\", \"#ab63fa\", \"#FFA15A\", \"#19d3f3\", \"#FF6692\", \"#B6E880\", \"#FF97FF\", \"#FECB52\"], \"font\": {\"color\": \"#2a3f5f\"}, \"geo\": {\"bgcolor\": \"white\", \"lakecolor\": \"white\", \"landcolor\": \"#E5ECF6\", \"showlakes\": true, \"showland\": true, \"subunitcolor\": \"white\"}, \"hoverlabel\": {\"align\": \"left\"}, \"hovermode\": \"closest\", \"mapbox\": {\"style\": \"light\"}, \"paper_bgcolor\": \"white\", \"plot_bgcolor\": \"#E5ECF6\", \"polar\": {\"angularaxis\": {\"gridcolor\": \"white\", \"linecolor\": \"white\", \"ticks\": \"\"}, \"bgcolor\": \"#E5ECF6\", \"radialaxis\": {\"gridcolor\": \"white\", \"linecolor\": \"white\", \"ticks\": \"\"}}, \"scene\": {\"xaxis\": {\"backgroundcolor\": \"#E5ECF6\", \"gridcolor\": \"white\", \"gridwidth\": 2, \"linecolor\": \"white\", \"showbackground\": true, \"ticks\": \"\", \"zerolinecolor\": \"white\"}, \"yaxis\": {\"backgroundcolor\": \"#E5ECF6\", \"gridcolor\": \"white\", \"gridwidth\": 2, \"linecolor\": \"white\", \"showbackground\": true, \"ticks\": \"\", \"zerolinecolor\": \"white\"}, \"zaxis\": {\"backgroundcolor\": \"#E5ECF6\", \"gridcolor\": \"white\", \"gridwidth\": 2, \"linecolor\": \"white\", \"showbackground\": true, \"ticks\": \"\", \"zerolinecolor\": \"white\"}}, \"shapedefaults\": {\"line\": {\"color\": \"#2a3f5f\"}}, \"ternary\": {\"aaxis\": {\"gridcolor\": \"white\", \"linecolor\": \"white\", \"ticks\": \"\"}, \"baxis\": {\"gridcolor\": \"white\", \"linecolor\": \"white\", \"ticks\": \"\"}, \"bgcolor\": \"#E5ECF6\", \"caxis\": {\"gridcolor\": \"white\", \"linecolor\": \"white\", \"ticks\": \"\"}}, \"title\": {\"x\": 0.05}, \"xaxis\": {\"automargin\": true, \"gridcolor\": \"white\", \"linecolor\": \"white\", \"ticks\": \"\", \"title\": {\"standoff\": 15}, \"zerolinecolor\": \"white\", \"zerolinewidth\": 2}, \"yaxis\": {\"automargin\": true, \"gridcolor\": \"white\", \"linecolor\": \"white\", \"ticks\": \"\", \"title\": {\"standoff\": 15}, \"zerolinecolor\": \"white\", \"zerolinewidth\": 2}}}, \"title\": {\"text\": \"Subreddits with most activity - comments with 'python' in the last 48h\"}, \"width\": 800, \"xaxis\": {\"anchor\": \"y\", \"domain\": [0.0, 1.0], \"title\": {\"text\": \"Subreddits\"}}, \"yaxis\": {\"anchor\": \"x\", \"domain\": [0.0, 1.0], \"title\": {\"text\": \"# comments\"}}},\n",
       "                        {\"responsive\": true}\n",
       "                    ).then(function(){\n",
       "                            \n",
       "var gd = document.getElementById('b7ec6025-5bb1-4783-973a-1ec3eaead9f7');\n",
       "var x = new MutationObserver(function (mutations, observer) {{\n",
       "        var display = window.getComputedStyle(gd).display;\n",
       "        if (!display || display === 'none') {{\n",
       "            console.log([gd, 'removed!']);\n",
       "            Plotly.purge(gd);\n",
       "            observer.disconnect();\n",
       "        }}\n",
       "}});\n",
       "\n",
       "// Listen for the removal of the full notebook cells\n",
       "var notebookContainer = gd.closest('#notebook-container');\n",
       "if (notebookContainer) {{\n",
       "    x.observe(notebookContainer, {childList: true});\n",
       "}}\n",
       "\n",
       "// Listen for the clearing of the current output cell\n",
       "var outputEl = gd.closest('.output');\n",
       "if (outputEl) {{\n",
       "    x.observe(outputEl, {childList: true});\n",
       "}}\n",
       "\n",
       "                        })\n",
       "                };\n",
       "                });\n",
       "            </script>\n",
       "        </div>"
      ]
     },
     "metadata": {},
     "output_type": "display_data"
    }
   ],
   "source": [
    "data = get_pushshift_data(data_type=\"comment\", q=TERM_OF_INTEREST, after=TIMEFRAME, size=1000, aggs=\"subreddit\").get(\"aggs\").get(\"subreddit\")\n",
    "\n",
    "df = pandas.DataFrame.from_records(data)[0:10]\n",
    "\n",
    "px.bar(df,\n",
    "       x=\"key\",\n",
    "       y=\"doc_count\",\n",
    "       title=f\"Subreddits with most activity - comments with '{TERM_OF_INTEREST}' in the last {TIMEFRAME}\",\n",
    "       labels={\"doc_count\": \"# comments\",\"key\": \"Subreddits\"},\n",
    "       color_discrete_sequence=[COMMENT_COLOR],\n",
    "       height=500,\n",
    "       width=800)"
   ]
  },
  {
   "cell_type": "markdown",
   "metadata": {},
   "source": [
    "## Submission activity <a class=\"anchor\" id=\"2\"></a>"
   ]
  },
  {
   "cell_type": "code",
   "execution_count": 19,
   "metadata": {},
   "outputs": [
    {
     "data": {
      "application/vnd.plotly.v1+json": {
       "config": {
        "plotlyServerURL": "https://plot.ly"
       },
       "data": [
        {
         "alignmentgroup": "True",
         "hoverlabel": {
          "namelength": 0
         },
         "hovertemplate": "Subreddits=%{x}<br># submissions=%{y}",
         "legendgroup": "",
         "marker": {
          "color": "darkorange"
         },
         "name": "",
         "offsetgroup": "",
         "orientation": "v",
         "showlegend": false,
         "textposition": "auto",
         "type": "bar",
         "x": [
          "learnpython",
          "Python",
          "learnprogramming",
          "udemyfreebies",
          "cscareerquestions",
          "forhire",
          "adventofcode",
          "ballpython",
          "datascience",
          "programming"
         ],
         "xaxis": "x",
         "y": [
          120,
          101,
          55,
          20,
          19,
          17,
          15,
          14,
          13,
          12
         ],
         "yaxis": "y"
        }
       ],
       "layout": {
        "barmode": "relative",
        "height": 500,
        "legend": {
         "tracegroupgap": 0
        },
        "template": {
         "data": {
          "bar": [
           {
            "error_x": {
             "color": "#2a3f5f"
            },
            "error_y": {
             "color": "#2a3f5f"
            },
            "marker": {
             "line": {
              "color": "#E5ECF6",
              "width": 0.5
             }
            },
            "type": "bar"
           }
          ],
          "barpolar": [
           {
            "marker": {
             "line": {
              "color": "#E5ECF6",
              "width": 0.5
             }
            },
            "type": "barpolar"
           }
          ],
          "carpet": [
           {
            "aaxis": {
             "endlinecolor": "#2a3f5f",
             "gridcolor": "white",
             "linecolor": "white",
             "minorgridcolor": "white",
             "startlinecolor": "#2a3f5f"
            },
            "baxis": {
             "endlinecolor": "#2a3f5f",
             "gridcolor": "white",
             "linecolor": "white",
             "minorgridcolor": "white",
             "startlinecolor": "#2a3f5f"
            },
            "type": "carpet"
           }
          ],
          "choropleth": [
           {
            "colorbar": {
             "outlinewidth": 0,
             "ticks": ""
            },
            "type": "choropleth"
           }
          ],
          "contour": [
           {
            "colorbar": {
             "outlinewidth": 0,
             "ticks": ""
            },
            "colorscale": [
             [
              0,
              "#0d0887"
             ],
             [
              0.1111111111111111,
              "#46039f"
             ],
             [
              0.2222222222222222,
              "#7201a8"
             ],
             [
              0.3333333333333333,
              "#9c179e"
             ],
             [
              0.4444444444444444,
              "#bd3786"
             ],
             [
              0.5555555555555556,
              "#d8576b"
             ],
             [
              0.6666666666666666,
              "#ed7953"
             ],
             [
              0.7777777777777778,
              "#fb9f3a"
             ],
             [
              0.8888888888888888,
              "#fdca26"
             ],
             [
              1,
              "#f0f921"
             ]
            ],
            "type": "contour"
           }
          ],
          "contourcarpet": [
           {
            "colorbar": {
             "outlinewidth": 0,
             "ticks": ""
            },
            "type": "contourcarpet"
           }
          ],
          "heatmap": [
           {
            "colorbar": {
             "outlinewidth": 0,
             "ticks": ""
            },
            "colorscale": [
             [
              0,
              "#0d0887"
             ],
             [
              0.1111111111111111,
              "#46039f"
             ],
             [
              0.2222222222222222,
              "#7201a8"
             ],
             [
              0.3333333333333333,
              "#9c179e"
             ],
             [
              0.4444444444444444,
              "#bd3786"
             ],
             [
              0.5555555555555556,
              "#d8576b"
             ],
             [
              0.6666666666666666,
              "#ed7953"
             ],
             [
              0.7777777777777778,
              "#fb9f3a"
             ],
             [
              0.8888888888888888,
              "#fdca26"
             ],
             [
              1,
              "#f0f921"
             ]
            ],
            "type": "heatmap"
           }
          ],
          "heatmapgl": [
           {
            "colorbar": {
             "outlinewidth": 0,
             "ticks": ""
            },
            "colorscale": [
             [
              0,
              "#0d0887"
             ],
             [
              0.1111111111111111,
              "#46039f"
             ],
             [
              0.2222222222222222,
              "#7201a8"
             ],
             [
              0.3333333333333333,
              "#9c179e"
             ],
             [
              0.4444444444444444,
              "#bd3786"
             ],
             [
              0.5555555555555556,
              "#d8576b"
             ],
             [
              0.6666666666666666,
              "#ed7953"
             ],
             [
              0.7777777777777778,
              "#fb9f3a"
             ],
             [
              0.8888888888888888,
              "#fdca26"
             ],
             [
              1,
              "#f0f921"
             ]
            ],
            "type": "heatmapgl"
           }
          ],
          "histogram": [
           {
            "marker": {
             "colorbar": {
              "outlinewidth": 0,
              "ticks": ""
             }
            },
            "type": "histogram"
           }
          ],
          "histogram2d": [
           {
            "colorbar": {
             "outlinewidth": 0,
             "ticks": ""
            },
            "colorscale": [
             [
              0,
              "#0d0887"
             ],
             [
              0.1111111111111111,
              "#46039f"
             ],
             [
              0.2222222222222222,
              "#7201a8"
             ],
             [
              0.3333333333333333,
              "#9c179e"
             ],
             [
              0.4444444444444444,
              "#bd3786"
             ],
             [
              0.5555555555555556,
              "#d8576b"
             ],
             [
              0.6666666666666666,
              "#ed7953"
             ],
             [
              0.7777777777777778,
              "#fb9f3a"
             ],
             [
              0.8888888888888888,
              "#fdca26"
             ],
             [
              1,
              "#f0f921"
             ]
            ],
            "type": "histogram2d"
           }
          ],
          "histogram2dcontour": [
           {
            "colorbar": {
             "outlinewidth": 0,
             "ticks": ""
            },
            "colorscale": [
             [
              0,
              "#0d0887"
             ],
             [
              0.1111111111111111,
              "#46039f"
             ],
             [
              0.2222222222222222,
              "#7201a8"
             ],
             [
              0.3333333333333333,
              "#9c179e"
             ],
             [
              0.4444444444444444,
              "#bd3786"
             ],
             [
              0.5555555555555556,
              "#d8576b"
             ],
             [
              0.6666666666666666,
              "#ed7953"
             ],
             [
              0.7777777777777778,
              "#fb9f3a"
             ],
             [
              0.8888888888888888,
              "#fdca26"
             ],
             [
              1,
              "#f0f921"
             ]
            ],
            "type": "histogram2dcontour"
           }
          ],
          "mesh3d": [
           {
            "colorbar": {
             "outlinewidth": 0,
             "ticks": ""
            },
            "type": "mesh3d"
           }
          ],
          "parcoords": [
           {
            "line": {
             "colorbar": {
              "outlinewidth": 0,
              "ticks": ""
             }
            },
            "type": "parcoords"
           }
          ],
          "pie": [
           {
            "automargin": true,
            "type": "pie"
           }
          ],
          "scatter": [
           {
            "marker": {
             "colorbar": {
              "outlinewidth": 0,
              "ticks": ""
             }
            },
            "type": "scatter"
           }
          ],
          "scatter3d": [
           {
            "line": {
             "colorbar": {
              "outlinewidth": 0,
              "ticks": ""
             }
            },
            "marker": {
             "colorbar": {
              "outlinewidth": 0,
              "ticks": ""
             }
            },
            "type": "scatter3d"
           }
          ],
          "scattercarpet": [
           {
            "marker": {
             "colorbar": {
              "outlinewidth": 0,
              "ticks": ""
             }
            },
            "type": "scattercarpet"
           }
          ],
          "scattergeo": [
           {
            "marker": {
             "colorbar": {
              "outlinewidth": 0,
              "ticks": ""
             }
            },
            "type": "scattergeo"
           }
          ],
          "scattergl": [
           {
            "marker": {
             "colorbar": {
              "outlinewidth": 0,
              "ticks": ""
             }
            },
            "type": "scattergl"
           }
          ],
          "scattermapbox": [
           {
            "marker": {
             "colorbar": {
              "outlinewidth": 0,
              "ticks": ""
             }
            },
            "type": "scattermapbox"
           }
          ],
          "scatterpolar": [
           {
            "marker": {
             "colorbar": {
              "outlinewidth": 0,
              "ticks": ""
             }
            },
            "type": "scatterpolar"
           }
          ],
          "scatterpolargl": [
           {
            "marker": {
             "colorbar": {
              "outlinewidth": 0,
              "ticks": ""
             }
            },
            "type": "scatterpolargl"
           }
          ],
          "scatterternary": [
           {
            "marker": {
             "colorbar": {
              "outlinewidth": 0,
              "ticks": ""
             }
            },
            "type": "scatterternary"
           }
          ],
          "surface": [
           {
            "colorbar": {
             "outlinewidth": 0,
             "ticks": ""
            },
            "colorscale": [
             [
              0,
              "#0d0887"
             ],
             [
              0.1111111111111111,
              "#46039f"
             ],
             [
              0.2222222222222222,
              "#7201a8"
             ],
             [
              0.3333333333333333,
              "#9c179e"
             ],
             [
              0.4444444444444444,
              "#bd3786"
             ],
             [
              0.5555555555555556,
              "#d8576b"
             ],
             [
              0.6666666666666666,
              "#ed7953"
             ],
             [
              0.7777777777777778,
              "#fb9f3a"
             ],
             [
              0.8888888888888888,
              "#fdca26"
             ],
             [
              1,
              "#f0f921"
             ]
            ],
            "type": "surface"
           }
          ],
          "table": [
           {
            "cells": {
             "fill": {
              "color": "#EBF0F8"
             },
             "line": {
              "color": "white"
             }
            },
            "header": {
             "fill": {
              "color": "#C8D4E3"
             },
             "line": {
              "color": "white"
             }
            },
            "type": "table"
           }
          ]
         },
         "layout": {
          "annotationdefaults": {
           "arrowcolor": "#2a3f5f",
           "arrowhead": 0,
           "arrowwidth": 1
          },
          "coloraxis": {
           "colorbar": {
            "outlinewidth": 0,
            "ticks": ""
           }
          },
          "colorscale": {
           "diverging": [
            [
             0,
             "#8e0152"
            ],
            [
             0.1,
             "#c51b7d"
            ],
            [
             0.2,
             "#de77ae"
            ],
            [
             0.3,
             "#f1b6da"
            ],
            [
             0.4,
             "#fde0ef"
            ],
            [
             0.5,
             "#f7f7f7"
            ],
            [
             0.6,
             "#e6f5d0"
            ],
            [
             0.7,
             "#b8e186"
            ],
            [
             0.8,
             "#7fbc41"
            ],
            [
             0.9,
             "#4d9221"
            ],
            [
             1,
             "#276419"
            ]
           ],
           "sequential": [
            [
             0,
             "#0d0887"
            ],
            [
             0.1111111111111111,
             "#46039f"
            ],
            [
             0.2222222222222222,
             "#7201a8"
            ],
            [
             0.3333333333333333,
             "#9c179e"
            ],
            [
             0.4444444444444444,
             "#bd3786"
            ],
            [
             0.5555555555555556,
             "#d8576b"
            ],
            [
             0.6666666666666666,
             "#ed7953"
            ],
            [
             0.7777777777777778,
             "#fb9f3a"
            ],
            [
             0.8888888888888888,
             "#fdca26"
            ],
            [
             1,
             "#f0f921"
            ]
           ],
           "sequentialminus": [
            [
             0,
             "#0d0887"
            ],
            [
             0.1111111111111111,
             "#46039f"
            ],
            [
             0.2222222222222222,
             "#7201a8"
            ],
            [
             0.3333333333333333,
             "#9c179e"
            ],
            [
             0.4444444444444444,
             "#bd3786"
            ],
            [
             0.5555555555555556,
             "#d8576b"
            ],
            [
             0.6666666666666666,
             "#ed7953"
            ],
            [
             0.7777777777777778,
             "#fb9f3a"
            ],
            [
             0.8888888888888888,
             "#fdca26"
            ],
            [
             1,
             "#f0f921"
            ]
           ]
          },
          "colorway": [
           "#636efa",
           "#EF553B",
           "#00cc96",
           "#ab63fa",
           "#FFA15A",
           "#19d3f3",
           "#FF6692",
           "#B6E880",
           "#FF97FF",
           "#FECB52"
          ],
          "font": {
           "color": "#2a3f5f"
          },
          "geo": {
           "bgcolor": "white",
           "lakecolor": "white",
           "landcolor": "#E5ECF6",
           "showlakes": true,
           "showland": true,
           "subunitcolor": "white"
          },
          "hoverlabel": {
           "align": "left"
          },
          "hovermode": "closest",
          "mapbox": {
           "style": "light"
          },
          "paper_bgcolor": "white",
          "plot_bgcolor": "#E5ECF6",
          "polar": {
           "angularaxis": {
            "gridcolor": "white",
            "linecolor": "white",
            "ticks": ""
           },
           "bgcolor": "#E5ECF6",
           "radialaxis": {
            "gridcolor": "white",
            "linecolor": "white",
            "ticks": ""
           }
          },
          "scene": {
           "xaxis": {
            "backgroundcolor": "#E5ECF6",
            "gridcolor": "white",
            "gridwidth": 2,
            "linecolor": "white",
            "showbackground": true,
            "ticks": "",
            "zerolinecolor": "white"
           },
           "yaxis": {
            "backgroundcolor": "#E5ECF6",
            "gridcolor": "white",
            "gridwidth": 2,
            "linecolor": "white",
            "showbackground": true,
            "ticks": "",
            "zerolinecolor": "white"
           },
           "zaxis": {
            "backgroundcolor": "#E5ECF6",
            "gridcolor": "white",
            "gridwidth": 2,
            "linecolor": "white",
            "showbackground": true,
            "ticks": "",
            "zerolinecolor": "white"
           }
          },
          "shapedefaults": {
           "line": {
            "color": "#2a3f5f"
           }
          },
          "ternary": {
           "aaxis": {
            "gridcolor": "white",
            "linecolor": "white",
            "ticks": ""
           },
           "baxis": {
            "gridcolor": "white",
            "linecolor": "white",
            "ticks": ""
           },
           "bgcolor": "#E5ECF6",
           "caxis": {
            "gridcolor": "white",
            "linecolor": "white",
            "ticks": ""
           }
          },
          "title": {
           "x": 0.05
          },
          "xaxis": {
           "automargin": true,
           "gridcolor": "white",
           "linecolor": "white",
           "ticks": "",
           "title": {
            "standoff": 15
           },
           "zerolinecolor": "white",
           "zerolinewidth": 2
          },
          "yaxis": {
           "automargin": true,
           "gridcolor": "white",
           "linecolor": "white",
           "ticks": "",
           "title": {
            "standoff": 15
           },
           "zerolinecolor": "white",
           "zerolinewidth": 2
          }
         }
        },
        "title": {
         "text": "Subreddits with most activity - submissions with 'python' in the last 48h"
        },
        "width": 800,
        "xaxis": {
         "anchor": "y",
         "autorange": true,
         "domain": [
          0,
          1
         ],
         "range": [
          -0.5,
          9.5
         ],
         "title": {
          "text": "Subreddits"
         },
         "type": "category"
        },
        "yaxis": {
         "anchor": "x",
         "autorange": true,
         "domain": [
          0,
          1
         ],
         "range": [
          0,
          126.3157894736842
         ],
         "title": {
          "text": "# submissions"
         },
         "type": "linear"
        }
       }
      },
      "image/png": "[encoded data removed]",
      "text/html": [
       "<div>\n",
       "        \n",
       "        \n",
       "            <div id=\"6cfe87c6-49e4-4433-804e-f568259ee884\" class=\"plotly-graph-div\" style=\"height:500px; width:800px;\"></div>\n",
       "            <script type=\"text/javascript\">\n",
       "                require([\"plotly\"], function(Plotly) {\n",
       "                    window.PLOTLYENV=window.PLOTLYENV || {};\n",
       "                    \n",
       "                if (document.getElementById(\"6cfe87c6-49e4-4433-804e-f568259ee884\")) {\n",
       "                    Plotly.newPlot(\n",
       "                        '6cfe87c6-49e4-4433-804e-f568259ee884',\n",
       "                        [{\"alignmentgroup\": \"True\", \"hoverlabel\": {\"namelength\": 0}, \"hovertemplate\": \"Subreddits=%{x}<br># submissions=%{y}\", \"legendgroup\": \"\", \"marker\": {\"color\": \"darkorange\"}, \"name\": \"\", \"offsetgroup\": \"\", \"orientation\": \"v\", \"showlegend\": false, \"textposition\": \"auto\", \"type\": \"bar\", \"x\": [\"learnpython\", \"Python\", \"learnprogramming\", \"udemyfreebies\", \"cscareerquestions\", \"forhire\", \"adventofcode\", \"ballpython\", \"datascience\", \"programming\"], \"xaxis\": \"x\", \"y\": [120, 101, 55, 20, 19, 17, 15, 14, 13, 12], \"yaxis\": \"y\"}],\n",
       "                        {\"barmode\": \"relative\", \"height\": 500, \"legend\": {\"tracegroupgap\": 0}, \"template\": {\"data\": {\"bar\": [{\"error_x\": {\"color\": \"#2a3f5f\"}, \"error_y\": {\"color\": \"#2a3f5f\"}, \"marker\": {\"line\": {\"color\": \"#E5ECF6\", \"width\": 0.5}}, \"type\": \"bar\"}], \"barpolar\": [{\"marker\": {\"line\": {\"color\": \"#E5ECF6\", \"width\": 0.5}}, \"type\": \"barpolar\"}], \"carpet\": [{\"aaxis\": {\"endlinecolor\": \"#2a3f5f\", \"gridcolor\": \"white\", \"linecolor\": \"white\", \"minorgridcolor\": \"white\", \"startlinecolor\": \"#2a3f5f\"}, \"baxis\": {\"endlinecolor\": \"#2a3f5f\", \"gridcolor\": \"white\", \"linecolor\": \"white\", \"minorgridcolor\": \"white\", \"startlinecolor\": \"#2a3f5f\"}, \"type\": \"carpet\"}], \"choropleth\": [{\"colorbar\": {\"outlinewidth\": 0, \"ticks\": \"\"}, \"type\": \"choropleth\"}], \"contour\": [{\"colorbar\": {\"outlinewidth\": 0, \"ticks\": \"\"}, \"colorscale\": [[0.0, \"#0d0887\"], [0.1111111111111111, \"#46039f\"], [0.2222222222222222, \"#7201a8\"], [0.3333333333333333, \"#9c179e\"], [0.4444444444444444, \"#bd3786\"], [0.5555555555555556, \"#d8576b\"], [0.6666666666666666, \"#ed7953\"], [0.7777777777777778, \"#fb9f3a\"], [0.8888888888888888, \"#fdca26\"], [1.0, \"#f0f921\"]], \"type\": \"contour\"}], \"contourcarpet\": [{\"colorbar\": {\"outlinewidth\": 0, \"ticks\": \"\"}, \"type\": \"contourcarpet\"}], \"heatmap\": [{\"colorbar\": {\"outlinewidth\": 0, \"ticks\": \"\"}, \"colorscale\": [[0.0, \"#0d0887\"], [0.1111111111111111, \"#46039f\"], [0.2222222222222222, \"#7201a8\"], [0.3333333333333333, \"#9c179e\"], [0.4444444444444444, \"#bd3786\"], [0.5555555555555556, \"#d8576b\"], [0.6666666666666666, \"#ed7953\"], [0.7777777777777778, \"#fb9f3a\"], [0.8888888888888888, \"#fdca26\"], [1.0, \"#f0f921\"]], \"type\": \"heatmap\"}], \"heatmapgl\": [{\"colorbar\": {\"outlinewidth\": 0, \"ticks\": \"\"}, \"colorscale\": [[0.0, \"#0d0887\"], [0.1111111111111111, \"#46039f\"], [0.2222222222222222, \"#7201a8\"], [0.3333333333333333, \"#9c179e\"], [0.4444444444444444, \"#bd3786\"], [0.5555555555555556, \"#d8576b\"], [0.6666666666666666, \"#ed7953\"], [0.7777777777777778, \"#fb9f3a\"], [0.8888888888888888, \"#fdca26\"], [1.0, \"#f0f921\"]], \"type\": \"heatmapgl\"}], \"histogram\": [{\"marker\": {\"colorbar\": {\"outlinewidth\": 0, \"ticks\": \"\"}}, \"type\": \"histogram\"}], \"histogram2d\": [{\"colorbar\": {\"outlinewidth\": 0, \"ticks\": \"\"}, \"colorscale\": [[0.0, \"#0d0887\"], [0.1111111111111111, \"#46039f\"], [0.2222222222222222, \"#7201a8\"], [0.3333333333333333, \"#9c179e\"], [0.4444444444444444, \"#bd3786\"], [0.5555555555555556, \"#d8576b\"], [0.6666666666666666, \"#ed7953\"], [0.7777777777777778, \"#fb9f3a\"], [0.8888888888888888, \"#fdca26\"], [1.0, \"#f0f921\"]], \"type\": \"histogram2d\"}], \"histogram2dcontour\": [{\"colorbar\": {\"outlinewidth\": 0, \"ticks\": \"\"}, \"colorscale\": [[0.0, \"#0d0887\"], [0.1111111111111111, \"#46039f\"], [0.2222222222222222, \"#7201a8\"], [0.3333333333333333, \"#9c179e\"], [0.4444444444444444, \"#bd3786\"], [0.5555555555555556, \"#d8576b\"], [0.6666666666666666, \"#ed7953\"], [0.7777777777777778, \"#fb9f3a\"], [0.8888888888888888, \"#fdca26\"], [1.0, \"#f0f921\"]], \"type\": \"histogram2dcontour\"}], \"mesh3d\": [{\"colorbar\": {\"outlinewidth\": 0, \"ticks\": \"\"}, \"type\": \"mesh3d\"}], \"parcoords\": [{\"line\": {\"colorbar\": {\"outlinewidth\": 0, \"ticks\": \"\"}}, \"type\": \"parcoords\"}], \"pie\": [{\"automargin\": true, \"type\": \"pie\"}], \"scatter\": [{\"marker\": {\"colorbar\": {\"outlinewidth\": 0, \"ticks\": \"\"}}, \"type\": \"scatter\"}], \"scatter3d\": [{\"line\": {\"colorbar\": {\"outlinewidth\": 0, \"ticks\": \"\"}}, \"marker\": {\"colorbar\": {\"outlinewidth\": 0, \"ticks\": \"\"}}, \"type\": \"scatter3d\"}], \"scattercarpet\": [{\"marker\": {\"colorbar\": {\"outlinewidth\": 0, \"ticks\": \"\"}}, \"type\": \"scattercarpet\"}], \"scattergeo\": [{\"marker\": {\"colorbar\": {\"outlinewidth\": 0, \"ticks\": \"\"}}, \"type\": \"scattergeo\"}], \"scattergl\": [{\"marker\": {\"colorbar\": {\"outlinewidth\": 0, \"ticks\": \"\"}}, \"type\": \"scattergl\"}], \"scattermapbox\": [{\"marker\": {\"colorbar\": {\"outlinewidth\": 0, \"ticks\": \"\"}}, \"type\": \"scattermapbox\"}], \"scatterpolar\": [{\"marker\": {\"colorbar\": {\"outlinewidth\": 0, \"ticks\": \"\"}}, \"type\": \"scatterpolar\"}], \"scatterpolargl\": [{\"marker\": {\"colorbar\": {\"outlinewidth\": 0, \"ticks\": \"\"}}, \"type\": \"scatterpolargl\"}], \"scatterternary\": [{\"marker\": {\"colorbar\": {\"outlinewidth\": 0, \"ticks\": \"\"}}, \"type\": \"scatterternary\"}], \"surface\": [{\"colorbar\": {\"outlinewidth\": 0, \"ticks\": \"\"}, \"colorscale\": [[0.0, \"#0d0887\"], [0.1111111111111111, \"#46039f\"], [0.2222222222222222, \"#7201a8\"], [0.3333333333333333, \"#9c179e\"], [0.4444444444444444, \"#bd3786\"], [0.5555555555555556, \"#d8576b\"], [0.6666666666666666, \"#ed7953\"], [0.7777777777777778, \"#fb9f3a\"], [0.8888888888888888, \"#fdca26\"], [1.0, \"#f0f921\"]], \"type\": \"surface\"}], \"table\": [{\"cells\": {\"fill\": {\"color\": \"#EBF0F8\"}, \"line\": {\"color\": \"white\"}}, \"header\": {\"fill\": {\"color\": \"#C8D4E3\"}, \"line\": {\"color\": \"white\"}}, \"type\": \"table\"}]}, \"layout\": {\"annotationdefaults\": {\"arrowcolor\": \"#2a3f5f\", \"arrowhead\": 0, \"arrowwidth\": 1}, \"coloraxis\": {\"colorbar\": {\"outlinewidth\": 0, \"ticks\": \"\"}}, \"colorscale\": {\"diverging\": [[0, \"#8e0152\"], [0.1, \"#c51b7d\"], [0.2, \"#de77ae\"], [0.3, \"#f1b6da\"], [0.4, \"#fde0ef\"], [0.5, \"#f7f7f7\"], [0.6, \"#e6f5d0\"], [0.7, \"#b8e186\"], [0.8, \"#7fbc41\"], [0.9, \"#4d9221\"], [1, \"#276419\"]], \"sequential\": [[0.0, \"#0d0887\"], [0.1111111111111111, \"#46039f\"], [0.2222222222222222, \"#7201a8\"], [0.3333333333333333, \"#9c179e\"], [0.4444444444444444, \"#bd3786\"], [0.5555555555555556, \"#d8576b\"], [0.6666666666666666, \"#ed7953\"], [0.7777777777777778, \"#fb9f3a\"], [0.8888888888888888, \"#fdca26\"], [1.0, \"#f0f921\"]], \"sequentialminus\": [[0.0, \"#0d0887\"], [0.1111111111111111, \"#46039f\"], [0.2222222222222222, \"#7201a8\"], [0.3333333333333333, \"#9c179e\"], [0.4444444444444444, \"#bd3786\"], [0.5555555555555556, \"#d8576b\"], [0.6666666666666666, \"#ed7953\"], [0.7777777777777778, \"#fb9f3a\"], [0.8888888888888888, \"#fdca26\"], [1.0, \"#f0f921\"]]}, \"colorway\": [\"#636efa\", \"#EF553B\", \"#00cc96\", \"#ab63fa\", \"#FFA15A\", \"#19d3f3\", \"#FF6692\", \"#B6E880\", \"#FF97FF\", \"#FECB52\"], \"font\": {\"color\": \"#2a3f5f\"}, \"geo\": {\"bgcolor\": \"white\", \"lakecolor\": \"white\", \"landcolor\": \"#E5ECF6\", \"showlakes\": true, \"showland\": true, \"subunitcolor\": \"white\"}, \"hoverlabel\": {\"align\": \"left\"}, \"hovermode\": \"closest\", \"mapbox\": {\"style\": \"light\"}, \"paper_bgcolor\": \"white\", \"plot_bgcolor\": \"#E5ECF6\", \"polar\": {\"angularaxis\": {\"gridcolor\": \"white\", \"linecolor\": \"white\", \"ticks\": \"\"}, \"bgcolor\": \"#E5ECF6\", \"radialaxis\": {\"gridcolor\": \"white\", \"linecolor\": \"white\", \"ticks\": \"\"}}, \"scene\": {\"xaxis\": {\"backgroundcolor\": \"#E5ECF6\", \"gridcolor\": \"white\", \"gridwidth\": 2, \"linecolor\": \"white\", \"showbackground\": true, \"ticks\": \"\", \"zerolinecolor\": \"white\"}, \"yaxis\": {\"backgroundcolor\": \"#E5ECF6\", \"gridcolor\": \"white\", \"gridwidth\": 2, \"linecolor\": \"white\", \"showbackground\": true, \"ticks\": \"\", \"zerolinecolor\": \"white\"}, \"zaxis\": {\"backgroundcolor\": \"#E5ECF6\", \"gridcolor\": \"white\", \"gridwidth\": 2, \"linecolor\": \"white\", \"showbackground\": true, \"ticks\": \"\", \"zerolinecolor\": \"white\"}}, \"shapedefaults\": {\"line\": {\"color\": \"#2a3f5f\"}}, \"ternary\": {\"aaxis\": {\"gridcolor\": \"white\", \"linecolor\": \"white\", \"ticks\": \"\"}, \"baxis\": {\"gridcolor\": \"white\", \"linecolor\": \"white\", \"ticks\": \"\"}, \"bgcolor\": \"#E5ECF6\", \"caxis\": {\"gridcolor\": \"white\", \"linecolor\": \"white\", \"ticks\": \"\"}}, \"title\": {\"x\": 0.05}, \"xaxis\": {\"automargin\": true, \"gridcolor\": \"white\", \"linecolor\": \"white\", \"ticks\": \"\", \"title\": {\"standoff\": 15}, \"zerolinecolor\": \"white\", \"zerolinewidth\": 2}, \"yaxis\": {\"automargin\": true, \"gridcolor\": \"white\", \"linecolor\": \"white\", \"ticks\": \"\", \"title\": {\"standoff\": 15}, \"zerolinecolor\": \"white\", \"zerolinewidth\": 2}}}, \"title\": {\"text\": \"Subreddits with most activity - submissions with 'python' in the last 48h\"}, \"width\": 800, \"xaxis\": {\"anchor\": \"y\", \"domain\": [0.0, 1.0], \"title\": {\"text\": \"Subreddits\"}}, \"yaxis\": {\"anchor\": \"x\", \"domain\": [0.0, 1.0], \"title\": {\"text\": \"# submissions\"}}},\n",
       "                        {\"responsive\": true}\n",
       "                    ).then(function(){\n",
       "                            \n",
       "var gd = document.getElementById('6cfe87c6-49e4-4433-804e-f568259ee884');\n",
       "var x = new MutationObserver(function (mutations, observer) {{\n",
       "        var display = window.getComputedStyle(gd).display;\n",
       "        if (!display || display === 'none') {{\n",
       "            console.log([gd, 'removed!']);\n",
       "            Plotly.purge(gd);\n",
       "            observer.disconnect();\n",
       "        }}\n",
       "}});\n",
       "\n",
       "// Listen for the removal of the full notebook cells\n",
       "var notebookContainer = gd.closest('#notebook-container');\n",
       "if (notebookContainer) {{\n",
       "    x.observe(notebookContainer, {childList: true});\n",
       "}}\n",
       "\n",
       "// Listen for the clearing of the current output cell\n",
       "var outputEl = gd.closest('.output');\n",
       "if (outputEl) {{\n",
       "    x.observe(outputEl, {childList: true});\n",
       "}}\n",
       "\n",
       "                        })\n",
       "                };\n",
       "                });\n",
       "            </script>\n",
       "        </div>"
      ]
     },
     "metadata": {},
     "output_type": "display_data"
    }
   ],
   "source": [
    "data = get_pushshift_data(data_type=\"submission\", q=TERM_OF_INTEREST, after=TIMEFRAME, size=1000, aggs=\"subreddit\").get(\"aggs\").get(\"subreddit\")\n",
    "df = pandas.DataFrame.from_records(data)[0:10]\n",
    "px.bar(df,\n",
    "       x=\"key\",\n",
    "       y=\"doc_count\",\n",
    "       title=f\"Subreddits with most activity - submissions with '{TERM_OF_INTEREST}' in the last {TIMEFRAME}\",\n",
    "       labels={\"doc_count\": \"# submissions\",\"key\": \"Subreddits\"},\n",
    "       color_discrete_sequence=[SUBMISSION_COLOR],\n",
    "       height=500,\n",
    "       width=800)"
   ]
  },
  {
   "cell_type": "markdown",
   "metadata": {},
   "source": [
    "## Most upvoted comments <a class=\"anchor\" id=\"3\"></a>"
   ]
  },
  {
   "cell_type": "code",
   "execution_count": 22,
   "metadata": {},
   "outputs": [
    {
     "name": "stdout",
     "output_type": "stream",
     "text": [
      "\n",
      "Top 10 most upvoted comments with 'python' in the past 48h\n",
      "\n"
     ]
    },
    {
     "data": {
      "text/html": [
       "<style  type=\"text/css\" >\n",
       "</style><table id=\"T_efffc0c4_219b_11ea_a28a_6946d3b9eeae\" ><thead>    <tr>        <th class=\"blank level0\" ></th>        <th class=\"col_heading level0 col0\" >author</th>        <th class=\"col_heading level0 col1\" >subreddit</th>        <th class=\"col_heading level0 col2\" >score</th>        <th class=\"col_heading level0 col3\" >body</th>        <th class=\"col_heading level0 col4\" >permalink</th>    </tr></thead><tbody>\n",
       "                <tr>\n",
       "                        <th id=\"T_efffc0c4_219b_11ea_a28a_6946d3b9eeaelevel0_row0\" class=\"row_heading level0 row0\" >0</th>\n",
       "                        <td id=\"T_efffc0c4_219b_11ea_a28a_6946d3b9eeaerow0_col0\" class=\"data row0 col0\" >Saiboo</td>\n",
       "                        <td id=\"T_efffc0c4_219b_11ea_a28a_6946d3b9eeaerow0_col1\" class=\"data row0 col1\" >learnpython</td>\n",
       "                        <td id=\"T_efffc0c4_219b_11ea_a28a_6946d3b9eeaerow0_col2\" class=\"data row0 col2\" >111</td>\n",
       "                        <td id=\"T_efffc0c4_219b_11ea_a28a_6946d3b9eeaerow0_col3\" class=\"data row0 col3\" >Suppose you create the following python file calle...</td>\n",
       "                        <td id=\"T_efffc0c4_219b_11ea_a28a_6946d3b9eeaerow0_col4\" class=\"data row0 col4\" ><a href=\"https://reddit.com/r/learnpython/comments/eb57p0/what_is_the_point_of_name_main_in_python_programs/fb2ofbs/\">Link</a></td>\n",
       "            </tr>\n",
       "            <tr>\n",
       "                        <th id=\"T_efffc0c4_219b_11ea_a28a_6946d3b9eeaelevel0_row1\" class=\"row_heading level0 row1\" >1</th>\n",
       "                        <td id=\"T_efffc0c4_219b_11ea_a28a_6946d3b9eeaerow1_col0\" class=\"data row1 col0\" >Kompakt</td>\n",
       "                        <td id=\"T_efffc0c4_219b_11ea_a28a_6946d3b9eeaerow1_col1\" class=\"data row1 col1\" >ProgrammerHumor</td>\n",
       "                        <td id=\"T_efffc0c4_219b_11ea_a28a_6946d3b9eeaerow1_col2\" class=\"data row1 col2\" >92</td>\n",
       "                        <td id=\"T_efffc0c4_219b_11ea_a28a_6946d3b9eeaerow1_col3\" class=\"data row1 col3\" >Some languages don't have switch statements...look...</td>\n",
       "                        <td id=\"T_efffc0c4_219b_11ea_a28a_6946d3b9eeaerow1_col4\" class=\"data row1 col4\" ><a href=\"https://reddit.com/r/ProgrammerHumor/comments/eb2lbc/stacking_if_else_statements_be_like/fb1vzhz/\">Link</a></td>\n",
       "            </tr>\n",
       "            <tr>\n",
       "                        <th id=\"T_efffc0c4_219b_11ea_a28a_6946d3b9eeaelevel0_row2\" class=\"row_heading level0 row2\" >2</th>\n",
       "                        <td id=\"T_efffc0c4_219b_11ea_a28a_6946d3b9eeaerow2_col0\" class=\"data row2 col0\" >clown_world_2020</td>\n",
       "                        <td id=\"T_efffc0c4_219b_11ea_a28a_6946d3b9eeaerow2_col1\" class=\"data row2 col1\" >MrRobot</td>\n",
       "                        <td id=\"T_efffc0c4_219b_11ea_a28a_6946d3b9eeaerow2_col2\" class=\"data row2 col2\" >47</td>\n",
       "                        <td id=\"T_efffc0c4_219b_11ea_a28a_6946d3b9eeaerow2_col3\" class=\"data row2 col3\" >Just goes to show that Esmail isn't the only brill...</td>\n",
       "                        <td id=\"T_efffc0c4_219b_11ea_a28a_6946d3b9eeaerow2_col4\" class=\"data row2 col4\" ><a href=\"https://reddit.com/r/MrRobot/comments/eb3u62/esmails_influence_on_mac_quayles_process/fb2kipo/\">Link</a></td>\n",
       "            </tr>\n",
       "            <tr>\n",
       "                        <th id=\"T_efffc0c4_219b_11ea_a28a_6946d3b9eeaelevel0_row3\" class=\"row_heading level0 row3\" >3</th>\n",
       "                        <td id=\"T_efffc0c4_219b_11ea_a28a_6946d3b9eeaerow3_col0\" class=\"data row3 col0\" >Leebertysauce</td>\n",
       "                        <td id=\"T_efffc0c4_219b_11ea_a28a_6946d3b9eeaerow3_col1\" class=\"data row3 col1\" >AnimalsBeingBros</td>\n",
       "                        <td id=\"T_efffc0c4_219b_11ea_a28a_6946d3b9eeaerow3_col2\" class=\"data row3 col2\" >28</td>\n",
       "                        <td id=\"T_efffc0c4_219b_11ea_a28a_6946d3b9eeaerow3_col3\" class=\"data row3 col3\" >They wont even be mad when the python decide to ta...</td>\n",
       "                        <td id=\"T_efffc0c4_219b_11ea_a28a_6946d3b9eeaerow3_col4\" class=\"data row3 col4\" ><a href=\"https://reddit.com/r/AnimalsBeingBros/comments/eb0ux7/capybara_is_a_foster_parent_for_a_group_of_husky/fb25ons/\">Link</a></td>\n",
       "            </tr>\n",
       "            <tr>\n",
       "                        <th id=\"T_efffc0c4_219b_11ea_a28a_6946d3b9eeaelevel0_row4\" class=\"row_heading level0 row4\" >4</th>\n",
       "                        <td id=\"T_efffc0c4_219b_11ea_a28a_6946d3b9eeaerow4_col0\" class=\"data row4 col0\" >Kompakt</td>\n",
       "                        <td id=\"T_efffc0c4_219b_11ea_a28a_6946d3b9eeaerow4_col1\" class=\"data row4 col1\" >ProgrammerHumor</td>\n",
       "                        <td id=\"T_efffc0c4_219b_11ea_a28a_6946d3b9eeaerow4_col2\" class=\"data row4 col2\" >23</td>\n",
       "                        <td id=\"T_efffc0c4_219b_11ea_a28a_6946d3b9eeaerow4_col3\" class=\"data row4 col3\" >Yep it's true, and depending on the design of the ...</td>\n",
       "                        <td id=\"T_efffc0c4_219b_11ea_a28a_6946d3b9eeaerow4_col4\" class=\"data row4 col4\" ><a href=\"https://reddit.com/r/ProgrammerHumor/comments/eb2lbc/stacking_if_else_statements_be_like/fb253g9/\">Link</a></td>\n",
       "            </tr>\n",
       "            <tr>\n",
       "                        <th id=\"T_efffc0c4_219b_11ea_a28a_6946d3b9eeaelevel0_row5\" class=\"row_heading level0 row5\" >5</th>\n",
       "                        <td id=\"T_efffc0c4_219b_11ea_a28a_6946d3b9eeaerow5_col0\" class=\"data row5 col0\" >niceboy4431</td>\n",
       "                        <td id=\"T_efffc0c4_219b_11ea_a28a_6946d3b9eeaerow5_col1\" class=\"data row5 col1\" >Cringetopia</td>\n",
       "                        <td id=\"T_efffc0c4_219b_11ea_a28a_6946d3b9eeaerow5_col2\" class=\"data row5 col2\" >23</td>\n",
       "                        <td id=\"T_efffc0c4_219b_11ea_a28a_6946d3b9eeaerow5_col3\" class=\"data row5 col3\" >I have a theory (someone prove me wrong if you kno...</td>\n",
       "                        <td id=\"T_efffc0c4_219b_11ea_a28a_6946d3b9eeaerow5_col4\" class=\"data row5 col4\" ><a href=\"https://reddit.com/r/Cringetopia/comments/eakrbs/i_hate_these_channels_so_much/fauiic1/\">Link</a></td>\n",
       "            </tr>\n",
       "            <tr>\n",
       "                        <th id=\"T_efffc0c4_219b_11ea_a28a_6946d3b9eeaelevel0_row6\" class=\"row_heading level0 row6\" >6</th>\n",
       "                        <td id=\"T_efffc0c4_219b_11ea_a28a_6946d3b9eeaerow6_col0\" class=\"data row6 col0\" >kingguru</td>\n",
       "                        <td id=\"T_efffc0c4_219b_11ea_a28a_6946d3b9eeaerow6_col1\" class=\"data row6 col1\" >Denmark</td>\n",
       "                        <td id=\"T_efffc0c4_219b_11ea_a28a_6946d3b9eeaerow6_col2\" class=\"data row6 col2\" >22</td>\n",
       "                        <td id=\"T_efffc0c4_219b_11ea_a28a_6946d3b9eeaerow6_col3\" class=\"data row6 col3\" >Brug af Python: **+1**\n",
       "\n",
       "Brug af Python 3: **+2**\n",
       "\n",
       "...</td>\n",
       "                        <td id=\"T_efffc0c4_219b_11ea_a28a_6946d3b9eeaerow6_col4\" class=\"data row6 col4\" ><a href=\"https://reddit.com/r/Denmark/comments/eb0mzj/debatkulturen_på_rdenmark/fb1b27a/\">Link</a></td>\n",
       "            </tr>\n",
       "            <tr>\n",
       "                        <th id=\"T_efffc0c4_219b_11ea_a28a_6946d3b9eeaelevel0_row7\" class=\"row_heading level0 row7\" >7</th>\n",
       "                        <td id=\"T_efffc0c4_219b_11ea_a28a_6946d3b9eeaerow7_col0\" class=\"data row7 col0\" >MintyAroma</td>\n",
       "                        <td id=\"T_efffc0c4_219b_11ea_a28a_6946d3b9eeaerow7_col1\" class=\"data row7 col1\" >totalwar</td>\n",
       "                        <td id=\"T_efffc0c4_219b_11ea_a28a_6946d3b9eeaerow7_col2\" class=\"data row7 col2\" >20</td>\n",
       "                        <td id=\"T_efffc0c4_219b_11ea_a28a_6946d3b9eeaerow7_col3\" class=\"data row7 col3\" >We really need Bretonnian Men-At-Arms shouting Mon...</td>\n",
       "                        <td id=\"T_efffc0c4_219b_11ea_a28a_6946d3b9eeaerow7_col4\" class=\"data row7 col4\" ><a href=\"https://reddit.com/r/totalwar/comments/eb1eyf/wait_thats_illegal/fb1vq6j/\">Link</a></td>\n",
       "            </tr>\n",
       "            <tr>\n",
       "                        <th id=\"T_efffc0c4_219b_11ea_a28a_6946d3b9eeaelevel0_row8\" class=\"row_heading level0 row8\" >8</th>\n",
       "                        <td id=\"T_efffc0c4_219b_11ea_a28a_6946d3b9eeaerow8_col0\" class=\"data row8 col0\" >aspiringtobeme</td>\n",
       "                        <td id=\"T_efffc0c4_219b_11ea_a28a_6946d3b9eeaerow8_col1\" class=\"data row8 col1\" >gifsthatkeepongiving</td>\n",
       "                        <td id=\"T_efffc0c4_219b_11ea_a28a_6946d3b9eeaerow8_col2\" class=\"data row8 col2\" >19</td>\n",
       "                        <td id=\"T_efffc0c4_219b_11ea_a28a_6946d3b9eeaerow8_col3\" class=\"data row8 col3\" >Amazing. Brought [this Monty Python clip](https://...</td>\n",
       "                        <td id=\"T_efffc0c4_219b_11ea_a28a_6946d3b9eeaerow8_col4\" class=\"data row8 col4\" ><a href=\"https://reddit.com/r/gifsthatkeepongiving/comments/eaqml0/watch_a_new_kid_every_time/faw7ne5/\">Link</a></td>\n",
       "            </tr>\n",
       "            <tr>\n",
       "                        <th id=\"T_efffc0c4_219b_11ea_a28a_6946d3b9eeaelevel0_row9\" class=\"row_heading level0 row9\" >9</th>\n",
       "                        <td id=\"T_efffc0c4_219b_11ea_a28a_6946d3b9eeaerow9_col0\" class=\"data row9 col0\" >CrimsonSpooker</td>\n",
       "                        <td id=\"T_efffc0c4_219b_11ea_a28a_6946d3b9eeaerow9_col1\" class=\"data row9 col1\" >TwoBestFriendsPlay</td>\n",
       "                        <td id=\"T_efffc0c4_219b_11ea_a28a_6946d3b9eeaerow9_col2\" class=\"data row9 col2\" >19</td>\n",
       "                        <td id=\"T_efffc0c4_219b_11ea_a28a_6946d3b9eeaerow9_col3\" class=\"data row9 col3\" >“Why can’t Three Houses be gritty and “realistic” ...</td>\n",
       "                        <td id=\"T_efffc0c4_219b_11ea_a28a_6946d3b9eeaerow9_col4\" class=\"data row9 col4\" ><a href=\"https://reddit.com/r/TwoBestFriendsPlay/comments/eb3f6m/i_dont_think_there_are_too_many_of_these_but/fb2nisj/\">Link</a></td>\n",
       "            </tr>\n",
       "    </tbody></table>"
      ],
      "text/plain": [
       "<pandas.io.formats.style.Styler at 0x7f3a92687890>"
      ]
     },
     "execution_count": 22,
     "metadata": {},
     "output_type": "execute_result"
    }
   ],
   "source": [
    "data = get_pushshift_data(data_type=\"comment\", q=TERM_OF_INTEREST, after=\"7d\", size=10, sort_type=\"score\", sort=\"desc\").get(\"data\")\n",
    "# to see what columns interest you, simply list(df)\n",
    "df = pandas.DataFrame.from_records(data)[[\"author\", \"subreddit\", \"score\", \"body\", \"permalink\"]]\n",
    "\n",
    "# we only keep the first X characters of the body \n",
    "df.body = df.body.str[0:50] + \"...\"\n",
    "\n",
    "# we append the string to all the permalink entries\n",
    "df.permalink = \"https://reddit.com\" + df.permalink.astype(str)\n",
    "\n",
    "# print \n",
    "print(f\"\\nTop 10 most upvoted comments with '{TERM_OF_INTEREST}' in the past {TIMEFRAME}\\n\")\n",
    "\n",
    "# style the last column to be clickable and print\n",
    "df.style.format({'permalink': make_clickable})"
   ]
  },
  {
   "cell_type": "markdown",
   "metadata": {},
   "source": [
    "## Most upvoted submissions <a class=\"anchor\" id=\"4\"></a>"
   ]
  },
  {
   "cell_type": "code",
   "execution_count": 21,
   "metadata": {},
   "outputs": [
    {
     "name": "stdout",
     "output_type": "stream",
     "text": [
      "\n",
      "Top 10 most upvoted submissions with 'python' in the past 48h\n",
      "\n"
     ]
    },
    {
     "data": {
      "text/html": [
       "<style  type=\"text/css\" >\n",
       "</style><table id=\"T_b8076911_219b_11ea_a28a_6946d3b9eeae\" ><thead>    <tr>        <th class=\"blank level0\" ></th>        <th class=\"col_heading level0 col0\" >author</th>        <th class=\"col_heading level0 col1\" >subreddit</th>        <th class=\"col_heading level0 col2\" >score</th>        <th class=\"col_heading level0 col3\" >title</th>        <th class=\"col_heading level0 col4\" >permalink</th>    </tr></thead><tbody>\n",
       "                <tr>\n",
       "                        <th id=\"T_b8076911_219b_11ea_a28a_6946d3b9eeaelevel0_row0\" class=\"row_heading level0 row0\" >0</th>\n",
       "                        <td id=\"T_b8076911_219b_11ea_a28a_6946d3b9eeaerow0_col0\" class=\"data row0 col0\" >smallabc</td>\n",
       "                        <td id=\"T_b8076911_219b_11ea_a28a_6946d3b9eeaerow0_col1\" class=\"data row0 col1\" >Python</td>\n",
       "                        <td id=\"T_b8076911_219b_11ea_a28a_6946d3b9eeaerow0_col2\" class=\"data row0 col2\" >1</td>\n",
       "                        <td id=\"T_b8076911_219b_11ea_a28a_6946d3b9eeaerow0_col3\" class=\"data row0 col3\" >Auto-copy all displayed \"print\" results into clipboard?...</td>\n",
       "                        <td id=\"T_b8076911_219b_11ea_a28a_6946d3b9eeaerow0_col4\" class=\"data row0 col4\" ><a href=\"https://reddit.com/r/Python/comments/ebffcz/autocopy_all_displayed_print_results_into/\">Link</a></td>\n",
       "            </tr>\n",
       "            <tr>\n",
       "                        <th id=\"T_b8076911_219b_11ea_a28a_6946d3b9eeaelevel0_row1\" class=\"row_heading level0 row1\" >1</th>\n",
       "                        <td id=\"T_b8076911_219b_11ea_a28a_6946d3b9eeaerow1_col0\" class=\"data row1 col0\" >amoh-godwin</td>\n",
       "                        <td id=\"T_b8076911_219b_11ea_a28a_6946d3b9eeaerow1_col1\" class=\"data row1 col1\" >u_amoh-godwin</td>\n",
       "                        <td id=\"T_b8076911_219b_11ea_a28a_6946d3b9eeaerow1_col2\" class=\"data row1 col2\" >1</td>\n",
       "                        <td id=\"T_b8076911_219b_11ea_a28a_6946d3b9eeaerow1_col3\" class=\"data row1 col3\" >$0 - Free Udemy course coupon - FREE for THREE DAYS...</td>\n",
       "                        <td id=\"T_b8076911_219b_11ea_a28a_6946d3b9eeaerow1_col4\" class=\"data row1 col4\" ><a href=\"https://reddit.com/r/u_amoh-godwin/comments/ebhfyg/0_free_udemy_course_coupon_free_for_three_days/\">Link</a></td>\n",
       "            </tr>\n",
       "            <tr>\n",
       "                        <th id=\"T_b8076911_219b_11ea_a28a_6946d3b9eeaelevel0_row2\" class=\"row_heading level0 row2\" >2</th>\n",
       "                        <td id=\"T_b8076911_219b_11ea_a28a_6946d3b9eeaerow2_col0\" class=\"data row2 col0\" >KameNoKami91</td>\n",
       "                        <td id=\"T_b8076911_219b_11ea_a28a_6946d3b9eeaerow2_col1\" class=\"data row2 col1\" >proceduralgeneration</td>\n",
       "                        <td id=\"T_b8076911_219b_11ea_a28a_6946d3b9eeaerow2_col2\" class=\"data row2 col2\" >1</td>\n",
       "                        <td id=\"T_b8076911_219b_11ea_a28a_6946d3b9eeaerow2_col3\" class=\"data row2 col3\" >Python World Generation with falloff gradient manipulation...</td>\n",
       "                        <td id=\"T_b8076911_219b_11ea_a28a_6946d3b9eeaerow2_col4\" class=\"data row2 col4\" ><a href=\"https://reddit.com/r/proceduralgeneration/comments/ebhalt/python_world_generation_with_falloff_gradient/\">Link</a></td>\n",
       "            </tr>\n",
       "            <tr>\n",
       "                        <th id=\"T_b8076911_219b_11ea_a28a_6946d3b9eeaelevel0_row3\" class=\"row_heading level0 row3\" >3</th>\n",
       "                        <td id=\"T_b8076911_219b_11ea_a28a_6946d3b9eeaerow3_col0\" class=\"data row3 col0\" >italiagram3</td>\n",
       "                        <td id=\"T_b8076911_219b_11ea_a28a_6946d3b9eeaerow3_col1\" class=\"data row3 col1\" >ItaliaGram</td>\n",
       "                        <td id=\"T_b8076911_219b_11ea_a28a_6946d3b9eeaerow3_col2\" class=\"data row3 col2\" >1</td>\n",
       "                        <td id=\"T_b8076911_219b_11ea_a28a_6946d3b9eeaerow3_col3\" class=\"data row3 col3\" >[ItalyInformatica] Cosa dovrei utilizzare per realizzare un grafico sequenziale?...</td>\n",
       "                        <td id=\"T_b8076911_219b_11ea_a28a_6946d3b9eeaerow3_col4\" class=\"data row3 col4\" ><a href=\"https://reddit.com/r/ItaliaGram/comments/ebho0g/italyinformatica_cosa_dovrei_utilizzare_per/\">Link</a></td>\n",
       "            </tr>\n",
       "            <tr>\n",
       "                        <th id=\"T_b8076911_219b_11ea_a28a_6946d3b9eeaelevel0_row4\" class=\"row_heading level0 row4\" >4</th>\n",
       "                        <td id=\"T_b8076911_219b_11ea_a28a_6946d3b9eeaerow4_col0\" class=\"data row4 col0\" >bransongilly</td>\n",
       "                        <td id=\"T_b8076911_219b_11ea_a28a_6946d3b9eeaerow4_col1\" class=\"data row4 col1\" >snakes</td>\n",
       "                        <td id=\"T_b8076911_219b_11ea_a28a_6946d3b9eeaerow4_col2\" class=\"data row4 col2\" >1</td>\n",
       "                        <td id=\"T_b8076911_219b_11ea_a28a_6946d3b9eeaerow4_col3\" class=\"data row4 col3\" >I got a Indonesian reticulating python, I’m a first time snake owner so any advice or tips welcome, haven’t named him yet either, here’s snake boi...</td>\n",
       "                        <td id=\"T_b8076911_219b_11ea_a28a_6946d3b9eeaerow4_col4\" class=\"data row4 col4\" ><a href=\"https://reddit.com/r/snakes/comments/ebh80r/i_got_a_indonesian_reticulating_python_im_a_first/\">Link</a></td>\n",
       "            </tr>\n",
       "            <tr>\n",
       "                        <th id=\"T_b8076911_219b_11ea_a28a_6946d3b9eeaelevel0_row5\" class=\"row_heading level0 row5\" >5</th>\n",
       "                        <td id=\"T_b8076911_219b_11ea_a28a_6946d3b9eeaerow5_col0\" class=\"data row5 col0\" >missfusion</td>\n",
       "                        <td id=\"T_b8076911_219b_11ea_a28a_6946d3b9eeaerow5_col1\" class=\"data row5 col1\" >learnprogramming</td>\n",
       "                        <td id=\"T_b8076911_219b_11ea_a28a_6946d3b9eeaerow5_col2\" class=\"data row5 col2\" >1</td>\n",
       "                        <td id=\"T_b8076911_219b_11ea_a28a_6946d3b9eeaerow5_col3\" class=\"data row5 col3\" >Complete beginner python tutorial Recommendations...</td>\n",
       "                        <td id=\"T_b8076911_219b_11ea_a28a_6946d3b9eeaerow5_col4\" class=\"data row5 col4\" ><a href=\"https://reddit.com/r/learnprogramming/comments/ebfn02/complete_beginner_python_tutorial_recommendations/\">Link</a></td>\n",
       "            </tr>\n",
       "            <tr>\n",
       "                        <th id=\"T_b8076911_219b_11ea_a28a_6946d3b9eeaelevel0_row6\" class=\"row_heading level0 row6\" >6</th>\n",
       "                        <td id=\"T_b8076911_219b_11ea_a28a_6946d3b9eeaerow6_col0\" class=\"data row6 col0\" >invisibleinfant</td>\n",
       "                        <td id=\"T_b8076911_219b_11ea_a28a_6946d3b9eeaerow6_col1\" class=\"data row6 col1\" >AIDungeon</td>\n",
       "                        <td id=\"T_b8076911_219b_11ea_a28a_6946d3b9eeaerow6_col2\" class=\"data row6 col2\" >1</td>\n",
       "                        <td id=\"T_b8076911_219b_11ea_a28a_6946d3b9eeaerow6_col3\" class=\"data row6 col3\" >Anyone get this to run in docker yet with CUDA?...</td>\n",
       "                        <td id=\"T_b8076911_219b_11ea_a28a_6946d3b9eeaerow6_col4\" class=\"data row6 col4\" ><a href=\"https://reddit.com/r/AIDungeon/comments/ebja0g/anyone_get_this_to_run_in_docker_yet_with_cuda/\">Link</a></td>\n",
       "            </tr>\n",
       "            <tr>\n",
       "                        <th id=\"T_b8076911_219b_11ea_a28a_6946d3b9eeaelevel0_row7\" class=\"row_heading level0 row7\" >7</th>\n",
       "                        <td id=\"T_b8076911_219b_11ea_a28a_6946d3b9eeaerow7_col0\" class=\"data row7 col0\" >AdoptanIntern</td>\n",
       "                        <td id=\"T_b8076911_219b_11ea_a28a_6946d3b9eeaerow7_col1\" class=\"data row7 col1\" >GraduateRecruitmentUK</td>\n",
       "                        <td id=\"T_b8076911_219b_11ea_a28a_6946d3b9eeaerow7_col2\" class=\"data row7 col2\" >1</td>\n",
       "                        <td id=\"T_b8076911_219b_11ea_a28a_6946d3b9eeaerow7_col3\" class=\"data row7 col3\" >Systems Engineer with New Verve Consulting...</td>\n",
       "                        <td id=\"T_b8076911_219b_11ea_a28a_6946d3b9eeaerow7_col4\" class=\"data row7 col4\" ><a href=\"https://reddit.com/r/GraduateRecruitmentUK/comments/ebj51v/systems_engineer_with_new_verve_consulting/\">Link</a></td>\n",
       "            </tr>\n",
       "            <tr>\n",
       "                        <th id=\"T_b8076911_219b_11ea_a28a_6946d3b9eeaelevel0_row8\" class=\"row_heading level0 row8\" >8</th>\n",
       "                        <td id=\"T_b8076911_219b_11ea_a28a_6946d3b9eeaerow8_col0\" class=\"data row8 col0\" >up32835</td>\n",
       "                        <td id=\"T_b8076911_219b_11ea_a28a_6946d3b9eeaerow8_col1\" class=\"data row8 col1\" >visualization</td>\n",
       "                        <td id=\"T_b8076911_219b_11ea_a28a_6946d3b9eeaerow8_col2\" class=\"data row8 col2\" >1</td>\n",
       "                        <td id=\"T_b8076911_219b_11ea_a28a_6946d3b9eeaerow8_col3\" class=\"data row8 col3\" >VISUALIZING MY LINKEDIN NETWORK ON A GRAPH...</td>\n",
       "                        <td id=\"T_b8076911_219b_11ea_a28a_6946d3b9eeaerow8_col4\" class=\"data row8 col4\" ><a href=\"https://reddit.com/r/visualization/comments/ebj3r2/visualizing_my_linkedin_network_on_a_graph/\">Link</a></td>\n",
       "            </tr>\n",
       "            <tr>\n",
       "                        <th id=\"T_b8076911_219b_11ea_a28a_6946d3b9eeaelevel0_row9\" class=\"row_heading level0 row9\" >9</th>\n",
       "                        <td id=\"T_b8076911_219b_11ea_a28a_6946d3b9eeaerow9_col0\" class=\"data row9 col0\" >itwasntzak</td>\n",
       "                        <td id=\"T_b8076911_219b_11ea_a28a_6946d3b9eeaerow9_col1\" class=\"data row9 col1\" >learnprogramming</td>\n",
       "                        <td id=\"T_b8076911_219b_11ea_a28a_6946d3b9eeaerow9_col2\" class=\"data row9 col2\" >1</td>\n",
       "                        <td id=\"T_b8076911_219b_11ea_a28a_6946d3b9eeaerow9_col3\" class=\"data row9 col3\" >Git Directory on Computer...</td>\n",
       "                        <td id=\"T_b8076911_219b_11ea_a28a_6946d3b9eeaerow9_col4\" class=\"data row9 col4\" ><a href=\"https://reddit.com/r/learnprogramming/comments/ebg7na/git_directory_on_computer/\">Link</a></td>\n",
       "            </tr>\n",
       "    </tbody></table>"
      ],
      "text/plain": [
       "<pandas.io.formats.style.Styler at 0x7f3a926a61d0>"
      ]
     },
     "execution_count": 21,
     "metadata": {},
     "output_type": "execute_result"
    }
   ],
   "source": [
    "data = get_pushshift_data(data_type=\"submission\", q=TERM_OF_INTEREST, after=TIMEFRAME, size=10, sort_type=\"score\", sort=\"desc\").get(\"data\")\n",
    "# to see what columns interest you, simply list(df)\n",
    "df = pandas.DataFrame.from_records(data)[[\"author\", \"subreddit\", \"score\", \"title\", \"permalink\"]]\n",
    "\n",
    "# we only keep the first X characters of the body \n",
    "df.title = df.title[0:240] + \"...\"\n",
    "\n",
    "# we append the string to all the permalink entries\n",
    "df.permalink = \"https://reddit.com\" + df.permalink.astype(str)\n",
    "\n",
    "# print \n",
    "print(f\"\\nTop 10 most upvoted submissions with '{TERM_OF_INTEREST}' in the past {TIMEFRAME}\\n\")\n",
    "\n",
    "# style the last column to be clickable and print\n",
    "df.style.format({'permalink': make_clickable})"
   ]
  },
  {
   "cell_type": "code",
   "execution_count": 24,
   "metadata": {},
   "outputs": [
    {
     "name": "stdout",
     "output_type": "stream",
     "text": [
      "Sentiment(polarity=-0.8, subjectivity=0.95)\n",
      "Sentiment(polarity=0.6062500000000001, subjectivity=0.6666666666666666)\n"
     ]
    }
   ],
   "source": [
    "import textblob\n",
    "\n",
    "sentence1 = \"Portugal is a horrible country. People drive like crazy animals.\"\n",
    "print(textblob.TextBlob(sentence1).sentiment)\n",
    "\n",
    "\n",
    "sentence2 = \"Portugal is the most beautiful country in the world because \"\n",
    "print(textblob.TextBlob(sentence2).sentiment)\n"
   ]
  },
  {
   "cell_type": "markdown",
   "metadata": {},
   "source": [
    "## /r/python comment sentiment timeline <a class=\"anchor\" id=\"5\"></a>"
   ]
  },
  {
   "cell_type": "code",
   "execution_count": 127,
   "metadata": {},
   "outputs": [
    {
     "data": {
      "application/vnd.plotly.v1+json": {
       "config": {
        "plotlyServerURL": "https://plot.ly"
       },
       "data": [
        {
         "customdata": [
          [
           "xWonder-Ozz",
           "/r/Python/comments/ebg58i/starting_out/fb4i033/",
           "Oh didn't saw that. Thanks"
          ],
          [
           "yellowliz4rd",
           "/r/Python/comments/ebdabr/is_it_possible_to_scrap_dynamically_generated/fb4f79k/",
           "interesting approach, I'll look into it.  thanks."
          ],
          [
           "vickeerooney",
           "/r/Python/comments/ebfoug/8_reasons_why_python_is_good_for_artificial/fb4i99j/",
           "YOU WON'T BELIEVE REASON #3"
          ],
          [
           "nero-gg",
           "/r/Python/comments/ebd3uz/how_to_control_your_raspberry_pi_from_anywhere_in/fb4hjch/",
           "You're aware that on a shared platform, you aren't"
          ],
          [
           "gods_programmer",
           "/r/Python/comments/ebfbo8/software_entrepreneur_will_you_advise/fb4etfu/",
           "I see what you're saying here. Middle ground is OK"
          ],
          [
           "yellowliz4rd",
           "/r/Python/comments/ebdabr/is_it_possible_to_scrap_dynamically_generated/fb4f804/",
           "exactly what's I'm looking for. thanks."
          ],
          [
           "MonthyPythonista",
           "/r/Python/comments/ebe72x/can_python_be_used_as_macros_across_different/fb4i1om/",
           "The problem with Excel is that it's a spreadsheet,"
          ],
          [
           "drbobb",
           "/r/Python/comments/eb1fb5/writing_to_a_csv/fb4nv9n/",
           "Not such a great idea if the field values might ha"
          ],
          [
           "CanadianPython",
           "/r/Python/comments/e5hms3/whats_everyone_working_on_this_week/fb4klp8/",
           "Last week I got finished working on a Sorting Algo"
          ],
          [
           "__deerlord__",
           "/r/Python/comments/ebd3uz/how_to_control_your_raspberry_pi_from_anywhere_in/fb4n7rx/",
           "VPN with client certs for one."
          ],
          [
           "mtrajk93",
           "/r/Python/comments/ebf7rc/github_mtrajkcodingproblems_python_solutions_for/fb4qd1g/",
           "Nice catch! The problem says \" Given a string, fin"
          ],
          [
           "Gariiiiii",
           "/r/Python/comments/cheopq/reviews_of_8_python_deep_learning_computer_vision/fb4q139/",
           "Awesome possum! This is exactly what i was looking"
          ],
          [
           "roerd",
           "/r/Python/comments/ebfo58/which_orm_for_python_and_abstraction_between_db/fb4s0gq/",
           "About your second question:\n\n&gt; I'm also not con"
          ],
          [
           "reddit007user",
           "/r/Python/comments/ebf7rc/github_mtrajkcodingproblems_python_solutions_for/fb50104/",
           "Super cool resource @mtrajk93. Thank you for shari"
          ],
          [
           "drbobb",
           "/r/Python/comments/e9y6fb/python_tips_and_trick_you_havent_already_seen/fb4tltu/",
           "What a purty blog."
          ],
          [
           "oetker",
           "/r/Python/comments/eazg05/made_my_first_fractal/fb4uiux/",
           "Nice, thank you for illustrating this!"
          ],
          [
           "ab-os",
           "/r/Python/comments/ebe72x/can_python_be_used_as_macros_across_different/fb52mcc/",
           "Yes power query is nice"
          ],
          [
           "hkamran85",
           "/r/Python/comments/e5hms3/whats_everyone_working_on_this_week/fb55uh0/",
           "Writing scripts for some basic Python tutorials"
          ],
          [
           "DDFoster96",
           "/r/Python/comments/eb489k/best_way_to_work_on_a_python_3_application_that/fb55i64/",
           "What's the Python 2-only library?"
          ],
          [
           "Ashutoshkv",
           "/r/Python/comments/ebd3uz/how_to_control_your_raspberry_pi_from_anywhere_in/fb4d08w/",
           "Calm down. As long as it is a private server and y"
          ],
          [
           "gods_programmer",
           "/r/Python/comments/ebfbo8/software_entrepreneur_will_you_advise/fb4d29s/",
           "My ultimate goal is to launch the project I envisi"
          ],
          [
           "NevadaPurple",
           "/r/Python/comments/ebjgvl/i_wrote_a_program_that_doodles_things_in_ms_paint/fb5bqub/",
           "how about an animated gif instead of a video"
          ],
          [
           "onepalebluedot",
           "/r/Python/comments/ebf7rc/github_mtrajkcodingproblems_python_solutions_for/fb59m9g/",
           "Fantastic pic! Oh and the code is cool too, thanks"
          ],
          [
           "SundaySolitary",
           "/r/Python/comments/ebe72x/can_python_be_used_as_macros_across_different/fb45a29/",
           "Try PyXLL (https://www.pyxll.com/)"
          ],
          [
           "mfitzp",
           "/r/Python/comments/eb8cmr/found_a_ghost_from_pacman_and_a_dude_with_a_funny/fb472iv/",
           "Aha see it now! Thanks :)"
          ],
          [
           "graingert",
           "/r/Python/comments/eazg05/made_my_first_fractal/fb470na/",
           "It's even better to use:\n\n```\ndef main():\n    ...\n"
          ],
          [
           "-Dhanos-",
           "/r/Python/comments/ebd3uz/how_to_control_your_raspberry_pi_from_anywhere_in/fb4bkti/",
           "Server admin has nothing to do with a bot, he can "
          ],
          [
           "BoaVersusPython",
           "/r/Python/comments/eb5qil/made_conways_game_of_life_using_tkinter/fb49jwo/",
           "I love the game of live. Teachers should always us"
          ],
          [
           "pAul2437",
           "/r/Python/comments/ebe72x/can_python_be_used_as_macros_across_different/fb49hpx/",
           "You want to use power query"
          ],
          [
           "Andalfe",
           "/r/Python/comments/ebe72x/can_python_be_used_as_macros_across_different/fb4asv4/",
           "I thought the groupby method gave you a pivot? I'm"
          ],
          [
           "DSC34",
           "/r/Python/comments/ebqfeh/day_1_python_learner_sos/fb6o92p/",
           "Try this:\n\nfull_name = ‘{} {}’.format(first_name, "
          ],
          [
           "TrappingRainWater",
           "/r/Python/comments/eb8oce/whats_the_best_way_to_check_grammar_in_python/fb6q5wr/",
           "I would absolutely loathe having you as a teacher "
          ],
          [
           "CBSmitty2010",
           "/r/Python/comments/ebjgvl/i_wrote_a_program_that_doodles_things_in_ms_paint/fb5yiww/",
           "What? Do you not know who Jackson Pollock is?"
          ],
          [
           "putnam78",
           "/r/Python/comments/ebmj0m/using_python_with_other_languages/fb5z4je/",
           "well the gig descriptions are very short:\n\nI need "
          ],
          [
           "doarigozi",
           "/r/Python/comments/ebjgvl/i_wrote_a_program_that_doodles_things_in_ms_paint/fb606ht/",
           "I believe they are referring to the slur for Polis"
          ],
          [
           "covabishop",
           "/r/Python/comments/ebjgvl/i_wrote_a_program_that_doodles_things_in_ms_paint/fb5z9vb/",
           "I thought about that too but pycasso just rolls of"
          ],
          [
           "nielsrolf",
           "/r/Python/comments/eblyxu/what_can_be_a_reason_that_python_imports_behave/fb7c8pg/",
           "We all use virtual environments and we all use the"
          ],
          [
           "atquick",
           "/r/Python/comments/ebsgnv/ultra_simple_morse_code_translator/fb7e10w/",
           "Seems ok. I'd recommend you reformat the dictionar"
          ],
          [
           "SegaMegaPi",
           "/r/Python/comments/ebnfsj/simple_hangman_game/fb7csi5/",
           "You posted 12 hours ago and you have already compl"
          ],
          [
           "Cyb0rgBrain",
           "/r/Python/comments/ebnfsj/simple_hangman_game/fb7dlj2/",
           "Sure man ;)"
          ],
          [
           "SnipTheDog",
           "/r/Python/comments/ebjgvl/i_wrote_a_program_that_doodles_things_in_ms_paint/fb63y8c/",
           " print('Epstein Didn\\\\'t Kill Himself')"
          ],
          [
           "yodatrust",
           "/r/Python/comments/eblyxu/what_can_be_a_reason_that_python_imports_behave/fb61v2g/",
           "Write a script where you handle both ways with an "
          ],
          [
           "evilMTV",
           "/r/Python/comments/ebjgvl/i_wrote_a_program_that_doodles_things_in_ms_paint/fb7frb6/",
           "It was manually done then though."
          ],
          [
           "rakint",
           "/r/Python/comments/ebjgvl/i_wrote_a_program_that_doodles_things_in_ms_paint/fb7fwzj/",
           "Jackson Pollack would be proud"
          ],
          [
           "beinginvisible24",
           "/r/Python/comments/ebjgvl/i_wrote_a_program_that_doodles_things_in_ms_paint/fb6qj3u/",
           "So you have used pyautogui ?"
          ],
          [
           "L1tFuse",
           "/r/Python/comments/ebjgvl/i_wrote_a_program_that_doodles_things_in_ms_paint/fb6s5hv/",
           "I'd love to have one of those on my wall"
          ],
          [
           "AMacGregor24",
           "/r/Python/comments/ebfoug/8_reasons_why_python_is_good_for_artificial/fb7giig/",
           "Honestly it seems like everything on that list cou"
          ],
          [
           "sendagicat",
           "/r/Python/comments/ebjgvl/i_wrote_a_program_that_doodles_things_in_ms_paint/fb7gs56/",
           "This is straight up my bedroom walls circa 1993."
          ],
          [
           "RemindMeBot",
           "/r/Python/comments/ebjgvl/i_wrote_a_program_that_doodles_things_in_ms_paint/fb5eiu4/",
           "I will be messaging you in 1 hour on [**2019-12-16"
          ],
          [
           "RPGNUB",
           "/r/Python/comments/ebhjoa/is_it_an_antenna_is_it_a_parking_lot_its_another/fb5fpb0/",
           "How did you make this beautiful code please tell m"
          ],
          [
           "Chicken-of-Wisdom",
           "/r/Python/comments/ebjgvl/i_wrote_a_program_that_doodles_things_in_ms_paint/fb5eftx/",
           "!remindme 1 hour"
          ],
          [
           "mtrajk93",
           "/r/Python/comments/ebf7rc/github_mtrajkcodingproblems_python_solutions_for/fb5dlr2/",
           "Hahaha thanks. I forgot that reddit shows the GitH"
          ],
          [
           "ireadyourmedrecord",
           "/r/Python/comments/ebkeyr/new_to_python_but_need_a_method_or_example_of/fb5h394/",
           "https://pandas.pydata.org/pandas-docs/stable/refer"
          ],
          [
           "Setsuna666",
           "/r/Python/comments/ebkm5x/learning_python_is_boring_me_i_learn_from/fb5irvu/",
           "Same for me, and the best way I've learned Python,"
          ],
          [
           "vaginale_penetratie",
           "/r/Python/comments/ebjgvl/i_wrote_a_program_that_doodles_things_in_ms_paint/fb5ijc1/",
           "Can i get the code? O have Some creative ideas."
          ],
          [
           "mattaccount",
           "/r/Python/comments/ebl24m/sorry_to_be_dumb_but_how_do_you_install_python_36/fb5mevp/",
           "Use pyenv to manage multiple python versions witho"
          ],
          [
           "rhelwatkar",
           "/r/Python/comments/ebdtk8/trying_to_create_csv_file_directly_in_s3_and/fb6d2rd/",
           "I am using this code in lambda can i store the fil"
          ],
          [
           "AirHamyes",
           "/r/Python/comments/ebjgvl/i_wrote_a_program_that_doodles_things_in_ms_paint/fb5qfl8/",
           "Here's the sauce code\n\n [https://pastebin.com/98EW"
          ],
          [
           "YellowSharkMT",
           "/r/Python/comments/ebl24m/sorry_to_be_dumb_but_how_do_you_install_python_36/fb5o24i/",
           "Ahhh sweet - I'd seen pyenv mentioned in the past,"
          ],
          [
           "RemindMeBot",
           "/r/Python/comments/ebjgvl/i_wrote_a_program_that_doodles_things_in_ms_paint/fb5pw59/",
           "I will be messaging you in 2 hours on [**2019-12-1"
          ],
          [
           "wobuxihuanbaichi",
           "/r/Python/comments/ebjgvl/i_wrote_a_program_that_doodles_things_in_ms_paint/fb5pl5d/",
           "Not enough bananas"
          ],
          [
           "AirHamyes",
           "/r/Python/comments/ebjgvl/i_wrote_a_program_that_doodles_things_in_ms_paint/fb5qekd/",
           "Here ya go. If you wanna add more colors, just add"
          ],
          [
           "PrimaCora",
           "/r/Python/comments/ebjgvl/i_wrote_a_program_that_doodles_things_in_ms_paint/fb6hcuh/",
           "Not really. It doesn't refer to anything imaginabl"
          ],
          [
           "arkteris13",
           "/r/Python/comments/ebpixv/why_is_my_program_only_printing_the_last_letter/fb6idh9/",
           "You never assigned it to a variable"
          ],
          [
           "realAnalysis6",
           "/r/Python/comments/e5hms3/whats_everyone_working_on_this_week/fb6isff/",
           "If you're up for it, maybe start betting on games?"
          ],
          [
           "CBSmitty2010",
           "/r/Python/comments/ebjgvl/i_wrote_a_program_that_doodles_things_in_ms_paint/fb5xmrk/",
           "I feel like pyollock makes more sense here."
          ],
          [
           "MainRotorGearbox",
           "/r/Python/comments/ebjgvl/i_wrote_a_program_that_doodles_things_in_ms_paint/fb5xytx/",
           "I’m pretty sure that is a racial slur"
          ],
          [
           "nielsrolf",
           "/r/Python/comments/eblyxu/what_can_be_a_reason_that_python_imports_behave/fb5vkso/",
           "It's just a `ModuleNotFound`:\n\n   \n```\n(base)  \\~ "
          ],
          [
           "pythonapster",
           "/r/Python/comments/ebf7rc/github_mtrajkcodingproblems_python_solutions_for/fb6n5zu/",
           "There is a better Pythonic way if doing this.\n\n\n  "
          ],
          [
           "AlSweigart",
           "/r/Python/comments/ebjgvl/i_wrote_a_program_that_doodles_things_in_ms_paint/fb6lrbm/",
           "Pfft. My bot could paint that."
          ],
          [
           "AlSweigart",
           "/r/Python/comments/ebjgvl/i_wrote_a_program_that_doodles_things_in_ms_paint/fb6mj9w/",
           ":D"
          ],
          [
           "Turbulent_Exchange",
           "/r/Python/comments/ec0yni/i_code_a_multiple_sudoku_grids_solver_in_python/fb8nfgz/",
           "Really solid job - nice work mate!"
          ],
          [
           "user3691",
           "/r/Python/comments/ebylo8/advanced_python_book_with_cool_science_excersizes/fb8322n/",
           "Thank you! Fluent python is something I’ve looked "
          ],
          [
           "KimPeek",
           "/r/Python/comments/ec00bn/basic_code_reader/fb89fm6/",
           "    print(\"File reader by stimpy\")\n    while 3 &gt"
          ],
          [
           "Forschkeeper",
           "/r/Python/comments/ebytlq/interesting_project/fb8c2f5/",
           "\"Show me what you gooooooot.\" - This big Head from"
          ],
          [
           "JdC_1999",
           "/r/Python/comments/ec0d46/learning_python_and_couldnt_think_of_a_good/fb8q9r9/",
           "Didn’t Michael Reeves do that? A cursing Elmo"
          ],
          [
           "m-hoff",
           "/r/Python/comments/ebw95t/whats_everyone_working_on_this_week/fb87j1x/",
           "I'm using SimPy to create a discrete event simulat"
          ],
          [
           "vaginale_penetratie",
           "/r/Python/comments/ebjgvl/i_wrote_a_program_that_doodles_things_in_ms_paint/fb87l0q/",
           "You should use hasteb.in. It’sthe same as pastebin"
          ],
          [
           "HazeCpt",
           "/r/Python/comments/ec0d46/learning_python_and_couldnt_think_of_a_good/fb8pvqh/",
           "Everything needs a start!"
          ],
          [
           "travellingsalesman2",
           "/r/Python/comments/ebh41z/how_to_save_christmas_with_the_travelling/fb64h83/",
           "Thank you very much! You are completely right. 342"
          ],
          [
           "Forschkeeper",
           "/r/Python/comments/ec0j6z/quick_mods_are_asleep_upvote_pics_of_python/fb8jx2e/",
           "8) nice"
          ],
          [
           "Daharka",
           "/r/Python/comments/ec0d46/learning_python_and_couldnt_think_of_a_good/fb8jr1i/",
           "Your mom is so far \"Mein kampf\" was originally her"
          ],
          [
           "dragonddragondragon",
           "/r/Python/comments/ebtnxv/no_such_file_or_directory_ls/fb7i7ui/",
           "Not a Python problem. Contact your server hosting "
          ],
          [
           "zpwd",
           "/r/Python/comments/ebsg40/professional_python_coding/fb7jiof/",
           "Science."
          ],
          [
           "fuypooi",
           "/r/Python/comments/ebw76t/python_as_a_back_end_language_for_a_wep_app/fb7jia3/",
           "Check out Django or Flask. There are lots of posts"
          ],
          [
           "YellowSharkMT",
           "/r/Python/comments/ebl24m/sorry_to_be_dumb_but_how_do_you_install_python_36/fb7jyss/",
           "I'm pretty sure - I've got some deprecation warnin"
          ],
          [
           "theAFguy200",
           "/r/Python/comments/ebsg40/professional_python_coding/fb7juca/",
           "Literally every service we have is an api with Jso"
          ],
          [
           "maxcoder88",
           "/r/Python/comments/e5hms3/whats_everyone_working_on_this_week/fb6uuph/",
           "Care to share your script? thanks"
          ],
          [
           "billsil",
           "/r/Python/comments/ea0ay2/python_pickles_should_you_include_raw_data_in/fb6w31t/",
           "Hdf5.  It can be easily viewed and transferred.  I"
          ],
          [
           "TheReverend403",
           "/r/Python/comments/ebjgvl/i_wrote_a_program_that_doodles_things_in_ms_paint/fb6xadn/",
           "Who do you think?"
          ],
          [
           "wazor911",
           "/r/Python/comments/ebpxeg/any_flask_developer_with_passion_for_football_here/fb6xyvd/",
           "I'm interested. I'm no expert but I have experienc"
          ],
          [
           "pythonHelperBot",
           "/r/Python/comments/ebqfeh/day_1_python_learner_sos/fb6xirx/",
           "Hello! I'm a bot!\n\nIt looks to me like your post m"
          ],
          [
           "Old_Winterton",
           "/r/Python/comments/eb1fb5/writing_to_a_csv/fb7na7s/",
           "I feel irrationally defensive.\n\nIt is a good thing"
          ],
          [
           "21KOGHQqBpwFReIeSYlF",
           "/r/Python/comments/e9stnp/back_end_and_data_structures_algorithms_need_an/fb7mdom/",
           "&gt;if u have a discord\n\nI don't, I just lurk here"
          ],
          [
           "gods_programmer",
           "/r/Python/comments/ebww8n/looking_for_a_mentor/fb7pu8k/",
           "Yes, obtaining a degree is on my list too, but fir"
          ],
          [
           "mfitzp",
           "/r/Python/comments/ebl24m/sorry_to_be_dumb_but_how_do_you_install_python_36/fb6zvq0/",
           "Are you sure it doesn't work with 3.7?\n\nI can't th"
          ],
          [
           "Wimachtendink",
           "/r/Python/comments/ebjgvl/i_wrote_a_program_that_doodles_things_in_ms_paint/fb6zvic/",
           "It would be cool to see progressively smaller brus"
          ],
          [
           "pythonHelperBot",
           "/r/Python/comments/ebnzoa/can_you_assign_variables_in_a_lambda/fb6z6yh/",
           "Hello! I'm a bot!\n\nIt looks to me like your post m"
          ],
          [
           "Gawd_is_great",
           "/r/Python/comments/eazg05/made_my_first_fractal/fb704qf/",
           "Yeah i appreciate it. The reason those dels exist "
          ],
          [
           "mtrajk93",
           "/r/Python/comments/ebf7rc/github_mtrajkcodingproblems_python_solutions_for/fb6zv00/",
           "I wasn't preparing for some interview, this is my "
          ],
          [
           "gods_programmer",
           "/r/Python/comments/ebww8n/looking_for_a_mentor/fb7s7nk/",
           "I do have a good references already. I was once hi"
          ],
          [
           "ManBearHybrid",
           "/r/Python/comments/ebww8n/looking_for_a_mentor/fb7s0cx/",
           "I agree with the other guy. Try for an internship."
          ],
          [
           "Kuttz_",
           "/r/Python/comments/ebjgvl/i_wrote_a_program_that_doodles_things_in_ms_paint/fb7qt0m/",
           "what's that?"
          ],
          [
           "mtrajk93",
           "/r/Python/comments/ebf7rc/github_mtrajkcodingproblems_python_solutions_for/fb749f4/",
           "Yes, that's written in my Python solutions, becaus"
          ],
          [
           "pythonHelperBot",
           "/r/Python/comments/ebt8q5/my_code_keeps_giving_me_this_error_please_help_me/fb73hhf/",
           "Hello! I'm a bot!\n\nIt looks to me like your post m"
          ],
          [
           "aes110",
           "/r/Python/comments/ebl24m/sorry_to_be_dumb_but_how_do_you_install_python_36/fb73an2/",
           "Installing from source is very easy and honestly, "
          ],
          [
           "matsschneider",
           "/r/Python/comments/ebjgvl/i_wrote_a_program_that_doodles_things_in_ms_paint/fb74stg/",
           "Looks extremely nice! Imagine doing this in real l"
          ],
          [
           "LiftBodyUpThenDown",
           "/r/Python/comments/ebjgvl/i_wrote_a_program_that_doodles_things_in_ms_paint/fb7352j/",
           "Freaking 217 lines of code what?\n\nIs that appropri"
          ],
          [
           "mtrajk93",
           "/r/Python/comments/ebf7rc/github_mtrajkcodingproblems_python_solutions_for/fb74c30/",
           "Great, I'll take a look. Thanks."
          ],
          [
           "cglacet",
           "/r/Python/comments/ebf7rc/github_mtrajkcodingproblems_python_solutions_for/fb72ywo/",
           "If you want to learn new programming languages I w"
          ],
          [
           "K900_",
           "/r/Python/comments/ebtnxv/no_such_file_or_directory_ls/fb75o1l/",
           "1. /r/learnpython \n2. You're probably on Windows."
          ],
          [
           "JayJayPeeko",
           "/r/Python/comments/ebnfsj/simple_hangman_game/fb7wqdw/",
           "Ez"
          ],
          [
           "icbint",
           "/r/Python/comments/ebjgvl/i_wrote_a_program_that_doodles_things_in_ms_paint/fb77mcd/",
           "OP posted the source, so you could do that yoursel"
          ],
          [
           "vEnoM_420",
           "/r/Python/comments/ebjgvl/i_wrote_a_program_that_doodles_things_in_ms_paint/fb78mvt/",
           "Starting bid, $50."
          ],
          [
           "justingolden21",
           "/r/Python/comments/ebjgvl/i_wrote_a_program_that_doodles_things_in_ms_paint/fb78s6y/",
           "Awesome project.\n\nJust a heads up on lines 47/48 i"
          ],
          [
           "covabishop",
           "/r/Python/comments/ebjgvl/i_wrote_a_program_that_doodles_things_in_ms_paint/fb6u4eu/",
           "Whatup Leli who we bullying"
          ],
          [
           "nupil",
           "/r/Python/comments/ebyydg/please_help_new_and_confused/fb84te2/",
           "Did exactly what I neede thank you"
          ],
          [
           "vidazinho",
           "/r/Python/comments/ebsgnv/ultra_simple_morse_code_translator/fb7xob6/",
           "Thanks, that's good advice. I'll make new lines in"
          ],
          [
           "dleft",
           "/r/Python/comments/ebwk8h/python_and_data_science_for_aws/fb7xn05/",
           "It really depends on what you want to do. I know t"
          ],
          [
           "HulkDNA",
           "/r/Python/comments/ebjgvl/i_wrote_a_program_that_doodles_things_in_ms_paint/fb7ykbs/",
           "Looks like a Piccaso algorithm 😊"
          ],
          [
           "zyabxwcd",
           "/r/Python/comments/ebjgvl/i_wrote_a_program_that_doodles_things_in_ms_paint/fb7z53i/",
           "Thats Modern Art. You should actually try to sell "
          ],
          [
           "FukMyHoles",
           "/r/Python/comments/ec0d46/learning_python_and_couldnt_think_of_a_good/fb8b8os/",
           "Made with the click module and google for the insu"
          ],
          [
           "NeoM02",
           "/r/Python/comments/ec0d46/learning_python_and_couldnt_think_of_a_good/fb8banj/",
           "Dude please post this on github, that's amazing! I"
          ],
          [
           "naught-me",
           "/r/Python/comments/ebu5mi/the_little_book_of_python_antipatterns_python/fb88u90/",
           "\\^f = ctrl+f"
          ],
          [
           "ProfessionalTune0",
           "/r/Python/comments/ebytlq/interesting_project/fb88x6q/",
           "Maybe a GraphQL Parser which automatically creates"
          ],
          [
           "CowboyBoats",
           "/r/Python/comments/ec0a67/builtin_function_or_method_object_has_no_attribute/fb8d1j5/",
           "Nothing is assigned to the variable `sum`. Well, a"
          ],
          [
           "vashy96",
           "/r/Python/comments/ec0d46/learning_python_and_couldnt_think_of_a_good/fb8ccjp/",
           "Now add a command line parameter to tells the prog"
          ],
          [
           "FukMyHoles",
           "/r/Python/comments/ec0d46/learning_python_and_couldnt_think_of_a_good/fb8cp5f/",
           "Good idea, I'll add it when I get back to my PC la"
          ],
          [
           "GummyKibble",
           "/r/Python/comments/ebu5mi/the_little_book_of_python_antipatterns_python/fb8b1fj/",
           "And in their example of “if a file exists, then de"
          ],
          [
           "AutoModerator",
           "/r/Python/comments/ec0m9f/pascals_triangle/fb8csaf/",
           "Your submission has been automatically removed.\n\nY"
          ],
          [
           "CodeSkunky",
           "/r/Python/comments/ebu5mi/the_little_book_of_python_antipatterns_python/fb8b395/",
           "I'm assuming you're binding controls?\n\ncontrol sho"
          ],
          [
           "TKTubro",
           "/r/Python/comments/ec39zq/run_python_code_in_browser/fb90mn9/",
           "Depends on what you want to use.\n\nFor requests, th"
          ],
          [
           "forrealbro",
           "/r/Python/comments/ebw95t/whats_everyone_working_on_this_week/fb8y4s6/",
           "This seems like a pretty neat idea? Any thoughts o"
          ],
          [
           "phenderbender",
           "/r/Python/comments/ec0d46/learning_python_and_couldnt_think_of_a_good/fb8wybq/",
           "How to not have to type python or .py file name to"
          ],
          [
           "Scn64",
           "/r/Python/comments/ec0d46/learning_python_and_couldnt_think_of_a_good/fb8x848/",
           "This is the end for you, you gutter crawling cur!"
          ],
          [
           "Michael12390",
           "/r/Python/comments/ec39zq/run_python_code_in_browser/fb903os/",
           "Thanks. I never thought of using an API. Do you ha"
          ],
          [
           "akp55",
           "/r/Python/comments/ebww8n/looking_for_a_mentor/fb8gcmu/",
           "you \\*do\\* realize that someone might still choose"
          ],
          [
           "wdroz",
           "/r/Python/comments/ec0d46/learning_python_and_couldnt_think_of_a_good/fb8giip/",
           "Now use deep learning to generate them"
          ],
          [
           "VeinyAngus",
           "/r/Python/comments/ebw95t/whats_everyone_working_on_this_week/fb91vc4/",
           "Actually yeah. That was a thought I had, I was hop"
          ],
          [
           "marutiyog108",
           "/r/Python/comments/ec0d46/learning_python_and_couldnt_think_of_a_good/fb963e9/",
           "I just discovered him last night....gold mine 😂😂😂"
          ],
          [
           "gagarin_kid",
           "/r/Python/comments/ec0d46/learning_python_and_couldnt_think_of_a_good/fb8hw9r/",
           "A telegram bot which sends you those beautiful com"
          ],
          [
           "jfthundertanks",
           "/r/Python/comments/ec00bn/basic_code_reader/fb8knfv/",
           "*cat?"
          ],
          [
           "911OpenUp",
           "/r/Python/comments/ec0j6z/quick_mods_are_asleep_upvote_pics_of_python/fb8jd8q/",
           "Aaahhhhh... Flared as **TECH**"
          ],
          [
           "trololologram",
           "/r/Python/comments/ec5cn7/first_thingy_made_in_python_but_why_did_my_first/fb98t49/",
           "It’s the “else” tabulation I think, the first one "
          ],
          [
           "langarus",
           "/r/Python/comments/ebu5rc/my_friend_made_a_fullyfunctioning_tetris_clone/fb79ry5/",
           "cool a screenshot would be great"
          ],
          [
           "neozhaoliang",
           "/r/Python/comments/ebst39/i_saw_people_post_animations_on_fractals_mazes/fb7bm67/",
           "This is a spanning tree generation algorithm calle"
          ],
          [
           "icbint",
           "/r/Python/comments/ebjgvl/i_wrote_a_program_that_doodles_things_in_ms_paint/fb7bokw/",
           "learn\n\nthis is a pretty simple program"
          ],
          [
           "AutoModerator",
           "/r/Python/comments/ebyra7/pascals_triangle/fb80ecn/",
           "Your submission has been automatically removed.\n\nY"
          ],
          [
           "TheReverend403",
           "/r/Python/comments/ebjgvl/i_wrote_a_program_that_doodles_things_in_ms_paint/fb816m7/",
           "nai."
          ],
          [
           "saskatch-a-toon",
           "/r/Python/comments/ebw95t/whats_everyone_working_on_this_week/fb7zza3/",
           "Working on a bioinformatics pipeline for GBS data."
          ],
          [
           "Sir_not_sir",
           "/r/Python/comments/ec5srx/pygame_help/fb9b2q0/",
           "/r/learnpython"
          ],
          [
           "Reeee93616",
           "/r/Python/comments/ec5x5h/can_i_get_some_help_with_python/fb9bo87/",
           "For clarification, the prompt should start out wit"
          ],
          [
           "Reeee93616",
           "/r/Python/comments/ec5x5h/can_i_get_some_help_with_python/fb9bync/",
           "Didn't know the sub existed, thank you"
          ],
          [
           "_irome_",
           "/r/Python/comments/ec6opk/so_i_wrote_this_script_a_ago_year_but_today_i/fb9gt06/",
           "How about sharing the code?? So we can spam our fr"
          ],
          [
           "segaboy81",
           "/r/Python/comments/ec0d46/learning_python_and_couldnt_think_of_a_good/fb9i4zg/",
           "You expect me to believe you’re using KDE3 or Trin"
          ],
          [
           "iBlag",
           "/r/Python/comments/ebu5mi/the_little_book_of_python_antipatterns_python/fb8tjwn/",
           "&gt; It’s better is why.\n\nSubjective at best. Just"
          ],
          [
           "hsss_python",
           "/r/Python/comments/ec0d46/learning_python_and_couldnt_think_of_a_good/fb8uscc/",
           "Speaking of approve, I’d love to tie this in to ge"
          ],
          [
           "pythonHelperBot",
           "/r/Python/comments/ec30tj/request_issue_with_python_375/fb8tc0p/",
           "Hello! I'm a bot!\n\nIt looks to me like your post m"
          ],
          [
           "isoblvck",
           "/r/Python/comments/ec0d46/learning_python_and_couldnt_think_of_a_good/fb8sby9/",
           "Totally there are multiple to ways to do things. T"
          ],
          [
           "FukMyHoles",
           "/r/Python/comments/ec0d46/learning_python_and_couldnt_think_of_a_good/fb9mdgw/",
           "Trinity"
          ],
          [
           "angry_mr_potato_head",
           "/r/Python/comments/ec6zit/pythonista_ipad_help/fb9mzc7/",
           "Mac already has Python installed on the system, bu"
          ],
          [
           "ParxyB",
           "/r/Python/comments/ec0d46/learning_python_and_couldnt_think_of_a_good/fb9mzku/",
           "Like I commented before..all you gotta do is build"
          ],
          [
           "abrasivecatnames",
           "/r/Python/comments/ec5osq/how_can_i_run_an_excel_addin_vba_macro_on_a/fb9llqt/",
           "I do already have it as a button in a custom tab. "
          ],
          [
           "mraza007",
           "/r/Python/comments/ec6opk/so_i_wrote_this_script_a_ago_year_but_today_i/fb9oawb/",
           "I tried this on my friend and everytime he receive"
          ],
          [
           "ADeepCeruleanBlue",
           "/r/Python/comments/ec0d46/learning_python_and_couldnt_think_of_a_good/fb9qrl7/",
           "ouchwitz"
          ],
          [
           "lucifer_acno",
           "/r/Python/comments/ebpxeg/any_flask_developer_with_passion_for_football_here/fb9q09k/",
           "Dm is fine👍"
          ],
          [
           "logicallyzany",
           "/r/Python/comments/ec6opk/so_i_wrote_this_script_a_ago_year_but_today_i/fb9r5wq/",
           "I’m pretty sure this is illegal lol"
          ],
          [
           "BrettFavreFlavored",
           "/r/Python/comments/ec6opk/so_i_wrote_this_script_a_ago_year_but_today_i/fb9rb0l/",
           "Plus you don't want to get banned on the API you'r"
          ],
          [
           "GrowCanadian",
           "/r/Python/comments/ec6opk/so_i_wrote_this_script_a_ago_year_but_today_i/fb9qcbn/",
           "Interesting. I was recently thinking about making "
          ],
          [
           "Xormak",
           "/r/Python/comments/ec3c4j/classes_and_were_to_use_them/fb9vugz/",
           "Because a class and this instance of a class can c"
          ],
          [
           "jimmythenewsmith",
           "/r/Python/comments/ec91s7/lost_and_afraid/fb9x9ed/",
           "Just do this , its probably one of the best starts"
          ],
          [
           "PingouinFarfelu",
           "/r/Python/comments/ec0yni/i_code_a_multiple_sudoku_grids_solver_in_python/fb9xrfm/",
           "For this GIF, yes, I did. The process is a too hea"
          ],
          [
           "logicallyzany",
           "/r/Python/comments/ec6opk/so_i_wrote_this_script_a_ago_year_but_today_i/fb9yfh0/",
           "Didn’t claim it wasn’t"
          ],
          [
           "BurgaGalti",
           "/r/Python/comments/ebu5mi/the_little_book_of_python_antipatterns_python/fb9y6no/",
           "The use of defaultdict in correctness gets me. Yes"
          ],
          [
           "ParxyB",
           "/r/Python/comments/ec0d46/learning_python_and_couldnt_think_of_a_good/fb9x5zp/",
           "Yeah I am a React developer lol I haven’t used pyt"
          ],
          [
           "AutoModerator",
           "/r/Python/comments/ec9f3a/rudimentary_self_driving_car_project_github/fb9xlxb/",
           "Your submission has been automatically removed.\n\nY"
          ],
          [
           "AdamBF",
           "/r/Python/comments/ec0yni/i_code_a_multiple_sudoku_grids_solver_in_python/fb8lcqt/",
           "This is awesome!"
          ],
          [
           "RedSane",
           "/r/Python/comments/ec0d46/learning_python_and_couldnt_think_of_a_good/fb8m2gp/",
           "Well I can dig that. I approve it, even though my "
          ],
          [
           "KimPeek",
           "/r/Python/comments/ec00bn/basic_code_reader/fb8kygo/",
           "derp... Yes, I meant cat."
          ],
          [
           "theAnalyst6",
           "/r/Python/comments/ec0d46/learning_python_and_couldnt_think_of_a_good/fb8lyoa/",
           "It would be hilarious if this was a public REST AP"
          ],
          [
           "FlaskBreaker",
           "/r/Python/comments/ec0yni/i_code_a_multiple_sudoku_grids_solver_in_python/fb8mxmd/",
           "You are right. Also, it would be easier to underst"
          ],
          [
           "champs",
           "/r/Python/comments/ebu5mi/the_little_book_of_python_antipatterns_python/fb8ktkm/",
           "If it's Python, I write to PEP8 despite disagreein"
          ],
          [
           "FlaskBreaker",
           "/r/Python/comments/ec0yni/i_code_a_multiple_sudoku_grids_solver_in_python/fb8lo9u/",
           "I think he only used neural networks for digit rec"
          ],
          [
           "IguanodonRex",
           "/r/Python/comments/ec0d46/learning_python_and_couldnt_think_of_a_good/fb9zmhd/",
           "Add option to insult it back and get response.\n\nAn"
          ],
          [
           "DidYouSeeItHappen",
           "/r/Python/comments/ec0d46/learning_python_and_couldnt_think_of_a_good/fb9e8gp/",
           "That'll come back to haunt you if you use Python f"
          ],
          [
           "AutoModerator",
           "/r/Python/comments/ec6f1k/function_not_defined_error_even_when_it_is/fb9ewwb/",
           "Your submission has been automatically removed.\n\nY"
          ],
          [
           "Vivalyrian",
           "/r/Python/comments/ec0d46/learning_python_and_couldnt_think_of_a_good/fb9g89x/",
           "I should introduce you to my ex."
          ],
          [
           "Denrur",
           "/r/Python/comments/ecanxc/what_is_a_good_library_to_connect_sql_to_python/fba488m/",
           "Sqlalchemy"
          ],
          [
           "dragonddragondragon",
           "/r/Python/comments/ebsgnv/ultra_simple_morse_code_translator/fba51xq/",
           "Just a use a tool to reformat all your code - you "
          ],
          [
           "Astrokiwi",
           "/r/Python/comments/ec0d46/learning_python_and_couldnt_think_of_a_good/fba5cxx/",
           "Or on a Mac, just `say`."
          ],
          [
           "Rawing7",
           "/r/Python/comments/ec0a67/builtin_function_or_method_object_has_no_attribute/fba8mwb/",
           "Probably, but that doesn't change the fact that th"
          ],
          [
           "kberson",
           "/r/Python/comments/ebjp0s/issue_with_regular_expression_wont_find_digit/fb5bzmx/",
           "What are you trying to test, that your string is a"
          ],
          [
           "dugindeep",
           "/r/Python/comments/ebjgvl/i_wrote_a_program_that_doodles_things_in_ms_paint/fb59kfk/",
           "Code please? Is it open source?"
          ],
          [
           "AlgorithmPub",
           "/r/Python/comments/ebfqtm/how_much_systemhardware_information_do_you_guys/fb57edl/",
           "Thanks for you answer u/KopfKrieg. As I explained "
          ],
          [
           "Chicken-of-Wisdom",
           "/r/Python/comments/ebjgvl/i_wrote_a_program_that_doodles_things_in_ms_paint/fb5edy3/",
           "That's so cool! Imagine the unlimited amount of wa"
          ],
          [
           "CMphys",
           "/r/Python/comments/ebjt38/hey_everyone/fb5e2ip/",
           "I think the problem is that the way it is written,"
          ],
          [
           "kberson",
           "/r/Python/comments/ebjp0s/issue_with_regular_expression_wont_find_digit/fb5fgjf/",
           "You’re right, it isn’t a Boolean function. Also, i"
          ],
          [
           "davidwolf995",
           "/r/Python/comments/ebjgvl/i_wrote_a_program_that_doodles_things_in_ms_paint/fb5c5ft/",
           "That is cool"
          ],
          [
           "LirianSh",
           "/r/Python/comments/e5hms3/whats_everyone_working_on_this_week/fb5evov/",
           "For me my soef im learning it from youtube tutoria"
          ],
          [
           "stephan42_42",
           "/r/Python/comments/ebh0gt/how_to_detect_dominant_color_in_masked_image/fb5i139/",
           "Thanks!"
          ],
          [
           "rcfox",
           "/r/Python/comments/ebkm5x/learning_python_is_boring_me_i_learn_from/fb5lwe7/",
           "Write a game! When I was first learning, I made a "
          ],
          [
           "CookieGuyOof",
           "/r/Python/comments/ebjt38/hey_everyone/fb5j6en/",
           "to be honest im not entirely sure how to implement"
          ],
          [
           "Sedaji",
           "/r/Python/comments/ebjgvl/i_wrote_a_program_that_doodles_things_in_ms_paint/fb5jmry/",
           "does it make the same amount of strokes before cha"
          ],
          [
           "YellowSharkMT",
           "/r/Python/comments/ebl24m/sorry_to_be_dumb_but_how_do_you_install_python_36/fb5pszz/",
           "Yeah the venv thing is a given, my issue is specif"
          ],
          [
           "AirHamyes",
           "/r/Python/comments/ebjgvl/i_wrote_a_program_that_doodles_things_in_ms_paint/fb5qm7y/",
           "nope. \n\n`changeColWeight =` [`random.randint`](htt"
          ],
          [
           "TheSlowestCheetah",
           "/r/Python/comments/eazg05/made_my_first_fractal/fb5pq0u/",
           "\n    Traceback (most recent call last):\n       Fil"
          ],
          [
           "AirHamyes",
           "/r/Python/comments/ebjgvl/i_wrote_a_program_that_doodles_things_in_ms_paint/fb5r38p/",
           "No need, Lou Reed\nhttps://pastebin.com/98EWgWyq"
          ],
          [
           "the_lone_raccoon",
           "/r/Python/comments/ebkm5x/learning_python_is_boring_me_i_learn_from/fb5r5cn/",
           "same problem..."
          ],
          [
           "69shaolin69",
           "/r/Python/comments/ebjgvl/i_wrote_a_program_that_doodles_things_in_ms_paint/fb5u4n6/",
           "PYautogui?"
          ],
          [
           "stephan42_42",
           "/r/Python/comments/ebh0gt/how_to_detect_dominant_color_in_masked_image/fb5xb6w/",
           "Found interesting related article @ https://buzzro"
          ],
          [
           "vriemeister",
           "/r/Python/comments/ebjgvl/i_wrote_a_program_that_doodles_things_in_ms_paint/fb5vs3p/",
           "Here you go\n\n [https://rogerjohansson.blog/2008/12"
          ],
          [
           "pythonHelperBot",
           "/r/Python/comments/ebkm5x/learning_python_is_boring_me_i_learn_from/fb5w1ut/",
           "Hello! I'm a bot!\n\nIt looks to me like your post m"
          ],
          [
           "Dr_Downvote_",
           "/r/Python/comments/ebjgvl/i_wrote_a_program_that_doodles_things_in_ms_paint/fb5z0oh/",
           "I agree Pyollock is the one  :-D"
          ],
          [
           "AlgorithmPub",
           "/r/Python/comments/ebfqtm/how_much_systemhardware_information_do_you_guys/fb55rwx/",
           "Thanks a lot for your reply u/baghiq . Appreciate "
          ],
          [
           "Zenith_N",
           "/r/Python/comments/eb58bb/installed_anaconda_onto_windows_10_via_the_wsl/fb42js4/",
           "&gt; xming \n\ngoing to try it now, \n1- after instal"
          ],
          [
           "mssxtn",
           "/r/Python/comments/ebiuft/how_should_i_get_started_with_open_source/fb7msbf/",
           "Sure. Can't promise quick responses though."
          ],
          [
           "JetpackYoshi",
           "/r/Python/comments/e9t23t/announcing_poetry_100/fb7nu7j/",
           "Hey, first time learning about this. What are the "
          ],
          [
           "Wirukasu",
           "/r/Python/comments/ebxfls/question_regarding_class_int_is_not_json/fb7tp89/",
           "Hmm.  I have 3.4.5 and yum isn't letting me update"
          ],
          [
           "UnorthodoxBox101",
           "/r/Python/comments/ebjgvl/i_wrote_a_program_that_doodles_things_in_ms_paint/fb7sxgo/",
           "I swear I've seen that are on a doctor's office wa"
          ],
          [
           "moonlandings",
           "/r/Python/comments/ebvpn0/round_to_only_2_decimals/fb7quf3/",
           "My mistake then. I thought it did."
          ],
          [
           "mfitzp",
           "/r/Python/comments/ebl24m/sorry_to_be_dumb_but_how_do_you_install_python_36/fb7tuiq/",
           "Depreciation warnings should be just warnings (and"
          ],
          [
           "AirHamyes",
           "/r/Python/comments/ebjgvl/i_wrote_a_program_that_doodles_things_in_ms_paint/fb7t2tc/",
           "Oh yea she real unoptimized. I slapped that calibr"
          ],
          [
           "zpwd",
           "/r/Python/comments/ebxfls/question_regarding_class_int_is_not_json/fb7ti20/",
           "Works for me as well. It sounds like you shared a "
          ],
          [
           "Wirukasu",
           "/r/Python/comments/ebxfls/question_regarding_class_int_is_not_json/fb7tvjr/",
           "No I don't think so.  I have a print in my file th"
          ],
          [
           "ChaosT1tan",
           "/r/Python/comments/ebjgvl/i_wrote_a_program_that_doodles_things_in_ms_paint/fb7tlgk/",
           "What sucks is that if a famous artist made this it"
          ],
          [
           "agoose77",
           "/r/Python/comments/ebw39p/conda_is_fing_slow/fb7tqnq/",
           "For a faster solver, have you tried mamba? You can"
          ],
          [
           "Meefims",
           "/r/Python/comments/ebwk8h/python_and_data_science_for_aws/fb7ta29/",
           "Can you provide a concrete task you are trying to "
          ],
          [
           "CowboyBoats",
           "/r/Python/comments/ebxg4w/how_to_get_started_with_coding_python_on_a_chrome/fb7rvlu/",
           "This might be more of a complete change to the mac"
          ],
          [
           "pythonHelperBot",
           "/r/Python/comments/eby549/help_trouble_accessing_personal_banking_data_in/fb7w80u/",
           "Hello! I'm a bot!\n\nIt looks to me like your post m"
          ],
          [
           "makotomike",
           "/r/Python/comments/ebw76t/python_as_a_back_end_language_for_a_wep_app/fb81dlp/",
           "People will say Flask, Django.\n\n&amp;#x200B;\n\nGonn"
          ],
          [
           "DenseEntertainment",
           "/r/Python/comments/ebyydg/please_help_new_and_confused/fb81wok/",
           "Just type in \"bash\" to the terminal and the shell "
          ],
          [
           "CodeSkunky",
           "/r/Python/comments/ebu5mi/the_little_book_of_python_antipatterns_python/fb83x88/",
           "&gt;For throwaway variables, especially in tight l"
          ],
          [
           "KimPeek",
           "/r/Python/comments/ebz6pj/scanner_app_inventory_management_from_scratch/fb83i6d/",
           "https://developer.apple.com/swift/"
          ],
          [
           "123resu",
           "/r/Python/comments/ebyydg/please_help_new_and_confused/fb83jxp/",
           "macOS Catalina changed the default shell from bash"
          ],
          [
           "IVIURRAY",
           "/r/Python/comments/ebwk8h/python_and_data_science_for_aws/fb82p6k/",
           "Lambda for batch jobs\n\nDynamo for storing data\n\nS3"
          ],
          [
           "ReagentX",
           "/r/Python/comments/ebyydg/please_help_new_and_confused/fb82pb7/",
           "This doesn’t make any sense, `zsh` is just the she"
          ],
          [
           "ItsMeKaie",
           "/r/Python/comments/e3rj5r/urgent_help_unknown_error_in_my_programming/fb81v1k/",
           "Told my science teacher I was making one and she w"
          ],
          [
           "gbtimmon",
           "/r/Python/comments/ebu5mi/the_little_book_of_python_antipatterns_python/fb7yamw/",
           "I'm a little annoyed that they are sometimes calli"
          ],
          [
           "dragonddragondragon",
           "/r/Python/comments/ebsgnv/ultra_simple_morse_code_translator/fb7za0p/",
           "One if your for loops can be removed. Loop the inp"
          ],
          [
           "pi_sqaure",
           "/r/Python/comments/ebjgvl/i_wrote_a_program_that_doodles_things_in_ms_paint/fb7y58b/",
           "Kandinsky on steroids!"
          ],
          [
           "123resu",
           "/r/Python/comments/ebyydg/please_help_new_and_confused/fb84ilt/",
           "Use vi or nano.\n\n`vi filename.py`"
          ],
          [
           "Giggaflop",
           "/r/Python/comments/ebvpn0/round_to_only_2_decimals/fb8639e/",
           "Did I have a stroke?"
          ],
          [
           "AutoModerator",
           "/r/Python/comments/ebzuac/pascals_triangle_in_python/fb87mfs/",
           "Your submission has been automatically removed.\n\nY"
          ],
          [
           "pythonHelperBot",
           "/r/Python/comments/ebzqpe/need_help/fb877ty/",
           "Hello! I'm a bot!\n\nIt looks to me like your post m"
          ],
          [
           "FredSchwartz",
           "/r/Python/comments/ebu5mi/the_little_book_of_python_antipatterns_python/fb88g9a/",
           "I think they’re looking at finding the variable in"
          ],
          [
           "ProfessionalTune0",
           "/r/Python/comments/ebxjbh/advice_on_images_scraping/fb895fg/",
           "You can the same results with either library but y"
          ],
          [
           "cambda_lalculus",
           "/r/Python/comments/e032gu/rpython_job_board/fb8a0gl/",
           "Thank you! Before I apply, could you provide some "
          ],
          [
           "rcfox",
           "/r/Python/comments/ebu5mi/the_little_book_of_python_antipatterns_python/fb892l3/",
           "There are some clear Python 2isms here. I wouldn't"
          ],
          [
           "lift_spin_d",
           "/r/Python/comments/ebw76t/python_as_a_back_end_language_for_a_wep_app/fb8a2us/",
           "you're asking how servers work. There's a machine "
          ],
          [
           "DARPA1191969v1",
           "/r/Python/comments/ebz6pj/scanner_app_inventory_management_from_scratch/fb89vt2/",
           "I know it's not python but I literally just made t"
          ],
          [
           "rcfox",
           "/r/Python/comments/ebu5mi/the_little_book_of_python_antipatterns_python/fb8asuz/",
           "The [\"key in list\" article](https://docs.quantifie"
          ],
          [
           "Kaarjuus",
           "/r/Python/comments/ebu5mi/the_little_book_of_python_antipatterns_python/fb8bdx6/",
           "`c` means control, as evidenced by the collection "
          ],
          [
           "n1___",
           "/r/Python/comments/ebytlq/interesting_project/fb8bu6q/",
           "Tell us your skills."
          ],
          [
           "ProfessorGrizzly",
           "/r/Python/comments/ec0j6z/quick_mods_are_asleep_upvote_pics_of_python/fb8cdwr/",
           "He's resting between sssscriptsssss"
          ],
          [
           "mfitzp",
           "/r/Python/comments/ebyf45/how_to_support_a_python_package_that_uses_c/fb8cm6t/",
           "One option would be to move this stuff into separa"
          ],
          [
           "MrK_HS",
           "/r/Python/comments/ebh41z/how_to_save_christmas_with_the_travelling/fb65thw/",
           "Actually, I'm a bit of a fan and user of PuLP myse"
          ],
          [
           "patriciajlim",
           "/r/Python/comments/ebe72x/can_python_be_used_as_macros_across_different/fb65ib6/",
           "Thanks for this insight.\nSimply put, we get this r"
          ],
          [
           "ThinkIn3D",
           "/r/Python/comments/eb8j7p/evolving_images_using_genetic_algorithms_and/fb65uek/",
           "The original work like this that I know of is \"Evo"
          ],
          [
           "hotpotatobeans",
           "/r/Python/comments/ebnzoa/can_you_assign_variables_in_a_lambda/fb6bwk9/",
           "No, expressions, like lambda, cannot contain state"
          ],
          [
           "Cyb0rgBrain",
           "/r/Python/comments/ebnfsj/simple_hangman_game/fb6cx28/",
           "An F you will take ;)"
          ],
          [
           "JayJayPeeko",
           "/r/Python/comments/ebnfsj/simple_hangman_game/fb6cuix/",
           "I don't pay, I take."
          ],
          [
           "dynaken",
           "/r/Python/comments/eb58bb/installed_anaconda_onto_windows_10_via_the_wsl/fb6fqxc/",
           "What error did you get when you run xterm? I’ve do"
          ],
          [
           "chickentenders54",
           "/r/Python/comments/ebjgvl/i_wrote_a_program_that_doodles_things_in_ms_paint/fb6epsx/",
           "Sweet"
          ],
          [
           "dynaken",
           "/r/Python/comments/eb58bb/installed_anaconda_onto_windows_10_via_the_wsl/fb6he0k/",
           "I just tried it and \\`nohup xterm &amp;\\` works fi"
          ],
          [
           "Trghpy00",
           "/r/Python/comments/ebpixv/why_is_my_program_only_printing_the_last_letter/fb6hlf6/",
           "Don’t use an index for a string. -1 is the last ch"
          ],
          [
           "sahi1l",
           "/r/Python/comments/ebpixv/why_is_my_program_only_printing_the_last_letter/fb6j7sr/",
           "The split method doesn’t modify the original varia"
          ],
          [
           "WhatASave456",
           "/r/Python/comments/ebpixv/why_is_my_program_only_printing_the_last_letter/fb6i4zx/",
           "Why isn’t name_1 a list?"
          ],
          [
           "lucifer_acno",
           "/r/Python/comments/ebpxeg/any_flask_developer_with_passion_for_football_here/fb6mq6q/",
           "I would like to help. I just have basic flask know"
          ],
          [
           "NextLevelMoves",
           "/r/Python/comments/ebjgvl/i_wrote_a_program_that_doodles_things_in_ms_paint/fb6ltoz/",
           "Better than a banana taped to a wall.\n\nNice job!"
          ],
          [
           "pythonapster",
           "/r/Python/comments/ebf7rc/github_mtrajkcodingproblems_python_solutions_for/fb6nafi/",
           "So did you land that job?"
          ],
          [
           "Offended_Dishwasher",
           "/r/Python/comments/ebjgvl/i_wrote_a_program_that_doodles_things_in_ms_paint/fb6plvs/",
           "Great job mate"
          ],
          [
           "123resu",
           "/r/Python/comments/ebqfeh/day_1_python_learner_sos/fb6ovvd/",
           "Which version of Python are you using?\nf-strings s"
          ],
          [
           "ItsBarney01",
           "/r/Python/comments/ebf7rc/github_mtrajkcodingproblems_python_solutions_for/fb63yr7/",
           "Nice :D"
          ],
          [
           "MartyMacGyver",
           "/r/Python/comments/eazg05/made_my_first_fractal/fb6vbk0/",
           "Still not the same code, and it crashes at the end"
          ],
          [
           "billsil",
           "/r/Python/comments/eb489k/best_way_to_work_on_a_python_3_application_that/fb6t2e5/",
           "January 20th is the end date."
          ],
          [
           "CowboyBoats",
           "/r/Python/comments/ebrc2i/would_python_be_a_good_way_to_make_a_small_win_10/fb6u1tk/",
           "&gt; Would python be a great language to use?\n\nYes"
          ],
          [
           "Pumpkin_Dumplin",
           "/r/Python/comments/ebjgvl/i_wrote_a_program_that_doodles_things_in_ms_paint/fb6v0hd/",
           "You could try implementing genetic algorithm with "
          ],
          [
           "Gawd_is_great",
           "/r/Python/comments/eazg05/made_my_first_fractal/fb4bldi/",
           "Oh wow. Thanks a lot for the suggestions. It's ama"
          ],
          [
           "jimmythenewsmith",
           "/r/Python/comments/ebe72x/can_python_be_used_as_macros_across_different/fb4amfr/",
           "Excel has a programming language, native, advanced"
          ],
          [
           "-Dhanos-",
           "/r/Python/comments/ebd3uz/how_to_control_your_raspberry_pi_from_anywhere_in/fb4aja0/",
           "I'm trying to understand you guys here as well.\n\nW"
          ],
          [
           "jimmythenewsmith",
           "/r/Python/comments/ebe72x/can_python_be_used_as_macros_across_different/fb4avgc/",
           "Sorry, but saying Pandas does everything better th"
          ],
          [
           "gods_programmer",
           "/r/Python/comments/ebfbo8/software_entrepreneur_will_you_advise/fb4fhbw/",
           "Wow. I can imagine what a humbling experience this"
          ],
          [
           "-Dhanos-",
           "/r/Python/comments/ebd3uz/how_to_control_your_raspberry_pi_from_anywhere_in/fb4abfy/",
           "What exactly is the security problem you have in m"
          ],
          [
           "ItsBarney01",
           "/r/Python/comments/ebf7rc/github_mtrajkcodingproblems_python_solutions_for/fb4octt/",
           "Strings&gt;create_palindrome.py"
          ],
          [
           "dynaken",
           "/r/Python/comments/eb58bb/installed_anaconda_onto_windows_10_via_the_wsl/fb4n1ph/",
           "1. Install xming and run it \n2. Open WSL terminal "
          ],
          [
           "T4O2M0",
           "/r/Python/comments/eax44u/developing_an_android_app/fb4oz6h/",
           "Compare the features, flutter's better"
          ],
          [
           "baghiq",
           "/r/Python/comments/ebfqtm/how_much_systemhardware_information_do_you_guys/fb4oy1z/",
           "&gt;system/hardware\n\nI used to work for a client t"
          ],
          [
           "jasfi",
           "/r/Python/comments/ebfbo8/software_entrepreneur_will_you_advise/fb4r7t8/",
           "How much time do you have per week to work on your"
          ],
          [
           "xd1142",
           "/r/Python/comments/ebd3uz/how_to_control_your_raspberry_pi_from_anywhere_in/fb4rljt/",
           "What I really don't understand is what's with disc"
          ],
          [
           "Zenith_N",
           "/r/Python/comments/eb58bb/installed_anaconda_onto_windows_10_via_the_wsl/fb4rn9d/",
           "Thank you \nI have reset ubuntu wsl on windows 10 a"
          ],
          [
           "Alrik",
           "/r/Python/comments/ebhdmm/as_a_dev_what_are_your_main_challenge_keeping_fit/fb4tkca/",
           "Time and motivation are certainly issues -- I work"
          ],
          [
           "Kerbart",
           "/r/Python/comments/ebe72x/can_python_be_used_as_macros_across_different/fb4wy3x/",
           "Well, Pandas has all kind of pivot table like func"
          ],
          [
           "Old_Winterton",
           "/r/Python/comments/eb1fb5/writing_to_a_csv/fb4y7xr/",
           "Thas true, I made a certain assumption about the f"
          ],
          [
           "reddit007user",
           "/r/Python/comments/ebf7rc/github_mtrajkcodingproblems_python_solutions_for/fb4zuh7/",
           "You're the bot. Bleep. Bloop. It is the original r"
          ],
          [
           "ZeroBullshitMan",
           "/r/Python/comments/ebhdmm/as_a_dev_what_are_your_main_challenge_keeping_fit/fb4xvna/",
           "Personally don't have a problem, been lifting for "
          ],
          [
           "Ashutoshkv",
           "/r/Python/comments/ebd3uz/how_to_control_your_raspberry_pi_from_anywhere_in/fb48sjp/",
           "I meant to control the rpi in a private server tha"
          ],
          [
           "dragonddragondragon",
           "/r/Python/comments/ebd3uz/how_to_control_your_raspberry_pi_from_anywhere_in/fb49c19/",
           "&gt; What the hell? \n\nIt was a comment on IT secur"
          ],
          [
           "mtrajk93",
           "/r/Python/comments/ebf7rc/github_mtrajkcodingproblems_python_solutions_for/fb51qwl/",
           "Yes you're right, this is easier and there is less"
          ],
          [
           "irkw",
           "/r/Python/comments/e8yomi/the_new_walrus_operator_in_python38_is_everything/fb520fj/",
           "Yes .  That's what I mean.  I'm just saying if cha"
          ],
          [
           "pacojosedelvino",
           "/r/Python/comments/ebifcm/what_is_the_workflow_to_work_and_the_package/fb52qdq/",
           "Hi! I edit it, it says that."
          ],
          [
           "pythonHelperBot",
           "/r/Python/comments/ebp8tr/any_good_tutorials_on_sending_user_input_from/fb6ycxd/",
           "Hello! I'm a bot!\n\nIt looks to me like your post m"
          ],
          [
           "covabishop",
           "/r/Python/comments/ebjgvl/i_wrote_a_program_that_doodles_things_in_ms_paint/fb6xz4m/",
           "nai?"
          ],
          [
           "JakubBlaha",
           "/r/Python/comments/ebjgvl/i_wrote_a_program_that_doodles_things_in_ms_paint/fb6zrsx/",
           "Make it so it can recreate a photo!"
          ],
          [
           "fooHere",
           "/r/Python/comments/ebki4a/getting_browser_console_output_using_selenium/fb70g6v/",
           "post the app you're testing or your exact code. it"
          ],
          [
           "ourlastchancefortea",
           "/r/Python/comments/ebjgvl/i_wrote_a_program_that_doodles_things_in_ms_paint/fb6xnnv/",
           "Read the first letter of every line in the code."
          ],
          [
           "esp_py",
           "/r/Python/comments/ebpxeg/any_flask_developer_with_passion_for_football_here/fb74srh/",
           "You drop a dm"
          ],
          [
           "mtrajk93",
           "/r/Python/comments/ebf7rc/github_mtrajkcodingproblems_python_solutions_for/fb73znu/",
           "Yes, that's even more Pythonic way."
          ],
          [
           "cglacet",
           "/r/Python/comments/ebf7rc/github_mtrajkcodingproblems_python_solutions_for/fb74uhq/",
           "I haven't read your code, just following up on you"
          ],
          [
           "AutoModerator",
           "/r/Python/comments/ebtfsd/i_cant_run_python_programmes_on_command_line/fb74gkd/",
           "Your submission has been automatically removed.\n\nY"
          ],
          [
           "footynotes",
           "/r/Python/comments/ebpxeg/any_flask_developer_with_passion_for_football_here/fb734kl/",
           "Please let me know how I can communicate with you."
          ],
          [
           "pythonHelperBot",
           "/r/Python/comments/ebrc2i/would_python_be_a_good_way_to_make_a_small_win_10/fb789nk/",
           "Hello! I'm a bot!\n\nIt looks to me like your post m"
          ],
          [
           "po2ptym2",
           "/r/Python/comments/ebpxeg/any_flask_developer_with_passion_for_football_here/fb78fdx/",
           "I’m interested! Also love football. Hook me up"
          ],
          [
           "azidified",
           "/r/Python/comments/ebjgvl/i_wrote_a_program_that_doodles_things_in_ms_paint/fb7bjrc/",
           "🐐"
          ],
          [
           "The_FanciestOfPants",
           "/r/Python/comments/ebjgvl/i_wrote_a_program_that_doodles_things_in_ms_paint/fb793rv/",
           "Aaand sold for two million dollars as interpretive"
          ],
          [
           "naren_klu",
           "/r/Python/comments/ebjgvl/i_wrote_a_program_that_doodles_things_in_ms_paint/fb7bwpb/",
           "It seems to generate million dollar art pieces."
          ],
          [
           "johannadambergk",
           "/r/Python/comments/ebu5mi/the_little_book_of_python_antipatterns_python/fb7d530/",
           "Very helpful, thanks!"
          ],
          [
           "querymcsearchface",
           "/r/Python/comments/ea0ay2/python_pickles_should_you_include_raw_data_in/fb7e0g1/",
           "Awesome. Thanks for letting me know."
          ],
          [
           "surbhicis",
           "/r/Python/comments/ebtnxv/no_such_file_or_directory_ls/fb7epmh/",
           "No, I am on Linux"
          ],
          [
           "thefrenchflo",
           "/r/Python/comments/ebvpn0/round_to_only_2_decimals/fb7gbo1/",
           "Multiply by 100. \nTake the int part.  \nDivide by 1"
          ],
          [
           "[deleted]",
           "/r/Python/comments/ebvx57/python_tutorial_for_beginners_python_tutorial_for/fb7hboz/",
           "[removed]"
          ],
          [
           "MrK_HS",
           "/r/Python/comments/ebrc2i/would_python_be_a_good_way_to_make_a_small_win_10/fb7idbh/",
           "Python + standard library ctypes are your friends "
          ],
          [
           "shawnohare",
           "/r/Python/comments/ebu5mi/the_little_book_of_python_antipatterns_python/fb8ggnt/",
           "There’s a bit of cognitive load associated to long"
          ],
          [
           "tunisia3507",
           "/r/Python/comments/ebyf45/how_to_support_a_python_package_that_uses_c/fb8f2xe/",
           "Don't support python 2. It's EOL in 2 weeks and wo"
          ],
          [
           "its4thecatlol",
           "/r/Python/comments/ebu5mi/the_little_book_of_python_antipatterns_python/fb8fzet/",
           "I don't think many of these are clear anti-pattern"
          ],
          [
           "zvxp",
           "/r/Python/comments/ebww8n/looking_for_a_mentor/fb8g7ug/",
           "Never pay for mentorship. Anyone who charges you t"
          ],
          [
           "Blaidd-XIII",
           "/r/Python/comments/ec5cn7/first_thingy_made_in_python_but_why_did_my_first/fb9abgy/",
           "My first thought is that you are editing a list as"
          ],
          [
           "rajbabu0663",
           "/r/Python/comments/ebww8n/looking_for_a_mentor/fb8j80n/",
           "Do you want to help me in my side project? I can a"
          ],
          [
           "MarkZuckerman",
           "/r/Python/comments/ec0j6z/quick_mods_are_asleep_upvote_pics_of_python/fb8ii15/",
           "I swear too god if this loads and it's a real pyth"
          ],
          [
           "MrK_HS",
           "/r/Python/comments/ec0yni/i_code_a_multiple_sudoku_grids_solver_in_python/fb8kw2z/",
           "Why neural networks instead of the much faster and"
          ],
          [
           "Zdmins",
           "/r/Python/comments/ec0j6z/quick_mods_are_asleep_upvote_pics_of_python/fb8i0cn/",
           "Where are these mods based that they’re asleep alr"
          ],
          [
           "taloy42",
           "/r/Python/comments/ec0d46/learning_python_and_couldnt_think_of_a_good/fb8ken0/",
           "Please upload the code, I need it for research pur"
          ],
          [
           "footloooops",
           "/r/Python/comments/ec0yni/i_code_a_multiple_sudoku_grids_solver_in_python/fb8kogx/",
           "Is this using your phone? If so, do you have any g"
          ],
          [
           "iamlocal",
           "/r/Python/comments/ebw6fy/faster_enum_comparison_with_enum_from_the_python/fb8iqa3/",
           "So it can go up to eleven"
          ],
          [
           "911OpenUp",
           "/r/Python/comments/ec0j6z/quick_mods_are_asleep_upvote_pics_of_python/fb8jfr4/",
           "Its its python 3.7.sssssssssssixtynine UwU"
          ],
          [
           "FeetlessColon",
           "/r/Python/comments/ec0yni/i_code_a_multiple_sudoku_grids_solver_in_python/fb8mraj/",
           "Brute Force is the only way!"
          ],
          [
           "blabbities",
           "/r/Python/comments/ebxg4w/how_to_get_started_with_coding_python_on_a_chrome/fb8ndcr/",
           "Can you evenbinstall applications on a regular Chr"
          ],
          [
           "Gionson13",
           "/r/Python/comments/ebytlq/interesting_project/fb8o5p9/",
           "I am a beginner, but I already know some stuff.\nFo"
          ],
          [
           "West7780",
           "/r/Python/comments/ec0d46/learning_python_and_couldnt_think_of_a_good/fb8o5mo/",
           "That would be incredibly more interesting"
          ],
          [
           "lift_spin_d",
           "/r/Python/comments/ebxg4w/how_to_get_started_with_coding_python_on_a_chrome/fb8o9ya/",
           "i'm gonna go with \"hmm. . .\" because I can't say y"
          ],
          [
           "4ipp",
           "/r/Python/comments/ec1pf2/i_want_your_opinion_mypy/fb8lz5n/",
           "I am curious to know what type of programs you dev"
          ],
          [
           "WulfiePoo",
           "/r/Python/comments/ebw39p/conda_is_fing_slow/fb8nisx/",
           "I've found that the slowness scales with the numbe"
          ],
          [
           "j03f",
           "/r/Python/comments/ec5x5h/can_i_get_some_help_with_python/fb9bx6l/",
           "r/learnpython"
          ],
          [
           "MistBornDragon",
           "/r/Python/comments/ebw95t/whats_everyone_working_on_this_week/fb9ccrc/",
           "Binary Classification Based Predictive Model"
          ],
          [
           "My_Name_Wuz_Taken",
           "/r/Python/comments/ec0d46/learning_python_and_couldnt_think_of_a_good/fb9chye/",
           "Have insult other people, on their own computers, "
          ],
          [
           "Reeee93616",
           "/r/Python/comments/ec5x5h/can_i_get_some_help_with_python/fb9cj4b/",
           "So I've got the interpreter down, now I just have "
          ],
          [
           "j03f",
           "/r/Python/comments/ec5x5h/can_i_get_some_help_with_python/fb9c411/",
           "NP, it’s a great place to ask questions like this "
          ],
          [
           "SWgeek10056",
           "/r/Python/comments/ec0d46/learning_python_and_couldnt_think_of_a_good/fb8pc2t/",
           "now make this a bash script and incorporate it in "
          ],
          [
           "zpwd",
           "/r/Python/comments/ebww8n/looking_for_a_mentor/fb8pqlp/",
           "&gt; OP has stated he's tried for a job, and hasn'"
          ],
          [
           "Kaarjuus",
           "/r/Python/comments/ebu5mi/the_little_book_of_python_antipatterns_python/fb8qv2j/",
           "&gt; I think the \"dont use single letter variables"
          ],
          [
           "Turkino",
           "/r/Python/comments/ebw95t/whats_everyone_working_on_this_week/fb8r1v2/",
           "I've been working on learning React.\n\nAs part of m"
          ],
          [
           "totemcatcher",
           "/r/Python/comments/ebu5mi/the_little_book_of_python_antipatterns_python/fb8rpvf/",
           "That document would get out of hand if they were t"
          ],
          [
           "Al3xR3ads",
           "/r/Python/comments/ebu5mi/the_little_book_of_python_antipatterns_python/fb8pmov/",
           "I think the \"dont use single letter variables\" thi"
          ],
          [
           "phigo50",
           "/r/Python/comments/ec0d46/learning_python_and_couldnt_think_of_a_good/fb8qdbp/",
           "How appropriate, you fight like a cow!"
          ],
          [
           "ItzKarmaOwO",
           "/r/Python/comments/ec0j6z/quick_mods_are_asleep_upvote_pics_of_python/fb8q8du/",
           "*When the mods wake up* Who posted this picture of"
          ],
          [
           "nightking_4president",
           "/r/Python/comments/ec3c4j/classes_and_were_to_use_them/fb9g76u/",
           "&gt;Use classes when you find yourself referencing"
          ],
          [
           "mraza007",
           "/r/Python/comments/ec6opk/so_i_wrote_this_script_a_ago_year_but_today_i/fb9gxdt/",
           "Lol won’t that be evil plan \nHahaha"
          ],
          [
           "iBlag",
           "/r/Python/comments/ebu5mi/the_little_book_of_python_antipatterns_python/fb8ti6b/",
           "I think `ctrl` is preferable since it’s an element"
          ],
          [
           "yatpay",
           "/r/Python/comments/ec0d46/learning_python_and_couldnt_think_of_a_good/fb8twkg/",
           "You might enjoy [Advent of Code](http://www.advent"
          ],
          [
           "Kaarjuus",
           "/r/Python/comments/ebu5mi/the_little_book_of_python_antipatterns_python/fb8u7jo/",
           "Absolutely, exactly like I said in my initial comm"
          ],
          [
           "chinawcswing",
           "/r/Python/comments/ebyf45/how_to_support_a_python_package_that_uses_c/fb8urlv/",
           "I had a lecture with Raymond Hettinger who said th"
          ],
          [
           "robo__Dev",
           "/r/Python/comments/ebx65k/could_someone_explain_to_me_why_tkinter_is_being/fb8vn5a/",
           "Some of this is legacy, so I may need to look at d"
          ],
          [
           "RemindMeBot",
           "/r/Python/comments/ec0d46/learning_python_and_couldnt_think_of_a_good/fb8uhi1/",
           "I will be messaging you in 10 hours on [**2019-12-"
          ],
          [
           "matthewjc",
           "/r/Python/comments/ec0d46/learning_python_and_couldnt_think_of_a_good/fb9jrww/",
           "Way too ADHD for me to handle"
          ],
          [
           "Normbias",
           "/r/Python/comments/dy2ler/jinja_templates_for_nbconvert/fb9jxr8/",
           "I wasn't aware of rst. Not the automated solution "
          ],
          [
           "MysticalKittyHerder",
           "/r/Python/comments/ec0d46/learning_python_and_couldnt_think_of_a_good/fb9l0y5/",
           "    curl insults.duckdns.org:8080/insultme"
          ],
          [
           "archaeolinuxgeek",
           "/r/Python/comments/ebxjbh/advice_on_images_scraping/fb8jeqb/",
           "You'll be loving life once you get to a site that "
          ],
          [
           "muikrad",
           "/r/Python/comments/ec1pf2/i_want_your_opinion_mypy/fb8wyu0/",
           "I developped 2 internal testing frameworks, and mo"
          ],
          [
           "MysticalKittyHerder",
           "/r/Python/comments/ec0d46/learning_python_and_couldnt_think_of_a_good/fb8y1b5/",
           "Ok, Fuck My Holes"
          ],
          [
           "gidoca",
           "/r/Python/comments/ec0d46/learning_python_and_couldnt_think_of_a_good/fb8yiw6/",
           "Mein Mampf."
          ],
          [
           "TKTubro",
           "/r/Python/comments/ec39zq/run_python_code_in_browser/fb8zzba/",
           "Python obviously can't be run in the browser nativ"
          ],
          [
           "SushiWithoutSushi",
           "/r/Python/comments/ec0d46/learning_python_and_couldnt_think_of_a_good/fb92dxy/",
           "Cool. Try doing some motovational sentences, might"
          ],
          [
           "SirBaas",
           "/r/Python/comments/ec0d46/learning_python_and_couldnt_think_of_a_good/fb919b0/",
           "I think all you have to do is run &lt;py&gt; in th"
          ],
          [
           "fernly",
           "/r/Python/comments/ec0yni/i_code_a_multiple_sudoku_grids_solver_in_python/fb94c96/",
           "Peter Norvig's classic blog post on this: http://n"
          ],
          [
           "botblue",
           "/r/Python/comments/ec0d46/learning_python_and_couldnt_think_of_a_good/fb96egp/",
           "Not really Python related, but your post made me t"
          ],
          [
           "mitchell271",
           "/r/Python/comments/ec0d46/learning_python_and_couldnt_think_of_a_good/fb96q3k/",
           "Mein Kampfy Couch"
          ],
          [
           "FukMyHoles",
           "/r/Python/comments/ec0d46/learning_python_and_couldnt_think_of_a_good/fb9lg16/",
           "There was an option to install Trinity and I decid"
          ],
          [
           "WalesAuburn",
           "/r/Python/comments/ec3iv5/sqlalchemy_vs_pyodbc/fb9mayc/",
           "And you can use, cx\\_Oracle in python code  to exe"
          ],
          [
           "sgramstrup",
           "/r/Python/comments/ec0d46/learning_python_and_couldnt_think_of_a_good/fb9mc6j/",
           "..ah, just as if my mom were still here. Bless the"
          ],
          [
           "MysticalKittyHerder",
           "/r/Python/comments/ec0d46/learning_python_and_couldnt_think_of_a_good/fb9mpn2/",
           "Just click import file"
          ],
          [
           "patchikoooo",
           "/r/Python/comments/ccq1yj/i_also_made_a_bot_using_pyautogui_and_reading/fb9q0by/",
           "Hi, do you still share your sourcecode? I noticed "
          ],
          [
           "miketimmons1160",
           "/r/Python/comments/ec5osq/how_can_i_run_an_excel_addin_vba_macro_on_a/fb9ntpc/",
           "You have to have have the macros loaded in the wor"
          ],
          [
           "mraza007",
           "/r/Python/comments/ec6opk/so_i_wrote_this_script_a_ago_year_but_today_i/fb9saj4/",
           "I think your personal phone number \nThere’s no api"
          ],
          [
           "rouille",
           "/r/Python/comments/ebyq0v/production_setup_for_websockets_asyncio/fb9u2ti/",
           "I can also vouch for aiohttp in production, it is "
          ],
          [
           "BertoLaDK",
           "/r/Python/comments/ec0d46/learning_python_and_couldnt_think_of_a_good/fb9wkb7/",
           "shit went from 0 to 100 real quick... that is next"
          ],
          [
           "chmod--777",
           "/r/Python/comments/ec0d46/learning_python_and_couldnt_think_of_a_good/fb9x4uv/",
           "`math.choice(insults)` is better if you're just pi"
          ],
          [
           "AutoModerator",
           "/r/Python/comments/ec9snf/new_to_python_trying_to_create_an_appropriate/fb9zk85/",
           "Your submission has been automatically removed.\n\nY"
          ],
          [
           "chmod--777",
           "/r/Python/comments/ec0d46/learning_python_and_couldnt_think_of_a_good/fb9xpvf/",
           "lmao I figured at least js due to the triple equal"
          ],
          [
           "jdnewmil",
           "/r/Python/comments/ec91s7/lost_and_afraid/fb9yps2/",
           "I don't know about biology, but most scientific wo"
          ],
          [
           "chmod--777",
           "/r/Python/comments/ec0d46/learning_python_and_couldnt_think_of_a_good/fb9xocx/",
           "`insult | cowsay | lolcat` for maximum insult"
          ],
          [
           "AvidPuking",
           "/r/Python/comments/ec91s7/lost_and_afraid/fba3lgf/",
           "*Reading* books is fine, but I think it suffers fr"
          ],
          [
           "A_Good_Hunter",
           "/r/Python/comments/ec1pf2/i_want_your_opinion_mypy/fba3o70/",
           "Trying to write C++ or C# in Python is pointless. "
          ],
          [
           "DK4409",
           "/r/Python/comments/ecanxc/what_is_a_good_library_to_connect_sql_to_python/fba4c7k/",
           "Thanks for suggesting it, I will try"
          ],
          [
           "Xormak",
           "/r/Python/comments/ebx66h/12_trending_alternatives_for_distributing_python/fba3w6f/",
           "Maybe but I'm not Dutch"
          ],
          [
           "Astrokiwi",
           "/r/Python/comments/ec0d46/learning_python_and_couldnt_think_of_a_good/fba5abk/",
           "On Mac, change the print statements to bash calls "
          ],
          [
           "dragonddragondragon",
           "/r/Python/comments/ebd3uz/how_to_control_your_raspberry_pi_from_anywhere_in/fb4ddq3/",
           "Probably, yes."
          ],
          [
           "nero-gg",
           "/r/Python/comments/ebd3uz/how_to_control_your_raspberry_pi_from_anywhere_in/fb4hp5a/",
           "Discord is an external chat provider. You're relyi"
          ],
          [
           "Nils1704",
           "/r/Python/comments/eb6sgl/how_to_simulate_middle_click_with_right_click_and/fb4h8qg/",
           "If you're not 100% set on using python autohotkey "
          ],
          [
           "blahhhhh",
           "/r/Python/comments/ebfoug/8_reasons_why_python_is_good_for_artificial/fb4kwgv/",
           "Why is that?"
          ],
          [
           "PharaohBigDickimus",
           "/r/Python/comments/ebfo58/which_orm_for_python_and_abstraction_between_db/fb4law4/",
           "I like SQLAlchemy a lot. It’s extremely popular be"
          ],
          [
           "MikeTheWatchGuy",
           "/r/Python/comments/eb5qil/made_conways_game_of_life_using_tkinter/fb4lmxx/",
           "Yea I did one using PySimpleGUI and [posted about "
          ],
          [
           "__deerlord__",
           "/r/Python/comments/ebd3uz/how_to_control_your_raspberry_pi_from_anywhere_in/fb4n3q5/",
           "\"Calm down\" is not a way to secure your network."
          ],
          [
           "Miner_ChAI",
           "/r/Python/comments/e50ikr/whats_your_favorite_aphorism_from_the_zen_of/fb4mn3l/",
           "[This](https://mystb.in/afavocusip.py) is the code"
          ],
          [
           "chris1610",
           "/r/Python/comments/ebe72x/can_python_be_used_as_macros_across_different/fb4o6do/",
           "This [article](https://pbpython.com/advanced-excel"
          ],
          [
           "dynaken",
           "/r/Python/comments/eb58bb/installed_anaconda_onto_windows_10_via_the_wsl/fb4sysj/",
           "Did you install xorg and X11? Those may be needed."
          ],
          [
           "chinawcswing",
           "/r/Python/comments/eb4ulv/best_online_python_interpreter_with_code/fb4ugow/",
           "This is great thanks."
          ],
          [
           "Zenith_N",
           "/r/Python/comments/eb58bb/installed_anaconda_onto_windows_10_via_the_wsl/fb4wstp/",
           "Thank you for your patience.\n\nI tried the followin"
          ],
          [
           "DarkCeptor44",
           "/r/Python/comments/ebf7rc/github_mtrajkcodingproblems_python_solutions_for/fb50qzb/",
           "This is really cool but I don't understand why not"
          ],
          [
           "mtrajk93",
           "/r/Python/comments/ebf7rc/github_mtrajkcodingproblems_python_solutions_for/fb5205z/",
           "Thank you too. I'm happy if this helped you someho"
          ],
          [
           "theinkedambivert",
           "/r/Python/comments/ebjgvl/i_wrote_a_program_that_doodles_things_in_ms_paint/fb6vibk/",
           "Modern Jackson Pollock."
          ],
          [
           "911OpenUp",
           "/r/Python/comments/ebjgvl/i_wrote_a_program_that_doodles_things_in_ms_paint/fb6upol/",
           "Hey! Amazing one. \nCould you also add a program to"
          ],
          [
           "socal_nerdtastic",
           "/r/Python/comments/ebrw1p/divide_number_into_ratios_of_more_than_2/fb6wfgd/",
           "&gt; Not sure if this is more of a math problem\n\nY"
          ],
          [
           "hotdeo",
           "/r/Python/comments/ebjgvl/i_wrote_a_program_that_doodles_things_in_ms_paint/fb6wvym/",
           "Sell it for $2,000,000 to an art museum."
          ],
          [
           "Orio_n",
           "/r/Python/comments/ebjgvl/i_wrote_a_program_that_doodles_things_in_ms_paint/fb6wvoa/",
           "Pyautogui is the most powerful module"
          ],
          [
           "panupatc",
           "/r/Python/comments/ebrw1p/divide_number_into_ratios_of_more_than_2/fb718o4/",
           "Thank you :D"
          ],
          [
           "Versaiteis",
           "/r/Python/comments/ebjgvl/i_wrote_a_program_that_doodles_things_in_ms_paint/fb6xyz1/",
           "Confetti generator!"
          ],
          [
           "Gawd_is_great",
           "/r/Python/comments/eazg05/made_my_first_fractal/fb6zy3v/",
           "Ok just put the entire make trail function in a tr"
          ],
          [
           "cetpanig",
           "/r/Python/comments/ebjgvl/i_wrote_a_program_that_doodles_things_in_ms_paint/fb75u1j/",
           "Useful video you have shared here. How the concept"
          ],
          [
           "Free-_-Yourself",
           "/r/Python/comments/ebjgvl/i_wrote_a_program_that_doodles_things_in_ms_paint/fb72o0q/",
           "How do you make Python to Inter at with the progra"
          ],
          [
           "footynotes",
           "/r/Python/comments/ebpxeg/any_flask_developer_with_passion_for_football_here/fb734r7/",
           "Please let me know how I can communicate with you."
          ],
          [
           "footynotes",
           "/r/Python/comments/ebpxeg/any_flask_developer_with_passion_for_football_here/fb734e0/",
           "Please let me know how I can communicate with you."
          ],
          [
           "aes110",
           "/r/Python/comments/ebnzoa/can_you_assign_variables_in_a_lambda/fb74wp8/",
           "You cant do that, not only in lambda but in regula"
          ],
          [
           "xd1142",
           "/r/Python/comments/ebd3uz/how_to_control_your_raspberry_pi_from_anywhere_in/fb76fxx/",
           "All of this are issues with shitty clients, not wi"
          ],
          [
           "MrK_HS",
           "/r/Python/comments/eazg05/made_my_first_fractal/fb78wqa/",
           "Getting internet points on Reddit"
          ],
          [
           "Gawd_is_great",
           "/r/Python/comments/ebst39/i_saw_people_post_animations_on_fractals_mazes/fb77ety/",
           "What exactly is this?"
          ],
          [
           "davehodg",
           "/r/Python/comments/ebu0k5/python_vs_ruby_which_is_better_for_businesses/fb792ra/",
           "Python. But Ruby is reasonably capable. I know som"
          ],
          [
           "ZenixSlayer",
           "/r/Python/comments/ebu5mi/the_little_book_of_python_antipatterns_python/fb7bcrl/",
           "Definitely worth a read."
          ],
          [
           "jistjoalal",
           "/r/Python/comments/eaz80r/programming_this_playlist_oh_my_god_full/fb7b97a/",
           "Hey thanks for posting. I've been jamming to this "
          ],
          [
           "[deleted]",
           "/r/Python/comments/ebuxek/python_chatbot_tutorial_for_beginners_python/fb7becm/",
           "[removed]"
          ],
          [
           "DSC34",
           "/r/Python/comments/ebqfeh/day_1_python_learner_sos/fb7f4h8/",
           "Give this a read. I think it will clear up any iss"
          ],
          [
           "imdwalrus_nor",
           "/r/Python/comments/ebjgvl/i_wrote_a_program_that_doodles_things_in_ms_paint/fb7fs4j/",
           "Really cool code! Nice job mate!"
          ],
          [
           "Irrwurzel",
           "/r/Python/comments/ebjgvl/i_wrote_a_program_that_doodles_things_in_ms_paint/fb7fv0m/",
           "Oh nice it makes me so calm looking at that."
          ],
          [
           "tipsy_python",
           "/r/Python/comments/ebu0k5/python_vs_ruby_which_is_better_for_businesses/fb7ftn5/",
           "Lol I wrote some Scala that would occasionally fai"
          ],
          [
           "AirHamyes",
           "/r/Python/comments/ebjgvl/i_wrote_a_program_that_doodles_things_in_ms_paint/fb6t5zu/",
           "Didn't even notice it. Cameras were off and I fell"
          ],
          [
           "bd_econ",
           "/r/Python/comments/ebw39p/conda_is_fing_slow/fb7kugi/",
           "You could try\n\n    conda clean --all\n\nOr you could"
          ],
          [
           "MrK_HS",
           "/r/Python/comments/ebu0k5/python_vs_ruby_which_is_better_for_businesses/fb7i5uk/",
           "Ruby is still somewhat relevant because of ROR, bu"
          ],
          [
           "YellowSharkMT",
           "/r/Python/comments/ebl24m/sorry_to_be_dumb_but_how_do_you_install_python_36/fb7jpik/",
           "dude doesn't this overwrite the system python?"
          ],
          [
           "zpwd",
           "/r/Python/comments/ebvitl/whats_possible_with_python/fb7jpzo/",
           "&gt; Could a python script read that pdf file?\n\nYe"
          ],
          [
           "Note45_",
           "/r/Python/comments/ebw95t/whats_everyone_working_on_this_week/fb7kcv7/",
           "I am working in a project with python and kivy. It"
          ],
          [
           "pythonHelperBot",
           "/r/Python/comments/ebdabr/is_it_possible_to_scrap_dynamically_generated/fb5a7mh/",
           "Hello! I'm a bot!\n\nIt looks to me like your post m"
          ],
          [
           "social_tech_10",
           "/r/Python/comments/ebh0gt/how_to_detect_dominant_color_in_masked_image/fb5bblr/",
           "I've had good luck using \"k-means clustering\" algo"
          ],
          [
           "pythonHelperBot",
           "/r/Python/comments/ebjp0s/issue_with_regular_expression_wont_find_digit/fb5alyz/",
           "Hello! I'm a bot!\n\nIt looks to me like your post m"
          ],
          [
           "bonestormII",
           "/r/Python/comments/ebjp0s/issue_with_regular_expression_wont_find_digit/fb5csb7/",
           "I don’t believe re.search returns a bool. Ultimate"
          ],
          [
           "omegacoo",
           "/r/Python/comments/ebjgvl/i_wrote_a_program_that_doodles_things_in_ms_paint/fb5dr21/",
           "Truly a missed opportunity."
          ],
          [
           "stephan42_42",
           "/r/Python/comments/ebh0gt/how_to_detect_dominant_color_in_masked_image/fb5gzag/",
           "Yellow"
          ],
          [
           "social_tech_10",
           "/r/Python/comments/ebfbo8/software_entrepreneur_will_you_advise/fb5gu1w/",
           "I would encourage you to keep dedicating your free"
          ],
          [
           "gnomejodas",
           "/r/Python/comments/ebjgvl/i_wrote_a_program_that_doodles_things_in_ms_paint/fb5cuzd/",
           "I expected a \"Epstein didn't kill himself\" at the "
          ],
          [
           "Justinian_is_taken",
           "/r/Python/comments/ebjgvl/i_wrote_a_program_that_doodles_things_in_ms_paint/fb5lsp6/",
           "Could you post the link here so we all can see it "
          ],
          [
           "MrK_HS",
           "/r/Python/comments/ebhdmm/as_a_dev_what_are_your_main_challenge_keeping_fit/fb5mtga/",
           "I don't know how this is related to python. Howeve"
          ],
          [
           "MrK_HS",
           "/r/Python/comments/eaxuev/currency_converter_the_cheat_way/fb5lx6p/",
           "It's just always better to use integers."
          ],
          [
           "RedSword13",
           "/r/Python/comments/ebjgvl/i_wrote_a_program_that_doodles_things_in_ms_paint/fb5mclh/",
           "!reminder 2 hours"
          ],
          [
           "CookieGuyOof",
           "/r/Python/comments/ebjt38/hey_everyone/fb5n3uq/",
           "HOLY FUCKIN SHIT BRO.\n\ni cannot stress how much i "
          ],
          [
           "[deleted]",
           "/r/Python/comments/ebkm5x/learning_python_is_boring_me_i_learn_from/fb5nhx3/",
           "[removed]"
          ],
          [
           "ireadyourmedrecord",
           "/r/Python/comments/ebkeyr/new_to_python_but_need_a_method_or_example_of/fb5hn3a/",
           "Alternatively, you can specify a list of column na"
          ],
          [
           "makotomike",
           "/r/Python/comments/ebhdmm/as_a_dev_what_are_your_main_challenge_keeping_fit/fb5irfy/",
           "Workplace culture.\n\nA lot of the retiring staff is"
          ],
          [
           "Filip22012005",
           "/r/Python/comments/ebjgvl/i_wrote_a_program_that_doodles_things_in_ms_paint/fb5kfit/",
           "I heard the tune of \"Saved by the Bell\" in my head"
          ],
          [
           "Mr_804",
           "/r/Python/comments/ebjgvl/i_wrote_a_program_that_doodles_things_in_ms_paint/fb5qyo5/",
           "Jackson Pyllock"
          ],
          [
           "AirHamyes",
           "/r/Python/comments/ebjgvl/i_wrote_a_program_that_doodles_things_in_ms_paint/fb5tjp4/",
           "I accept donations thru PayPal!\n\n\n\nNo I don't..."
          ],
          [
           "ArthurAKAJuStlCe",
           "/r/Python/comments/ebjgvl/i_wrote_a_program_that_doodles_things_in_ms_paint/fb5sgzr/",
           "And the paintings are worth MILLIONS"
          ],
          [
           "ultraDross",
           "/r/Python/comments/ebhdmm/as_a_dev_what_are_your_main_challenge_keeping_fit/fb5v1z5/",
           "Walk in place of public transport when possible. U"
          ],
          [
           "ominous_anonymous",
           "/r/Python/comments/eblvdq/linked_list_in_python/fb5v1ix/",
           "Some other linked list stuff in Python that was su"
          ],
          [
           "MrK_HS",
           "/r/Python/comments/ebh41z/how_to_save_christmas_with_the_travelling/fb5xiu7/",
           "By knowing Santa's average travelling speed you co"
          ],
          [
           "dcsim0n",
           "/r/Python/comments/eblyxu/what_can_be_a_reason_that_python_imports_behave/fb5yoqg/",
           "Are you importing b.py into a.py? \n\nAre a.py and b"
          ],
          [
           "chinpokomon",
           "/r/Python/comments/ebjgvl/i_wrote_a_program_that_doodles_things_in_ms_paint/fb5yxv0/",
           "Read the code..."
          ],
          [
           "DDFoster96",
           "/r/Python/comments/eaxuev/currency_converter_the_cheat_way/fb5695t/",
           "If I need currency converting I usually shout at m"
          ],
          [
           "01110111-01100001",
           "/r/Python/comments/ebfoug/8_reasons_why_python_is_good_for_artificial/fb56qel/",
           "It's a joke."
          ],
          [
           "haydennyyy",
           "/r/Python/comments/ebjgvl/i_wrote_a_program_that_doodles_things_in_ms_paint/fb615bp/",
           "It's like a jackson pullock painting."
          ],
          [
           "MainRotorGearbox",
           "/r/Python/comments/ebjgvl/i_wrote_a_program_that_doodles_things_in_ms_paint/fb625kd/",
           "Yep but i forgot the /s so im about to get downvot"
          ],
          [
           "ShibaOne",
           "/r/Python/comments/ebnzoa/can_you_assign_variables_in_a_lambda/fb68z4h/",
           "Why would you do that? I might be having a 5IQ mom"
          ],
          [
           "pythn101",
           "/r/Python/comments/ebl24m/sorry_to_be_dumb_but_how_do_you_install_python_36/fb64o3s/",
           "Very dumb question but it’s ok"
          ],
          [
           "AirHamyes",
           "/r/Python/comments/ebjgvl/i_wrote_a_program_that_doodles_things_in_ms_paint/fb64439/",
           "Yep. Thanks u/alsweigert"
          ],
          [
           "Cyb0rgBrain",
           "/r/Python/comments/ebnfsj/simple_hangman_game/fb65osw/",
           "How much do you pay?"
          ],
          [
           "JFRHorton",
           "/r/Python/comments/ebjgvl/i_wrote_a_program_that_doodles_things_in_ms_paint/fb65jai/",
           "PyAit Mondrian?"
          ],
          [
           "rhcrise",
           "/r/Python/comments/ebngug/review_for_python/fb65wyr/",
           "Did you try Reddit ?"
          ],
          [
           "firefrommoonlight",
           "/r/Python/comments/ebl24m/sorry_to_be_dumb_but_how_do_you_install_python_36/fb6dj2x/",
           "[Download the source code](https://www.python.org/"
          ],
          [
           "eljuany",
           "/r/Python/comments/ebp07u/python_web_development_saas_question/fb6dwku/",
           "Have you taken a look at Stripe for payments?"
          ],
          [
           "aneurysm_",
           "/r/Python/comments/ebjgvl/i_wrote_a_program_that_doodles_things_in_ms_paint/fb6j9fo/",
           "The Epstein print statement made me laugh"
          ],
          [
           "arkteris13",
           "/r/Python/comments/ebpixv/why_is_my_program_only_printing_the_last_letter/fb6iu4d/",
           "No you assigned the string at names\\[1\\] to names\\"
          ],
          [
           "Trghpy00",
           "/r/Python/comments/ebpixv/why_is_my_program_only_printing_the_last_letter/fb6iyca/",
           "You took a string from an array, then broke that s"
          ],
          [
           "airick187",
           "/r/Python/comments/ebjgvl/i_wrote_a_program_that_doodles_things_in_ms_paint/fb6o0rg/",
           "Nice little print message in there ;-)"
          ],
          [
           "Attendis",
           "/r/Python/comments/ebjgvl/i_wrote_a_program_that_doodles_things_in_ms_paint/fb6n10q/",
           "Now print it out and see how much ink you have lef"
          ],
          [
           "AirHamyes",
           "/r/Python/comments/ebjgvl/i_wrote_a_program_that_doodles_things_in_ms_paint/fb63g7a/",
           "Anyone get it to work?  DM me some images!"
          ],
          [
           "College4321",
           "/r/Python/comments/ebqfeh/day_1_python_learner_sos/fb6pcrn/",
           "Thanks! It was the version that needed to be chang"
          ],
          [
           "SnakeSneakers",
           "/r/Python/comments/e9hle8/im_a_noob_how_would_i_get_the_total_number_of/fb6plvy/",
           "hi"
          ],
          [
           "PazDak",
           "/r/Python/comments/ebqfeh/day_1_python_learner_sos/fb6ow2w/",
           "Check your settings... f\"{whatever}\" only joined t"
          ],
          [
           "blabbities",
           "/r/Python/comments/ebl24m/sorry_to_be_dumb_but_how_do_you_install_python_36/fb6rkh8/",
           "Python 3.66 is availabe in the bionic repos --&gt;"
          ],
          [
           "huqd9",
           "/r/Python/comments/e5hms3/whats_everyone_working_on_this_week/fb6rhey/",
           "I still do some research on OOD, data structures a"
          ],
          [
           "DDFoster96",
           "/r/Python/comments/eaxuev/currency_converter_the_cheat_way/fb55tp1/",
           "Would the decimal module also solve the problem?"
          ],
          [
           "hkamran85",
           "/r/Python/comments/e5hms3/whats_everyone_working_on_this_week/fb55xxn/",
           "Why not use Flask?"
          ],
          [
           "AndrewLobsti",
           "/r/Python/comments/eb8cmr/found_a_ghost_from_pacman_and_a_dude_with_a_funny/fb41bhx/",
           "center-top of the image, right at the border betwe"
          ],
          [
           "muikrad",
           "/r/Python/comments/eba1w4/how_do_you_turn_just_code_into_code_for_a_game/fb43ght/",
           "Python is great for a lot of things but graphics i"
          ],
          [
           "dragonddragondragon",
           "/r/Python/comments/ebd3uz/how_to_control_your_raspberry_pi_from_anywhere_in/fb43wej/",
           "episode 2: how to secure your raspberry pi \n\nEpiso"
          ],
          [
           "funkmaster322",
           "/r/Python/comments/ebe72x/can_python_be_used_as_macros_across_different/fb461vi/",
           "pandas"
          ],
          [
           "dragonddragondragon",
           "/r/Python/comments/ebfbo8/software_entrepreneur_will_you_advise/fb4a6gj/",
           "Kind of highly personal question really.\n\nThere is"
          ],
          [
           "BoaVersusPython",
           "/r/Python/comments/ebb3e1/just_started_working_on_a_portfolio_for/fb4akda/",
           "You gave a complete stranger a code review.\n\nYou a"
          ],
          [
           "dragonddragondragon",
           "/r/Python/comments/ebd3uz/how_to_control_your_raspberry_pi_from_anywhere_in/fb4b1v2/",
           "It depends on OP’s implementation, but even on a p"
          ],
          [
           "PacketPowered",
           "/r/Python/comments/ebe72x/can_python_be_used_as_macros_across_different/fb4c7sq/",
           "openpyxl"
          ],
          [
           "dragonddragondragon",
           "/r/Python/comments/ebd3uz/how_to_control_your_raspberry_pi_from_anywhere_in/fb4c9w7/",
           "I don’t believe that it’s impossible for a hacker "
          ],
          [
           "potato1sgood",
           "/r/Python/comments/ebjgvl/i_wrote_a_program_that_doodles_things_in_ms_paint/fb7ocnt/",
           "Brb, gonna manually parse the algorithm."
          ],
          [
           "CowboyBoats",
           "/r/Python/comments/ebx65k/could_someone_explain_to_me_why_tkinter_is_being/fb7qygn/",
           "[This answer](https://apple.stackexchange.com/ques"
          ],
          [
           "raskoln31",
           "/r/Python/comments/ebjgvl/i_wrote_a_program_that_doodles_things_in_ms_paint/fb7r5fq/",
           "Oh hypnotized forever, gj!"
          ],
          [
           "mamcx",
           "/r/Python/comments/e032gu/rpython_job_board/fb7rjs2/",
           "Hola, gracias por responder. \n\nEs un proyecto par "
          ],
          [
           "AutoModerator",
           "/r/Python/comments/ebxhja/manifesto_for_applied_artificial_intelligence/fb7rlq2/",
           "Your submission has been automatically removed.\n\nY"
          ],
          [
           "jedidihah",
           "/r/Python/comments/ebxg4w/how_to_get_started_with_coding_python_on_a_chrome/fb7rqx1/",
           "If you google that exact question, or shorten it t"
          ],
          [
           "nathanjell",
           "/r/Python/comments/ec3iv5/sqlalchemy_vs_pyodbc/fb8zpkz/",
           "Supported by Microsoft for what? And who cares? Th"
          ],
          [
           "Daharka",
           "/r/Python/comments/ec0d46/learning_python_and_couldnt_think_of_a_good/fb8zvx0/",
           "[An introduction to his work](https://www.youtube."
          ],
          [
           "Sir_not_sir",
           "/r/Python/comments/ec48rb/need_to_add_2_for_loops_beginner_python_not_sure/fb910g5/",
           "Your link has no code.\n\nPaste your code in a post "
          ],
          [
           "AutoModerator",
           "/r/Python/comments/ebzoxt/pascals_triangle/fb86n01/",
           "Your submission has been automatically removed.\n\nY"
          ],
          [
           "ChocolateBunny",
           "/r/Python/comments/ec0d46/learning_python_and_couldnt_think_of_a_good/fb92ntp/",
           "Wow.  I would have just put a big ass \"\"\"\"/\"\"\"\" bl"
          ],
          [
           "panupatc",
           "/r/Python/comments/ec0d46/learning_python_and_couldnt_think_of_a_good/fb9qx5n/",
           "That's a compliment - that you as a sperm was stro"
          ],
          [
           "ProfessionalTune0",
           "/r/Python/comments/ebx65k/could_someone_explain_to_me_why_tkinter_is_being/fb88ncl/",
           "You might want to try something more performant li"
          ],
          [
           "OnyxPhoenix",
           "/r/Python/comments/ebxg4w/how_to_get_started_with_coding_python_on_a_chrome/fb88n08/",
           "Id honestly recommend buying a raspberry pi. If yo"
          ],
          [
           "galaxyWanderer",
           "/r/Python/comments/ebvec3/new_python_project_starter_tool_with_poetry/fb890qk/",
           "Might be worthwhile including black for formatting"
          ],
          [
           "chinawcswing",
           "/r/Python/comments/ebyf45/how_to_support_a_python_package_that_uses_c/fb886o8/",
           "How would I automate something like the use of f-s"
          ],
          [
           "thekatshow",
           "/r/Python/comments/e032gu/rpython_job_board/fb88j64/",
           "Global"
          ],
          [
           "karouh",
           "/r/Python/comments/ebw6fy/faster_enum_comparison_with_enum_from_the_python/fb8a5t3/",
           "What is the point of adding a new dependency in or"
          ],
          [
           "Kalub1125",
           "/r/Python/comments/ebw95t/whats_everyone_working_on_this_week/fb8af62/",
           "I plan on making my discord bot connect to the Spo"
          ],
          [
           "Conrad_noble",
           "/r/Python/comments/ebw95t/whats_everyone_working_on_this_week/fb8g8kh/",
           "End goal get it to order your groceries to click a"
          ],
          [
           "nemec",
           "/r/Python/comments/ebxjbh/advice_on_images_scraping/fb8hd7n/",
           "TBH I would start with [Parsel](https://github.com"
          ],
          [
           "sambhavgarrg",
           "/r/Python/comments/ec0j6z/quick_mods_are_asleep_upvote_pics_of_python/fb8ijfw/",
           "The real og"
          ],
          [
           "llivejo",
           "/r/Python/comments/ebxg4w/how_to_get_started_with_coding_python_on_a_chrome/fb8gmul/",
           "Use crouton or Chrostini - Linux diestro inside Ch"
          ],
          [
           "DrTautology",
           "/r/Python/comments/ec0j6z/quick_mods_are_asleep_upvote_pics_of_python/fb8hxkh/",
           "from python import ball"
          ],
          [
           "ChasingLogic",
           "/r/Python/comments/ebww8n/looking_for_a_mentor/fb8ia6r/",
           "My recommendation is find an open source project a"
          ],
          [
           "Starlyns",
           "/r/Python/comments/ebz6pj/scanner_app_inventory_management_from_scratch/fb8ipmb/",
           "OK have never used any of those languages am more "
          ],
          [
           "FukMyHoles",
           "/r/Python/comments/ec0d46/learning_python_and_couldnt_think_of_a_good/fb8l7jh/",
           "For those interested in the script, I'll upload it"
          ],
          [
           "footloooops",
           "/r/Python/comments/ec0yni/i_code_a_multiple_sudoku_grids_solver_in_python/fb8kqk8/",
           "So do u record a video, then pass it through? It's"
          ],
          [
           "MrK_HS",
           "/r/Python/comments/ec0yni/i_code_a_multiple_sudoku_grids_solver_in_python/fb8m6hn/",
           "I took a look at the code and in fact he is using "
          ],
          [
           "jellef",
           "/r/Python/comments/ebx66h/12_trending_alternatives_for_distributing_python/fb8npv9/",
           "[There should be one-- and preferably only one --o"
          ],
          [
           "Jake-Ballard",
           "/r/Python/comments/ebw95t/whats_everyone_working_on_this_week/fb8kbmx/",
           "I’ve started this project to automate some stuff a"
          ],
          [
           "ziggomatic_17",
           "/r/Python/comments/ebu5mi/the_little_book_of_python_antipatterns_python/fb8pri1/",
           "I generally agree. But I also think there are some"
          ],
          [
           "Moonberry8",
           "/r/Python/comments/ec0d46/learning_python_and_couldnt_think_of_a_good/fb8pw6t/",
           "Now make a passive aggressive compliment generator"
          ],
          [
           "NeoM02",
           "/r/Python/comments/ec0d46/learning_python_and_couldnt_think_of_a_good/fb8pyex/",
           "Yeah so I'll try that"
          ],
          [
           "UnexpectedBSOD",
           "/r/Python/comments/ebsg40/professional_python_coding/fb7vqvw/",
           "Test automation"
          ],
          [
           "carebeartears",
           "/r/Python/comments/ebrc2i/would_python_be_a_good_way_to_make_a_small_win_10/fb8sh2i/",
           "yeah, I saw a blurb in my travels about autohotkey"
          ],
          [
           "MysticalKittyHerder",
           "/r/Python/comments/ec0d46/learning_python_and_couldnt_think_of_a_good/fb8rmdd/",
           "Why didn't you post a github link yet?? We're all "
          ],
          [
           "willm",
           "/r/Python/comments/ebyq0v/production_setup_for_websockets_asyncio/fb8sdp1/",
           "I built a socket server using aiohttp. In producti"
          ],
          [
           "kaihatsusha",
           "/r/Python/comments/ec0d46/learning_python_and_couldnt_think_of_a_good/fb8u5o5/",
           "Yes, if the integer keys are densely spaced, but l"
          ],
          [
           "Sir_not_sir",
           "/r/Python/comments/ebylo8/advanced_python_book_with_cool_science_excersizes/fb81bo1/",
           "Fluent Python and Numerical Python are probably ge"
          ],
          [
           "Balacktoid",
           "/r/Python/comments/ebt8q5/my_code_keeps_giving_me_this_error_please_help_me/fb83s9p/",
           "def get\\_arguments():  \nparser = optparse.OptionPa"
          ],
          [
           "tahmsplat",
           "/r/Python/comments/ebu5mi/the_little_book_of_python_antipatterns_python/fb83v8u/",
           "I think \"single letters doubled\" is better e.g. `i"
          ],
          [
           "pythonHelperBot",
           "/r/Python/comments/ebyydg/please_help_new_and_confused/fb81uf8/",
           "Hello! I'm a bot!\n\nIt looks to me like your post m"
          ],
          [
           "putnam78",
           "/r/Python/comments/ebmj0m/using_python_with_other_languages/fb82jlh/",
           "thanks for your quick reply"
          ],
          [
           "makotomike",
           "/r/Python/comments/ebw95t/whats_everyone_working_on_this_week/fb81gzk/",
           "...Trying to figure out why my company uses so man"
          ],
          [
           "blahhhhh",
           "/r/Python/comments/ebfoug/8_reasons_why_python_is_good_for_artificial/fb82ned/",
           "I'll check it out, sounds like an idea to test"
          ],
          [
           "mahtats",
           "/r/Python/comments/ec3c4j/classes_and_were_to_use_them/fb8x4xc/",
           "Use classes when you need to consolidate functiona"
          ],
          [
           "CuriousDwarf",
           "/r/Python/comments/ec0d46/learning_python_and_couldnt_think_of_a_good/fb8wjy1/",
           "!remindMe 2 hours"
          ],
          [
           "TicklesMcFancy",
           "/r/Python/comments/ec3c4j/classes_and_were_to_use_them/fb8v4bb/",
           "Hey i just watched a video on YouTube that explain"
          ],
          [
           "damian_work_account",
           "/r/Python/comments/ebu5mi/the_little_book_of_python_antipatterns_python/fb84s7n/",
           "&gt; an example and I'll provide the better variab"
          ],
          [
           "Yoghurt42",
           "/r/Python/comments/ebxfls/question_regarding_class_int_is_not_json/fb85ghn/",
           "&gt; TypeError: &lt;map object at ...&gt; is not J"
          ],
          [
           "hkamran85",
           "/r/Python/comments/ec0d46/learning_python_and_couldnt_think_of_a_good/fb8z412/",
           "Never heard of him"
          ],
          [
           "Kyle_Is_On_Reddit",
           "/r/Python/comments/ec0d46/learning_python_and_couldnt_think_of_a_good/fb8ydwm/",
           "Mein Kampf mit Schokoladenkuchen"
          ],
          [
           "Herman_Weinstein",
           "/r/Python/comments/ec0j6z/quick_mods_are_asleep_upvote_pics_of_python/fb8d3i0/",
           "Cutie!"
          ],
          [
           "real_men_use_vba",
           "/r/Python/comments/ebw39p/conda_is_fing_slow/fb8f548/",
           "Are you running the latest conda? It was a lot slo"
          ],
          [
           "CodeSkunky",
           "/r/Python/comments/ebu5mi/the_little_book_of_python_antipatterns_python/fb8dc8p/",
           "It's better is why. It immediately tells me as opp"
          ],
          [
           "moonlandings",
           "/r/Python/comments/ec0a67/builtin_function_or_method_object_has_no_attribute/fb8e7x3/",
           "He’s trying to do “{:.2f}”"
          ],
          [
           "firefrommoonlight",
           "/r/Python/comments/ebx66h/12_trending_alternatives_for_distributing_python/fb93qk6/",
           "That one hasn't been relevant in a while. For exam"
          ],
          [
           "Imagine-existance",
           "/r/Python/comments/ec0d46/learning_python_and_couldnt_think_of_a_good/fb97umu/",
           "*racist against asians and white people since reev"
          ],
          [
           "flohjiyamamoto",
           "/r/Python/comments/ebyf45/how_to_support_a_python_package_that_uses_c/fb96h3t/",
           "It’s not just Raymond, I love f-strings too"
          ],
          [
           "Clyde3167",
           "/r/Python/comments/ec5osq/how_can_i_run_an_excel_addin_vba_macro_on_a/fb9bfc5/",
           "Can you not just add the add-in to a button on a s"
          ],
          [
           "ArtoriusSmith",
           "/r/Python/comments/ec56kr/signal_procesing/fb992ba/",
           "NumPy and SciPy will give you most of the function"
          ],
          [
           "nathanjell",
           "/r/Python/comments/ec3iv5/sqlalchemy_vs_pyodbc/fb9ath9/",
           "Not quite. You've got two options: use an ORM or e"
          ],
          [
           "iaalaughlin",
           "/r/Python/comments/ec0d46/learning_python_and_couldnt_think_of_a_good/fb989pz/",
           "Chocolate cake is delicious"
          ],
          [
           "paspascal",
           "/r/Python/comments/ebylo8/advanced_python_book_with_cool_science_excersizes/fb9c51j/",
           "So I too work in science and dabble often with the"
          ],
          [
           "PythonKoder",
           "/r/Python/comments/ec3c4j/classes_and_were_to_use_them/fb9cx11/",
           "Use classes when you find yourself referencing ver"
          ],
          [
           "MistBornDragon",
           "/r/Python/comments/ebytlq/interesting_project/fb9cvip/",
           "Create a runescape bot"
          ],
          [
           "smalltalker",
           "/r/Python/comments/ec3iv5/sqlalchemy_vs_pyodbc/fb9gntg/",
           "A small clarification on the other comment: Both t"
          ],
          [
           "AZNman1111",
           "/r/Python/comments/dy2ler/jinja_templates_for_nbconvert/fb9h3dz/",
           "Ipynb --&gt; rst --&gt; html?"
          ],
          [
           "BDube_Lensman",
           "/r/Python/comments/ec4ibh/taking_the_loglinear_results_of_a_fourier/fb9iq4a/",
           "FFT frequency bins are inherently log spaced., you"
          ],
          [
           "wazor911",
           "/r/Python/comments/ebpxeg/any_flask_developer_with_passion_for_football_here/fb9k1x8/",
           "Dm is fine"
          ],
          [
           "pavlik_enemy",
           "/r/Python/comments/ec1pf2/i_want_your_opinion_mypy/fb9lw4u/",
           "I come from .NET background and currently do most "
          ],
          [
           "BDube_Lensman",
           "/r/Python/comments/ebw39p/conda_is_fing_slow/fb9j70v/",
           "ITT: it’s almost as if extremely large dependency "
          ],
          [
           "FukMyHoles",
           "/r/Python/comments/ec6opk/so_i_wrote_this_script_a_ago_year_but_today_i/fb9o33t/",
           "I made a similar one when I was messing around and"
          ],
          [
           "BrettFavreFlavored",
           "/r/Python/comments/ec6opk/so_i_wrote_this_script_a_ago_year_but_today_i/fb9uld2/",
           "Good to know."
          ],
          [
           "mipadi",
           "/r/Python/comments/ec1pf2/i_want_your_opinion_mypy/fb9v2tq/",
           "I'm not a big fan. If you want type safety, there "
          ],
          [
           "idairis",
           "/r/Python/comments/ec91s7/lost_and_afraid/fb9x3xj/",
           "The python mega course on Udemy is excellent and w"
          ],
          [
           "PingouinFarfelu",
           "/r/Python/comments/ec0yni/i_code_a_multiple_sudoku_grids_solver_in_python/fb9xaic/",
           "Hey Dude, \n\nThx for the comment ! What do you mean"
          ],
          [
           "pythonHelperBot",
           "/r/Python/comments/ec8cwd/isnt_django_too_fast/fb9z1vk/",
           "Hello! I'm a bot!\n\nIt looks to me like your post m"
          ],
          [
           "LightShadow",
           "/r/Python/comments/ebu5mi/the_little_book_of_python_antipatterns_python/fb9ywyw/",
           "Nothing like doubling the RAM to do a simple check"
          ],
          [
           "TheReverend403",
           "/r/Python/comments/ec0d46/learning_python_and_couldnt_think_of_a_good/fb9yyzg/",
           "http://www.pangloss.com/seidel/Shaker/"
          ],
          [
           "PM_ME_YOUR_TORNADOS",
           "/r/Python/comments/ec0d46/learning_python_and_couldnt_think_of_a_good/fba0574/",
           "Don't be so flippant. OP is doing better than a 5 "
          ],
          [
           "Jak_from_Venice",
           "/r/Python/comments/ec0d46/learning_python_and_couldnt_think_of_a_good/fb9yl6h/",
           "Wanna a good project?\n\n- mail spam filter\n- GUI ma"
          ],
          [
           "Scumbag1234",
           "/r/Python/comments/ec91s7/lost_and_afraid/fb9zoes/",
           "numpy and matplotlib is all you need for plotting "
          ],
          [
           "SteinSteenStern",
           "/r/Python/comments/ec0d46/learning_python_and_couldnt_think_of_a_good/fba2ss4/",
           " \\[ calmly closes laptop \\] \n\n\\[script starts send"
          ],
          [
           "pythonHelperBot",
           "/r/Python/comments/ecakha/question_how_to_download_txt_files_from_django/fba3n97/",
           "Hello! I'm a bot!\n\nIt looks to me like your post m"
          ],
          [
           "davehodg",
           "/r/Python/comments/ec3c4j/classes_and_were_to_use_them/fba2n5k/",
           "I remember there were three buzzwords like encapsu"
          ],
          [
           "Astrokiwi",
           "/r/Python/comments/ec0d46/learning_python_and_couldnt_think_of_a_good/fba58sh/",
           "Sure but it's more ` P Y T H O N I C`"
          ],
          [
           "chincherpa",
           "/r/Python/comments/ecanxc/what_is_a_good_library_to_connect_sql_to_python/fba655f/",
           "There is also a SQL library already buit-in.\nhttps"
          ],
          [
           "[deleted]",
           "/r/Python/comments/ec0d46/learning_python_and_couldnt_think_of_a_good/fba863n/",
           "[removed]"
          ],
          [
           "Aereskiko",
           "/r/Python/comments/ecbczc/problem_with_pyinstaller/fba7hrm/",
           "Think it might have to do with hidden imports, or "
          ],
          [
           "[deleted]",
           "/r/Python/comments/ec0d46/learning_python_and_couldnt_think_of_a_good/fba8ojb/",
           "[removed]"
          ],
          [
           "xd1142",
           "/r/Python/comments/ecat9l/can_i_help_automate_some_of_your_work/fba7o63/",
           "housechores"
          ],
          [
           "[deleted]",
           "/r/Python/comments/ecat9l/can_i_help_automate_some_of_your_work/fba940g/",
           "[removed]"
          ],
          [
           "[deleted]",
           "/r/Python/comments/ec0d46/learning_python_and_couldnt_think_of_a_good/fba8e2j/",
           "[removed]"
          ],
          [
           "1-SLIPPERY-SLOPE",
           "/r/Python/comments/ebjgvl/i_wrote_a_program_that_doodles_things_in_ms_paint/fb5pqjd/",
           "!remindme 2 hours"
          ],
          [
           "princelySid",
           "/r/Python/comments/ebl24m/sorry_to_be_dumb_but_how_do_you_install_python_36/fb5omy2/",
           "Co-signing this because you should be using virtua"
          ],
          [
           "kpook11",
           "/r/Python/comments/ebjgvl/i_wrote_a_program_that_doodles_things_in_ms_paint/fb5orl8/",
           "So this is how they make the 90s designs for bus s"
          ],
          [
           "Daylight617",
           "/r/Python/comments/ebjgvl/i_wrote_a_program_that_doodles_things_in_ms_paint/fb5pi88/",
           "\\*every modern art piece\\*"
          ],
          [
           "AutoModerator",
           "/r/Python/comments/eblpdz/bank_atm_project_function_issue/fb5qx2u/",
           "Your submission has been automatically removed.\n\nY"
          ],
          [
           "ddensa",
           "/r/Python/comments/ebjgvl/i_wrote_a_program_that_doodles_things_in_ms_paint/fb5szse/",
           "Would be interesting to mix this idea to some kind"
          ],
          [
           "Plutone00100",
           "/r/Python/comments/e5hms3/whats_everyone_working_on_this_week/fb5o35c/",
           "Some Qt for Python, first contact ever with the li"
          ],
          [
           "a1b3rt",
           "/r/Python/comments/ebjgvl/i_wrote_a_program_that_doodles_things_in_ms_paint/fb5o888/",
           "Next official wallpaper for Samsung/Apple flagship"
          ],
          [
           "AirHamyes",
           "/r/Python/comments/ebjgvl/i_wrote_a_program_that_doodles_things_in_ms_paint/fb5qcbe/",
           " [https://pastebin.com/98EWgWyq](https://pastebin."
          ],
          [
           "VaginalPodiatrist216",
           "/r/Python/comments/ebjgvl/i_wrote_a_program_that_doodles_things_in_ms_paint/fb5rbx4/",
           "*Jackson Pollock wants to know your location*"
          ],
          [
           "oligonucleotides",
           "/r/Python/comments/eblyxu/what_can_be_a_reason_that_python_imports_behave/fb5tiwr/",
           "Not sure, debugging python imports sucks, especial"
          ],
          [
           "Not_A_Pumpkin",
           "/r/Python/comments/ebmj0m/using_python_with_other_languages/fb5y0t2/",
           "Without more information/instruction we can't real"
          ],
          [
           "joyrida12",
           "/r/Python/comments/ebkm5x/learning_python_is_boring_me_i_learn_from/fb5ypy2/",
           "Learning to program is going to require you consum"
          ],
          [
           "mRWafflesFTW",
           "/r/Python/comments/eblyxu/what_can_be_a_reason_that_python_imports_behave/fb60ne1/",
           "The context in which you run code changes how the "
          ],
          [
           "WibblyWobblyWabbit",
           "/r/Python/comments/ebjgvl/i_wrote_a_program_that_doodles_things_in_ms_paint/fb63xpb/",
           "Or maybe Pywin32?"
          ],
          [
           "Ahaterhater",
           "/r/Python/comments/ebjgvl/i_wrote_a_program_that_doodles_things_in_ms_paint/fb68nhy/",
           "I like bot's art!"
          ],
          [
           "DazedWithCoffee",
           "/r/Python/comments/ebjgvl/i_wrote_a_program_that_doodles_things_in_ms_paint/fb6avwx/",
           "Yeah... but does it duct tape a banana to the canv"
          ],
          [
           "scottyrogers10",
           "/r/Python/comments/ebjgvl/i_wrote_a_program_that_doodles_things_in_ms_paint/fb6ax15/",
           "This passes as a \"doodle\" ?"
          ],
          [
           "pythonHelperBot",
           "/r/Python/comments/ebolwq/help_with_a_file_problem_on_python/fb6b7jv/",
           "Hello! I'm a bot!\n\nIt looks to me like your post m"
          ],
          [
           "d3vi4nt1337",
           "/r/Python/comments/ebjgvl/i_wrote_a_program_that_doodles_things_in_ms_paint/fb6dwnb/",
           "Now tape a banana to it."
          ],
          [
           "chuck_01272003",
           "/r/Python/comments/ebnzoa/can_you_assign_variables_in_a_lambda/fb6ewcm/",
           "Lol, np"
          ],
          [
           "ifiwasmaybe",
           "/r/Python/comments/ebp07u/python_web_development_saas_question/fb6en2h/",
           "Both Stripe and PayPal can do subscriptions via AP"
          ],
          [
           "chuck_01272003",
           "/r/Python/comments/ebnzoa/can_you_assign_variables_in_a_lambda/fb6eso7/",
           "I forget to mention that this is within the scope "
          ],
          [
           "tipsy_python",
           "/r/Python/comments/ebfbo8/software_entrepreneur_will_you_advise/fb4dy5v/",
           "Gonna add background: I graduated with a business "
          ],
          [
           "kenneho",
           "/r/Python/comments/ea022g/subscribe_to_security_news_about_specific_python/fb4gaw6/",
           "Thanks, I'll look into these."
          ],
          [
           "j03f",
           "/r/Python/comments/ebg58i/starting_out/fb4gf9b/",
           "r/learnpython 😀"
          ],
          [
           "tipsy_python",
           "/r/Python/comments/ebfbo8/software_entrepreneur_will_you_advise/fb4d9bj/",
           "Agree with u/dragonddragondragon, very personal qu"
          ],
          [
           "edosv",
           "/r/Python/comments/eb5qil/made_conways_game_of_life_using_tkinter/fb4jngr/",
           "I am aware of problems with the eficiency of the p"
          ],
          [
           "ImpulsivePuffin",
           "/r/Python/comments/eb5qil/made_conways_game_of_life_using_tkinter/fb4n5pb/",
           "Thanks bro, evolution looks much more interesting "
          ],
          [
           "tsunii",
           "/r/Python/comments/eayfs0/learn_regex_the_fun_way/fb4lz4e/",
           "looks like a really fun little project :)\n\nbtw wha"
          ],
          [
           "tewojacinto",
           "/r/Python/comments/eb20wt/built_a_free_json_cloud_storage_solution_in_flask/fb4ptf4/",
           "cool!"
          ],
          [
           "ItsBarney01",
           "/r/Python/comments/ebf7rc/github_mtrajkcodingproblems_python_solutions_for/fb4nvps/",
           "This is cool! With the string palindrome thing, wo"
          ],
          [
           "austapasta",
           "/r/Python/comments/ebb3e1/just_started_working_on_a_portfolio_for/fb4vtye/",
           "Thank you for the review. I super appreciate it. I"
          ],
          [
           "KopfKrieg",
           "/r/Python/comments/ebfqtm/how_much_systemhardware_information_do_you_guys/fb4x44o/",
           "&gt;Would you  please give your advice on the matt"
          ],
          [
           "Kerbart",
           "/r/Python/comments/ebe72x/can_python_be_used_as_macros_across_different/fb4wzhu/",
           "Well, Pandas has all kind of pivot table like func"
          ],
          [
           "ManBearHybrid",
           "/r/Python/comments/ebifcm/what_is_the_workflow_to_work_and_the_package/fb522zf/",
           "Can you post the full sentences in which these ter"
          ],
          [
           "jedwards8th",
           "/r/Python/comments/ebfo58/which_orm_for_python_and_abstraction_between_db/fb4z4h9/",
           "I think it's worth learning SQLalchemy, TBH. Yes, "
          ],
          [
           "noencia",
           "/r/Python/comments/ebhdmm/as_a_dev_what_are_your_main_challenge_keeping_fit/fb51kce/",
           "Some time ago I was trappend in the 2) loop of dem"
          ],
          [
           "FrankBlack78",
           "/r/Python/comments/ea2pn1/problem_installing_docx_in_a_virtual_environment/fb55c15/",
           " I  found out, that I can use virtual environments"
          ],
          [
           "mssxtn",
           "/r/Python/comments/ebiuft/how_should_i_get_started_with_open_source/fb561fk/",
           "There are lists on GitHub of projects looking for "
          ],
          [
           "omegacoo",
           "/r/Python/comments/ebjgvl/i_wrote_a_program_that_doodles_things_in_ms_paint/fb5dpm4/",
           "Wow"
          ],
          [
           "CodeSkunky",
           "/r/Python/comments/eba1w4/how_do_you_turn_just_code_into_code_for_a_game/fb5ek6c/",
           "I don't think users have experience in using game "
          ],
          [
           "PineappleNarwhal",
           "/r/Python/comments/ebfoug/8_reasons_why_python_is_good_for_artificial/fb5e11v/",
           "They say PyInstaller can be used to prepare your c"
          ],
          [
           "BananeHD01",
           "/r/Python/comments/e5hms3/whats_everyone_working_on_this_week/fb5bvjz/",
           "To make a reddit bot ist my current goal. Bit firs"
          ],
          [
           "CookieGuyOof",
           "/r/Python/comments/ebjt38/hey_everyone/fb5f5jo/",
           "isnt that what im doin tho\n\n&amp;#x200B;\n\nluv u"
          ],
          [
           "JustSoManyCups420",
           "/r/Python/comments/ebjgvl/i_wrote_a_program_that_doodles_things_in_ms_paint/fb5gtl4/",
           "Name it the ‘Jackson pollock bot’"
          ],
          [
           "LuminarySquirrel",
           "/r/Python/comments/ebjt38/hey_everyone/fb5evhz/",
           "Everyone is new at some point. The best way to imp"
          ],
          [
           "fressfeind",
           "/r/Python/comments/ebdabr/is_it_possible_to_scrap_dynamically_generated/fb4reag/",
           "Welcome"
          ],
          [
           "ned334",
           "/r/Python/comments/ebjgvl/i_wrote_a_program_that_doodles_things_in_ms_paint/fb5l85j/",
           "$120.000 modern art piece"
          ],
          [
           "xMa998",
           "/r/Python/comments/e5hms3/whats_everyone_working_on_this_week/fb5locx/",
           "Trying to start with coding, because it seems real"
          ],
          [
           "cantmemberpasswordx3",
           "/r/Python/comments/ebjgvl/i_wrote_a_program_that_doodles_things_in_ms_paint/fb5hwck/",
           "Looks cool man. Is your program a fan of 90's Will"
          ],
          [
           "CMphys",
           "/r/Python/comments/ebjt38/hey_everyone/fb5iwhz/",
           "Well, there are probably many ways, but the first "
          ],
          [
           "Rnugg",
           "/r/Python/comments/ebjgvl/i_wrote_a_program_that_doodles_things_in_ms_paint/fb5kjk8/",
           "Now that’s art!"
          ],
          [
           "MagicpotterFirstHit",
           "/r/Python/comments/ebjgvl/i_wrote_a_program_that_doodles_things_in_ms_paint/fb5jskq/",
           "Great! Now try to sell he result for 1M$"
          ],
          [
           "KomaKurt",
           "/r/Python/comments/ebjgvl/i_wrote_a_program_that_doodles_things_in_ms_paint/fb5kf79/",
           "Looks a bit like the upholstery pattern in busses "
          ],
          [
           "shymenJESUS",
           "/r/Python/comments/ebjgvl/i_wrote_a_program_that_doodles_things_in_ms_paint/fb5m6zc/",
           "Watch it get sold for a milion dollars"
          ],
          [
           "pythonHelperBot",
           "/r/Python/comments/ebl3jg/i_need_help_with_my_python/fb5mbto/",
           "Hello! I'm a bot!\n\nIt looks to me like your post m"
          ],
          [
           "MrsBigead",
           "/r/Python/comments/ebjgvl/i_wrote_a_program_that_doodles_things_in_ms_paint/fb5mnyw/",
           "!remindme 2 hours"
          ],
          [
           "Old_Winterton",
           "/r/Python/comments/ebjgvl/i_wrote_a_program_that_doodles_things_in_ms_paint/fb5moci/",
           "I was thinkin if it got turned into a robot, that’"
          ],
          [
           "RemindMeBot",
           "/r/Python/comments/ebjgvl/i_wrote_a_program_that_doodles_things_in_ms_paint/fb5mqag/",
           "I will be messaging you in 2 hours on [**2019-12-1"
          ],
          [
           "djimbob",
           "/r/Python/comments/eazg05/made_my_first_fractal/fb4am3n/",
           "I'm not saying you need it for this, but they didn"
          ],
          [
           "Kerbart",
           "/r/Python/comments/ebe72x/can_python_be_used_as_macros_across_different/fb4am43/",
           "Well not everything. I wish it did. The two big hu"
          ],
          [
           "TotesMessenger",
           "/r/Python/comments/ebf7rc/github_mtrajkcodingproblems_python_solutions_for/fb4ayrd/",
           "I'm a bot, *bleep*, *bloop*. Someone has linked to"
          ],
          [
           "Ashutoshkv",
           "/r/Python/comments/ebd3uz/how_to_control_your_raspberry_pi_from_anywhere_in/fb48evw/",
           "What the hell?"
          ],
          [
           "fedeleeee",
           "/r/Python/comments/eb1fb5/writing_to_a_csv/fb480jx/",
           "Yeah I’m not doing that but I definitely need to t"
          ],
          [
           "dynaken",
           "/r/Python/comments/eb58bb/installed_anaconda_onto_windows_10_via_the_wsl/fb6if1j/",
           "I got spyder to work to after installing it using "
          ],
          [
           "WhatASave456",
           "/r/Python/comments/ebpixv/why_is_my_program_only_printing_the_last_letter/fb6iocp/",
           "I assigned it to names[1] which would be the secon"
          ],
          [
           "robin-gvx",
           "/r/Python/comments/ebnzoa/can_you_assign_variables_in_a_lambda/fb6k8iv/",
           "If you share with us the relevant bits of your act"
          ],
          [
           "DSC34",
           "/r/Python/comments/ebp8tr/any_good_tutorials_on_sending_user_input_from/fb6jo8i/",
           "Possibly some good material in Django tutorials fo"
          ],
          [
           "incognitodw",
           "/r/Python/comments/ebpixv/why_is_my_program_only_printing_the_last_letter/fb6l406/",
           "U did not assign a variable at the split"
          ],
          [
           "Trghpy00",
           "/r/Python/comments/ebpixv/why_is_my_program_only_printing_the_last_letter/fb6iunb/",
           "Yes, 1 name. A string."
          ],
          [
           "efmccurdy",
           "/r/Python/comments/ebnzoa/can_you_assign_variables_in_a_lambda/fb6mk4r/",
           "    lambda self: self.x = 23"
          ],
          [
           "LetMe_",
           "/r/Python/comments/ebu3yt/python_statistics_fundamentals_how_to_describe/fb78st7/",
           "I didn't know that Ruby is still being considered "
          ],
          [
           "mtrajk93",
           "/r/Python/comments/ebf7rc/github_mtrajkcodingproblems_python_solutions_for/fb780td/",
           "Thanks, I added comments in all these reversing so"
          ],
          [
           "pandoira",
           "/r/Python/comments/d0fagg/automatic_reddit_to_youtube_texttospeech_channel/fb7986k/",
           "If you look at all the monetized TTS channels you "
          ],
          [
           "pythonHelperBot",
           "/r/Python/comments/ebupgg/new_to_python_can_someone_help_me_with_this_error/fb7aduj/",
           "Hello! I'm a bot!\n\nIt looks to me like your post m"
          ],
          [
           "dragonddragondragon",
           "/r/Python/comments/ebd3uz/how_to_control_your_raspberry_pi_from_anywhere_in/fb77639/",
           "Client v protocol differences does not matter to t"
          ],
          [
           "Jonisas0407",
           "/r/Python/comments/ebjgvl/i_wrote_a_program_that_doodles_things_in_ms_paint/fb77qfl/",
           "There is a possibility that it would paint every k"
          ],
          [
           "ddensa",
           "/r/Python/comments/ebjgvl/i_wrote_a_program_that_doodles_things_in_ms_paint/fb78nxl/",
           "That's interesting, but from the gallery I see tha"
          ],
          [
           "911OpenUp",
           "/r/Python/comments/ebjgvl/i_wrote_a_program_that_doodles_things_in_ms_paint/fb7bbn0/",
           "I wish i could if i knew how to ¯\\\\\\_(ツ)_/¯"
          ],
          [
           "MrK_HS",
           "/r/Python/comments/eazg05/made_my_first_fractal/fb78vjl/",
           "/r/Python is slowly becoming an alias for /r/fract"
          ],
          [
           "thanksfortheride",
           "/r/Python/comments/eb8oce/whats_the_best_way_to_check_grammar_in_python/fb6qb7x/",
           "lol hey, I tell them then need to write this much,"
          ],
          [
           "robin-gvx",
           "/r/Python/comments/eblvdq/linked_list_in_python/fb6p7dr/",
           "* Try out appending `0`, `False`, `()`, `None` and"
          ],
          [
           "StringCheeseInc",
           "/r/Python/comments/ebjgvl/i_wrote_a_program_that_doodles_things_in_ms_paint/fb6qot7/",
           "That’s amazing"
          ],
          [
           "bored_and_scrolling",
           "/r/Python/comments/ebjgvl/i_wrote_a_program_that_doodles_things_in_ms_paint/fb6qsu9/",
           "Is there a paint API?"
          ],
          [
           "zperk13",
           "/r/Python/comments/ebjgvl/i_wrote_a_program_that_doodles_things_in_ms_paint/fb6rb41/",
           "this look way better than it should"
          ],
          [
           "College4321",
           "/r/Python/comments/ebqfeh/day_1_python_learner_sos/fb6p029/",
           "it is trying to print a name but the error is appe"
          ],
          [
           "SnakeSneakers",
           "/r/Python/comments/e9hle8/im_a_noob_how_would_i_get_the_total_number_of/fb6pltm/",
           "hi"
          ],
          [
           "College4321",
           "/r/Python/comments/ebqfeh/day_1_python_learner_sos/fb6oydm/",
           "The only thing is that the textbook that I am usin"
          ],
          [
           "TrappingRainWater",
           "/r/Python/comments/eb8oce/whats_the_best_way_to_check_grammar_in_python/fb6qmla/",
           "Just seeing the phrase \"exit ticket\" gives me PTSD"
          ],
          [
           "College4321",
           "/r/Python/comments/ebqfeh/day_1_python_learner_sos/fb6pc3h/",
           "Thank you! It was the text editor that was not set"
          ],
          [
           "amcphe21",
           "/r/Python/comments/ebjgvl/i_wrote_a_program_that_doodles_things_in_ms_paint/fb7ea52/",
           "I vote picasso"
          ],
          [
           "ProfessionalTune0",
           "/r/Python/comments/e5hms3/whats_everyone_working_on_this_week/fb7cccw/",
           "I haven't been working on it this week specificall"
          ],
          [
           "sboobinator",
           "/r/Python/comments/ebjgvl/i_wrote_a_program_that_doodles_things_in_ms_paint/fb7bsg7/",
           "You are an artist, thanks for this."
          ],
          [
           "nielsrolf",
           "/r/Python/comments/eblyxu/what_can_be_a_reason_that_python_imports_behave/fb7cb6a/",
           "Yes, a and b are in the same directory. import b w"
          ],
          [
           "PineappleNarwhal",
           "/r/Python/comments/ebu5mi/the_little_book_of_python_antipatterns_python/fb7eqgf/",
           "I really don't understand the tabs vs spaces thing"
          ],
          [
           "gods_programmer",
           "/r/Python/comments/ebfbo8/software_entrepreneur_will_you_advise/fb7fx6j/",
           "Hi, thank you for your words. I do appreciate it. "
          ],
          [
           "YmFzZTY0dXNlcm5hbWU_",
           "/r/Python/comments/eb8j7p/evolving_images_using_genetic_algorithms_and/fb7flza/",
           "Pretty sure this was the site I was thinking of, t"
          ],
          [
           "MrK_HS",
           "/r/Python/comments/ebh0gt/how_to_detect_dominant_color_in_masked_image/fb7ikkc/",
           "Not average. I'd go with frequency."
          ],
          [
           "tipsy_python",
           "/r/Python/comments/ebu5mi/the_little_book_of_python_antipatterns_python/fb7gbde/",
           "Yeah, but tabs aren’t displayed consistently acros"
          ],
          [
           "ram_n",
           "/r/Python/comments/ebjgvl/i_wrote_a_program_that_doodles_things_in_ms_paint/fb7fhol/",
           "Yes, it is working for me. I had to learn some of "
          ],
          [
           "A_Good_Hunter",
           "/r/Python/comments/ebvec3/new_python_project_starter_tool_with_poetry/fb7hlvk/",
           "This is a fine note."
          ],
          [
           "pythonHelperBot",
           "/r/Python/comments/ebwf5s/how_do_i_use_gui/fb7kmek/",
           "Hello! I'm a bot!\n\nIt looks to me like your post m"
          ],
          [
           "newtonewacc",
           "/r/Python/comments/e9stnp/back_end_and_data_structures_algorithms_need_an/fb7lupp/",
           "Hahah yeah man imma serve my time. \n\nAnyway if u h"
          ],
          [
           "inarighas",
           "/r/Python/comments/ebw39p/conda_is_fing_slow/fb7m0h2/",
           "Thanks, I know that too. But it confirms my belief"
          ],
          [
           "zacharius_zipfelmann",
           "/r/Python/comments/ebf7rc/github_mtrajkcodingproblems_python_solutions_for/fb6ve53/",
           "Very cool! Sadly wont be able to take a look the n"
          ],
          [
           "Gawd_is_great",
           "/r/Python/comments/eazg05/made_my_first_fractal/fb6vcop/",
           "Uncomment the line #draw()"
          ],
          [
           "rico5678",
           "/r/Python/comments/eb8j7p/evolving_images_using_genetic_algorithms_and/fb6wrb3/",
           "Thanks! That one was the inspiration for sure.  Th"
          ],
          [
           "Gawd_is_great",
           "/r/Python/comments/eazg05/made_my_first_fractal/fb6vjqh/",
           "Okay it's Perfectly fixed  now.\nDoesn't crash and "
          ],
          [
           "xd1142",
           "/r/Python/comments/ebw39p/conda_is_fing_slow/fb7m80j/",
           "Try Enthought EDM."
          ],
          [
           "N3OX",
           "/r/Python/comments/ebsg40/professional_python_coding/fb7mwg5/",
           "Data analysis and summarization, data acquisition,"
          ],
          [
           "K900_",
           "/r/Python/comments/ebtnxv/no_such_file_or_directory_ls/fb7oed7/",
           "Is your production server on Linux too?"
          ],
          [
           "chhuang",
           "/r/Python/comments/ebjgvl/i_wrote_a_program_that_doodles_things_in_ms_paint/fb6zqkn/",
           "You would think you get any penny without any duck"
          ],
          [
           "drbobb",
           "/r/Python/comments/eb1fb5/writing_to_a_csv/fb6yiq3/",
           "The usual reason for outputting a csv file is that"
          ],
          [
           "Gawd_is_great",
           "/r/Python/comments/eazg05/made_my_first_fractal/fb7012l/",
           "Okay I think I fixed the crash. See the code."
          ],
          [
           "tenyu9",
           "/r/Python/comments/ebsg40/professional_python_coding/fb6zzxd/",
           "We have a couple of backend APIs in flask. And lot"
          ],
          [
           "esp_py",
           "/r/Python/comments/ebpxeg/any_flask_developer_with_passion_for_football_here/fb704bm/",
           "Can help, have some experience with flask"
          ],
          [
           "MartyMacGyver",
           "/r/Python/comments/eazg05/made_my_first_fractal/fb6zxlp/",
           "Gotcha - cool!"
          ],
          [
           "Meefims",
           "/r/Python/comments/ebw76t/python_as_a_back_end_language_for_a_wep_app/fb7qp7f/",
           "[The Flask Mega Tutorial](https://blog.miguelgrinb"
          ],
          [
           "Meefims",
           "/r/Python/comments/ebwk8h/python_and_data_science_for_aws/fb7pwh1/",
           "This question is too broad to answer effectively b"
          ],
          [
           "zpwd",
           "/r/Python/comments/ebww8n/looking_for_a_mentor/fb7pg6i/",
           "Consider internship - it is exactly what you need."
          ],
          [
           "kaztaraka",
           "/r/Python/comments/ebw95t/whats_everyone_working_on_this_week/fb7pkxx/",
           "I work in the medical animation field. I am curren"
          ],
          [
           "neozhaoliang",
           "/r/Python/comments/ebst39/i_saw_people_post_animations_on_fractals_mazes/fb71dr1/",
           "The gif animation contains 3887 frames, has 1.1MB "
          ],
          [
           "cglacet",
           "/r/Python/comments/ebf7rc/github_mtrajkcodingproblems_python_solutions_for/fb731lw/",
           "Ah, nevermind, it's already in the list ^^."
          ],
          [
           "cglacet",
           "/r/Python/comments/ebf7rc/github_mtrajkcodingproblems_python_solutions_for/fb72m5w/",
           "Reversing strings \"in-place\" is not possible in mo"
          ],
          [
           "aesthetixell",
           "/r/Python/comments/ebiuft/how_should_i_get_started_with_open_source/fb730fk/",
           "Oh thank you so much for the response.\nCan I text "
          ],
          [
           "pythonHelperBot",
           "/r/Python/comments/ebw7vw/how_to_fix_requested_python_version_3_is_not/fb7twqp/",
           "Hello! I'm a bot!\n\nIt looks to me like your post m"
          ],
          [
           "rhcrise",
           "/r/Python/comments/ebw39p/conda_is_fing_slow/fb7uf6i/",
           "Have you tried reinstalling it? Does it happen on "
          ],
          [
           "Forschkeeper",
           "/r/Python/comments/ec0j6z/quick_mods_are_asleep_upvote_pics_of_python/fb8dl6z/",
           "Is this python 4?"
          ],
          [
           "justingolden21",
           "/r/Python/comments/ebjgvl/i_wrote_a_program_that_doodles_things_in_ms_paint/fb8dol5/",
           "For sure. Your program is awesome though. Just a l"
          ],
          [
           "MrsDyslexia",
           "/r/Python/comments/ebzqpe/need_help/fb8aa5u/",
           "Yes it is, i changed it and its still saying inval"
          ],
          [
           "a1brit",
           "/r/Python/comments/ebvec3/new_python_project_starter_tool_with_poetry/fb89lri/",
           "That goes against the wemake-style ethics.\n\n[https"
          ],
          [
           "parles",
           "/r/Python/comments/ebwk8h/python_and_data_science_for_aws/fb7rgof/",
           "Let me clarify: I'm looking for data science tasks"
          ],
          [
           "gods_programmer",
           "/r/Python/comments/ebww8n/looking_for_a_mentor/fb7rmmx/",
           "I've been trying to get hired as an entry-level / "
          ],
          [
           "robo__Dev",
           "/r/Python/comments/ebx65k/could_someone_explain_to_me_why_tkinter_is_being/fb7rttv/",
           "I'm using Python 3. I haven't really dove into fig"
          ],
          [
           "moistbuckets",
           "/r/Python/comments/ebjgvl/i_wrote_a_program_that_doodles_things_in_ms_paint/fb74sio/",
           "Machine learning to make it draw????"
          ],
          [
           "CliftonPark1",
           "/r/Python/comments/ebw39p/conda_is_fing_slow/fb8cjpo/",
           "I had this problem. Anytime you install a package "
          ],
          [
           "naught-me",
           "/r/Python/comments/ebxg4w/how_to_get_started_with_coding_python_on_a_chrome/fb8c7xj/",
           "Alternatively, get a VPS and work in its shell."
          ],
          [
           "giraffactory",
           "/r/Python/comments/ebsg40/professional_python_coding/fb7tcur/",
           "I develop and maintain a set of internal systems i"
          ],
          [
           "jagkagd",
           "/r/Python/comments/e9kszt/a_library_to_perform_a_numpy_array_transformation/fb74yg9/",
           "Thanks for the feedback. I've update my README in "
          ],
          [
           "cglacet",
           "/r/Python/comments/ebf7rc/github_mtrajkcodingproblems_python_solutions_for/fb74zpm/",
           "Definitively worth spending some time reading and "
          ],
          [
           "dragonddragondragon",
           "/r/Python/comments/ebsgnv/ultra_simple_morse_code_translator/fb756al/",
           "If you want comments on code, provide a link to th"
          ],
          [
           "F1eshWound",
           "/r/Python/comments/ebjgvl/i_wrote_a_program_that_doodles_things_in_ms_paint/fb754k3/",
           "I'd happily pay 200mil for that."
          ],
          [
           "Wirukasu",
           "/r/Python/comments/ebxfls/question_regarding_class_int_is_not_json/fb8lojt/",
           "The error pointed me to line 77 of my code and tha"
          ],
          [
           "Terry_From_HR",
           "/r/Python/comments/ec0yni/i_code_a_multiple_sudoku_grids_solver_in_python/fb8lyck/",
           "This is seriously impressive, nice work!"
          ],
          [
           "Gionson13",
           "/r/Python/comments/ebytlq/interesting_project/fb8nhgq/",
           "I'll do it in 5 minutes"
          ],
          [
           "lazySaimon",
           "/r/Python/comments/ebxjbh/advice_on_images_scraping/fb8nk6y/",
           "Sorry, but I am a bit in disagreement here. Seleni"
          ],
          [
           "RedSane",
           "/r/Python/comments/ec0d46/learning_python_and_couldnt_think_of_a_good/fb8lpy2/",
           "...why of all things an insult generator? Lol"
          ],
          [
           "B166er_",
           "/r/Python/comments/ec0d46/learning_python_and_couldnt_think_of_a_good/fb8mfff/",
           "This + cowsay"
          ],
          [
           "djcmwshzsh",
           "/r/Python/comments/ebjgvl/i_wrote_a_program_that_doodles_things_in_ms_paint/fb83zwf/",
           "If you run it enough times, would it paints the Mo"
          ],
          [
           "VeinyAngus",
           "/r/Python/comments/ebw95t/whats_everyone_working_on_this_week/fb86sem/",
           "Writing a program that emails me a spreadsheet of "
          ],
          [
           "mraza007",
           "/r/Python/comments/ebjgvl/i_wrote_a_program_that_doodles_things_in_ms_paint/fb88mzb/",
           "That’s an abstract piece of art right there !!"
          ],
          [
           "ppuppet",
           "/r/Python/comments/ebw76t/python_as_a_back_end_language_for_a_wep_app/fb873fw/",
           "There are a couple of good video series on Flask a"
          ],
          [
           "Kallleeeeh",
           "/r/Python/comments/ebyydg/please_help_new_and_confused/fb87uhl/",
           "This is not a python problem; and if it would be y"
          ],
          [
           "pcdinh",
           "/r/Python/comments/ebu5mi/the_little_book_of_python_antipatterns_python/fb88ddm/",
           "Worth a read. But it is just yet another opinionat"
          ],
          [
           "lift_spin_d",
           "/r/Python/comments/ebxg4w/how_to_get_started_with_coding_python_on_a_chrome/fb894l6/",
           "use an online compiler. chromebooks are like toys."
          ],
          [
           "NixelGamer12",
           "/r/Python/comments/ebjgvl/i_wrote_a_program_that_doodles_things_in_ms_paint/fb88jcp/",
           "Programing is an art\nMe:"
          ],
          [
           "West7780",
           "/r/Python/comments/ec0d46/learning_python_and_couldnt_think_of_a_good/fb8odbx/",
           "A good beginner project that will help you learn i"
          ],
          [
           "kevin_with_rice",
           "/r/Python/comments/ec0d46/learning_python_and_couldnt_think_of_a_good/fb8qj7q/",
           "Isn't a dict with integer keys the same as a tradi"
          ],
          [
           "_meow4",
           "/r/Python/comments/ec0d46/learning_python_and_couldnt_think_of_a_good/fb8q6dr/",
           "Make a script using the Shakespearean insult gener"
          ],
          [
           "apiad",
           "/r/Python/comments/ebrw1p/divide_number_into_ratios_of_more_than_2/fb769za/",
           "It becomes interesting when the number is not exac"
          ],
          [
           "moto68040",
           "/r/Python/comments/ebxjbh/advice_on_images_scraping/fb89xzr/",
           "start with bs4. if and when you need to expand you"
          ],
          [
           "hossam7",
           "/r/Python/comments/ebxjbh/advice_on_images_scraping/fb8aaog/",
           "Great! I think I'll do just that."
          ],
          [
           "toomc",
           "/r/Python/comments/ec0yni/i_code_a_multiple_sudoku_grids_solver_in_python/fb8rzbb/",
           "Very cool project! :)"
          ],
          [
           "8BallDuVal",
           "/r/Python/comments/ec0d46/learning_python_and_couldnt_think_of_a_good/fb8stvd/",
           "🤣🤣🤣🤣 literally thought the same thing"
          ],
          [
           "Auntie_Whispers",
           "/r/Python/comments/ec0d46/learning_python_and_couldnt_think_of_a_good/fb8t1k3/",
           "Yeah, I feel like this ought to be a fortunes libr"
          ],
          [
           "FukMyHoles",
           "/r/Python/comments/ec0d46/learning_python_and_couldnt_think_of_a_good/fb8sb14/",
           "Currently at work, don't have access to my laptop"
          ],
          [
           "archaeolinuxgeek",
           "/r/Python/comments/ebsg40/professional_python_coding/fb8jkoj/",
           "Machine learning and image recognition/segmentatio"
          ],
          [
           "VishalSharna",
           "/r/Python/comments/ec0d46/learning_python_and_couldnt_think_of_a_good/fb8ugso/",
           "!remindme 10 hours"
          ],
          [
           "Daharka",
           "/r/Python/comments/ec0d46/learning_python_and_couldnt_think_of_a_good/fb8ugqx/",
           "I'm surprised Michael reeves isn't mentioned more "
          ],
          [
           "Zenith_N",
           "/r/Python/comments/eb58bb/installed_anaconda_onto_windows_10_via_the_wsl/fb8ujia/",
           "Thank you very much. \nI will run the above and fin"
          ],
          [
           "tipsy_python",
           "/r/Python/comments/ebw76t/python_as_a_back_end_language_for_a_wep_app/fb7wsgc/",
           "Sounds like you'd just be replacing, or extending "
          ],
          [
           "Kaarjuus",
           "/r/Python/comments/ebrc2i/would_python_be_a_good_way_to_make_a_small_win_10/fb7xklu/",
           "Python would work for this, no problem, but I'd re"
          ],
          [
           "vickeerooney",
           "/r/Python/comments/ec48rb/need_to_add_2_for_loops_beginner_python_not_sure/fb93x8y/",
           "for x in y:\n    for y in x:\n         y.append(x)\n "
          ],
          [
           "gabbagabbahey38",
           "/r/Python/comments/ec0yni/i_code_a_multiple_sudoku_grids_solver_in_python/fb9489e/",
           "This is dope, great job."
          ],
          [
           "soccerboy5411",
           "/r/Python/comments/ec5cn7/first_thingy_made_in_python_but_why_did_my_first/fb98r3z/",
           "What is the difference between the two?  Did the f"
          ],
          [
           "BioluminescentTurkey",
           "/r/Python/comments/ebw95t/whats_everyone_working_on_this_week/fb81o3b/",
           "I’m working on a text based multiplayer game calle"
          ],
          [
           "DenseEntertainment",
           "/r/Python/comments/ebyydg/please_help_new_and_confused/fb82qgn/",
           "You tried updating emacs?"
          ],
          [
           "flavorontheroad",
           "/r/Python/comments/ec0yni/i_code_a_multiple_sudoku_grids_solver_in_python/fb8knp6/",
           "Damn that’s cool"
          ],
          [
           "Gardoki",
           "/r/Python/comments/ec0d46/learning_python_and_couldnt_think_of_a_good/fb8h4l7/",
           "This is inspiring"
          ],
          [
           "pemboa",
           "/r/Python/comments/ebxg4w/how_to_get_started_with_coding_python_on_a_chrome/fb8hpae/",
           "&gt; chromebooks are like toys\n\nThat no longer see"
          ],
          [
           "slipped_and_missed_x",
           "/r/Python/comments/ebytlq/interesting_project/fb8ibs3/",
           "Procedurally generate Bill Wurtz songs including v"
          ],
          [
           "khan9813",
           "/r/Python/comments/ec0yni/i_code_a_multiple_sudoku_grids_solver_in_python/fb8ghzo/",
           "The Kenny angel brought me in and the sexy cnn mad"
          ],
          [
           "JakubBlaha",
           "/r/Python/comments/ec0d46/learning_python_and_couldnt_think_of_a_good/fb8ktt0/",
           "Source code pls."
          ],
          [
           "MeowMeow33",
           "/r/Python/comments/ec0j6z/quick_mods_are_asleep_upvote_pics_of_python/fb8hw4l/",
           "It is python boi"
          ],
          [
           "terminalzebra",
           "/r/Python/comments/ec0d46/learning_python_and_couldnt_think_of_a_good/fb9d1a3/",
           "i set my alarms to insult me. it works alot better"
          ],
          [
           "pythonHelperBot",
           "/r/Python/comments/ec5x5h/can_i_get_some_help_with_python/fb9bs84/",
           "Hello! I'm a bot!\n\nIt looks to me like your post m"
          ],
          [
           "HipsterTwister",
           "/r/Python/comments/ec0d46/learning_python_and_couldnt_think_of_a_good/fb9diel/",
           "What desktop environment is that?"
          ],
          [
           "mraza007",
           "/r/Python/comments/ec6opk/so_i_wrote_this_script_a_ago_year_but_today_i/fb9h4wo/",
           "Here’s the code if you are looking to try this on "
          ],
          [
           "melovedownvotes",
           "/r/Python/comments/ebu5mi/the_little_book_of_python_antipatterns_python/fb9hh9a/",
           "They talk about returning multiple types being bad"
          ],
          [
           "NeitherBandicoot",
           "/r/Python/comments/ebww8n/looking_for_a_mentor/fb9ev3t/",
           "r/choosingbeggars"
          ],
          [
           "_irome_",
           "/r/Python/comments/ec6opk/so_i_wrote_this_script_a_ago_year_but_today_i/fb9hd01/",
           "Thanks!!!"
          ],
          [
           "robin-gvx",
           "/r/Python/comments/ec1pf2/i_want_your_opinion_mypy/fb9kqu4/",
           "For me, it really depends on the code base. Large "
          ],
          [
           "deadwisdom",
           "/r/Python/comments/ec0d46/learning_python_and_couldnt_think_of_a_good/fb9kvi4/",
           "AI can only curve fit.  It can't accomplish true i"
          ],
          [
           "MysticalKittyHerder",
           "/r/Python/comments/ec0d46/learning_python_and_couldnt_think_of_a_good/fb9l05k/",
           "done\n\n    curl insults.duckdns.org:8080/insultme"
          ],
          [
           "ParxyB",
           "/r/Python/comments/ec0d46/learning_python_and_couldnt_think_of_a_good/fb9mu49/",
           "All you have to do is build a data set of 40+ insu"
          ],
          [
           "social_tech_10",
           "/r/Python/comments/ec5qqg/can_i_have_gui_tkinter_interface_run_in_parallel/fb9nfav/",
           "Have the GUI part build the command_line as a stri"
          ],
          [
           "MountainRiderAK",
           "/r/Python/comments/ec0d46/learning_python_and_couldnt_think_of_a_good/fb9o7rn/",
           "You should be able to put a [shebang](https://en.w"
          ],
          [
           "house_monkey",
           "/r/Python/comments/ec0d46/learning_python_and_couldnt_think_of_a_good/fb9nxc2/",
           "After his, mine"
          ],
          [
           "cmjdev",
           "/r/Python/comments/ec0d46/learning_python_and_couldnt_think_of_a_good/fb90gab/",
           "There’s a fortune -o API out there."
          ],
          [
           "pythonHelperBot",
           "/r/Python/comments/ec7tm8/why_are_afl_draw_and_undraw_not_working_properly/fb9oeeo/",
           "Hello! I'm a bot!\n\nIt looks to me like your post m"
          ],
          [
           "BrettFavreFlavored",
           "/r/Python/comments/ec6opk/so_i_wrote_this_script_a_ago_year_but_today_i/fb9uoei/",
           "It's using legal APIs, illegality is gonna be abou"
          ],
          [
           "me_lucky_lips",
           "/r/Python/comments/ec0yni/i_code_a_multiple_sudoku_grids_solver_in_python/fb9skke/",
           "hahahaha Imagine going to a sudoku competion with "
          ],
          [
           "memevaddar",
           "/r/Python/comments/ec0d46/learning_python_and_couldnt_think_of_a_good/fb9t856/",
           "Thanks , Satan"
          ],
          [
           "wischichr",
           "/r/Python/comments/ec94xl/put_3_coordinate_data_point_to_2d_plane_in_python/fb9wy4r/",
           "There is no mapping from 3d to 2d space that would"
          ],
          [
           "Akmed_Dead_Terrorist",
           "/r/Python/comments/ec0d46/learning_python_and_couldnt_think_of_a_good/fb9wjgh/",
           "Would importing from /r/rareinsults make this bett"
          ],
          [
           "Bolitho",
           "/r/Python/comments/ec90x0/image/fb9vtee/",
           "How does this relate to python in any way?"
          ],
          [
           "saxondown",
           "/r/Python/comments/ec885u/i_pressed_something_in_vsc_and_now_im_getting/fba1nal/",
           "If you want anyone to help you, you need to provid"
          ],
          [
           "theawesomenachos",
           "/r/Python/comments/ec0d46/learning_python_and_couldnt_think_of_a_good/fba1jb5/",
           "he generated the curses themselves though, only ha"
          ],
          [
           "Givingbacktoreddit",
           "/r/Python/comments/ebww8n/looking_for_a_mentor/fba1p1w/",
           "A book would be your best mentor. Many of the pyth"
          ],
          [
           "chrisl25",
           "/r/Python/comments/ec39zq/run_python_code_in_browser/fba2l4c/",
           "Is jupyter notebook something for you?"
          ],
          [
           "stevenjd",
           "/r/Python/comments/ec91s7/lost_and_afraid/fba5viw/",
           "You could do worse than start with the basic Pytho"
          ],
          [
           "plistig",
           "/r/Python/comments/ec0d46/learning_python_and_couldnt_think_of_a_good/fba87j9/",
           "&gt; Should I continue? :-)\n\nNo."
          ],
          [
           "MrK_HS",
           "/r/Python/comments/ec0yni/i_code_a_multiple_sudoku_grids_solver_in_python/fba7foq/",
           "Generate and test is a way to solve constraint pro"
          ],
          [
           "[deleted]",
           "/r/Python/comments/ec0d46/learning_python_and_couldnt_think_of_a_good/fba7wcy/",
           "[removed]"
          ]
         ],
         "hoverlabel": {
          "namelength": 0
         },
         "hovertemplate": "sentiment=positive<br>Date comment was posted=%{x}<br>Comment positivity=%{y}<br>score=%{marker.size}<br>author=%{customdata[0]}<br>permalink=%{customdata[1]}<br>preview=%{customdata[2]}",
         "legendgroup": "sentiment=positive",
         "marker": {
          "color": "lightseagreen",
          "size": [
           2,
           1,
           1,
           1,
           1,
           1,
           1,
           1,
           1,
           1,
           1,
           1,
           1,
           1,
           1,
           1,
           1,
           1,
           1,
           1,
           1,
           1,
           1,
           1,
           1,
           1,
           1,
           1,
           1,
           1,
           1,
           1,
           1,
           1,
           1,
           1,
           1,
           1,
           1,
           1,
           1,
           1,
           1,
           1,
           1,
           1,
           1,
           1,
           1,
           1,
           1,
           1,
           1,
           1,
           1,
           1,
           1,
           1,
           1,
           1,
           1,
           1,
           1,
           1,
           1,
           1,
           1,
           1,
           1,
           1,
           1,
           1,
           1,
           1,
           1,
           1,
           1,
           1,
           1,
           1,
           1,
           1,
           1,
           1,
           1,
           1,
           1,
           1,
           1,
           1,
           1,
           1,
           1,
           1,
           1,
           1,
           1,
           1,
           1,
           1,
           1,
           1,
           1,
           1,
           1,
           1,
           1,
           1,
           1,
           1,
           1,
           1,
           1,
           1,
           1,
           1,
           1,
           1,
           1,
           1,
           1,
           1,
           1,
           1,
           1,
           1,
           1,
           1,
           1,
           1,
           1,
           1,
           1,
           1,
           1,
           1,
           1,
           1,
           1,
           1,
           1,
           1,
           1,
           1,
           1,
           1,
           1,
           1,
           1,
           1,
           1,
           1,
           1,
           1,
           1,
           1,
           1,
           1,
           1,
           1,
           1,
           1,
           1,
           1,
           1,
           1,
           1,
           1,
           1,
           1,
           1,
           1,
           1,
           1,
           1,
           1,
           1,
           1,
           1,
           1,
           1,
           1,
           1,
           1,
           1,
           1,
           1,
           1,
           1,
           1,
           1,
           1,
           1,
           1,
           1,
           1,
           1,
           1,
           1,
           1,
           1,
           1,
           1,
           1,
           1,
           1,
           1,
           1,
           1,
           1,
           1,
           1,
           1,
           1,
           1,
           1,
           1,
           1,
           1,
           1,
           1,
           1,
           1,
           1,
           1,
           1,
           1,
           1,
           1,
           1,
           1,
           1,
           1,
           1,
           1,
           1,
           1,
           1,
           1,
           1,
           1,
           1,
           1,
           1,
           1,
           1,
           1,
           1,
           1,
           1,
           1,
           1,
           1,
           1,
           1,
           1,
           1,
           1,
           1,
           1,
           1,
           1,
           1,
           1,
           1,
           1,
           1,
           1,
           1,
           1,
           1,
           1,
           1,
           1,
           1,
           1,
           1,
           1,
           1,
           1,
           1,
           1,
           1,
           1,
           1,
           1,
           1,
           1,
           1,
           1,
           1,
           1,
           1,
           1,
           1,
           1,
           1,
           1,
           1,
           1,
           1,
           1,
           1,
           1,
           1,
           1,
           1,
           1,
           1,
           1,
           1,
           1,
           1,
           1,
           1,
           1,
           1,
           1,
           1,
           1,
           1,
           1,
           1,
           1,
           1,
           1,
           1,
           1,
           1,
           1,
           1,
           1,
           1,
           1,
           1,
           1,
           1,
           1,
           1,
           1,
           1,
           1,
           1,
           1,
           1,
           1,
           1,
           1,
           1,
           1,
           1,
           1,
           1,
           1,
           1,
           1,
           1,
           1,
           1,
           1,
           1,
           1,
           1,
           1,
           1,
           1,
           1,
           1,
           1,
           1,
           1,
           1,
           1,
           1,
           1,
           1,
           1,
           1,
           1,
           1,
           1,
           1,
           1,
           1,
           1,
           1,
           1,
           1,
           1,
           1,
           1,
           1,
           1,
           1,
           1,
           1,
           1,
           1,
           1,
           1,
           1,
           1,
           1,
           1,
           1,
           1,
           1,
           1,
           1,
           1,
           1,
           1,
           1,
           1,
           1,
           1,
           1,
           1,
           1,
           1,
           1,
           1,
           1,
           1,
           1,
           1,
           1,
           1,
           1,
           1,
           1,
           1,
           1,
           1,
           1,
           1,
           1,
           1,
           1,
           1,
           1,
           1,
           1,
           1,
           1,
           1,
           1,
           1,
           1,
           1,
           1,
           1,
           1,
           1,
           1,
           1,
           1,
           1,
           1,
           1,
           1,
           1,
           1,
           1,
           1,
           1,
           1,
           1,
           1,
           1,
           1,
           1,
           1,
           1,
           1,
           1,
           1,
           1,
           1,
           1,
           1,
           1,
           1,
           1,
           1,
           1,
           1,
           1,
           1,
           1,
           1,
           1,
           1,
           1,
           1,
           1,
           1,
           1,
           1,
           1,
           1,
           1,
           1,
           1,
           1,
           1,
           1,
           1,
           1,
           1,
           1,
           1,
           1,
           1,
           1,
           1,
           1,
           1,
           1,
           1,
           1,
           1,
           1,
           1,
           1,
           1,
           1,
           1,
           1,
           1,
           1,
           1,
           1,
           1,
           1,
           1,
           1,
           1,
           1,
           1,
           1,
           1,
           1,
           1,
           1,
           1,
           1,
           1,
           1,
           1,
           1,
           1,
           1,
           1,
           1,
           1,
           1,
           1,
           1,
           1,
           1,
           1,
           1,
           1,
           1,
           1,
           1,
           1,
           1,
           1,
           1,
           1,
           1,
           1,
           1,
           1,
           1,
           1,
           1,
           1,
           1,
           1,
           1,
           1,
           1,
           1,
           1,
           1,
           1,
           1,
           1,
           1,
           1,
           1,
           1,
           1,
           1,
           1,
           1,
           1,
           1,
           1,
           1,
           1,
           1,
           1,
           1,
           1,
           1,
           1,
           1,
           1,
           1,
           1,
           1,
           1,
           1,
           1,
           1,
           1,
           1,
           1,
           1,
           1,
           1,
           1,
           1,
           1,
           1,
           1,
           1,
           1,
           1,
           1,
           1,
           1,
           1,
           1,
           1,
           1,
           1,
           1,
           1,
           1,
           1,
           1,
           1,
           1,
           1,
           1,
           1,
           1,
           1,
           1,
           1,
           1,
           1,
           1,
           1,
           1,
           1,
           1,
           1,
           1,
           1,
           1,
           1,
           1,
           1,
           1,
           1,
           1,
           1,
           1,
           1,
           1,
           1,
           1,
           1,
           1,
           1,
           1,
           1,
           1,
           1,
           1,
           1,
           1,
           1,
           1,
           1,
           1,
           1,
           1,
           1,
           1,
           1,
           1,
           1,
           1,
           1,
           1,
           1,
           1,
           1,
           1,
           1,
           1,
           1,
           1,
           1,
           1,
           1,
           1,
           1,
           1,
           1,
           1,
           1,
           1,
           1,
           1,
           1,
           1,
           1,
           1,
           1,
           1,
           1,
           1,
           1,
           1,
           1,
           1,
           1,
           1,
           1,
           1,
           1,
           1,
           1,
           1,
           1,
           1,
           1,
           1,
           1,
           1,
           1,
           1,
           1,
           1,
           1,
           1,
           1,
           1,
           1,
           1,
           1,
           1,
           1,
           1,
           1,
           1,
           1,
           1,
           1,
           1,
           1,
           1,
           1,
           1,
           1,
           1,
           1,
           1,
           1,
           1,
           1,
           1,
           1,
           1,
           1,
           1,
           1,
           1,
           1,
           1,
           1,
           1,
           1,
           1,
           1,
           1,
           1,
           1,
           1,
           1,
           1,
           1,
           1,
           1,
           1,
           1,
           1,
           1,
           1
          ],
          "sizemode": "area",
          "sizeref": 0.02,
          "symbol": "circle"
         },
         "mode": "markers",
         "name": "sentiment=positive",
         "showlegend": true,
         "type": "scatter",
         "x": [
          "2019-12-16T15:15:30",
          "2019-12-16T14:49:41",
          "2019-12-16T15:17:42",
          "2019-12-16T15:11:25",
          "2019-12-16T14:46:13",
          "2019-12-16T14:49:53",
          "2019-12-16T15:15:52",
          "2019-12-16T16:06:32",
          "2019-12-16T15:38:26",
          "2019-12-16T16:00:54",
          "2019-12-16T16:27:59",
          "2019-12-16T16:25:01",
          "2019-12-16T16:41:45",
          "2019-12-16T17:47:25",
          "2019-12-16T16:54:53",
          "2019-12-16T17:02:32",
          "2019-12-16T18:10:13",
          "2019-12-16T18:39:10",
          "2019-12-16T18:36:02",
          "2019-12-16T14:29:23",
          "2019-12-16T14:29:58",
          "2019-12-16T19:31:38",
          "2019-12-16T19:12:45",
          "2019-12-16T13:10:06",
          "2019-12-16T13:30:05",
          "2019-12-16T13:29:30",
          "2019-12-16T14:15:37",
          "2019-12-16T13:55:42",
          "2019-12-16T13:55:05",
          "2019-12-16T14:07:56",
          "2019-12-17T04:01:05",
          "2019-12-17T04:27:11",
          "2019-12-16T22:56:39",
          "2019-12-16T23:03:28",
          "2019-12-16T23:15:37",
          "2019-12-16T23:05:10",
          "2019-12-17T12:14:45",
          "2019-12-17T12:47:25",
          "2019-12-17T12:25:16",
          "2019-12-17T12:39:56",
          "2019-12-16T23:59:39",
          "2019-12-16T23:35:05",
          "2019-12-17T13:16:25",
          "2019-12-17T13:18:56",
          "2019-12-17T04:32:25",
          "2019-12-17T04:56:47",
          "2019-12-17T13:28:13",
          "2019-12-17T13:32:20",
          "2019-12-16T19:55:49",
          "2019-12-16T20:06:08",
          "2019-12-16T19:55:06",
          "2019-12-16T19:47:50",
          "2019-12-16T20:18:20",
          "2019-12-16T20:33:28",
          "2019-12-16T20:31:25",
          "2019-12-16T21:05:00",
          "2019-12-17T01:48:13",
          "2019-12-16T21:40:41",
          "2019-12-16T21:20:19",
          "2019-12-16T21:35:57",
          "2019-12-16T21:33:22",
          "2019-12-16T21:40:25",
          "2019-12-17T02:38:24",
          "2019-12-17T02:50:27",
          "2019-12-17T02:55:26",
          "2019-12-16T22:46:46",
          "2019-12-16T22:50:30",
          "2019-12-16T22:26:10",
          "2019-12-17T03:47:14",
          "2019-12-17T03:30:25",
          "2019-12-17T03:39:36",
          "2019-12-17T21:21:20",
          "2019-12-17T17:51:08",
          "2019-12-17T18:57:03",
          "2019-12-17T19:24:22",
          "2019-12-17T21:49:59",
          "2019-12-17T18:37:28",
          "2019-12-17T18:38:03",
          "2019-12-17T21:46:01",
          "2019-12-17T00:05:56",
          "2019-12-17T20:45:31",
          "2019-12-17T20:43:51",
          "2019-12-17T13:53:26",
          "2019-12-17T14:11:29",
          "2019-12-17T14:11:20",
          "2019-12-17T14:17:29",
          "2019-12-17T14:15:50",
          "2019-12-17T05:40:56",
          "2019-12-17T06:02:34",
          "2019-12-17T06:24:44",
          "2019-12-17T06:37:41",
          "2019-12-17T06:29:15",
          "2019-12-17T14:59:08",
          "2019-12-17T14:48:06",
          "2019-12-17T15:29:19",
          "2019-12-17T07:16:24",
          "2019-12-17T07:16:17",
          "2019-12-17T07:02:01",
          "2019-12-17T07:21:40",
          "2019-12-17T07:15:59",
          "2019-12-17T15:56:07",
          "2019-12-17T15:53:52",
          "2019-12-17T15:40:19",
          "2019-12-17T08:58:08",
          "2019-12-17T08:38:37",
          "2019-12-17T08:33:54",
          "2019-12-17T09:12:21",
          "2019-12-17T08:30:06",
          "2019-12-17T09:00:01",
          "2019-12-17T08:25:58",
          "2019-12-17T09:34:53",
          "2019-12-17T16:44:58",
          "2019-12-17T10:26:16",
          "2019-12-17T10:52:44",
          "2019-12-17T10:56:34",
          "2019-12-17T05:28:36",
          "2019-12-17T18:09:25",
          "2019-12-17T16:54:52",
          "2019-12-17T16:54:29",
          "2019-12-17T17:04:12",
          "2019-12-17T17:10:20",
          "2019-12-17T19:15:53",
          "2019-12-17T19:16:27",
          "2019-12-17T18:50:57",
          "2019-12-17T18:51:48",
          "2019-12-17T19:34:28",
          "2019-12-17T19:27:16",
          "2019-12-17T19:30:53",
          "2019-12-17T19:13:47",
          "2019-12-17T19:31:47",
          "2019-12-17T19:14:19",
          "2019-12-17T23:46:03",
          "2019-12-17T23:16:52",
          "2019-12-17T23:03:23",
          "2019-12-17T23:06:29",
          "2019-12-17T23:39:50",
          "2019-12-17T20:08:42",
          "2019-12-17T20:10:28",
          "2019-12-18T00:00:57",
          "2019-12-18T00:51:48",
          "2019-12-17T20:25:11",
          "2019-12-17T20:52:51",
          "2019-12-17T20:40:01",
          "2019-12-18T01:25:27",
          "2019-12-17T11:21:16",
          "2019-12-17T12:02:08",
          "2019-12-17T12:03:33",
          "2019-12-17T17:23:19",
          "2019-12-17T17:31:32",
          "2019-12-17T17:19:02",
          "2019-12-18T01:53:10",
          "2019-12-18T02:00:26",
          "2019-12-18T02:03:56",
          "2019-12-18T03:02:50",
          "2019-12-18T03:19:52",
          "2019-12-17T22:26:04",
          "2019-12-17T22:39:28",
          "2019-12-17T22:23:43",
          "2019-12-17T22:12:55",
          "2019-12-18T04:16:16",
          "2019-12-18T04:24:42",
          "2019-12-18T04:24:47",
          "2019-12-18T04:05:34",
          "2019-12-18T04:43:38",
          "2019-12-18T05:21:45",
          "2019-12-18T05:09:44",
          "2019-12-18T05:28:18",
          "2019-12-18T05:30:36",
          "2019-12-18T05:14:59",
          "2019-12-18T06:51:52",
          "2019-12-18T07:20:50",
          "2019-12-18T07:31:46",
          "2019-12-18T07:46:46",
          "2019-12-18T07:41:13",
          "2019-12-18T07:18:48",
          "2019-12-18T07:28:27",
          "2019-12-17T21:00:05",
          "2019-12-17T21:07:30",
          "2019-12-17T20:56:01",
          "2019-12-17T21:06:27",
          "2019-12-17T21:16:17",
          "2019-12-17T20:54:36",
          "2019-12-17T21:03:26",
          "2019-12-18T08:14:12",
          "2019-12-18T02:31:21",
          "2019-12-18T02:39:30",
          "2019-12-18T02:55:40",
          "2019-12-18T10:08:23",
          "2019-12-18T10:29:27",
          "2019-12-18T10:37:12",
          "2019-12-18T11:52:12",
          "2019-12-16T19:33:47",
          "2019-12-16T19:12:19",
          "2019-12-16T18:52:57",
          "2019-12-16T19:54:40",
          "2019-12-16T19:51:56",
          "2019-12-16T20:03:55",
          "2019-12-16T19:35:06",
          "2019-12-16T19:58:59",
          "2019-12-16T20:26:39",
          "2019-12-16T21:00:34",
          "2019-12-16T20:37:00",
          "2019-12-16T20:41:01",
          "2019-12-16T21:35:12",
          "2019-12-16T21:42:18",
          "2019-12-16T21:34:31",
          "2019-12-16T21:46:16",
          "2019-12-16T21:46:46",
          "2019-12-16T22:13:03",
          "2019-12-16T22:43:10",
          "2019-12-16T22:28:01",
          "2019-12-16T22:30:34",
          "2019-12-16T23:02:15",
          "2019-12-16T18:38:31",
          "2019-12-16T12:38:31",
          "2019-12-17T14:53:07",
          "2019-12-17T15:05:53",
          "2019-12-17T16:12:34",
          "2019-12-17T16:04:03",
          "2019-12-17T15:40:46",
          "2019-12-17T16:14:11",
          "2019-12-17T16:05:42",
          "2019-12-17T16:10:23",
          "2019-12-17T16:14:30",
          "2019-12-17T16:11:26",
          "2019-12-17T16:13:00",
          "2019-12-17T16:07:57",
          "2019-12-17T15:52:23",
          "2019-12-17T16:39:35",
          "2019-12-17T17:33:35",
          "2019-12-17T17:39:06",
          "2019-12-17T18:00:04",
          "2019-12-17T17:55:44",
          "2019-12-17T17:56:15",
          "2019-12-17T17:47:25",
          "2019-12-17T17:47:28",
          "2019-12-17T17:38:38",
          "2019-12-17T17:01:21",
          "2019-12-17T17:11:46",
          "2019-12-17T16:59:45",
          "2019-12-17T18:06:16",
          "2019-12-17T18:22:41",
          "2019-12-17T18:38:27",
          "2019-12-17T18:34:14",
          "2019-12-17T18:46:57",
          "2019-12-17T18:54:09",
          "2019-12-17T19:03:06",
          "2019-12-17T18:53:20",
          "2019-12-17T19:03:47",
          "2019-12-17T19:01:44",
          "2019-12-17T19:11:18",
          "2019-12-17T19:17:22",
          "2019-12-17T19:22:02",
          "2019-12-17T19:27:39",
          "2019-12-17T19:30:02",
          "2019-12-17T00:21:47",
          "2019-12-17T00:18:10",
          "2019-12-17T00:22:04",
          "2019-12-17T01:34:37",
          "2019-12-17T01:46:23",
          "2019-12-17T01:45:35",
          "2019-12-17T02:19:32",
          "2019-12-17T02:07:22",
          "2019-12-17T02:38:45",
          "2019-12-17T02:41:09",
          "2019-12-17T03:00:33",
          "2019-12-17T02:47:40",
          "2019-12-17T03:41:52",
          "2019-12-17T03:31:13",
          "2019-12-17T03:48:49",
          "2019-12-17T04:19:25",
          "2019-12-17T04:09:28",
          "2019-12-16T23:59:50",
          "2019-12-17T05:49:08",
          "2019-12-17T05:11:20",
          "2019-12-17T05:27:24",
          "2019-12-17T05:43:45",
          "2019-12-16T14:15:45",
          "2019-12-16T14:06:14",
          "2019-12-16T14:05:22",
          "2019-12-16T14:08:37",
          "2019-12-16T14:52:14",
          "2019-12-16T14:03:09",
          "2019-12-16T16:10:48",
          "2019-12-16T15:59:26",
          "2019-12-16T16:15:55",
          "2019-12-16T16:15:39",
          "2019-12-16T16:35:12",
          "2019-12-16T16:38:22",
          "2019-12-16T16:38:46",
          "2019-12-16T16:54:33",
          "2019-12-16T17:22:21",
          "2019-12-16T17:32:42",
          "2019-12-16T17:45:58",
          "2019-12-16T17:29:51",
          "2019-12-16T13:48:00",
          "2019-12-16T13:53:31",
          "2019-12-16T18:02:22",
          "2019-12-16T18:04:49",
          "2019-12-16T18:11:13",
          "2019-12-17T06:45:18",
          "2019-12-17T06:37:50",
          "2019-12-17T07:14:08",
          "2019-12-17T07:28:25",
          "2019-12-17T06:31:49",
          "2019-12-17T09:12:18",
          "2019-12-17T08:51:17",
          "2019-12-17T09:13:34",
          "2019-12-17T09:03:15",
          "2019-12-17T08:29:47",
          "2019-12-17T10:43:10",
          "2019-12-17T10:47:20",
          "2019-12-17T12:00:44",
          "2019-12-17T11:04:46",
          "2019-12-17T12:08:10",
          "2019-12-17T12:31:45",
          "2019-12-17T12:47:07",
          "2019-12-17T12:59:06",
          "2019-12-17T13:25:18",
          "2019-12-17T13:40:30",
          "2019-12-17T13:55:33",
          "2019-12-17T20:09:55",
          "2019-12-17T19:55:16",
          "2019-12-17T20:04:41",
          "2019-12-17T20:07:14",
          "2019-12-18T01:43:50",
          "2019-12-17T20:38:32",
          "2019-12-17T20:31:17",
          "2019-12-17T20:55:20",
          "2019-12-17T20:26:20",
          "2019-12-17T20:50:23",
          "2019-12-17T20:53:09",
          "2019-12-17T20:33:35",
          "2019-12-17T20:40:43",
          "2019-12-17T21:14:30",
          "2019-12-17T21:20:44",
          "2019-12-17T21:28:39",
          "2019-12-17T21:28:38",
          "2019-12-17T21:29:50",
          "2019-12-17T21:06:35",
          "2019-12-17T21:22:16",
          "2019-12-18T02:03:27",
          "2019-12-18T02:08:43",
          "2019-12-18T02:10:30",
          "2019-12-18T02:10:55",
          "2019-12-18T02:05:46",
          "2019-12-17T21:40:31",
          "2019-12-17T21:44:34",
          "2019-12-17T21:55:59",
          "2019-12-17T21:57:55",
          "2019-12-17T22:04:58",
          "2019-12-17T21:43:30",
          "2019-12-17T21:50:59",
          "2019-12-17T21:49:35",
          "2019-12-18T02:55:18",
          "2019-12-18T03:04:23",
          "2019-12-17T22:25:32",
          "2019-12-17T22:29:50",
          "2019-12-17T22:33:11",
          "2019-12-17T22:39:14",
          "2019-12-17T22:48:49",
          "2019-12-17T22:36:12",
          "2019-12-18T03:41:09",
          "2019-12-18T03:43:16",
          "2019-12-18T03:57:43",
          "2019-12-17T20:40:25",
          "2019-12-17T23:03:33",
          "2019-12-17T23:15:42",
          "2019-12-17T23:21:24",
          "2019-12-17T23:38:25",
          "2019-12-18T00:07:10",
          "2019-12-17T23:53:37",
          "2019-12-18T00:30:28",
          "2019-12-18T00:55:36",
          "2019-12-18T00:59:34",
          "2019-12-18T04:03:25",
          "2019-12-18T04:15:18",
          "2019-12-18T04:15:46",
          "2019-12-18T04:20:54",
          "2019-12-18T05:09:45",
          "2019-12-18T04:36:36",
          "2019-12-18T05:46:56",
          "2019-12-18T06:18:26",
          "2019-12-18T07:06:13",
          "2019-12-18T07:18:07",
          "2019-12-18T08:12:42",
          "2019-12-18T07:30:49",
          "2019-12-18T07:53:10",
          "2019-12-18T07:29:54",
          "2019-12-18T09:52:07",
          "2019-12-18T09:54:05",
          "2019-12-18T10:11:13",
          "2019-12-18T09:59:41",
          "2019-12-18T10:35:23",
          "2019-12-16T14:32:51",
          "2019-12-16T15:13:00",
          "2019-12-16T15:08:43",
          "2019-12-16T15:41:02",
          "2019-12-16T15:44:41",
          "2019-12-16T15:47:38",
          "2019-12-16T15:59:56",
          "2019-12-16T15:56:09",
          "2019-12-16T16:09:14",
          "2019-12-16T16:49:32",
          "2019-12-16T17:02:02",
          "2019-12-16T17:21:11",
          "2019-12-16T17:53:24",
          "2019-12-16T18:04:45",
          "2019-12-17T05:52:26",
          "2019-12-17T05:38:32",
          "2019-12-17T06:08:51",
          "2019-12-17T06:17:18",
          "2019-12-17T06:17:08",
          "2019-12-17T07:45:55",
          "2019-12-17T06:37:45",
          "2019-12-17T07:17:47",
          "2019-12-17T09:39:15",
          "2019-12-17T08:18:39",
          "2019-12-17T08:29:53",
          "2019-12-17T08:29:39",
          "2019-12-17T09:15:12",
          "2019-12-17T09:55:15",
          "2019-12-17T10:59:47",
          "2019-12-17T10:20:48",
          "2019-12-17T11:04:02",
          "2019-12-17T11:56:41",
          "2019-12-17T11:54:36",
          "2019-12-17T11:57:37",
          "2019-12-17T13:06:05",
          "2019-12-17T13:16:47",
          "2019-12-17T13:18:04",
          "2019-12-17T13:17:27",
          "2019-12-17T05:12:57",
          "2019-12-17T14:28:52",
          "2019-12-17T13:52:39",
          "2019-12-17T14:14:02",
          "2019-12-17T14:14:13",
          "2019-12-17T14:22:34",
          "2019-12-16T19:17:59",
          "2019-12-16T19:27:59",
          "2019-12-16T19:21:33",
          "2019-12-16T19:40:46",
          "2019-12-16T19:49:07",
          "2019-12-16T20:17:20",
          "2019-12-16T20:16:01",
          "2019-12-16T19:41:23",
          "2019-12-16T20:59:40",
          "2019-12-16T21:08:37",
          "2019-12-16T21:00:46",
          "2019-12-16T21:04:26",
          "2019-12-16T21:11:07",
          "2019-12-16T21:14:35",
          "2019-12-16T20:22:52",
          "2019-12-16T20:33:22",
          "2019-12-16T20:48:03",
          "2019-12-16T21:45:11",
          "2019-12-16T22:07:48",
          "2019-12-16T21:58:14",
          "2019-12-16T22:21:30",
          "2019-12-16T22:21:22",
          "2019-12-16T22:45:33",
          "2019-12-16T22:58:30",
          "2019-12-16T23:01:22",
          "2019-12-16T18:42:48",
          "2019-12-16T18:47:05",
          "2019-12-16T23:26:43",
          "2019-12-16T23:38:28",
          "2019-12-17T00:59:35",
          "2019-12-17T00:08:16",
          "2019-12-17T00:01:35",
          "2019-12-17T00:20:14",
          "2019-12-17T00:18:28",
          "2019-12-17T00:22:54",
          "2019-12-17T01:53:32",
          "2019-12-17T01:57:56",
          "2019-12-17T03:01:06",
          "2019-12-17T02:56:01",
          "2019-12-17T02:57:24",
          "2019-12-17T03:58:09",
          "2019-12-17T03:45:33",
          "2019-12-16T23:53:48",
          "2019-12-17T04:15:55",
          "2019-12-17T04:19:25",
          "2019-12-17T04:09:33",
          "2019-12-17T04:47:49",
          "2019-12-17T04:46:33",
          "2019-12-16T18:38:58",
          "2019-12-16T18:40:01",
          "2019-12-16T12:24:02",
          "2019-12-16T12:49:07",
          "2019-12-16T12:54:13",
          "2019-12-16T13:18:50",
          "2019-12-16T14:01:47",
          "2019-12-16T14:05:40",
          "2019-12-16T14:10:21",
          "2019-12-16T14:21:47",
          "2019-12-16T14:22:23",
          "2019-12-17T15:11:59",
          "2019-12-17T15:42:04",
          "2019-12-17T15:44:18",
          "2019-12-17T15:48:44",
          "2019-12-17T15:49:20",
          "2019-12-17T15:50:57",
          "2019-12-17T23:35:14",
          "2019-12-17T23:37:17",
          "2019-12-17T23:50:39",
          "2019-12-17T18:28:18",
          "2019-12-18T00:10:25",
          "2019-12-18T05:24:20",
          "2019-12-17T18:48:59",
          "2019-12-17T18:48:52",
          "2019-12-17T18:52:49",
          "2019-12-17T18:44:12",
          "2019-12-17T18:47:47",
          "2019-12-17T19:04:38",
          "2019-12-17T19:07:20",
          "2019-12-17T20:07:27",
          "2019-12-17T20:19:45",
          "2019-12-17T20:31:41",
          "2019-12-17T20:11:49",
          "2019-12-17T20:25:33",
          "2019-12-17T20:29:07",
          "2019-12-17T20:33:24",
          "2019-12-17T20:58:36",
          "2019-12-17T20:53:44",
          "2019-12-17T21:08:37",
          "2019-12-17T21:24:13",
          "2019-12-17T20:49:33",
          "2019-12-17T21:44:49",
          "2019-12-17T21:46:09",
          "2019-12-17T21:46:45",
          "2019-12-17T16:34:32",
          "2019-12-17T22:14:28",
          "2019-12-17T22:03:55",
          "2019-12-17T22:13:27",
          "2019-12-17T22:32:36",
          "2019-12-17T17:33:01",
          "2019-12-17T17:58:37",
          "2019-12-17T17:59:29",
          "2019-12-17T17:38:26",
          "2019-12-17T17:45:46",
          "2019-12-17T17:34:34",
          "2019-12-17T17:46:54",
          "2019-12-17T23:05:27",
          "2019-12-17T22:58:53",
          "2019-12-17T22:43:03",
          "2019-12-17T18:09:04",
          "2019-12-17T18:16:08",
          "2019-12-17T23:28:14",
          "2019-12-17T23:19:48",
          "2019-12-17T19:35:01",
          "2019-12-17T19:55:54",
          "2019-12-17T19:37:31",
          "2019-12-17T19:46:32",
          "2019-12-18T00:23:16",
          "2019-12-18T01:13:32",
          "2019-12-18T00:56:29",
          "2019-12-18T01:57:24",
          "2019-12-18T01:28:33",
          "2019-12-18T01:50:00",
          "2019-12-18T01:18:47",
          "2019-12-18T02:06:06",
          "2019-12-18T02:15:44",
          "2019-12-18T02:15:13",
          "2019-12-18T03:01:04",
          "2019-12-18T03:06:27",
          "2019-12-18T03:27:28",
          "2019-12-18T03:44:46",
          "2019-12-18T04:09:34",
          "2019-12-18T03:33:37",
          "2019-12-18T04:40:27",
          "2019-12-18T06:27:54",
          "2019-12-18T06:36:58",
          "2019-12-18T07:17:35",
          "2019-12-18T07:21:33",
          "2019-12-18T08:00:57",
          "2019-12-18T07:57:46",
          "2019-12-18T07:59:04",
          "2019-12-18T08:26:25",
          "2019-12-18T07:50:17",
          "2019-12-18T08:15:28",
          "2019-12-18T09:31:53",
          "2019-12-18T09:53:24",
          "2019-12-18T09:27:58",
          "2019-12-18T10:34:17",
          "2019-12-18T10:56:24",
          "2019-12-18T11:42:40",
          "2019-12-18T11:28:02",
          "2019-12-18T11:53:07",
          "2019-12-18T11:31:58",
          "2019-12-18T12:01:42",
          "2019-12-18T11:47:14",
          "2019-12-16T21:34:38",
          "2019-12-16T21:25:16",
          "2019-12-16T21:26:20",
          "2019-12-16T21:32:41",
          "2019-12-16T21:44:48",
          "2019-12-16T22:02:45",
          "2019-12-16T21:20:30",
          "2019-12-16T21:21:43",
          "2019-12-16T21:39:52",
          "2019-12-16T21:48:21",
          "2019-12-16T22:07:36",
          "2019-12-16T22:51:06",
          "2019-12-16T22:58:54",
          "2019-12-16T23:20:59",
          "2019-12-16T23:59:28",
          "2019-12-17T00:55:40",
          "2019-12-17T01:22:39",
          "2019-12-17T01:23:01",
          "2019-12-17T01:26:27",
          "2019-12-17T01:57:58",
          "2019-12-17T02:09:30",
          "2019-12-17T02:06:29",
          "2019-12-17T02:08:17",
          "2019-12-16T14:38:05",
          "2019-12-16T14:59:58",
          "2019-12-16T15:01:07",
          "2019-12-16T14:31:46",
          "2019-12-16T15:30:13",
          "2019-12-16T16:00:24",
          "2019-12-16T15:50:31",
          "2019-12-16T16:23:12",
          "2019-12-16T16:06:38",
          "2019-12-16T17:13:16",
          "2019-12-16T17:23:41",
          "2019-12-16T17:22:38",
          "2019-12-16T18:05:24",
          "2019-12-16T17:40:02",
          "2019-12-16T18:00:45",
          "2019-12-16T18:34:31",
          "2019-12-16T18:40:52",
          "2019-12-16T19:48:47",
          "2019-12-16T19:56:08",
          "2019-12-16T19:51:34",
          "2019-12-16T19:32:47",
          "2019-12-16T20:01:22",
          "2019-12-16T20:15:54",
          "2019-12-16T19:58:56",
          "2019-12-16T16:36:44",
          "2019-12-16T20:54:52",
          "2019-12-16T20:58:37",
          "2019-12-16T20:25:18",
          "2019-12-16T20:34:38",
          "2019-12-16T20:49:02",
          "2019-12-16T20:42:28",
          "2019-12-16T20:47:59",
          "2019-12-16T21:03:03",
          "2019-12-16T21:04:14",
          "2019-12-16T21:07:17",
          "2019-12-16T21:07:22",
          "2019-12-16T21:07:51",
          "2019-12-16T14:06:08",
          "2019-12-16T14:06:08",
          "2019-12-16T14:09:32",
          "2019-12-16T13:43:52",
          "2019-12-16T13:39:52",
          "2019-12-17T02:50:59",
          "2019-12-17T02:54:06",
          "2019-12-17T03:12:24",
          "2019-12-17T03:05:48",
          "2019-12-17T03:22:46",
          "2019-12-17T02:56:12",
          "2019-12-17T03:39:52",
          "2019-12-17T10:57:00",
          "2019-12-17T10:36:51",
          "2019-12-17T11:07:50",
          "2019-12-17T11:35:39",
          "2019-12-17T10:14:32",
          "2019-12-17T10:29:15",
          "2019-12-17T10:53:29",
          "2019-12-17T11:56:01",
          "2019-12-17T10:58:56",
          "2019-12-17T04:29:17",
          "2019-12-17T04:13:51",
          "2019-12-17T04:34:39",
          "2019-12-17T04:36:20",
          "2019-12-17T04:43:56",
          "2019-12-17T04:11:02",
          "2019-12-17T04:19:24",
          "2019-12-17T04:10:25",
          "2019-12-17T04:33:48",
          "2019-12-17T04:15:39",
          "2019-12-17T12:51:49",
          "2019-12-17T12:16:44",
          "2019-12-17T12:05:47",
          "2019-12-17T12:16:05",
          "2019-12-17T12:59:29",
          "2019-12-17T13:19:01",
          "2019-12-17T13:14:03",
          "2019-12-17T13:58:21",
          "2019-12-17T13:25:10",
          "2019-12-17T13:12:04",
          "2019-12-17T13:44:40",
          "2019-12-17T14:26:00",
          "2019-12-17T14:41:32",
          "2019-12-17T14:43:34",
          "2019-12-17T05:50:24",
          "2019-12-17T05:49:42",
          "2019-12-17T06:14:52",
          "2019-12-17T05:53:07",
          "2019-12-17T14:46:09",
          "2019-12-17T14:54:30",
          "2019-12-17T15:12:32",
          "2019-12-17T07:13:26",
          "2019-12-17T06:48:32",
          "2019-12-17T07:19:30",
          "2019-12-17T07:18:49",
          "2019-12-17T07:21:26",
          "2019-12-17T07:17:29",
          "2019-12-17T15:39:10",
          "2019-12-17T15:30:01",
          "2019-12-17T15:24:49",
          "2019-12-17T15:26:20",
          "2019-12-17T07:49:10",
          "2019-12-17T08:27:47",
          "2019-12-17T08:17:24",
          "2019-12-17T08:26:59",
          "2019-12-17T16:14:51",
          "2019-12-17T16:20:22",
          "2019-12-17T19:40:06",
          "2019-12-17T19:41:04",
          "2019-12-17T19:05:53",
          "2019-12-17T18:58:50",
          "2019-12-17T15:47:46",
          "2019-12-17T15:49:38",
          "2019-12-17T15:51:50",
          "2019-12-17T09:12:07",
          "2019-12-17T19:29:18",
          "2019-12-17T19:25:57",
          "2019-12-17T16:08:47",
          "2019-12-17T09:16:27",
          "2019-12-17T09:17:20",
          "2019-12-17T09:22:09",
          "2019-12-17T09:20:54",
          "2019-12-17T21:03:31",
          "2019-12-17T21:06:21",
          "2019-12-17T21:21:53",
          "2019-12-17T21:22:39",
          "2019-12-17T21:03:56",
          "2019-12-17T21:11:09",
          "2019-12-17T18:00:50",
          "2019-12-17T18:29:49",
          "2019-12-17T18:48:52",
          "2019-12-17T18:32:58",
          "2019-12-17T18:40:43",
          "2019-12-17T18:46:07",
          "2019-12-17T18:53:55",
          "2019-12-17T18:47:50",
          "2019-12-17T21:30:47",
          "2019-12-17T21:52:39",
          "2019-12-17T21:49:01",
          "2019-12-17T09:50:56",
          "2019-12-17T19:02:23",
          "2019-12-17T19:06:02",
          "2019-12-17T22:09:05",
          "2019-12-17T22:18:20",
          "2019-12-17T22:20:36",
          "2019-12-17T22:12:39",
          "2019-12-17T20:42:06",
          "2019-12-17T22:35:59",
          "2019-12-17T22:35:58",
          "2019-12-17T22:36:48",
          "2019-12-17T16:45:34",
          "2019-12-17T16:53:47",
          "2019-12-18T00:25:28",
          "2019-12-18T00:29:09",
          "2019-12-18T01:24:44",
          "2019-12-17T17:36:37",
          "2019-12-17T17:47:47",
          "2019-12-17T20:52:56",
          "2019-12-17T20:17:15",
          "2019-12-17T20:23:14",
          "2019-12-17T20:29:33",
          "2019-12-17T20:10:19",
          "2019-12-17T20:54:40",
          "2019-12-17T20:25:09",
          "2019-12-18T02:17:11",
          "2019-12-18T02:01:48",
          "2019-12-18T02:22:52",
          "2019-12-18T03:06:58",
          "2019-12-18T03:11:23",
          "2019-12-18T02:38:56",
          "2019-12-18T03:09:50",
          "2019-12-18T03:53:56",
          "2019-12-18T03:55:41",
          "2019-12-18T03:57:25",
          "2019-12-18T04:22:39",
          "2019-12-18T04:30:56",
          "2019-12-18T04:42:22",
          "2019-12-18T04:38:06",
          "2019-12-17T23:43:58",
          "2019-12-18T04:45:04",
          "2019-12-18T06:29:27",
          "2019-12-18T05:51:40",
          "2019-12-18T06:03:00",
          "2019-12-18T07:14:11",
          "2019-12-18T07:05:45",
          "2019-12-18T06:51:15",
          "2019-12-18T09:02:52",
          "2019-12-18T09:00:09",
          "2019-12-18T09:04:06",
          "2019-12-18T09:26:34",
          "2019-12-18T10:49:58",
          "2019-12-18T11:43:31",
          "2019-12-18T11:26:46",
          "2019-12-18T11:36:57"
         ],
         "xaxis": "x",
         "y": [
          0.2,
          0.35,
          0,
          0.13392857142857142,
          0.18571428571428572,
          0.225,
          0.024337916984975803,
          0.4,
          0.23035714285714284,
          0,
          0.1442857142857143,
          0.625,
          0.24375000000000002,
          0.49444444444444446,
          0,
          0.75,
          0.6,
          0,
          0,
          0.10222222222222224,
          0.3154761904761905,
          0,
          0.3666666666666667,
          0,
          0.35,
          0.24999999999999997,
          0.155,
          0.07878787878787878,
          0,
          0,
          0,
          0.2,
          0,
          0.16,
          0,
          0.5,
          0,
          0.25,
          0,
          0.375,
          0,
          0,
          0,
          0.8,
          0,
          0.5,
          0.5166666666666666,
          0.2,
          0,
          1,
          0,
          0.2,
          0,
          0.203125,
          0.5,
          0.13333333333333333,
          0,
          0,
          0.15625,
          0,
          0,
          0.5,
          0.2,
          0,
          0.44999999999999996,
          0.5,
          0.375,
          0.06666666666666665,
          0.5,
          0,
          1,
          0.375,
          0.2875,
          0,
          0,
          0,
          0,
          0,
          0,
          0.1812728937728938,
          0.55,
          0.2375,
          0,
          0,
          0.7,
          0.03214285714285715,
          0.2,
          0.2,
          0.43333333333333335,
          0,
          0.09375,
          0.2552910052910053,
          0.275,
          0.010000000000000009,
          0.375,
          0.25,
          0.175,
          0.2552910052910053,
          0,
          0.5,
          0.5,
          0.25366666666666665,
          0,
          0,
          0.2552910052910053,
          0.721111111111111,
          0.16999999999999998,
          0.5,
          0.5,
          0.3090909090909091,
          0,
          0,
          0,
          0,
          1,
          0,
          0.25,
          0.3454545454545454,
          0.08305555555555555,
          0,
          0.16666666666666666,
          0,
          0.625,
          0,
          0.2375,
          0.024999999999999994,
          0,
          0.2333333333333333,
          0,
          0.07333333333333333,
          1,
          0,
          0.25,
          0,
          0,
          0.2,
          0.2778333333333333,
          0,
          0,
          0,
          0.5625,
          0,
          0,
          0.25,
          0.575,
          0,
          0.125,
          0.07333333333333333,
          0,
          0.2591666666666667,
          0,
          0,
          0,
          0,
          0,
          0.75,
          0.5,
          0.22470238095238093,
          0,
          0,
          0.16527777777777777,
          0.8,
          0.225,
          0,
          0,
          0,
          0.2625,
          0,
          0.25555555555555554,
          0.26805555555555555,
          0.225,
          0.04833333333333334,
          0,
          0.2722222222222222,
          0.8,
          0.07333333333333333,
          1,
          0.278125,
          0,
          0.25,
          0.443452380952381,
          0,
          0.25,
          0.39375,
          0.125,
          0.07333333333333333,
          0,
          0,
          0.2166666666666667,
          0,
          0,
          0.1,
          0,
          0.12465277777777778,
          0.4375,
          0,
          0.2857142857142857,
          0.35,
          0,
          0.25,
          0.06203703703703703,
          0.175,
          0,
          0,
          0,
          0.125,
          0,
          0,
          0,
          0.25,
          0,
          0.2552910052910053,
          1,
          0.2673611111111111,
          0,
          0.41666666666666663,
          0.25,
          0,
          0,
          0,
          1,
          0.05873015873015872,
          0,
          0,
          0.16666666666666666,
          0,
          0.21666666666666667,
          0.3,
          0.22470238095238093,
          0,
          0,
          0.11904761904761904,
          0,
          0,
          0,
          0,
          0,
          0.16416666666666666,
          0,
          0,
          0,
          0,
          0.07333333333333333,
          0.22470238095238093,
          0,
          0.15000000000000002,
          0.175,
          0.05000000000000001,
          0,
          0.09583333333333333,
          0.2708333333333333,
          0.25,
          0,
          0,
          0.012830687830687824,
          0.3,
          0.1458241758241758,
          0.375,
          0.25833333333333336,
          0.25,
          0,
          0.125,
          0.35,
          0.45833333333333337,
          0,
          0.3704545454545454,
          0,
          0,
          0.625,
          0,
          0.8,
          0,
          0.8,
          0,
          0,
          0.33999999999999997,
          0,
          0.33571428571428574,
          0.2325757575757576,
          0.225,
          0.07261904761904761,
          0.05,
          0.25,
          0,
          0,
          0.5,
          0.046000000000000006,
          0.4,
          0.07142857142857142,
          0,
          0.019332421964000902,
          0.14874939874939871,
          0.33285714285714285,
          0.5375,
          0.03333333333333333,
          0,
          0.225,
          0.05952380952380952,
          0.06477272727272727,
          0,
          0.22470238095238093,
          0,
          0,
          0.25,
          0.25,
          0,
          0.5,
          0.044576719576719576,
          0.07333333333333333,
          0,
          0.22470238095238093,
          0.40625,
          0,
          0,
          0,
          0.225,
          0.6,
          0,
          0,
          0,
          0,
          0,
          0.19863516113516114,
          0.3416666666666666,
          0.3333333333333333,
          0.25,
          0,
          0.2,
          0.2,
          0,
          0,
          0.7,
          0,
          0,
          0,
          0.075,
          0.25,
          0.5,
          0.25,
          0.03928571428571429,
          0.1275482093663912,
          0,
          0,
          0.2375,
          0.2117460317460317,
          0.8,
          0,
          0.24812499999999998,
          0.032057823129251706,
          0.1855218855218855,
          0.41666666666666663,
          0.2330952380952381,
          0.16666666666666669,
          0,
          0.125,
          1.850371707708594e-17,
          0.18511904761904763,
          0.16218614718614718,
          0.09702380952380951,
          0,
          0,
          0,
          0,
          0.0625,
          0,
          0.16249999999999998,
          0.17346938775510207,
          0.04999999999999999,
          0,
          0.1,
          0.425,
          0.5,
          0.16666666666666666,
          0.09791666666666667,
          0,
          0,
          0,
          0.1,
          0,
          0.022222222222222213,
          0,
          0.25,
          0.4,
          0.09999999999999999,
          0.5,
          0.07333333333333333,
          0.05833333333333333,
          0.25,
          0,
          0.0880952380952381,
          0.15,
          0.2,
          0,
          0,
          0,
          0,
          0,
          0,
          0.5333333333333333,
          0.25555555555555554,
          0.1814814814814815,
          0,
          0.2928571428571428,
          0.25,
          0.5,
          0,
          0.35,
          0.8,
          0.2,
          0.33571428571428574,
          0.08333333333333333,
          0,
          0.4,
          1,
          0,
          0.25,
          0.08333333333333333,
          0,
          0,
          0,
          0.375,
          0,
          0,
          0.25,
          0.1,
          0.3,
          0.2451048951048951,
          0,
          0.10000000000000002,
          0.59375,
          0.45,
          0.15000000000000002,
          0,
          0.3666666666666667,
          0.21250000000000002,
          0,
          0,
          0.1,
          0.22470238095238093,
          0.7,
          0.2552910052910053,
          0.049999999999999996,
          0,
          0,
          0.19162878787878784,
          0.05,
          0.48750000000000004,
          0.39999999999999997,
          0.5,
          0,
          0.16538461538461538,
          0,
          0,
          0.004166666666666673,
          0,
          0,
          0,
          0.3,
          0,
          0.06944444444444446,
          0.14999999999999997,
          0,
          0,
          0.0625,
          0,
          0,
          0,
          0.125,
          0.006249999999999978,
          0.2,
          0.2,
          0,
          0,
          0.15833333333333333,
          0,
          0.3,
          0,
          0,
          0.22083333333333333,
          0.3,
          0,
          0.25,
          0,
          0,
          0.37366071428571435,
          0.23409090909090907,
          0,
          0,
          0.26785714285714285,
          0.31060606060606055,
          0.4,
          0,
          0.3,
          0.1,
          0,
          0,
          0.16805555555555554,
          0,
          0.25,
          0,
          0,
          0.07333333333333333,
          0.09999999999999999,
          0.037500000000000006,
          0.2,
          0,
          0.07333333333333333,
          0.05,
          0.4333333333333333,
          0.5,
          0.35,
          0.16666666666666669,
          0.25,
          0,
          0.06818181818181818,
          0.3,
          0,
          0.24722222222222223,
          0.2,
          0,
          0,
          0.4107142857142857,
          0.42857142857142855,
          0.25,
          0.2,
          0.09166666666666667,
          0,
          0,
          0.10984848484848485,
          0.625,
          0,
          0,
          0.5,
          0.25,
          0.14428571428571427,
          0.9,
          0.18333333333333335,
          0,
          0.3761904761904762,
          0.22470238095238093,
          0.26666666666666666,
          0.5,
          0,
          0,
          0,
          0.15833333333333335,
          0.30952380952380953,
          0,
          0,
          0,
          0,
          0.5,
          0.5,
          0,
          0.3,
          0,
          0.5,
          0,
          0.575,
          0.09375,
          1,
          0.3625,
          0,
          0,
          0.13000000000000003,
          0,
          0,
          0.4166666666666667,
          0.5,
          0.007857142857142865,
          0.16666666666666666,
          0.7,
          0.28500000000000003,
          0.44000000000000006,
          0.32916666666666666,
          0.2552910052910053,
          0,
          0,
          0.4166666666666667,
          0.25357142857142856,
          0,
          0.30000000000000004,
          0.22470238095238093,
          0,
          0.5,
          0,
          0,
          0.09523809523809525,
          0,
          0,
          0,
          0,
          0,
          1,
          0,
          0.2,
          0.07333333333333333,
          0.55,
          0.25,
          0.25,
          0,
          0.2,
          0.09,
          0.2402116402116402,
          0.21314814814814814,
          0.11388888888888891,
          0,
          0,
          0,
          0,
          0.2552910052910053,
          0,
          0.8,
          0.1,
          0.25,
          0.28775510204081634,
          0.2,
          0,
          0.013888888888888885,
          0.3125,
          0.39999999999999997,
          0.2041666666666667,
          0.4375,
          0.16294642857142858,
          0.3333333333333333,
          0.1909090909090909,
          0.14874939874939871,
          0.35,
          0.1,
          0.10551346801346802,
          0,
          0.2857142857142857,
          0.1,
          0.06666666666666665,
          0.08035714285714285,
          0.08333333333333333,
          0,
          0,
          0.5681818181818181,
          0.8,
          0.2,
          0.4,
          0.35,
          0.07777777777777778,
          0,
          1,
          0.5,
          0,
          0.2552910052910053,
          0,
          0,
          0,
          0.031150793650793658,
          0.04285714285714286,
          0.135,
          0,
          0,
          0.3625,
          0,
          0.3,
          0.35,
          0,
          0,
          0,
          0.13636363636363635,
          0.35,
          0.03333333333333333,
          0.22470238095238093,
          0,
          0,
          0.28409090909090906,
          0,
          0.45,
          0.5,
          0.03854166666666666,
          0.6000000000000001,
          0,
          0.5,
          0.35,
          0,
          0.1875,
          0,
          0.3571428571428571,
          0,
          0.5,
          0.2,
          0,
          0.1,
          0.09785714285714285,
          0.31666666666666665,
          0.075,
          0.005272108843537412,
          0.26791666666666664,
          0.4166666666666667,
          0.22470238095238093,
          0.15000000000000002,
          0.4,
          0.08875,
          0,
          0.4375,
          0.3,
          0,
          0,
          0,
          0,
          0.06547619047619048,
          0.3,
          0,
          0,
          0.4375,
          0.175,
          0.11041666666666666,
          0,
          0.1392857142857143,
          0.07142857142857144,
          0,
          0.25,
          0,
          0.2552910052910053,
          0,
          0,
          0.328125,
          0,
          0.35625,
          0,
          0.2,
          0.31666666666666665,
          0,
          0,
          0,
          0,
          0.3666666666666667,
          0.34285714285714286,
          0,
          0.8,
          0.25,
          0.875,
          0,
          0.11249999999999999,
          0.8,
          0,
          0,
          0.3,
          0.4464285714285714,
          0.35,
          0.12,
          0.3,
          0,
          0,
          0.625,
          0,
          0,
          0.1875,
          0,
          1,
          0.534375,
          0,
          0,
          0,
          0,
          0,
          0.033333333333333326,
          0.115,
          0,
          0.04583333333333334,
          0,
          0.8,
          0.125,
          0.03057851239669421,
          0,
          0.35,
          0.5,
          0.175,
          0,
          0.5,
          0,
          0,
          0.26666666666666666,
          0.2552910052910053,
          0,
          0,
          0.32,
          0,
          0.390625,
          0.10494505494505495,
          0.25,
          0,
          0,
          0,
          0.625,
          0,
          0,
          0.2552910052910053,
          0.2,
          0.2,
          0.2,
          0.1590909090909091,
          0.04999999999999999,
          0,
          0.5,
          0,
          0.425,
          0,
          0.14983379715522574,
          0.5,
          0,
          0
         ],
         "yaxis": "y"
        },
        {
         "customdata": [
          [
           "shufflingshuffler",
           "/r/Python/comments/eaawp0/integrating_python_with_java_swing/fb4opxj/",
           "Dang!  That's depressing."
          ],
          [
           "ProfessorGrizzly",
           "/r/Python/comments/ebh0gt/how_to_detect_dominant_color_in_masked_image/fb4plgw/",
           "Collect the average RGB values of pixels in the im"
          ],
          [
           "roerd",
           "/r/Python/comments/ebfo58/which_orm_for_python_and_abstraction_between_db/fb4q45k/",
           "SQLAlchemy and the Django ORM are not the same. Th"
          ],
          [
           "xd1142",
           "/r/Python/comments/ebh0gt/how_to_detect_dominant_color_in_masked_image/fb4ufud/",
           "what answer do you expect from that image? yellow "
          ],
          [
           "21KOGHQqBpwFReIeSYlF",
           "/r/Python/comments/ean4f7/i_created_a_maze_generator_then_solved_it_with/fb4u6e3/",
           "&gt;It has nothing to do with the type hints syste"
          ],
          [
           "FinalRewind",
           "/r/Python/comments/ebd3uz/how_to_control_your_raspberry_pi_from_anywhere_in/fb545fe/",
           "&gt;Their security isn't designed to keep bad guys"
          ],
          [
           "hellnukes",
           "/r/Python/comments/ebjgvl/i_wrote_a_program_that_doodles_things_in_ms_paint/fb7d3gd/",
           "Stupid robots will never understand our art..."
          ],
          [
           "chuck_01272003",
           "/r/Python/comments/ebnzoa/can_you_assign_variables_in_a_lambda/fb69wyx/",
           "What do you mean?"
          ],
          [
           "a22e",
           "/r/Python/comments/ebjgvl/i_wrote_a_program_that_doodles_things_in_ms_paint/fb5fi4a/",
           "Completely randomly generated."
          ],
          [
           "Throwmeawayplznthx",
           "/r/Python/comments/ebkm5x/learning_python_is_boring_me_i_learn_from/fb5kxqs/",
           "Learning anything is boring for me, I learn from e"
          ],
          [
           "mssxtn",
           "/r/Python/comments/ebl3jg/i_need_help_with_my_python/fb5mqry/",
           "https://www.daniweb.com/programming/software-devel"
          ],
          [
           "joyrida12",
           "/r/Python/comments/ebkm5x/learning_python_is_boring_me_i_learn_from/fb5itup/",
           "If the initial learning process is boring to you, "
          ],
          [
           "nupil",
           "/r/Python/comments/ebyydg/please_help_new_and_confused/fb82jrd/",
           "It still doesn’t allow me to use emacs as a comman"
          ],
          [
           "Kaarjuus",
           "/r/Python/comments/ebu5mi/the_little_book_of_python_antipatterns_python/fb88905/",
           "What is `^F-i`? \n\nMy typical approach is to use do"
          ],
          [
           "inarighas",
           "/r/Python/comments/ebw39p/conda_is_fing_slow/fb7k7kl/",
           "Yes, I am talking about the anaconda prompt. \n\nMy "
          ],
          [
           "OmerSdeChen",
           "/r/Python/comments/ebjgvl/i_wrote_a_program_that_doodles_things_in_ms_paint/fb6u9wi/",
           "I can watch it all day long"
          ],
          [
           "MartyMacGyver",
           "/r/Python/comments/eazg05/made_my_first_fractal/fb6zr7i/",
           "Shows everything, but it *does* still crash in the"
          ],
          [
           "0xde1",
           "/r/Python/comments/ebxfls/question_regarding_class_int_is_not_json/fb7smk9/",
           "Your code worked for me in Python 3.6.5. \n\n    imp"
          ],
          [
           "AirHamyes",
           "/r/Python/comments/ebjgvl/i_wrote_a_program_that_doodles_things_in_ms_paint/fb7vpaj/",
           "Copy the run program, call it erase. In the dragTo"
          ],
          [
           "jeffrey_f",
           "/r/Python/comments/ebw95t/whats_everyone_working_on_this_week/fb7w90f/",
           "Somehow is when:\n\nA task is a time sink, tedious, "
          ],
          [
           "VertigoLol",
           "/r/Python/comments/ebxjbh/advice_on_images_scraping/fb84bzb/",
           "You can 100% get the same results with bs4 + resul"
          ],
          [
           "parles",
           "/r/Python/comments/ebwk8h/python_and_data_science_for_aws/fb7yqvh/",
           "What I'm really looking for is any example of data"
          ],
          [
           "hotpotatobeans",
           "/r/Python/comments/ebnzoa/can_you_assign_variables_in_a_lambda/fb7xpjr/",
           "You're confusing Python's name scoping rules with "
          ],
          [
           "CliftonPark1",
           "/r/Python/comments/ebw39p/conda_is_fing_slow/fb8d3z8/",
           "I only add new packages to my base installation if"
          ],
          [
           "inarighas",
           "/r/Python/comments/ebw39p/conda_is_fing_slow/fb8co20/",
           "yes. what do you mean by \"proactive\"?"
          ],
          [
           "willm",
           "/r/Python/comments/ec1pf2/i_want_your_opinion_mypy/fb8xcgd/",
           "Black is another game changer. It returned 10% men"
          ],
          [
           "robin-gvx",
           "/r/Python/comments/ec0d46/learning_python_and_couldnt_think_of_a_good/fb912r1/",
           "It could be an alias, but it doesn't have to be.\n\n"
          ],
          [
           "maxbridgland",
           "/r/Python/comments/ec529x/made_my_first_discord_bot_using_disco_to_paste/fb967gh/",
           "Never tried making a Discord bot with discord.py b"
          ],
          [
           "911OpenUp",
           "/r/Python/comments/ec0j6z/quick_mods_are_asleep_upvote_pics_of_python/fb8jity/",
           "*import poison as Deadly*"
          ],
          [
           "Jespor",
           "/r/Python/comments/ebjgvl/i_wrote_a_program_that_doodles_things_in_ms_paint/fb79f57/",
           "This should be part of the \"how to automate the bo"
          ],
          [
           "shevy-ruby",
           "/r/Python/comments/ebu0k5/python_vs_ruby_which_is_better_for_businesses/fb7auhc/",
           "I have seen bad articles before - but this one top"
          ],
          [
           "Whoopska",
           "/r/Python/comments/ec0d46/learning_python_and_couldnt_think_of_a_good/fb9baqz/",
           "This reminds me of a project I ran into a project "
          ],
          [
           "LightShadow",
           "/r/Python/comments/ebu5mi/the_little_book_of_python_antipatterns_python/fb9nshs/",
           "The \"map() or filter() vs list comprehensions\" mis"
          ],
          [
           "LegaLess007",
           "/r/Python/comments/ebw95t/whats_everyone_working_on_this_week/fb8lqe2/",
           "I want to finish my minichess AI using negamax alg"
          ],
          [
           "ProfessionalTune0",
           "/r/Python/comments/ebx65k/could_someone_explain_to_me_why_tkinter_is_being/fba1udm/",
           "The Python Software Foundation suggest not using t"
          ],
          [
           "stevenjd",
           "/r/Python/comments/ebu5mi/the_little_book_of_python_antipatterns_python/fba4fa0/",
           "&gt; Provide an example and I'll provide the bette"
          ],
          [
           "stevenjd",
           "/r/Python/comments/ec91s7/lost_and_afraid/fba67oc/",
           "Following up on my earlier comment, how I personal"
          ],
          [
           "CookieGuyOof",
           "/r/Python/comments/ebjt38/hey_everyone/fb5fcme/",
           "how do i do that tho? im sorry if im bugging you, "
          ],
          [
           "CMphys",
           "/r/Python/comments/eb85vu/how_to_create_a_3d_graph/fb5f37q/",
           "Matplotlib also has 3D capabilities, see some exam"
          ],
          [
           "Old_Winterton",
           "/r/Python/comments/eb1fb5/writing_to_a_csv/fb5mb3k/",
           "I dig it!  \nAnother way that would avoid middle-sc"
          ],
          [
           "stephan42_42",
           "/r/Python/comments/ebh0gt/how_to_detect_dominant_color_in_masked_image/fb5hkwy/",
           "I also have the masked version of that image, so t"
          ],
          [
           "ManBearHybrid",
           "/r/Python/comments/ebifcm/what_is_the_workflow_to_work_and_the_package/fb5hu5l/",
           "It's still not clear what they mean. Please post a"
          ],
          [
           "AirHamyes",
           "/r/Python/comments/ebjgvl/i_wrote_a_program_that_doodles_things_in_ms_paint/fb5rzmg/",
           "Fuck"
          ],
          [
           "TheReverend403",
           "/r/Python/comments/eayfs0/learn_regex_the_fun_way/fb43rp1/",
           "Probably because the other 3 aren't widely despise"
          ],
          [
           "DesperatePleasure",
           "/r/Python/comments/ebw95t/whats_everyone_working_on_this_week/fb7o0is/",
           "Going through the basics in Automate the boring st"
          ],
          [
           "TastyMaple",
           "/r/Python/comments/ebu5mi/the_little_book_of_python_antipatterns_python/fb7tpil/",
           "I've used this site in the past and have it bookma"
          ],
          [
           "vidazinho",
           "/r/Python/comments/ebsgnv/ultra_simple_morse_code_translator/fb7s8lj/",
           "Geez sorry you're right. I wasn't thinking, I even"
          ],
          [
           "Kaarjuus",
           "/r/Python/comments/ebu5mi/the_little_book_of_python_antipatterns_python/fb7x4rq/",
           "A few of the items are very questionably \"anti-pat"
          ],
          [
           "jackacase",
           "/r/Python/comments/ebxg4w/how_to_get_started_with_coding_python_on_a_chrome/fb84s74/",
           "I've started using [gitpod.io](https://gitpod.io) "
          ],
          [
           "Kaarjuus",
           "/r/Python/comments/ebu5mi/the_little_book_of_python_antipatterns_python/fb87s5k/",
           "Small simple example from a current project:\n\n    "
          ],
          [
           "ShibaOne",
           "/r/Python/comments/ebnzoa/can_you_assign_variables_in_a_lambda/fb6ejhr/",
           "Lmao idk. I'm bad at python"
          ],
          [
           "robin-gvx",
           "/r/Python/comments/eblyxu/what_can_be_a_reason_that_python_imports_behave/fb6naic/",
           "That's weird.\n\nHave you confirmed that everyone is"
          ],
          [
           "TheReverend403",
           "/r/Python/comments/ebjgvl/i_wrote_a_program_that_doodles_things_in_ms_paint/fb6tn47/",
           "Found you bushidoboy :\\^)\n\nNow let's bully someone"
          ],
          [
           "K900_",
           "/r/Python/comments/ebffcz/autocopy_all_displayed_print_results_into/fb49mae/",
           "There is no way to do that out of the box, but you"
          ],
          [
           "Sagittarius-Astar",
           "/r/Python/comments/eb5qil/made_conways_game_of_life_using_tkinter/fb4fuo3/",
           "You should do in another way, just pick a fix numb"
          ],
          [
           "CanadianPython",
           "/r/Python/comments/eb5qil/made_conways_game_of_life_using_tkinter/fb4hns5/",
           "Sweet, I also made a Game of Life using Python dur"
          ],
          [
           "kenneho",
           "/r/Python/comments/ea022g/subscribe_to_security_news_about_specific_python/fb4gctf/",
           "Thanks for the tip. Unfortunately, our code is hos"
          ],
          [
           "nwss00",
           "/r/Python/comments/ebe72x/can_python_be_used_as_macros_across_different/fb4k1fe/",
           "Years ago, I used a famous Python book called \"Aut"
          ],
          [
           "drbobb",
           "/r/Python/comments/eb4cj2/is_it_possible_to_convert_a_number_from_datetime/fb4ofem/",
           "    In [2]: from datetime import datetime\n\n    In "
          ],
          [
           "samtonatorn",
           "/r/Python/comments/eba1w4/how_do_you_turn_just_code_into_code_for_a_game/fb48qwo/",
           "Yes thank you! Also Godot engine is a game engine "
          ],
          [
           "Gawd_is_great",
           "/r/Python/comments/eazg05/made_my_first_fractal/fb6zu5x/",
           "I made it so that after everything is finished it "
          ],
          [
           "jagkagd",
           "/r/Python/comments/e9kszt/a_library_to_perform_a_numpy_array_transformation/fb75jbs/",
           "Thanks for the feedback. Yes, I use strings, but I"
          ],
          [
           "mRWafflesFTW",
           "/r/Python/comments/eblyxu/what_can_be_a_reason_that_python_imports_behave/fb7j25p/",
           "It depends on your project and what you are trying"
          ],
          [
           "karthikkumars",
           "/r/Python/comments/ebzqpe/need_help/fb8ew4s/",
           "You haven't closed the parenthesis of the studentl"
          ],
          [
           "inarighas",
           "/r/Python/comments/ebw39p/conda_is_fing_slow/fb8dw2t/",
           "yes I agree. that how i am using it. Currently i a"
          ],
          [
           "FishBlues",
           "/r/Python/comments/ec0d46/learning_python_and_couldnt_think_of_a_good/fb8ihqz/",
           "[ slowly closes laptop ]\n\n[ begins to sob uncontro"
          ],
          [
           "zpwd",
           "/r/Python/comments/ebyf45/how_to_support_a_python_package_that_uses_c/fb8ourc/",
           "I have bad news for you: f-strings cannot be consi"
          ],
          [
           "isoblvck",
           "/r/Python/comments/ec0d46/learning_python_and_couldnt_think_of_a_good/fb8mo46/",
           "\nDict of input with integer keys and insult values"
          ],
          [
           "cornycrunch",
           "/r/Python/comments/ec0d46/learning_python_and_couldnt_think_of_a_good/fb8qydl/",
           "If it's being \"picked randomly\", just do this:\n```"
          ],
          [
           "SethWms",
           "/r/Python/comments/ec0d46/learning_python_and_couldnt_think_of_a_good/fb8tsh6/",
           "Next step: Script changes power options to do noth"
          ],
          [
           "kevin_with_rice",
           "/r/Python/comments/ec0d46/learning_python_and_couldnt_think_of_a_good/fb8u9jf/",
           "Right, but why would the indices be sparse for a l"
          ],
          [
           "kaihatsusha",
           "/r/Python/comments/ec0d46/learning_python_and_couldnt_think_of_a_good/fb8upim/",
           "Definitely, it wouldn't in this case, assuming ind"
          ],
          [
           "FukMyHoles",
           "/r/Python/comments/ec0d46/learning_python_and_couldnt_think_of_a_good/fb9mb2j/",
           "Just got off, googling how to upload stuff to GitH"
          ],
          [
           "mraza007",
           "/r/Python/comments/ec6opk/so_i_wrote_this_script_a_ago_year_but_today_i/fb9s794/",
           "You can get banned\nYou just cap the sending limit "
          ],
          [
           "Givingbacktoreddit",
           "/r/Python/comments/ec6opk/so_i_wrote_this_script_a_ago_year_but_today_i/fba0pih/",
           "Unless the person thinks of it as harassment, whic"
          ],
          [
           "YmFzZTY0dXNlcm5hbWU_",
           "/r/Python/comments/eb8j7p/evolving_images_using_genetic_algorithms_and/fb4eqrd/",
           "I remember there being a site that did this in 201"
          ],
          [
           "SurpriseAttachyon",
           "/r/Python/comments/e8yomi/the_new_walrus_operator_in_python38_is_everything/fb4gl4r/",
           "You mean `(object = get_object())` as opposed to `"
          ],
          [
           "33ngineer",
           "/r/Python/comments/ebi3r3/development_environment/fb4zj9k/",
           "A common method is to use a virtual environment. L"
          ],
          [
           "JayJayPeeko",
           "/r/Python/comments/ebnfsj/simple_hangman_game/fb72k2f/",
           "Oh you're wrong because I did it and got 10/10"
          ],
          [
           "nielsrolf",
           "/r/Python/comments/eblyxu/what_can_be_a_reason_that_python_imports_behave/fb7ccp0/",
           "This is what I currently do but I find it super ug"
          ],
          [
           "shevy-ruby",
           "/r/Python/comments/ebu0k5/python_vs_ruby_which_is_better_for_businesses/fb7bigy/",
           "&gt;  But is you think you want to investigate AI "
          ],
          [
           "moonlandings",
           "/r/Python/comments/ebvpn0/round_to_only_2_decimals/fb7gvmy/",
           "round(number,2)\n\nRound takes a second argument for"
          ],
          [
           "mangoed",
           "/r/Python/comments/ebvitl/whats_possible_with_python/fb7fw5y/",
           "Extracting text from pdf does not always work as e"
          ],
          [
           "rhcrise",
           "/r/Python/comments/ebw39p/conda_is_fing_slow/fb7jmpg/",
           ":| how’s it slow? If you’re talking about when you"
          ],
          [
           "CookieGuyOof",
           "/r/Python/comments/ebjt38/hey_everyone/fb5bgwo/",
           "im sorry if the mistake is obvious, im fairly new "
          ],
          [
           "kigurai",
           "/r/Python/comments/ean4f7/i_created_a_maze_generator_then_solved_it_with/fb5c9yl/",
           "I'm honestly not well versed enough in the practic"
          ],
          [
           "nosklo",
           "/r/Python/comments/ebjgvl/i_wrote_a_program_that_doodles_things_in_ms_paint/fb5dwoa/",
           "disappointed. Expected dickbutt."
          ],
          [
           "CookieGuyOof",
           "/r/Python/comments/ebjt38/hey_everyone/fb5fo6s/",
           "k yeah the letters just go crazy past z, i dont kn"
          ],
          [
           "drbobb",
           "/r/Python/comments/eb1fb5/writing_to_a_csv/fb5h6xp/",
           "    with open('file.csv', 'a') as f:\n        w = c"
          ],
          [
           "CMphys",
           "/r/Python/comments/ebjt38/hey_everyone/fb5lf8h/",
           "This seems to work, try rewriting the other functi"
          ],
          [
           "PurelyCreative",
           "/r/Python/comments/ebhjoa/is_it_an_antenna_is_it_a_parking_lot_its_another/fb5jquj/",
           "https://github.com/Perseus-Perry/Fractal\n\nIt’s pro"
          ],
          [
           "covabishop",
           "/r/Python/comments/ebjgvl/i_wrote_a_program_that_doodles_things_in_ms_paint/fb5kotv/",
           "If you named it anything other than pycasso you're"
          ],
          [
           "MalawianPoop",
           "/r/Python/comments/duugyi/pls_help_me/fb56gws/",
           "Did you fail the IB and become homeless yet?"
          ],
          [
           "MrRikkert",
           "/r/Python/comments/ebaf1e/syntax_question/fb47eq8/",
           "For question one: You have to use\n\n    pd.to_datet"
          ],
          [
           "CodeSkunky",
           "/r/Python/comments/ebu5mi/the_little_book_of_python_antipatterns_python/fb8zneu/",
           "What is it at worst?\n\n..and no, I'm not going to."
          ],
          [
           "Billblarney",
           "/r/Python/comments/ebytlq/interesting_project/fb9oe59/",
           "Sure and you'll make a million bucks. Create a fre"
          ],
          [
           "Thecrawsome",
           "/r/Python/comments/ec0j6z/quick_mods_are_asleep_upvote_pics_of_python/fb8jfbz/",
           "this sub sucks"
          ],
          [
           "Blaidd-XIII",
           "/r/Python/comments/ec0j6z/quick_mods_are_asleep_upvote_pics_of_python/fb8hfl4/",
           "[You make me sad. ](https://media.giphy.com/media/"
          ],
          [
           "FukMyHoles",
           "/r/Python/comments/ec0d46/learning_python_and_couldnt_think_of_a_good/fb8lypw/",
           "Better than a calculator and all the other boring "
          ],
          [
           "BTiberius",
           "/r/Python/comments/ec0d46/learning_python_and_couldnt_think_of_a_good/fb8lj48/",
           "Now build this as a flask api so we can all secret"
          ],
          [
           "GorbyXD",
           "/r/Python/comments/ec1oeq/freelance_work/fb8qj6u/",
           "Hi Jared,\n\nAs far as I know, you don’t have a base"
          ],
          [
           "willm",
           "/r/Python/comments/ec1pf2/i_want_your_opinion_mypy/fb8tfhx/",
           "Entirely agree. I came from C++ background and alt"
          ],
          [
           "codeOnMaster",
           "/r/Python/comments/ebytlq/interesting_project/fb83mzk/",
           "Maybe pickup the books Python Crash Course or Auto"
          ],
          [
           "nupil",
           "/r/Python/comments/ebyydg/please_help_new_and_confused/fb83kr5/",
           "https://imgur.com/gallery/SHQjjST\n\nSo usually I us"
          ],
          [
           "iTecX",
           "/r/Python/comments/ebw95t/whats_everyone_working_on_this_week/fb84ehm/",
           "Im making an interface for a DIY D&amp;D game scre"
          ],
          [
           "DARPA1191969v1",
           "/r/Python/comments/ebz6pj/scanner_app_inventory_management_from_scratch/fb98l3v/",
           "They are both just javascript, and nope nit really"
          ],
          [
           "jkmacc",
           "/r/Python/comments/ec56kr/signal_procesing/fb9a9w0/",
           "When I first started out, [NumPy for Matlab users]"
          ],
          [
           "PythonKoder",
           "/r/Python/comments/ec1oeq/freelance_work/fb9c2lu/",
           "I've had 0 luck with freelancing sites as it's nea"
          ],
          [
           "panta34",
           "/r/Python/comments/ebsgnv/ultra_simple_morse_code_translator/fb9u31l/",
           "You can use comprehensions instead of \"for if\" blo"
          ],
          [
           "ASIC_SP",
           "/r/Python/comments/ec56kr/signal_procesing/fb9vvl5/",
           "I have a few resources collected here: https://lea"
          ],
          [
           "timkpaine",
           "/r/Python/comments/ec94xl/put_3_coordinate_data_point_to_2d_plane_in_python/fb9xcuu/",
           "You could do 2 axes and then color the points for "
          ],
          [
           "chmod--777",
           "/r/Python/comments/ec0d46/learning_python_and_couldnt_think_of_a_good/fb9xl17/",
           "Wait are you fucking serious? Sudoers handles an i"
          ],
          [
           "xd1142",
           "/r/Python/comments/ec1pf2/i_want_your_opinion_mypy/fba3dhs/",
           "black does not respect pep8"
          ],
          [
           "stevenjd",
           "/r/Python/comments/ebu5mi/the_little_book_of_python_antipatterns_python/fba4jxj/",
           "&gt; It immediately tells me as opposed to having "
          ],
          [
           "zpwd",
           "/r/Python/comments/ebyf45/how_to_support_a_python_package_that_uses_c/fba5d9b/",
           "Preferred for *what*? How do you pass an f-string "
          ],
          [
           "gaming_weed",
           "/r/Python/comments/ec0d46/learning_python_and_couldnt_think_of_a_good/fba6znz/",
           "shit dude XD"
          ],
          [
           "AirHamyes",
           "/r/Python/comments/ebjgvl/i_wrote_a_program_that_doodles_things_in_ms_paint/fb5qgcd/",
           " [https://pastebin.com/98EWgWyq](https://pastebin."
          ],
          [
           "CanadianPython",
           "/r/Python/comments/eb5qil/made_conways_game_of_life_using_tkinter/fb4iyae/",
           "Unlikely anything you have done is wrong, with the"
          ],
          [
           "21KOGHQqBpwFReIeSYlF",
           "/r/Python/comments/ean4f7/i_created_a_maze_generator_then_solved_it_with/fb4l2ph/",
           "&gt;\"It\" in this case is the interpreter\n\nThe inte"
          ],
          [
           "mtrajk93",
           "/r/Python/comments/ebf7rc/github_mtrajkcodingproblems_python_solutions_for/fb4o9rj/",
           "Hi, sorry I'm not sure about what problem you're a"
          ],
          [
           "FinalRewind",
           "/r/Python/comments/ebd3uz/how_to_control_your_raspberry_pi_from_anywhere_in/fb5441g/",
           "And their security isn't designed to keep bad guys"
          ],
          [
           "AirHamyes",
           "/r/Python/comments/ebjgvl/i_wrote_a_program_that_doodles_things_in_ms_paint/fb5do3n/",
           "yea, gimme a sec. I'm gonna add a function to remo"
          ],
          [
           "spicypixel",
           "/r/Python/comments/ebdtk8/trying_to_create_csv_file_directly_in_s3_and/fb5i2n4/",
           "Isn't S3 object store not file store? There's not "
          ],
          [
           "MikeTheWatchGuy",
           "/r/Python/comments/eb5qil/made_conways_game_of_life_using_tkinter/fb4az4x/",
           "I'm having trouble with the window becoming unresp"
          ],
          [
           "Eze-Wong",
           "/r/Python/comments/ebe72x/can_python_be_used_as_macros_across_different/fb4ae8c/",
           "Yes entirely possible. My work has me opening mult"
          ],
          [
           "maxbridgland",
           "/r/Python/comments/eb20wt/built_a_free_json_cloud_storage_solution_in_flask/fb4cm7z/",
           "There were some mongoDB upgrades overnight, the we"
          ],
          [
           "Ashutoshkv",
           "/r/Python/comments/ebd3uz/how_to_control_your_raspberry_pi_from_anywhere_in/fb4csuv/",
           "Yeah! I am too trying to understand this. But I sa"
          ],
          [
           "tipsy_python",
           "/r/Python/comments/ebsg40/professional_python_coding/fb7go7e/",
           "Lots of micro-services, both REST APIs and messagi"
          ],
          [
           "MartyMacGyver",
           "/r/Python/comments/eazg05/made_my_first_fractal/fb703f3/",
           "Removing those unnecessary `del`s was easier.\n\nPre"
          ],
          [
           "the_television",
           "/r/Python/comments/ebvpn0/round_to_only_2_decimals/fb7qaqb/",
           "`round()` only returns the rounded number, it does"
          ],
          [
           "zpwd",
           "/r/Python/comments/ebww8n/looking_for_a_mentor/fb7qv7u/",
           "Right, but you **do** realize per-hour salary grad"
          ],
          [
           "MartyMacGyver",
           "/r/Python/comments/eazg05/made_my_first_fractal/fb72gy8/",
           "I'm sure that'll work... And I'm pretty sure that "
          ],
          [
           "aMillenarian",
           "/r/Python/comments/ebu5mi/the_little_book_of_python_antipatterns_python/fb8b79u/",
           "EAFP can avoid race conditions in some circumstanc"
          ],
          [
           "dragonddragondragon",
           "/r/Python/comments/ebd3uz/how_to_control_your_raspberry_pi_from_anywhere_in/fb75ihc/",
           "I can't comment on tiktok or vine, but getting new"
          ],
          [
           "vidazinho",
           "/r/Python/comments/ebsgnv/ultra_simple_morse_code_translator/fb844w6/",
           "Wow, crap! You're right, that's great. It's even s"
          ],
          [
           "GlitchyBlasphemer",
           "/r/Python/comments/ebzqpe/need_help/fb8874h/",
           "3rd line down under Frame.\n\nMainFram.grid()\n\nIs it"
          ],
          [
           "archaeolinuxgeek",
           "/r/Python/comments/ebf1fg/github_sumercyappi_yet_another_python_profiler/fb8jwcg/",
           "Curious to see how this plays with the ad-hoc prof"
          ],
          [
           "ae8_bos",
           "/r/Python/comments/ec0j6z/quick_mods_are_asleep_upvote_pics_of_python/fb8jxo5/",
           "I love python but I fucking hate snakes"
          ],
          [
           "muikrad",
           "/r/Python/comments/ec1pf2/i_want_your_opinion_mypy/fb8x1wb/",
           "Maybe they will like \"black\" formatting, it kinda "
          ],
          [
           "WalesAuburn",
           "/r/Python/comments/ec3iv5/sqlalchemy_vs_pyodbc/fb97xnv/",
           "&gt; if people want to integrate with an SQL datab"
          ],
          [
           "zpwd",
           "/r/Python/comments/ebyf45/how_to_support_a_python_package_that_uses_c/fb817k1/",
           "You have a number of question which are not relate"
          ],
          [
           "steveisredatw",
           "/r/Python/comments/ebw95t/whats_everyone_working_on_this_week/fb9iye0/",
           "I’m writing a internal tool at my work that is a w"
          ],
          [
           "twotime",
           "/r/Python/comments/ebu5mi/the_little_book_of_python_antipatterns_python/fb9l7fi/",
           "(1) x,y,z in graphing contexts\n\n(2) pretty much an"
          ],
          [
           "KingDamager",
           "/r/Python/comments/ec0d46/learning_python_and_couldnt_think_of_a_good/fb8vq6c/",
           "If you've got an Alexa enabled device it'd probabl"
          ],
          [
           "Yoghurt42",
           "/r/Python/comments/ebxfls/question_regarding_class_int_is_not_json/fb8w5o1/",
           "That's because it's the last line that defines the"
          ],
          [
           "mraza007",
           "/r/Python/comments/ec6opk/so_i_wrote_this_script_a_ago_year_but_today_i/fb9s7wx/",
           "I’m not sure about that"
          ],
          [
           "-DivineGod-",
           "/r/Python/comments/ec0d46/learning_python_and_couldnt_think_of_a_good/fb9rp0m/",
           "you mean you are adhd? HUHHHHHH"
          ],
          [
           "chmod--777",
           "/r/Python/comments/ec0d46/learning_python_and_couldnt_think_of_a_good/fb9xg77/",
           "&gt;Python _does_ look for `.py` files when import"
          ],
          [
           "idairis",
           "/r/Python/comments/ec9181/best_python_training_institute_for_industrial/fb9x6ld/",
           "Crap"
          ],
          [
           "asim_kaleem",
           "/r/Python/comments/ec0d46/learning_python_and_couldnt_think_of_a_good/fba5dcl/",
           "i think i need to create one too :("
          ],
          [
           "AlphaGamer753",
           "/r/Python/comments/ec0yni/i_code_a_multiple_sudoku_grids_solver_in_python/fba8h90/",
           "You could do it at a \"realtime\" 20ish fps though c"
          ]
         ],
         "hoverlabel": {
          "namelength": 0
         },
         "hovertemplate": "sentiment=negative<br>Date comment was posted=%{x}<br>Comment positivity=%{y}<br>score=%{marker.size}<br>author=%{customdata[0]}<br>permalink=%{customdata[1]}<br>preview=%{customdata[2]}",
         "legendgroup": "sentiment=negative",
         "marker": {
          "color": "indianred",
          "size": [
           1,
           1,
           1,
           1,
           1,
           1,
           1,
           1,
           1,
           1,
           1,
           1,
           1,
           1,
           1,
           1,
           1,
           1,
           1,
           1,
           1,
           1,
           1,
           1,
           1,
           1,
           1,
           1,
           1,
           1,
           1,
           1,
           1,
           1,
           1,
           1,
           1,
           1,
           1,
           1,
           1,
           1,
           1,
           1,
           1,
           1,
           1,
           1,
           1,
           1,
           1,
           1,
           1,
           1,
           1,
           1,
           1,
           1,
           1,
           1,
           1,
           1,
           1,
           1,
           1,
           1,
           1,
           1,
           1,
           1,
           1,
           1,
           1,
           1,
           1,
           1,
           1,
           1,
           1,
           1,
           1,
           1,
           1,
           1,
           1,
           1,
           1,
           1,
           1,
           1,
           1,
           1,
           1,
           1,
           1,
           1,
           1,
           1,
           1,
           1,
           1,
           1,
           1,
           1,
           1,
           1,
           1,
           1,
           1,
           1,
           1,
           1,
           1,
           1,
           1,
           1,
           1,
           1,
           1,
           1,
           1,
           1,
           1,
           1,
           1,
           1,
           1,
           1,
           1,
           1,
           1,
           1,
           1,
           1,
           1,
           1,
           1,
           1,
           1,
           1,
           1,
           1,
           1,
           1,
           1,
           1,
           1,
           1,
           1,
           1,
           1
          ],
          "sizemode": "area",
          "sizeref": 0.02,
          "symbol": "circle"
         },
         "mode": "markers",
         "name": "sentiment=negative",
         "showlegend": true,
         "type": "scatter",
         "x": [
          "2019-12-16T16:13:48",
          "2019-12-16T16:21:19",
          "2019-12-16T16:25:45",
          "2019-12-16T17:01:50",
          "2019-12-16T16:59:33",
          "2019-12-16T18:24:02",
          "2019-12-17T12:30:55",
          "2019-12-17T01:11:01",
          "2019-12-16T20:04:19",
          "2019-12-16T20:52:30",
          "2019-12-16T21:07:58",
          "2019-12-16T20:33:58",
          "2019-12-17T17:45:49",
          "2019-12-17T18:44:52",
          "2019-12-17T14:20:39",
          "2019-12-17T05:31:09",
          "2019-12-17T07:13:48",
          "2019-12-17T16:00:43",
          "2019-12-17T16:34:05",
          "2019-12-17T16:39:52",
          "2019-12-17T18:04:22",
          "2019-12-17T17:06:09",
          "2019-12-17T16:55:14",
          "2019-12-17T19:35:09",
          "2019-12-17T19:30:34",
          "2019-12-17T23:07:51",
          "2019-12-17T23:51:26",
          "2019-12-18T00:53:12",
          "2019-12-17T20:41:35",
          "2019-12-17T11:12:39",
          "2019-12-17T11:45:55",
          "2019-12-18T01:55:52",
          "2019-12-18T04:36:07",
          "2019-12-17T21:04:04",
          "2019-12-18T09:07:46",
          "2019-12-18T10:13:24",
          "2019-12-18T10:58:08",
          "2019-12-16T20:03:02",
          "2019-12-16T20:00:50",
          "2019-12-16T21:04:03",
          "2019-12-16T20:22:24",
          "2019-12-16T20:24:43",
          "2019-12-16T21:53:57",
          "2019-12-16T12:52:43",
          "2019-12-17T15:07:59",
          "2019-12-17T16:12:39",
          "2019-12-17T15:56:25",
          "2019-12-17T16:49:10",
          "2019-12-17T18:09:04",
          "2019-12-17T18:40:03",
          "2019-12-17T02:05:18",
          "2019-12-17T03:48:51",
          "2019-12-17T05:20:40",
          "2019-12-16T13:56:22",
          "2019-12-16T14:55:47",
          "2019-12-16T15:12:38",
          "2019-12-16T15:00:28",
          "2019-12-16T15:33:37",
          "2019-12-16T16:11:26",
          "2019-12-16T13:47:21",
          "2019-12-17T07:15:30",
          "2019-12-17T09:31:32",
          "2019-12-17T14:05:08",
          "2019-12-17T19:53:21",
          "2019-12-17T19:43:12",
          "2019-12-17T20:31:12",
          "2019-12-17T21:35:43",
          "2019-12-17T21:13:37",
          "2019-12-17T21:56:56",
          "2019-12-17T22:28:36",
          "2019-12-17T22:33:46",
          "2019-12-17T22:38:36",
          "2019-12-18T04:15:21",
          "2019-12-18T05:45:24",
          "2019-12-18T08:39:55",
          "2019-12-16T14:45:30",
          "2019-12-16T15:02:37",
          "2019-12-16T17:43:28",
          "2019-12-17T08:16:01",
          "2019-12-17T12:16:55",
          "2019-12-17T12:00:00",
          "2019-12-17T13:33:50",
          "2019-12-17T13:18:35",
          "2019-12-17T14:12:59",
          "2019-12-16T19:29:16",
          "2019-12-16T19:36:13",
          "2019-12-16T19:50:31",
          "2019-12-16T20:05:50",
          "2019-12-16T20:19:09",
          "2019-12-16T20:56:24",
          "2019-12-16T20:42:03",
          "2019-12-16T20:50:21",
          "2019-12-16T18:44:42",
          "2019-12-16T13:33:41",
          "2019-12-17T23:34:32",
          "2019-12-18T04:44:57",
          "2019-12-17T20:40:35",
          "2019-12-17T20:20:27",
          "2019-12-17T21:06:27",
          "2019-12-17T21:01:56",
          "2019-12-17T21:52:38",
          "2019-12-17T22:24:45",
          "2019-12-17T17:57:07",
          "2019-12-17T17:56:29",
          "2019-12-17T18:05:04",
          "2019-12-18T01:22:38",
          "2019-12-18T01:43:18",
          "2019-12-18T02:05:16",
          "2019-12-18T06:18:32",
          "2019-12-18T06:52:28",
          "2019-12-18T07:22:56",
          "2019-12-18T07:27:52",
          "2019-12-18T09:46:22",
          "2019-12-18T10:16:42",
          "2019-12-18T10:37:26",
          "2019-12-18T11:16:37",
          "2019-12-16T21:40:52",
          "2019-12-16T15:24:02",
          "2019-12-16T15:42:33",
          "2019-12-16T16:10:03",
          "2019-12-16T18:23:40",
          "2019-12-16T19:48:24",
          "2019-12-16T20:27:05",
          "2019-12-16T14:09:38",
          "2019-12-16T14:03:55",
          "2019-12-16T14:25:39",
          "2019-12-16T14:27:20",
          "2019-12-17T13:30:37",
          "2019-12-17T07:20:53",
          "2019-12-17T15:34:33",
          "2019-12-17T15:41:02",
          "2019-12-17T08:13:58",
          "2019-12-17T19:15:28",
          "2019-12-17T09:30:56",
          "2019-12-17T18:02:18",
          "2019-12-17T18:44:20",
          "2019-12-17T20:45:20",
          "2019-12-17T20:45:41",
          "2019-12-17T23:04:30",
          "2019-12-18T01:14:35",
          "2019-12-17T17:31:49",
          "2019-12-18T03:30:30",
          "2019-12-18T04:00:10",
          "2019-12-17T22:49:42",
          "2019-12-17T22:54:26",
          "2019-12-18T05:45:42",
          "2019-12-18T05:36:54",
          "2019-12-18T07:24:58",
          "2019-12-18T07:19:10",
          "2019-12-18T10:37:30",
          "2019-12-18T11:49:04"
         ],
         "xaxis": "x",
         "y": [
          -0.6,
          -0.06904761904761904,
          -0.06666666666666667,
          -0.025,
          -0.1061011904761905,
          -0.2999999999999999,
          -0.7999999999999999,
          -0.3125,
          -0.5,
          -1,
          -0.1,
          -0.225,
          -0.125,
          -0.07936507936507936,
          -0.03333333333333333,
          -0.05,
          -0.014285714285714287,
          -0.5,
          -0.10714285714285715,
          -0.08,
          -0.0625,
          -0.033333333333333326,
          -0.15,
          -0.06963684463684464,
          -0.3125,
          -0.20833333333333331,
          -0.0046245421245421255,
          -0.025277777777777777,
          -0.2,
          -1,
          -0.45989583333333334,
          -0.45,
          -0.16388888888888886,
          -0.04583333333333334,
          -0.3333333333333333,
          -0.00625,
          -0.04907407407407408,
          -0.5,
          -0.75,
          -0.3,
          -0.20833333333333331,
          -0.015624999999999986,
          -0.4,
          -0.1125,
          -0.16250000000000003,
          -0.075,
          -0.17857142857142855,
          -0.018864468864468877,
          -0.125,
          -0.08333333333333333,
          -0.04999999999999993,
          -0.05833333333333333,
          -0.25,
          -0.6999999999999998,
          -0.275,
          -0.025000000000000022,
          -0.15,
          -0.26,
          -0.75,
          -0.14166666666666666,
          -0.125,
          -0.075,
          -0.13999999999999999,
          -0.062121212121212126,
          -0.25,
          -0.30000000000000004,
          -0.07057142857142855,
          -0.25,
          -0.5,
          -0.3666666666666667,
          -0.0380952380952381,
          -0.07142857142857142,
          -0.4,
          -0.10625,
          -0.45,
          -0.3,
          -0.020833333333333332,
          -0.3,
          -0.5,
          -0.12222222222222222,
          -0.1716372912801484,
          -0.1,
          -0.02239583333333333,
          -0.10000000000000002,
          -0.12121212121212122,
          -0.013095238095238096,
          -0.425,
          -0.2833333333333333,
          -0.375,
          -0.03125,
          -0.2,
          -0.1625,
          -0.5,
          -0.13333333333333333,
          -1,
          -0.09340659340659338,
          -0.3,
          -0.5,
          -0.0625,
          -0.2,
          -0.20625000000000002,
          -0.06428571428571428,
          -0.325,
          -0.0625,
          -0.16874999999999998,
          -0.15,
          -0.25,
          -0.07748015873015872,
          -0.1875,
          -0.2,
          -0.024242424242424242,
          -0.4444444444444444,
          -0.16666666666666666,
          -0.17592592592592593,
          -0.20142857142857143,
          -0.2,
          -0.2,
          -0.09375,
          -0.15,
          -0.25,
          -0.2999999999999999,
          -0.1,
          -0.05,
          -0.024999999999999994,
          -0.0014102564102564052,
          -0.25,
          -0.6999999999999998,
          -0.03749999999999999,
          -0.05000000000000002,
          -0.1,
          -0.29732142857142857,
          -0.02857142857142855,
          -0.05,
          -0.03093434343434344,
          -0.18571428571428572,
          -0.07777777777777779,
          -0.05,
          -0.15000000000000002,
          -0.16666666666666666,
          -0.28125,
          -0.16428571428571428,
          -0.14583333333333334,
          -0.03047619047619048,
          -0.16666666666666666,
          -0.03766233766233767,
          -0.25,
          -0.3125,
          -0.09999999999999999,
          -0.8,
          -0.75,
          -0.2
         ],
         "yaxis": "y"
        }
       ],
       "layout": {
        "autosize": true,
        "legend": {
         "itemsizing": "constant",
         "tracegroupgap": 0
        },
        "template": {
         "data": {
          "bar": [
           {
            "error_x": {
             "color": "#2a3f5f"
            },
            "error_y": {
             "color": "#2a3f5f"
            },
            "marker": {
             "line": {
              "color": "#E5ECF6",
              "width": 0.5
             }
            },
            "type": "bar"
           }
          ],
          "barpolar": [
           {
            "marker": {
             "line": {
              "color": "#E5ECF6",
              "width": 0.5
             }
            },
            "type": "barpolar"
           }
          ],
          "carpet": [
           {
            "aaxis": {
             "endlinecolor": "#2a3f5f",
             "gridcolor": "white",
             "linecolor": "white",
             "minorgridcolor": "white",
             "startlinecolor": "#2a3f5f"
            },
            "baxis": {
             "endlinecolor": "#2a3f5f",
             "gridcolor": "white",
             "linecolor": "white",
             "minorgridcolor": "white",
             "startlinecolor": "#2a3f5f"
            },
            "type": "carpet"
           }
          ],
          "choropleth": [
           {
            "colorbar": {
             "outlinewidth": 0,
             "ticks": ""
            },
            "type": "choropleth"
           }
          ],
          "contour": [
           {
            "colorbar": {
             "outlinewidth": 0,
             "ticks": ""
            },
            "colorscale": [
             [
              0,
              "#0d0887"
             ],
             [
              0.1111111111111111,
              "#46039f"
             ],
             [
              0.2222222222222222,
              "#7201a8"
             ],
             [
              0.3333333333333333,
              "#9c179e"
             ],
             [
              0.4444444444444444,
              "#bd3786"
             ],
             [
              0.5555555555555556,
              "#d8576b"
             ],
             [
              0.6666666666666666,
              "#ed7953"
             ],
             [
              0.7777777777777778,
              "#fb9f3a"
             ],
             [
              0.8888888888888888,
              "#fdca26"
             ],
             [
              1,
              "#f0f921"
             ]
            ],
            "type": "contour"
           }
          ],
          "contourcarpet": [
           {
            "colorbar": {
             "outlinewidth": 0,
             "ticks": ""
            },
            "type": "contourcarpet"
           }
          ],
          "heatmap": [
           {
            "colorbar": {
             "outlinewidth": 0,
             "ticks": ""
            },
            "colorscale": [
             [
              0,
              "#0d0887"
             ],
             [
              0.1111111111111111,
              "#46039f"
             ],
             [
              0.2222222222222222,
              "#7201a8"
             ],
             [
              0.3333333333333333,
              "#9c179e"
             ],
             [
              0.4444444444444444,
              "#bd3786"
             ],
             [
              0.5555555555555556,
              "#d8576b"
             ],
             [
              0.6666666666666666,
              "#ed7953"
             ],
             [
              0.7777777777777778,
              "#fb9f3a"
             ],
             [
              0.8888888888888888,
              "#fdca26"
             ],
             [
              1,
              "#f0f921"
             ]
            ],
            "type": "heatmap"
           }
          ],
          "heatmapgl": [
           {
            "colorbar": {
             "outlinewidth": 0,
             "ticks": ""
            },
            "colorscale": [
             [
              0,
              "#0d0887"
             ],
             [
              0.1111111111111111,
              "#46039f"
             ],
             [
              0.2222222222222222,
              "#7201a8"
             ],
             [
              0.3333333333333333,
              "#9c179e"
             ],
             [
              0.4444444444444444,
              "#bd3786"
             ],
             [
              0.5555555555555556,
              "#d8576b"
             ],
             [
              0.6666666666666666,
              "#ed7953"
             ],
             [
              0.7777777777777778,
              "#fb9f3a"
             ],
             [
              0.8888888888888888,
              "#fdca26"
             ],
             [
              1,
              "#f0f921"
             ]
            ],
            "type": "heatmapgl"
           }
          ],
          "histogram": [
           {
            "marker": {
             "colorbar": {
              "outlinewidth": 0,
              "ticks": ""
             }
            },
            "type": "histogram"
           }
          ],
          "histogram2d": [
           {
            "colorbar": {
             "outlinewidth": 0,
             "ticks": ""
            },
            "colorscale": [
             [
              0,
              "#0d0887"
             ],
             [
              0.1111111111111111,
              "#46039f"
             ],
             [
              0.2222222222222222,
              "#7201a8"
             ],
             [
              0.3333333333333333,
              "#9c179e"
             ],
             [
              0.4444444444444444,
              "#bd3786"
             ],
             [
              0.5555555555555556,
              "#d8576b"
             ],
             [
              0.6666666666666666,
              "#ed7953"
             ],
             [
              0.7777777777777778,
              "#fb9f3a"
             ],
             [
              0.8888888888888888,
              "#fdca26"
             ],
             [
              1,
              "#f0f921"
             ]
            ],
            "type": "histogram2d"
           }
          ],
          "histogram2dcontour": [
           {
            "colorbar": {
             "outlinewidth": 0,
             "ticks": ""
            },
            "colorscale": [
             [
              0,
              "#0d0887"
             ],
             [
              0.1111111111111111,
              "#46039f"
             ],
             [
              0.2222222222222222,
              "#7201a8"
             ],
             [
              0.3333333333333333,
              "#9c179e"
             ],
             [
              0.4444444444444444,
              "#bd3786"
             ],
             [
              0.5555555555555556,
              "#d8576b"
             ],
             [
              0.6666666666666666,
              "#ed7953"
             ],
             [
              0.7777777777777778,
              "#fb9f3a"
             ],
             [
              0.8888888888888888,
              "#fdca26"
             ],
             [
              1,
              "#f0f921"
             ]
            ],
            "type": "histogram2dcontour"
           }
          ],
          "mesh3d": [
           {
            "colorbar": {
             "outlinewidth": 0,
             "ticks": ""
            },
            "type": "mesh3d"
           }
          ],
          "parcoords": [
           {
            "line": {
             "colorbar": {
              "outlinewidth": 0,
              "ticks": ""
             }
            },
            "type": "parcoords"
           }
          ],
          "pie": [
           {
            "automargin": true,
            "type": "pie"
           }
          ],
          "scatter": [
           {
            "marker": {
             "colorbar": {
              "outlinewidth": 0,
              "ticks": ""
             }
            },
            "type": "scatter"
           }
          ],
          "scatter3d": [
           {
            "line": {
             "colorbar": {
              "outlinewidth": 0,
              "ticks": ""
             }
            },
            "marker": {
             "colorbar": {
              "outlinewidth": 0,
              "ticks": ""
             }
            },
            "type": "scatter3d"
           }
          ],
          "scattercarpet": [
           {
            "marker": {
             "colorbar": {
              "outlinewidth": 0,
              "ticks": ""
             }
            },
            "type": "scattercarpet"
           }
          ],
          "scattergeo": [
           {
            "marker": {
             "colorbar": {
              "outlinewidth": 0,
              "ticks": ""
             }
            },
            "type": "scattergeo"
           }
          ],
          "scattergl": [
           {
            "marker": {
             "colorbar": {
              "outlinewidth": 0,
              "ticks": ""
             }
            },
            "type": "scattergl"
           }
          ],
          "scattermapbox": [
           {
            "marker": {
             "colorbar": {
              "outlinewidth": 0,
              "ticks": ""
             }
            },
            "type": "scattermapbox"
           }
          ],
          "scatterpolar": [
           {
            "marker": {
             "colorbar": {
              "outlinewidth": 0,
              "ticks": ""
             }
            },
            "type": "scatterpolar"
           }
          ],
          "scatterpolargl": [
           {
            "marker": {
             "colorbar": {
              "outlinewidth": 0,
              "ticks": ""
             }
            },
            "type": "scatterpolargl"
           }
          ],
          "scatterternary": [
           {
            "marker": {
             "colorbar": {
              "outlinewidth": 0,
              "ticks": ""
             }
            },
            "type": "scatterternary"
           }
          ],
          "surface": [
           {
            "colorbar": {
             "outlinewidth": 0,
             "ticks": ""
            },
            "colorscale": [
             [
              0,
              "#0d0887"
             ],
             [
              0.1111111111111111,
              "#46039f"
             ],
             [
              0.2222222222222222,
              "#7201a8"
             ],
             [
              0.3333333333333333,
              "#9c179e"
             ],
             [
              0.4444444444444444,
              "#bd3786"
             ],
             [
              0.5555555555555556,
              "#d8576b"
             ],
             [
              0.6666666666666666,
              "#ed7953"
             ],
             [
              0.7777777777777778,
              "#fb9f3a"
             ],
             [
              0.8888888888888888,
              "#fdca26"
             ],
             [
              1,
              "#f0f921"
             ]
            ],
            "type": "surface"
           }
          ],
          "table": [
           {
            "cells": {
             "fill": {
              "color": "#EBF0F8"
             },
             "line": {
              "color": "white"
             }
            },
            "header": {
             "fill": {
              "color": "#C8D4E3"
             },
             "line": {
              "color": "white"
             }
            },
            "type": "table"
           }
          ]
         },
         "layout": {
          "annotationdefaults": {
           "arrowcolor": "#2a3f5f",
           "arrowhead": 0,
           "arrowwidth": 1
          },
          "coloraxis": {
           "colorbar": {
            "outlinewidth": 0,
            "ticks": ""
           }
          },
          "colorscale": {
           "diverging": [
            [
             0,
             "#8e0152"
            ],
            [
             0.1,
             "#c51b7d"
            ],
            [
             0.2,
             "#de77ae"
            ],
            [
             0.3,
             "#f1b6da"
            ],
            [
             0.4,
             "#fde0ef"
            ],
            [
             0.5,
             "#f7f7f7"
            ],
            [
             0.6,
             "#e6f5d0"
            ],
            [
             0.7,
             "#b8e186"
            ],
            [
             0.8,
             "#7fbc41"
            ],
            [
             0.9,
             "#4d9221"
            ],
            [
             1,
             "#276419"
            ]
           ],
           "sequential": [
            [
             0,
             "#0d0887"
            ],
            [
             0.1111111111111111,
             "#46039f"
            ],
            [
             0.2222222222222222,
             "#7201a8"
            ],
            [
             0.3333333333333333,
             "#9c179e"
            ],
            [
             0.4444444444444444,
             "#bd3786"
            ],
            [
             0.5555555555555556,
             "#d8576b"
            ],
            [
             0.6666666666666666,
             "#ed7953"
            ],
            [
             0.7777777777777778,
             "#fb9f3a"
            ],
            [
             0.8888888888888888,
             "#fdca26"
            ],
            [
             1,
             "#f0f921"
            ]
           ],
           "sequentialminus": [
            [
             0,
             "#0d0887"
            ],
            [
             0.1111111111111111,
             "#46039f"
            ],
            [
             0.2222222222222222,
             "#7201a8"
            ],
            [
             0.3333333333333333,
             "#9c179e"
            ],
            [
             0.4444444444444444,
             "#bd3786"
            ],
            [
             0.5555555555555556,
             "#d8576b"
            ],
            [
             0.6666666666666666,
             "#ed7953"
            ],
            [
             0.7777777777777778,
             "#fb9f3a"
            ],
            [
             0.8888888888888888,
             "#fdca26"
            ],
            [
             1,
             "#f0f921"
            ]
           ]
          },
          "colorway": [
           "#636efa",
           "#EF553B",
           "#00cc96",
           "#ab63fa",
           "#FFA15A",
           "#19d3f3",
           "#FF6692",
           "#B6E880",
           "#FF97FF",
           "#FECB52"
          ],
          "font": {
           "color": "#2a3f5f"
          },
          "geo": {
           "bgcolor": "white",
           "lakecolor": "white",
           "landcolor": "#E5ECF6",
           "showlakes": true,
           "showland": true,
           "subunitcolor": "white"
          },
          "hoverlabel": {
           "align": "left"
          },
          "hovermode": "closest",
          "mapbox": {
           "style": "light"
          },
          "paper_bgcolor": "white",
          "plot_bgcolor": "#E5ECF6",
          "polar": {
           "angularaxis": {
            "gridcolor": "white",
            "linecolor": "white",
            "ticks": ""
           },
           "bgcolor": "#E5ECF6",
           "radialaxis": {
            "gridcolor": "white",
            "linecolor": "white",
            "ticks": ""
           }
          },
          "scene": {
           "xaxis": {
            "backgroundcolor": "#E5ECF6",
            "gridcolor": "white",
            "gridwidth": 2,
            "linecolor": "white",
            "showbackground": true,
            "ticks": "",
            "zerolinecolor": "white"
           },
           "yaxis": {
            "backgroundcolor": "#E5ECF6",
            "gridcolor": "white",
            "gridwidth": 2,
            "linecolor": "white",
            "showbackground": true,
            "ticks": "",
            "zerolinecolor": "white"
           },
           "zaxis": {
            "backgroundcolor": "#E5ECF6",
            "gridcolor": "white",
            "gridwidth": 2,
            "linecolor": "white",
            "showbackground": true,
            "ticks": "",
            "zerolinecolor": "white"
           }
          },
          "shapedefaults": {
           "line": {
            "color": "#2a3f5f"
           }
          },
          "ternary": {
           "aaxis": {
            "gridcolor": "white",
            "linecolor": "white",
            "ticks": ""
           },
           "baxis": {
            "gridcolor": "white",
            "linecolor": "white",
            "ticks": ""
           },
           "bgcolor": "#E5ECF6",
           "caxis": {
            "gridcolor": "white",
            "linecolor": "white",
            "ticks": ""
           }
          },
          "title": {
           "x": 0.05
          },
          "xaxis": {
           "automargin": true,
           "gridcolor": "white",
           "linecolor": "white",
           "ticks": "",
           "title": {
            "standoff": 15
           },
           "zerolinecolor": "white",
           "zerolinewidth": 2
          },
          "yaxis": {
           "automargin": true,
           "gridcolor": "white",
           "linecolor": "white",
           "ticks": "",
           "title": {
            "standoff": 15
           },
           "zerolinecolor": "white",
           "zerolinewidth": 2
          }
         }
        },
        "title": {
         "text": "Comment sentiment in /r/python for the past 48h"
        },
        "xaxis": {
         "anchor": "y",
         "autorange": true,
         "domain": [
          0,
          1
         ],
         "range": [
          "2019-12-16 09:38:03.877",
          "2019-12-18 14:47:40.123"
         ],
         "title": {
          "text": "Date comment was posted"
         },
         "type": "date"
        },
        "yaxis": {
         "anchor": "x",
         "autorange": true,
         "domain": [
          0,
          1
         ],
         "range": [
          -1.1646984551222712,
          1.1646984551222712
         ],
         "title": {
          "text": "Comment positivity"
         },
         "type": "linear"
        }
       }
      },
      "image/png": "[encoded data removed]",
      "text/html": [
       "<div>\n",
       "        \n",
       "        \n",
       "            <div id=\"7366ee2f-5561-43a2-9b19-85f616b19f0e\" class=\"plotly-graph-div\" style=\"height:525px; width:100%;\"></div>\n",
       "            <script type=\"text/javascript\">\n",
       "                require([\"plotly\"], function(Plotly) {\n",
       "                    window.PLOTLYENV=window.PLOTLYENV || {};\n",
       "                    \n",
       "                if (document.getElementById(\"7366ee2f-5561-43a2-9b19-85f616b19f0e\")) {\n",
       "                    Plotly.newPlot(\n",
       "                        '7366ee2f-5561-43a2-9b19-85f616b19f0e',\n",
       "                        [{\"customdata\": [[\"xWonder-Ozz\", \"/r/Python/comments/ebg58i/starting_out/fb4i033/\", \"Oh didn't saw that. Thanks\"], [\"yellowliz4rd\", \"/r/Python/comments/ebdabr/is_it_possible_to_scrap_dynamically_generated/fb4f79k/\", \"interesting approach, I'll look into it.  thanks.\"], [\"vickeerooney\", \"/r/Python/comments/ebfoug/8_reasons_why_python_is_good_for_artificial/fb4i99j/\", \"YOU WON'T BELIEVE REASON #3\"], [\"nero-gg\", \"/r/Python/comments/ebd3uz/how_to_control_your_raspberry_pi_from_anywhere_in/fb4hjch/\", \"You're aware that on a shared platform, you aren't\"], [\"gods_programmer\", \"/r/Python/comments/ebfbo8/software_entrepreneur_will_you_advise/fb4etfu/\", \"I see what you're saying here. Middle ground is OK\"], [\"yellowliz4rd\", \"/r/Python/comments/ebdabr/is_it_possible_to_scrap_dynamically_generated/fb4f804/\", \"exactly what's I'm looking for. thanks.\"], [\"MonthyPythonista\", \"/r/Python/comments/ebe72x/can_python_be_used_as_macros_across_different/fb4i1om/\", \"The problem with Excel is that it's a spreadsheet,\"], [\"drbobb\", \"/r/Python/comments/eb1fb5/writing_to_a_csv/fb4nv9n/\", \"Not such a great idea if the field values might ha\"], [\"CanadianPython\", \"/r/Python/comments/e5hms3/whats_everyone_working_on_this_week/fb4klp8/\", \"Last week I got finished working on a Sorting Algo\"], [\"__deerlord__\", \"/r/Python/comments/ebd3uz/how_to_control_your_raspberry_pi_from_anywhere_in/fb4n7rx/\", \"VPN with client certs for one.\"], [\"mtrajk93\", \"/r/Python/comments/ebf7rc/github_mtrajkcodingproblems_python_solutions_for/fb4qd1g/\", \"Nice catch! The problem says \\\" Given a string, fin\"], [\"Gariiiiii\", \"/r/Python/comments/cheopq/reviews_of_8_python_deep_learning_computer_vision/fb4q139/\", \"Awesome possum! This is exactly what i was looking\"], [\"roerd\", \"/r/Python/comments/ebfo58/which_orm_for_python_and_abstraction_between_db/fb4s0gq/\", \"About your second question:\\n\\n&gt; I'm also not con\"], [\"reddit007user\", \"/r/Python/comments/ebf7rc/github_mtrajkcodingproblems_python_solutions_for/fb50104/\", \"Super cool resource @mtrajk93. Thank you for shari\"], [\"drbobb\", \"/r/Python/comments/e9y6fb/python_tips_and_trick_you_havent_already_seen/fb4tltu/\", \"What a purty blog.\"], [\"oetker\", \"/r/Python/comments/eazg05/made_my_first_fractal/fb4uiux/\", \"Nice, thank you for illustrating this!\"], [\"ab-os\", \"/r/Python/comments/ebe72x/can_python_be_used_as_macros_across_different/fb52mcc/\", \"Yes power query is nice\"], [\"hkamran85\", \"/r/Python/comments/e5hms3/whats_everyone_working_on_this_week/fb55uh0/\", \"Writing scripts for some basic Python tutorials\"], [\"DDFoster96\", \"/r/Python/comments/eb489k/best_way_to_work_on_a_python_3_application_that/fb55i64/\", \"What's the Python 2-only library?\"], [\"Ashutoshkv\", \"/r/Python/comments/ebd3uz/how_to_control_your_raspberry_pi_from_anywhere_in/fb4d08w/\", \"Calm down. As long as it is a private server and y\"], [\"gods_programmer\", \"/r/Python/comments/ebfbo8/software_entrepreneur_will_you_advise/fb4d29s/\", \"My ultimate goal is to launch the project I envisi\"], [\"NevadaPurple\", \"/r/Python/comments/ebjgvl/i_wrote_a_program_that_doodles_things_in_ms_paint/fb5bqub/\", \"how about an animated gif instead of a video\"], [\"onepalebluedot\", \"/r/Python/comments/ebf7rc/github_mtrajkcodingproblems_python_solutions_for/fb59m9g/\", \"Fantastic pic! Oh and the code is cool too, thanks\"], [\"SundaySolitary\", \"/r/Python/comments/ebe72x/can_python_be_used_as_macros_across_different/fb45a29/\", \"Try PyXLL (https://www.pyxll.com/)\"], [\"mfitzp\", \"/r/Python/comments/eb8cmr/found_a_ghost_from_pacman_and_a_dude_with_a_funny/fb472iv/\", \"Aha see it now! Thanks :)\"], [\"graingert\", \"/r/Python/comments/eazg05/made_my_first_fractal/fb470na/\", \"It's even better to use:\\n\\n```\\ndef main():\\n    ...\\n\"], [\"-Dhanos-\", \"/r/Python/comments/ebd3uz/how_to_control_your_raspberry_pi_from_anywhere_in/fb4bkti/\", \"Server admin has nothing to do with a bot, he can \"], [\"BoaVersusPython\", \"/r/Python/comments/eb5qil/made_conways_game_of_life_using_tkinter/fb49jwo/\", \"I love the game of live. Teachers should always us\"], [\"pAul2437\", \"/r/Python/comments/ebe72x/can_python_be_used_as_macros_across_different/fb49hpx/\", \"You want to use power query\"], [\"Andalfe\", \"/r/Python/comments/ebe72x/can_python_be_used_as_macros_across_different/fb4asv4/\", \"I thought the groupby method gave you a pivot? I'm\"], [\"DSC34\", \"/r/Python/comments/ebqfeh/day_1_python_learner_sos/fb6o92p/\", \"Try this:\\n\\nfull_name = \\u2018{} {}\\u2019.format(first_name, \"], [\"TrappingRainWater\", \"/r/Python/comments/eb8oce/whats_the_best_way_to_check_grammar_in_python/fb6q5wr/\", \"I would absolutely loathe having you as a teacher \"], [\"CBSmitty2010\", \"/r/Python/comments/ebjgvl/i_wrote_a_program_that_doodles_things_in_ms_paint/fb5yiww/\", \"What? Do you not know who Jackson Pollock is?\"], [\"putnam78\", \"/r/Python/comments/ebmj0m/using_python_with_other_languages/fb5z4je/\", \"well the gig descriptions are very short:\\n\\nI need \"], [\"doarigozi\", \"/r/Python/comments/ebjgvl/i_wrote_a_program_that_doodles_things_in_ms_paint/fb606ht/\", \"I believe they are referring to the slur for Polis\"], [\"covabishop\", \"/r/Python/comments/ebjgvl/i_wrote_a_program_that_doodles_things_in_ms_paint/fb5z9vb/\", \"I thought about that too but pycasso just rolls of\"], [\"nielsrolf\", \"/r/Python/comments/eblyxu/what_can_be_a_reason_that_python_imports_behave/fb7c8pg/\", \"We all use virtual environments and we all use the\"], [\"atquick\", \"/r/Python/comments/ebsgnv/ultra_simple_morse_code_translator/fb7e10w/\", \"Seems ok. I'd recommend you reformat the dictionar\"], [\"SegaMegaPi\", \"/r/Python/comments/ebnfsj/simple_hangman_game/fb7csi5/\", \"You posted 12 hours ago and you have already compl\"], [\"Cyb0rgBrain\", \"/r/Python/comments/ebnfsj/simple_hangman_game/fb7dlj2/\", \"Sure man ;)\"], [\"SnipTheDog\", \"/r/Python/comments/ebjgvl/i_wrote_a_program_that_doodles_things_in_ms_paint/fb63y8c/\", \" print('Epstein Didn\\\\\\\\'t Kill Himself')\"], [\"yodatrust\", \"/r/Python/comments/eblyxu/what_can_be_a_reason_that_python_imports_behave/fb61v2g/\", \"Write a script where you handle both ways with an \"], [\"evilMTV\", \"/r/Python/comments/ebjgvl/i_wrote_a_program_that_doodles_things_in_ms_paint/fb7frb6/\", \"It was manually done then though.\"], [\"rakint\", \"/r/Python/comments/ebjgvl/i_wrote_a_program_that_doodles_things_in_ms_paint/fb7fwzj/\", \"Jackson Pollack would be proud\"], [\"beinginvisible24\", \"/r/Python/comments/ebjgvl/i_wrote_a_program_that_doodles_things_in_ms_paint/fb6qj3u/\", \"So you have used pyautogui ?\"], [\"L1tFuse\", \"/r/Python/comments/ebjgvl/i_wrote_a_program_that_doodles_things_in_ms_paint/fb6s5hv/\", \"I'd love to have one of those on my wall\"], [\"AMacGregor24\", \"/r/Python/comments/ebfoug/8_reasons_why_python_is_good_for_artificial/fb7giig/\", \"Honestly it seems like everything on that list cou\"], [\"sendagicat\", \"/r/Python/comments/ebjgvl/i_wrote_a_program_that_doodles_things_in_ms_paint/fb7gs56/\", \"This is straight up my bedroom walls circa 1993.\"], [\"RemindMeBot\", \"/r/Python/comments/ebjgvl/i_wrote_a_program_that_doodles_things_in_ms_paint/fb5eiu4/\", \"I will be messaging you in 1 hour on [**2019-12-16\"], [\"RPGNUB\", \"/r/Python/comments/ebhjoa/is_it_an_antenna_is_it_a_parking_lot_its_another/fb5fpb0/\", \"How did you make this beautiful code please tell m\"], [\"Chicken-of-Wisdom\", \"/r/Python/comments/ebjgvl/i_wrote_a_program_that_doodles_things_in_ms_paint/fb5eftx/\", \"!remindme 1 hour\"], [\"mtrajk93\", \"/r/Python/comments/ebf7rc/github_mtrajkcodingproblems_python_solutions_for/fb5dlr2/\", \"Hahaha thanks. I forgot that reddit shows the GitH\"], [\"ireadyourmedrecord\", \"/r/Python/comments/ebkeyr/new_to_python_but_need_a_method_or_example_of/fb5h394/\", \"https://pandas.pydata.org/pandas-docs/stable/refer\"], [\"Setsuna666\", \"/r/Python/comments/ebkm5x/learning_python_is_boring_me_i_learn_from/fb5irvu/\", \"Same for me, and the best way I've learned Python,\"], [\"vaginale_penetratie\", \"/r/Python/comments/ebjgvl/i_wrote_a_program_that_doodles_things_in_ms_paint/fb5ijc1/\", \"Can i get the code? O have Some creative ideas.\"], [\"mattaccount\", \"/r/Python/comments/ebl24m/sorry_to_be_dumb_but_how_do_you_install_python_36/fb5mevp/\", \"Use pyenv to manage multiple python versions witho\"], [\"rhelwatkar\", \"/r/Python/comments/ebdtk8/trying_to_create_csv_file_directly_in_s3_and/fb6d2rd/\", \"I am using this code in lambda can i store the fil\"], [\"AirHamyes\", \"/r/Python/comments/ebjgvl/i_wrote_a_program_that_doodles_things_in_ms_paint/fb5qfl8/\", \"Here's the sauce code\\n\\n [https://pastebin.com/98EW\"], [\"YellowSharkMT\", \"/r/Python/comments/ebl24m/sorry_to_be_dumb_but_how_do_you_install_python_36/fb5o24i/\", \"Ahhh sweet - I'd seen pyenv mentioned in the past,\"], [\"RemindMeBot\", \"/r/Python/comments/ebjgvl/i_wrote_a_program_that_doodles_things_in_ms_paint/fb5pw59/\", \"I will be messaging you in 2 hours on [**2019-12-1\"], [\"wobuxihuanbaichi\", \"/r/Python/comments/ebjgvl/i_wrote_a_program_that_doodles_things_in_ms_paint/fb5pl5d/\", \"Not enough bananas\"], [\"AirHamyes\", \"/r/Python/comments/ebjgvl/i_wrote_a_program_that_doodles_things_in_ms_paint/fb5qekd/\", \"Here ya go. If you wanna add more colors, just add\"], [\"PrimaCora\", \"/r/Python/comments/ebjgvl/i_wrote_a_program_that_doodles_things_in_ms_paint/fb6hcuh/\", \"Not really. It doesn't refer to anything imaginabl\"], [\"arkteris13\", \"/r/Python/comments/ebpixv/why_is_my_program_only_printing_the_last_letter/fb6idh9/\", \"You never assigned it to a variable\"], [\"realAnalysis6\", \"/r/Python/comments/e5hms3/whats_everyone_working_on_this_week/fb6isff/\", \"If you're up for it, maybe start betting on games?\"], [\"CBSmitty2010\", \"/r/Python/comments/ebjgvl/i_wrote_a_program_that_doodles_things_in_ms_paint/fb5xmrk/\", \"I feel like pyollock makes more sense here.\"], [\"MainRotorGearbox\", \"/r/Python/comments/ebjgvl/i_wrote_a_program_that_doodles_things_in_ms_paint/fb5xytx/\", \"I\\u2019m pretty sure that is a racial slur\"], [\"nielsrolf\", \"/r/Python/comments/eblyxu/what_can_be_a_reason_that_python_imports_behave/fb5vkso/\", \"It's just a `ModuleNotFound`:\\n\\n   \\n```\\n(base)  \\\\~ \"], [\"pythonapster\", \"/r/Python/comments/ebf7rc/github_mtrajkcodingproblems_python_solutions_for/fb6n5zu/\", \"There is a better Pythonic way if doing this.\\n\\n\\n  \"], [\"AlSweigart\", \"/r/Python/comments/ebjgvl/i_wrote_a_program_that_doodles_things_in_ms_paint/fb6lrbm/\", \"Pfft. My bot could paint that.\"], [\"AlSweigart\", \"/r/Python/comments/ebjgvl/i_wrote_a_program_that_doodles_things_in_ms_paint/fb6mj9w/\", \":D\"], [\"Turbulent_Exchange\", \"/r/Python/comments/ec0yni/i_code_a_multiple_sudoku_grids_solver_in_python/fb8nfgz/\", \"Really solid job - nice work mate!\"], [\"user3691\", \"/r/Python/comments/ebylo8/advanced_python_book_with_cool_science_excersizes/fb8322n/\", \"Thank you! Fluent python is something I\\u2019ve looked \"], [\"KimPeek\", \"/r/Python/comments/ec00bn/basic_code_reader/fb89fm6/\", \"    print(\\\"File reader by stimpy\\\")\\n    while 3 &gt\"], [\"Forschkeeper\", \"/r/Python/comments/ebytlq/interesting_project/fb8c2f5/\", \"\\\"Show me what you gooooooot.\\\" - This big Head from\"], [\"JdC_1999\", \"/r/Python/comments/ec0d46/learning_python_and_couldnt_think_of_a_good/fb8q9r9/\", \"Didn\\u2019t Michael Reeves do that? A cursing Elmo\"], [\"m-hoff\", \"/r/Python/comments/ebw95t/whats_everyone_working_on_this_week/fb87j1x/\", \"I'm using SimPy to create a discrete event simulat\"], [\"vaginale_penetratie\", \"/r/Python/comments/ebjgvl/i_wrote_a_program_that_doodles_things_in_ms_paint/fb87l0q/\", \"You should use hasteb.in. It\\u2019sthe same as pastebin\"], [\"HazeCpt\", \"/r/Python/comments/ec0d46/learning_python_and_couldnt_think_of_a_good/fb8pvqh/\", \"Everything needs a start!\"], [\"travellingsalesman2\", \"/r/Python/comments/ebh41z/how_to_save_christmas_with_the_travelling/fb64h83/\", \"Thank you very much! You are completely right. 342\"], [\"Forschkeeper\", \"/r/Python/comments/ec0j6z/quick_mods_are_asleep_upvote_pics_of_python/fb8jx2e/\", \"8) nice\"], [\"Daharka\", \"/r/Python/comments/ec0d46/learning_python_and_couldnt_think_of_a_good/fb8jr1i/\", \"Your mom is so far \\\"Mein kampf\\\" was originally her\"], [\"dragonddragondragon\", \"/r/Python/comments/ebtnxv/no_such_file_or_directory_ls/fb7i7ui/\", \"Not a Python problem. Contact your server hosting \"], [\"zpwd\", \"/r/Python/comments/ebsg40/professional_python_coding/fb7jiof/\", \"Science.\"], [\"fuypooi\", \"/r/Python/comments/ebw76t/python_as_a_back_end_language_for_a_wep_app/fb7jia3/\", \"Check out Django or Flask. There are lots of posts\"], [\"YellowSharkMT\", \"/r/Python/comments/ebl24m/sorry_to_be_dumb_but_how_do_you_install_python_36/fb7jyss/\", \"I'm pretty sure - I've got some deprecation warnin\"], [\"theAFguy200\", \"/r/Python/comments/ebsg40/professional_python_coding/fb7juca/\", \"Literally every service we have is an api with Jso\"], [\"maxcoder88\", \"/r/Python/comments/e5hms3/whats_everyone_working_on_this_week/fb6uuph/\", \"Care to share your script? thanks\"], [\"billsil\", \"/r/Python/comments/ea0ay2/python_pickles_should_you_include_raw_data_in/fb6w31t/\", \"Hdf5.  It can be easily viewed and transferred.  I\"], [\"TheReverend403\", \"/r/Python/comments/ebjgvl/i_wrote_a_program_that_doodles_things_in_ms_paint/fb6xadn/\", \"Who do you think?\"], [\"wazor911\", \"/r/Python/comments/ebpxeg/any_flask_developer_with_passion_for_football_here/fb6xyvd/\", \"I'm interested. I'm no expert but I have experienc\"], [\"pythonHelperBot\", \"/r/Python/comments/ebqfeh/day_1_python_learner_sos/fb6xirx/\", \"Hello! I'm a bot!\\n\\nIt looks to me like your post m\"], [\"Old_Winterton\", \"/r/Python/comments/eb1fb5/writing_to_a_csv/fb7na7s/\", \"I feel irrationally defensive.\\n\\nIt is a good thing\"], [\"21KOGHQqBpwFReIeSYlF\", \"/r/Python/comments/e9stnp/back_end_and_data_structures_algorithms_need_an/fb7mdom/\", \"&gt;if u have a discord\\n\\nI don't, I just lurk here\"], [\"gods_programmer\", \"/r/Python/comments/ebww8n/looking_for_a_mentor/fb7pu8k/\", \"Yes, obtaining a degree is on my list too, but fir\"], [\"mfitzp\", \"/r/Python/comments/ebl24m/sorry_to_be_dumb_but_how_do_you_install_python_36/fb6zvq0/\", \"Are you sure it doesn't work with 3.7?\\n\\nI can't th\"], [\"Wimachtendink\", \"/r/Python/comments/ebjgvl/i_wrote_a_program_that_doodles_things_in_ms_paint/fb6zvic/\", \"It would be cool to see progressively smaller brus\"], [\"pythonHelperBot\", \"/r/Python/comments/ebnzoa/can_you_assign_variables_in_a_lambda/fb6z6yh/\", \"Hello! I'm a bot!\\n\\nIt looks to me like your post m\"], [\"Gawd_is_great\", \"/r/Python/comments/eazg05/made_my_first_fractal/fb704qf/\", \"Yeah i appreciate it. The reason those dels exist \"], [\"mtrajk93\", \"/r/Python/comments/ebf7rc/github_mtrajkcodingproblems_python_solutions_for/fb6zv00/\", \"I wasn't preparing for some interview, this is my \"], [\"gods_programmer\", \"/r/Python/comments/ebww8n/looking_for_a_mentor/fb7s7nk/\", \"I do have a good references already. I was once hi\"], [\"ManBearHybrid\", \"/r/Python/comments/ebww8n/looking_for_a_mentor/fb7s0cx/\", \"I agree with the other guy. Try for an internship.\"], [\"Kuttz_\", \"/r/Python/comments/ebjgvl/i_wrote_a_program_that_doodles_things_in_ms_paint/fb7qt0m/\", \"what's that?\"], [\"mtrajk93\", \"/r/Python/comments/ebf7rc/github_mtrajkcodingproblems_python_solutions_for/fb749f4/\", \"Yes, that's written in my Python solutions, becaus\"], [\"pythonHelperBot\", \"/r/Python/comments/ebt8q5/my_code_keeps_giving_me_this_error_please_help_me/fb73hhf/\", \"Hello! I'm a bot!\\n\\nIt looks to me like your post m\"], [\"aes110\", \"/r/Python/comments/ebl24m/sorry_to_be_dumb_but_how_do_you_install_python_36/fb73an2/\", \"Installing from source is very easy and honestly, \"], [\"matsschneider\", \"/r/Python/comments/ebjgvl/i_wrote_a_program_that_doodles_things_in_ms_paint/fb74stg/\", \"Looks extremely nice! Imagine doing this in real l\"], [\"LiftBodyUpThenDown\", \"/r/Python/comments/ebjgvl/i_wrote_a_program_that_doodles_things_in_ms_paint/fb7352j/\", \"Freaking 217 lines of code what?\\n\\nIs that appropri\"], [\"mtrajk93\", \"/r/Python/comments/ebf7rc/github_mtrajkcodingproblems_python_solutions_for/fb74c30/\", \"Great, I'll take a look. Thanks.\"], [\"cglacet\", \"/r/Python/comments/ebf7rc/github_mtrajkcodingproblems_python_solutions_for/fb72ywo/\", \"If you want to learn new programming languages I w\"], [\"K900_\", \"/r/Python/comments/ebtnxv/no_such_file_or_directory_ls/fb75o1l/\", \"1. /r/learnpython \\n2. You're probably on Windows.\"], [\"JayJayPeeko\", \"/r/Python/comments/ebnfsj/simple_hangman_game/fb7wqdw/\", \"Ez\"], [\"icbint\", \"/r/Python/comments/ebjgvl/i_wrote_a_program_that_doodles_things_in_ms_paint/fb77mcd/\", \"OP posted the source, so you could do that yoursel\"], [\"vEnoM_420\", \"/r/Python/comments/ebjgvl/i_wrote_a_program_that_doodles_things_in_ms_paint/fb78mvt/\", \"Starting bid, $50.\"], [\"justingolden21\", \"/r/Python/comments/ebjgvl/i_wrote_a_program_that_doodles_things_in_ms_paint/fb78s6y/\", \"Awesome project.\\n\\nJust a heads up on lines 47/48 i\"], [\"covabishop\", \"/r/Python/comments/ebjgvl/i_wrote_a_program_that_doodles_things_in_ms_paint/fb6u4eu/\", \"Whatup Leli who we bullying\"], [\"nupil\", \"/r/Python/comments/ebyydg/please_help_new_and_confused/fb84te2/\", \"Did exactly what I neede thank you\"], [\"vidazinho\", \"/r/Python/comments/ebsgnv/ultra_simple_morse_code_translator/fb7xob6/\", \"Thanks, that's good advice. I'll make new lines in\"], [\"dleft\", \"/r/Python/comments/ebwk8h/python_and_data_science_for_aws/fb7xn05/\", \"It really depends on what you want to do. I know t\"], [\"HulkDNA\", \"/r/Python/comments/ebjgvl/i_wrote_a_program_that_doodles_things_in_ms_paint/fb7ykbs/\", \"Looks like a Piccaso algorithm \\ud83d\\ude0a\"], [\"zyabxwcd\", \"/r/Python/comments/ebjgvl/i_wrote_a_program_that_doodles_things_in_ms_paint/fb7z53i/\", \"Thats Modern Art. You should actually try to sell \"], [\"FukMyHoles\", \"/r/Python/comments/ec0d46/learning_python_and_couldnt_think_of_a_good/fb8b8os/\", \"Made with the click module and google for the insu\"], [\"NeoM02\", \"/r/Python/comments/ec0d46/learning_python_and_couldnt_think_of_a_good/fb8banj/\", \"Dude please post this on github, that's amazing! I\"], [\"naught-me\", \"/r/Python/comments/ebu5mi/the_little_book_of_python_antipatterns_python/fb88u90/\", \"\\\\^f = ctrl+f\"], [\"ProfessionalTune0\", \"/r/Python/comments/ebytlq/interesting_project/fb88x6q/\", \"Maybe a GraphQL Parser which automatically creates\"], [\"CowboyBoats\", \"/r/Python/comments/ec0a67/builtin_function_or_method_object_has_no_attribute/fb8d1j5/\", \"Nothing is assigned to the variable `sum`. Well, a\"], [\"vashy96\", \"/r/Python/comments/ec0d46/learning_python_and_couldnt_think_of_a_good/fb8ccjp/\", \"Now add a command line parameter to tells the prog\"], [\"FukMyHoles\", \"/r/Python/comments/ec0d46/learning_python_and_couldnt_think_of_a_good/fb8cp5f/\", \"Good idea, I'll add it when I get back to my PC la\"], [\"GummyKibble\", \"/r/Python/comments/ebu5mi/the_little_book_of_python_antipatterns_python/fb8b1fj/\", \"And in their example of \\u201cif a file exists, then de\"], [\"AutoModerator\", \"/r/Python/comments/ec0m9f/pascals_triangle/fb8csaf/\", \"Your submission has been automatically removed.\\n\\nY\"], [\"CodeSkunky\", \"/r/Python/comments/ebu5mi/the_little_book_of_python_antipatterns_python/fb8b395/\", \"I'm assuming you're binding controls?\\n\\ncontrol sho\"], [\"TKTubro\", \"/r/Python/comments/ec39zq/run_python_code_in_browser/fb90mn9/\", \"Depends on what you want to use.\\n\\nFor requests, th\"], [\"forrealbro\", \"/r/Python/comments/ebw95t/whats_everyone_working_on_this_week/fb8y4s6/\", \"This seems like a pretty neat idea? Any thoughts o\"], [\"phenderbender\", \"/r/Python/comments/ec0d46/learning_python_and_couldnt_think_of_a_good/fb8wybq/\", \"How to not have to type python or .py file name to\"], [\"Scn64\", \"/r/Python/comments/ec0d46/learning_python_and_couldnt_think_of_a_good/fb8x848/\", \"This is the end for you, you gutter crawling cur!\"], [\"Michael12390\", \"/r/Python/comments/ec39zq/run_python_code_in_browser/fb903os/\", \"Thanks. I never thought of using an API. Do you ha\"], [\"akp55\", \"/r/Python/comments/ebww8n/looking_for_a_mentor/fb8gcmu/\", \"you \\\\*do\\\\* realize that someone might still choose\"], [\"wdroz\", \"/r/Python/comments/ec0d46/learning_python_and_couldnt_think_of_a_good/fb8giip/\", \"Now use deep learning to generate them\"], [\"VeinyAngus\", \"/r/Python/comments/ebw95t/whats_everyone_working_on_this_week/fb91vc4/\", \"Actually yeah. That was a thought I had, I was hop\"], [\"marutiyog108\", \"/r/Python/comments/ec0d46/learning_python_and_couldnt_think_of_a_good/fb963e9/\", \"I just discovered him last night....gold mine \\ud83d\\ude02\\ud83d\\ude02\\ud83d\\ude02\"], [\"gagarin_kid\", \"/r/Python/comments/ec0d46/learning_python_and_couldnt_think_of_a_good/fb8hw9r/\", \"A telegram bot which sends you those beautiful com\"], [\"jfthundertanks\", \"/r/Python/comments/ec00bn/basic_code_reader/fb8knfv/\", \"*cat?\"], [\"911OpenUp\", \"/r/Python/comments/ec0j6z/quick_mods_are_asleep_upvote_pics_of_python/fb8jd8q/\", \"Aaahhhhh... Flared as **TECH**\"], [\"trololologram\", \"/r/Python/comments/ec5cn7/first_thingy_made_in_python_but_why_did_my_first/fb98t49/\", \"It\\u2019s the \\u201celse\\u201d tabulation I think, the first one \"], [\"langarus\", \"/r/Python/comments/ebu5rc/my_friend_made_a_fullyfunctioning_tetris_clone/fb79ry5/\", \"cool a screenshot would be great\"], [\"neozhaoliang\", \"/r/Python/comments/ebst39/i_saw_people_post_animations_on_fractals_mazes/fb7bm67/\", \"This is a spanning tree generation algorithm calle\"], [\"icbint\", \"/r/Python/comments/ebjgvl/i_wrote_a_program_that_doodles_things_in_ms_paint/fb7bokw/\", \"learn\\n\\nthis is a pretty simple program\"], [\"AutoModerator\", \"/r/Python/comments/ebyra7/pascals_triangle/fb80ecn/\", \"Your submission has been automatically removed.\\n\\nY\"], [\"TheReverend403\", \"/r/Python/comments/ebjgvl/i_wrote_a_program_that_doodles_things_in_ms_paint/fb816m7/\", \"nai.\"], [\"saskatch-a-toon\", \"/r/Python/comments/ebw95t/whats_everyone_working_on_this_week/fb7zza3/\", \"Working on a bioinformatics pipeline for GBS data.\"], [\"Sir_not_sir\", \"/r/Python/comments/ec5srx/pygame_help/fb9b2q0/\", \"/r/learnpython\"], [\"Reeee93616\", \"/r/Python/comments/ec5x5h/can_i_get_some_help_with_python/fb9bo87/\", \"For clarification, the prompt should start out wit\"], [\"Reeee93616\", \"/r/Python/comments/ec5x5h/can_i_get_some_help_with_python/fb9bync/\", \"Didn't know the sub existed, thank you\"], [\"_irome_\", \"/r/Python/comments/ec6opk/so_i_wrote_this_script_a_ago_year_but_today_i/fb9gt06/\", \"How about sharing the code?? So we can spam our fr\"], [\"segaboy81\", \"/r/Python/comments/ec0d46/learning_python_and_couldnt_think_of_a_good/fb9i4zg/\", \"You expect me to believe you\\u2019re using KDE3 or Trin\"], [\"iBlag\", \"/r/Python/comments/ebu5mi/the_little_book_of_python_antipatterns_python/fb8tjwn/\", \"&gt; It\\u2019s better is why.\\n\\nSubjective at best. Just\"], [\"hsss_python\", \"/r/Python/comments/ec0d46/learning_python_and_couldnt_think_of_a_good/fb8uscc/\", \"Speaking of approve, I\\u2019d love to tie this in to ge\"], [\"pythonHelperBot\", \"/r/Python/comments/ec30tj/request_issue_with_python_375/fb8tc0p/\", \"Hello! I'm a bot!\\n\\nIt looks to me like your post m\"], [\"isoblvck\", \"/r/Python/comments/ec0d46/learning_python_and_couldnt_think_of_a_good/fb8sby9/\", \"Totally there are multiple to ways to do things. T\"], [\"FukMyHoles\", \"/r/Python/comments/ec0d46/learning_python_and_couldnt_think_of_a_good/fb9mdgw/\", \"Trinity\"], [\"angry_mr_potato_head\", \"/r/Python/comments/ec6zit/pythonista_ipad_help/fb9mzc7/\", \"Mac already has Python installed on the system, bu\"], [\"ParxyB\", \"/r/Python/comments/ec0d46/learning_python_and_couldnt_think_of_a_good/fb9mzku/\", \"Like I commented before..all you gotta do is build\"], [\"abrasivecatnames\", \"/r/Python/comments/ec5osq/how_can_i_run_an_excel_addin_vba_macro_on_a/fb9llqt/\", \"I do already have it as a button in a custom tab. \"], [\"mraza007\", \"/r/Python/comments/ec6opk/so_i_wrote_this_script_a_ago_year_but_today_i/fb9oawb/\", \"I tried this on my friend and everytime he receive\"], [\"ADeepCeruleanBlue\", \"/r/Python/comments/ec0d46/learning_python_and_couldnt_think_of_a_good/fb9qrl7/\", \"ouchwitz\"], [\"lucifer_acno\", \"/r/Python/comments/ebpxeg/any_flask_developer_with_passion_for_football_here/fb9q09k/\", \"Dm is fine\\ud83d\\udc4d\"], [\"logicallyzany\", \"/r/Python/comments/ec6opk/so_i_wrote_this_script_a_ago_year_but_today_i/fb9r5wq/\", \"I\\u2019m pretty sure this is illegal lol\"], [\"BrettFavreFlavored\", \"/r/Python/comments/ec6opk/so_i_wrote_this_script_a_ago_year_but_today_i/fb9rb0l/\", \"Plus you don't want to get banned on the API you'r\"], [\"GrowCanadian\", \"/r/Python/comments/ec6opk/so_i_wrote_this_script_a_ago_year_but_today_i/fb9qcbn/\", \"Interesting. I was recently thinking about making \"], [\"Xormak\", \"/r/Python/comments/ec3c4j/classes_and_were_to_use_them/fb9vugz/\", \"Because a class and this instance of a class can c\"], [\"jimmythenewsmith\", \"/r/Python/comments/ec91s7/lost_and_afraid/fb9x9ed/\", \"Just do this , its probably one of the best starts\"], [\"PingouinFarfelu\", \"/r/Python/comments/ec0yni/i_code_a_multiple_sudoku_grids_solver_in_python/fb9xrfm/\", \"For this GIF, yes, I did. The process is a too hea\"], [\"logicallyzany\", \"/r/Python/comments/ec6opk/so_i_wrote_this_script_a_ago_year_but_today_i/fb9yfh0/\", \"Didn\\u2019t claim it wasn\\u2019t\"], [\"BurgaGalti\", \"/r/Python/comments/ebu5mi/the_little_book_of_python_antipatterns_python/fb9y6no/\", \"The use of defaultdict in correctness gets me. Yes\"], [\"ParxyB\", \"/r/Python/comments/ec0d46/learning_python_and_couldnt_think_of_a_good/fb9x5zp/\", \"Yeah I am a React developer lol I haven\\u2019t used pyt\"], [\"AutoModerator\", \"/r/Python/comments/ec9f3a/rudimentary_self_driving_car_project_github/fb9xlxb/\", \"Your submission has been automatically removed.\\n\\nY\"], [\"AdamBF\", \"/r/Python/comments/ec0yni/i_code_a_multiple_sudoku_grids_solver_in_python/fb8lcqt/\", \"This is awesome!\"], [\"RedSane\", \"/r/Python/comments/ec0d46/learning_python_and_couldnt_think_of_a_good/fb8m2gp/\", \"Well I can dig that. I approve it, even though my \"], [\"KimPeek\", \"/r/Python/comments/ec00bn/basic_code_reader/fb8kygo/\", \"derp... Yes, I meant cat.\"], [\"theAnalyst6\", \"/r/Python/comments/ec0d46/learning_python_and_couldnt_think_of_a_good/fb8lyoa/\", \"It would be hilarious if this was a public REST AP\"], [\"FlaskBreaker\", \"/r/Python/comments/ec0yni/i_code_a_multiple_sudoku_grids_solver_in_python/fb8mxmd/\", \"You are right. Also, it would be easier to underst\"], [\"champs\", \"/r/Python/comments/ebu5mi/the_little_book_of_python_antipatterns_python/fb8ktkm/\", \"If it's Python, I write to PEP8 despite disagreein\"], [\"FlaskBreaker\", \"/r/Python/comments/ec0yni/i_code_a_multiple_sudoku_grids_solver_in_python/fb8lo9u/\", \"I think he only used neural networks for digit rec\"], [\"IguanodonRex\", \"/r/Python/comments/ec0d46/learning_python_and_couldnt_think_of_a_good/fb9zmhd/\", \"Add option to insult it back and get response.\\n\\nAn\"], [\"DidYouSeeItHappen\", \"/r/Python/comments/ec0d46/learning_python_and_couldnt_think_of_a_good/fb9e8gp/\", \"That'll come back to haunt you if you use Python f\"], [\"AutoModerator\", \"/r/Python/comments/ec6f1k/function_not_defined_error_even_when_it_is/fb9ewwb/\", \"Your submission has been automatically removed.\\n\\nY\"], [\"Vivalyrian\", \"/r/Python/comments/ec0d46/learning_python_and_couldnt_think_of_a_good/fb9g89x/\", \"I should introduce you to my ex.\"], [\"Denrur\", \"/r/Python/comments/ecanxc/what_is_a_good_library_to_connect_sql_to_python/fba488m/\", \"Sqlalchemy\"], [\"dragonddragondragon\", \"/r/Python/comments/ebsgnv/ultra_simple_morse_code_translator/fba51xq/\", \"Just a use a tool to reformat all your code - you \"], [\"Astrokiwi\", \"/r/Python/comments/ec0d46/learning_python_and_couldnt_think_of_a_good/fba5cxx/\", \"Or on a Mac, just `say`.\"], [\"Rawing7\", \"/r/Python/comments/ec0a67/builtin_function_or_method_object_has_no_attribute/fba8mwb/\", \"Probably, but that doesn't change the fact that th\"], [\"kberson\", \"/r/Python/comments/ebjp0s/issue_with_regular_expression_wont_find_digit/fb5bzmx/\", \"What are you trying to test, that your string is a\"], [\"dugindeep\", \"/r/Python/comments/ebjgvl/i_wrote_a_program_that_doodles_things_in_ms_paint/fb59kfk/\", \"Code please? Is it open source?\"], [\"AlgorithmPub\", \"/r/Python/comments/ebfqtm/how_much_systemhardware_information_do_you_guys/fb57edl/\", \"Thanks for you answer u/KopfKrieg. As I explained \"], [\"Chicken-of-Wisdom\", \"/r/Python/comments/ebjgvl/i_wrote_a_program_that_doodles_things_in_ms_paint/fb5edy3/\", \"That's so cool! Imagine the unlimited amount of wa\"], [\"CMphys\", \"/r/Python/comments/ebjt38/hey_everyone/fb5e2ip/\", \"I think the problem is that the way it is written,\"], [\"kberson\", \"/r/Python/comments/ebjp0s/issue_with_regular_expression_wont_find_digit/fb5fgjf/\", \"You\\u2019re right, it isn\\u2019t a Boolean function. Also, i\"], [\"davidwolf995\", \"/r/Python/comments/ebjgvl/i_wrote_a_program_that_doodles_things_in_ms_paint/fb5c5ft/\", \"That is cool\"], [\"LirianSh\", \"/r/Python/comments/e5hms3/whats_everyone_working_on_this_week/fb5evov/\", \"For me my soef im learning it from youtube tutoria\"], [\"stephan42_42\", \"/r/Python/comments/ebh0gt/how_to_detect_dominant_color_in_masked_image/fb5i139/\", \"Thanks!\"], [\"rcfox\", \"/r/Python/comments/ebkm5x/learning_python_is_boring_me_i_learn_from/fb5lwe7/\", \"Write a game! When I was first learning, I made a \"], [\"CookieGuyOof\", \"/r/Python/comments/ebjt38/hey_everyone/fb5j6en/\", \"to be honest im not entirely sure how to implement\"], [\"Sedaji\", \"/r/Python/comments/ebjgvl/i_wrote_a_program_that_doodles_things_in_ms_paint/fb5jmry/\", \"does it make the same amount of strokes before cha\"], [\"YellowSharkMT\", \"/r/Python/comments/ebl24m/sorry_to_be_dumb_but_how_do_you_install_python_36/fb5pszz/\", \"Yeah the venv thing is a given, my issue is specif\"], [\"AirHamyes\", \"/r/Python/comments/ebjgvl/i_wrote_a_program_that_doodles_things_in_ms_paint/fb5qm7y/\", \"nope. \\n\\n`changeColWeight =` [`random.randint`](htt\"], [\"TheSlowestCheetah\", \"/r/Python/comments/eazg05/made_my_first_fractal/fb5pq0u/\", \"\\n    Traceback (most recent call last):\\n       Fil\"], [\"AirHamyes\", \"/r/Python/comments/ebjgvl/i_wrote_a_program_that_doodles_things_in_ms_paint/fb5r38p/\", \"No need, Lou Reed\\nhttps://pastebin.com/98EWgWyq\"], [\"the_lone_raccoon\", \"/r/Python/comments/ebkm5x/learning_python_is_boring_me_i_learn_from/fb5r5cn/\", \"same problem...\"], [\"69shaolin69\", \"/r/Python/comments/ebjgvl/i_wrote_a_program_that_doodles_things_in_ms_paint/fb5u4n6/\", \"PYautogui?\"], [\"stephan42_42\", \"/r/Python/comments/ebh0gt/how_to_detect_dominant_color_in_masked_image/fb5xb6w/\", \"Found interesting related article @ https://buzzro\"], [\"vriemeister\", \"/r/Python/comments/ebjgvl/i_wrote_a_program_that_doodles_things_in_ms_paint/fb5vs3p/\", \"Here you go\\n\\n [https://rogerjohansson.blog/2008/12\"], [\"pythonHelperBot\", \"/r/Python/comments/ebkm5x/learning_python_is_boring_me_i_learn_from/fb5w1ut/\", \"Hello! I'm a bot!\\n\\nIt looks to me like your post m\"], [\"Dr_Downvote_\", \"/r/Python/comments/ebjgvl/i_wrote_a_program_that_doodles_things_in_ms_paint/fb5z0oh/\", \"I agree Pyollock is the one  :-D\"], [\"AlgorithmPub\", \"/r/Python/comments/ebfqtm/how_much_systemhardware_information_do_you_guys/fb55rwx/\", \"Thanks a lot for your reply u/baghiq . Appreciate \"], [\"Zenith_N\", \"/r/Python/comments/eb58bb/installed_anaconda_onto_windows_10_via_the_wsl/fb42js4/\", \"&gt; xming \\n\\ngoing to try it now, \\n1- after instal\"], [\"mssxtn\", \"/r/Python/comments/ebiuft/how_should_i_get_started_with_open_source/fb7msbf/\", \"Sure. Can't promise quick responses though.\"], [\"JetpackYoshi\", \"/r/Python/comments/e9t23t/announcing_poetry_100/fb7nu7j/\", \"Hey, first time learning about this. What are the \"], [\"Wirukasu\", \"/r/Python/comments/ebxfls/question_regarding_class_int_is_not_json/fb7tp89/\", \"Hmm.  I have 3.4.5 and yum isn't letting me update\"], [\"UnorthodoxBox101\", \"/r/Python/comments/ebjgvl/i_wrote_a_program_that_doodles_things_in_ms_paint/fb7sxgo/\", \"I swear I've seen that are on a doctor's office wa\"], [\"moonlandings\", \"/r/Python/comments/ebvpn0/round_to_only_2_decimals/fb7quf3/\", \"My mistake then. I thought it did.\"], [\"mfitzp\", \"/r/Python/comments/ebl24m/sorry_to_be_dumb_but_how_do_you_install_python_36/fb7tuiq/\", \"Depreciation warnings should be just warnings (and\"], [\"AirHamyes\", \"/r/Python/comments/ebjgvl/i_wrote_a_program_that_doodles_things_in_ms_paint/fb7t2tc/\", \"Oh yea she real unoptimized. I slapped that calibr\"], [\"zpwd\", \"/r/Python/comments/ebxfls/question_regarding_class_int_is_not_json/fb7ti20/\", \"Works for me as well. It sounds like you shared a \"], [\"Wirukasu\", \"/r/Python/comments/ebxfls/question_regarding_class_int_is_not_json/fb7tvjr/\", \"No I don't think so.  I have a print in my file th\"], [\"ChaosT1tan\", \"/r/Python/comments/ebjgvl/i_wrote_a_program_that_doodles_things_in_ms_paint/fb7tlgk/\", \"What sucks is that if a famous artist made this it\"], [\"agoose77\", \"/r/Python/comments/ebw39p/conda_is_fing_slow/fb7tqnq/\", \"For a faster solver, have you tried mamba? You can\"], [\"Meefims\", \"/r/Python/comments/ebwk8h/python_and_data_science_for_aws/fb7ta29/\", \"Can you provide a concrete task you are trying to \"], [\"CowboyBoats\", \"/r/Python/comments/ebxg4w/how_to_get_started_with_coding_python_on_a_chrome/fb7rvlu/\", \"This might be more of a complete change to the mac\"], [\"pythonHelperBot\", \"/r/Python/comments/eby549/help_trouble_accessing_personal_banking_data_in/fb7w80u/\", \"Hello! I'm a bot!\\n\\nIt looks to me like your post m\"], [\"makotomike\", \"/r/Python/comments/ebw76t/python_as_a_back_end_language_for_a_wep_app/fb81dlp/\", \"People will say Flask, Django.\\n\\n&amp;#x200B;\\n\\nGonn\"], [\"DenseEntertainment\", \"/r/Python/comments/ebyydg/please_help_new_and_confused/fb81wok/\", \"Just type in \\\"bash\\\" to the terminal and the shell \"], [\"CodeSkunky\", \"/r/Python/comments/ebu5mi/the_little_book_of_python_antipatterns_python/fb83x88/\", \"&gt;For throwaway variables, especially in tight l\"], [\"KimPeek\", \"/r/Python/comments/ebz6pj/scanner_app_inventory_management_from_scratch/fb83i6d/\", \"https://developer.apple.com/swift/\"], [\"123resu\", \"/r/Python/comments/ebyydg/please_help_new_and_confused/fb83jxp/\", \"macOS Catalina changed the default shell from bash\"], [\"IVIURRAY\", \"/r/Python/comments/ebwk8h/python_and_data_science_for_aws/fb82p6k/\", \"Lambda for batch jobs\\n\\nDynamo for storing data\\n\\nS3\"], [\"ReagentX\", \"/r/Python/comments/ebyydg/please_help_new_and_confused/fb82pb7/\", \"This doesn\\u2019t make any sense, `zsh` is just the she\"], [\"ItsMeKaie\", \"/r/Python/comments/e3rj5r/urgent_help_unknown_error_in_my_programming/fb81v1k/\", \"Told my science teacher I was making one and she w\"], [\"gbtimmon\", \"/r/Python/comments/ebu5mi/the_little_book_of_python_antipatterns_python/fb7yamw/\", \"I'm a little annoyed that they are sometimes calli\"], [\"dragonddragondragon\", \"/r/Python/comments/ebsgnv/ultra_simple_morse_code_translator/fb7za0p/\", \"One if your for loops can be removed. Loop the inp\"], [\"pi_sqaure\", \"/r/Python/comments/ebjgvl/i_wrote_a_program_that_doodles_things_in_ms_paint/fb7y58b/\", \"Kandinsky on steroids!\"], [\"123resu\", \"/r/Python/comments/ebyydg/please_help_new_and_confused/fb84ilt/\", \"Use vi or nano.\\n\\n`vi filename.py`\"], [\"Giggaflop\", \"/r/Python/comments/ebvpn0/round_to_only_2_decimals/fb8639e/\", \"Did I have a stroke?\"], [\"AutoModerator\", \"/r/Python/comments/ebzuac/pascals_triangle_in_python/fb87mfs/\", \"Your submission has been automatically removed.\\n\\nY\"], [\"pythonHelperBot\", \"/r/Python/comments/ebzqpe/need_help/fb877ty/\", \"Hello! I'm a bot!\\n\\nIt looks to me like your post m\"], [\"FredSchwartz\", \"/r/Python/comments/ebu5mi/the_little_book_of_python_antipatterns_python/fb88g9a/\", \"I think they\\u2019re looking at finding the variable in\"], [\"ProfessionalTune0\", \"/r/Python/comments/ebxjbh/advice_on_images_scraping/fb895fg/\", \"You can the same results with either library but y\"], [\"cambda_lalculus\", \"/r/Python/comments/e032gu/rpython_job_board/fb8a0gl/\", \"Thank you! Before I apply, could you provide some \"], [\"rcfox\", \"/r/Python/comments/ebu5mi/the_little_book_of_python_antipatterns_python/fb892l3/\", \"There are some clear Python 2isms here. I wouldn't\"], [\"lift_spin_d\", \"/r/Python/comments/ebw76t/python_as_a_back_end_language_for_a_wep_app/fb8a2us/\", \"you're asking how servers work. There's a machine \"], [\"DARPA1191969v1\", \"/r/Python/comments/ebz6pj/scanner_app_inventory_management_from_scratch/fb89vt2/\", \"I know it's not python but I literally just made t\"], [\"rcfox\", \"/r/Python/comments/ebu5mi/the_little_book_of_python_antipatterns_python/fb8asuz/\", \"The [\\\"key in list\\\" article](https://docs.quantifie\"], [\"Kaarjuus\", \"/r/Python/comments/ebu5mi/the_little_book_of_python_antipatterns_python/fb8bdx6/\", \"`c` means control, as evidenced by the collection \"], [\"n1___\", \"/r/Python/comments/ebytlq/interesting_project/fb8bu6q/\", \"Tell us your skills.\"], [\"ProfessorGrizzly\", \"/r/Python/comments/ec0j6z/quick_mods_are_asleep_upvote_pics_of_python/fb8cdwr/\", \"He's resting between sssscriptsssss\"], [\"mfitzp\", \"/r/Python/comments/ebyf45/how_to_support_a_python_package_that_uses_c/fb8cm6t/\", \"One option would be to move this stuff into separa\"], [\"MrK_HS\", \"/r/Python/comments/ebh41z/how_to_save_christmas_with_the_travelling/fb65thw/\", \"Actually, I'm a bit of a fan and user of PuLP myse\"], [\"patriciajlim\", \"/r/Python/comments/ebe72x/can_python_be_used_as_macros_across_different/fb65ib6/\", \"Thanks for this insight.\\nSimply put, we get this r\"], [\"ThinkIn3D\", \"/r/Python/comments/eb8j7p/evolving_images_using_genetic_algorithms_and/fb65uek/\", \"The original work like this that I know of is \\\"Evo\"], [\"hotpotatobeans\", \"/r/Python/comments/ebnzoa/can_you_assign_variables_in_a_lambda/fb6bwk9/\", \"No, expressions, like lambda, cannot contain state\"], [\"Cyb0rgBrain\", \"/r/Python/comments/ebnfsj/simple_hangman_game/fb6cx28/\", \"An F you will take ;)\"], [\"JayJayPeeko\", \"/r/Python/comments/ebnfsj/simple_hangman_game/fb6cuix/\", \"I don't pay, I take.\"], [\"dynaken\", \"/r/Python/comments/eb58bb/installed_anaconda_onto_windows_10_via_the_wsl/fb6fqxc/\", \"What error did you get when you run xterm? I\\u2019ve do\"], [\"chickentenders54\", \"/r/Python/comments/ebjgvl/i_wrote_a_program_that_doodles_things_in_ms_paint/fb6epsx/\", \"Sweet\"], [\"dynaken\", \"/r/Python/comments/eb58bb/installed_anaconda_onto_windows_10_via_the_wsl/fb6he0k/\", \"I just tried it and \\\\`nohup xterm &amp;\\\\` works fi\"], [\"Trghpy00\", \"/r/Python/comments/ebpixv/why_is_my_program_only_printing_the_last_letter/fb6hlf6/\", \"Don\\u2019t use an index for a string. -1 is the last ch\"], [\"sahi1l\", \"/r/Python/comments/ebpixv/why_is_my_program_only_printing_the_last_letter/fb6j7sr/\", \"The split method doesn\\u2019t modify the original varia\"], [\"WhatASave456\", \"/r/Python/comments/ebpixv/why_is_my_program_only_printing_the_last_letter/fb6i4zx/\", \"Why isn\\u2019t name_1 a list?\"], [\"lucifer_acno\", \"/r/Python/comments/ebpxeg/any_flask_developer_with_passion_for_football_here/fb6mq6q/\", \"I would like to help. I just have basic flask know\"], [\"NextLevelMoves\", \"/r/Python/comments/ebjgvl/i_wrote_a_program_that_doodles_things_in_ms_paint/fb6ltoz/\", \"Better than a banana taped to a wall.\\n\\nNice job!\"], [\"pythonapster\", \"/r/Python/comments/ebf7rc/github_mtrajkcodingproblems_python_solutions_for/fb6nafi/\", \"So did you land that job?\"], [\"Offended_Dishwasher\", \"/r/Python/comments/ebjgvl/i_wrote_a_program_that_doodles_things_in_ms_paint/fb6plvs/\", \"Great job mate\"], [\"123resu\", \"/r/Python/comments/ebqfeh/day_1_python_learner_sos/fb6ovvd/\", \"Which version of Python are you using?\\nf-strings s\"], [\"ItsBarney01\", \"/r/Python/comments/ebf7rc/github_mtrajkcodingproblems_python_solutions_for/fb63yr7/\", \"Nice :D\"], [\"MartyMacGyver\", \"/r/Python/comments/eazg05/made_my_first_fractal/fb6vbk0/\", \"Still not the same code, and it crashes at the end\"], [\"billsil\", \"/r/Python/comments/eb489k/best_way_to_work_on_a_python_3_application_that/fb6t2e5/\", \"January 20th is the end date.\"], [\"CowboyBoats\", \"/r/Python/comments/ebrc2i/would_python_be_a_good_way_to_make_a_small_win_10/fb6u1tk/\", \"&gt; Would python be a great language to use?\\n\\nYes\"], [\"Pumpkin_Dumplin\", \"/r/Python/comments/ebjgvl/i_wrote_a_program_that_doodles_things_in_ms_paint/fb6v0hd/\", \"You could try implementing genetic algorithm with \"], [\"Gawd_is_great\", \"/r/Python/comments/eazg05/made_my_first_fractal/fb4bldi/\", \"Oh wow. Thanks a lot for the suggestions. It's ama\"], [\"jimmythenewsmith\", \"/r/Python/comments/ebe72x/can_python_be_used_as_macros_across_different/fb4amfr/\", \"Excel has a programming language, native, advanced\"], [\"-Dhanos-\", \"/r/Python/comments/ebd3uz/how_to_control_your_raspberry_pi_from_anywhere_in/fb4aja0/\", \"I'm trying to understand you guys here as well.\\n\\nW\"], [\"jimmythenewsmith\", \"/r/Python/comments/ebe72x/can_python_be_used_as_macros_across_different/fb4avgc/\", \"Sorry, but saying Pandas does everything better th\"], [\"gods_programmer\", \"/r/Python/comments/ebfbo8/software_entrepreneur_will_you_advise/fb4fhbw/\", \"Wow. I can imagine what a humbling experience this\"], [\"-Dhanos-\", \"/r/Python/comments/ebd3uz/how_to_control_your_raspberry_pi_from_anywhere_in/fb4abfy/\", \"What exactly is the security problem you have in m\"], [\"ItsBarney01\", \"/r/Python/comments/ebf7rc/github_mtrajkcodingproblems_python_solutions_for/fb4octt/\", \"Strings&gt;create_palindrome.py\"], [\"dynaken\", \"/r/Python/comments/eb58bb/installed_anaconda_onto_windows_10_via_the_wsl/fb4n1ph/\", \"1. Install xming and run it \\n2. Open WSL terminal \"], [\"T4O2M0\", \"/r/Python/comments/eax44u/developing_an_android_app/fb4oz6h/\", \"Compare the features, flutter's better\"], [\"baghiq\", \"/r/Python/comments/ebfqtm/how_much_systemhardware_information_do_you_guys/fb4oy1z/\", \"&gt;system/hardware\\n\\nI used to work for a client t\"], [\"jasfi\", \"/r/Python/comments/ebfbo8/software_entrepreneur_will_you_advise/fb4r7t8/\", \"How much time do you have per week to work on your\"], [\"xd1142\", \"/r/Python/comments/ebd3uz/how_to_control_your_raspberry_pi_from_anywhere_in/fb4rljt/\", \"What I really don't understand is what's with disc\"], [\"Zenith_N\", \"/r/Python/comments/eb58bb/installed_anaconda_onto_windows_10_via_the_wsl/fb4rn9d/\", \"Thank you \\nI have reset ubuntu wsl on windows 10 a\"], [\"Alrik\", \"/r/Python/comments/ebhdmm/as_a_dev_what_are_your_main_challenge_keeping_fit/fb4tkca/\", \"Time and motivation are certainly issues -- I work\"], [\"Kerbart\", \"/r/Python/comments/ebe72x/can_python_be_used_as_macros_across_different/fb4wy3x/\", \"Well, Pandas has all kind of pivot table like func\"], [\"Old_Winterton\", \"/r/Python/comments/eb1fb5/writing_to_a_csv/fb4y7xr/\", \"Thas true, I made a certain assumption about the f\"], [\"reddit007user\", \"/r/Python/comments/ebf7rc/github_mtrajkcodingproblems_python_solutions_for/fb4zuh7/\", \"You're the bot. Bleep. Bloop. It is the original r\"], [\"ZeroBullshitMan\", \"/r/Python/comments/ebhdmm/as_a_dev_what_are_your_main_challenge_keeping_fit/fb4xvna/\", \"Personally don't have a problem, been lifting for \"], [\"Ashutoshkv\", \"/r/Python/comments/ebd3uz/how_to_control_your_raspberry_pi_from_anywhere_in/fb48sjp/\", \"I meant to control the rpi in a private server tha\"], [\"dragonddragondragon\", \"/r/Python/comments/ebd3uz/how_to_control_your_raspberry_pi_from_anywhere_in/fb49c19/\", \"&gt; What the hell? \\n\\nIt was a comment on IT secur\"], [\"mtrajk93\", \"/r/Python/comments/ebf7rc/github_mtrajkcodingproblems_python_solutions_for/fb51qwl/\", \"Yes you're right, this is easier and there is less\"], [\"irkw\", \"/r/Python/comments/e8yomi/the_new_walrus_operator_in_python38_is_everything/fb520fj/\", \"Yes .  That's what I mean.  I'm just saying if cha\"], [\"pacojosedelvino\", \"/r/Python/comments/ebifcm/what_is_the_workflow_to_work_and_the_package/fb52qdq/\", \"Hi! I edit it, it says that.\"], [\"pythonHelperBot\", \"/r/Python/comments/ebp8tr/any_good_tutorials_on_sending_user_input_from/fb6ycxd/\", \"Hello! I'm a bot!\\n\\nIt looks to me like your post m\"], [\"covabishop\", \"/r/Python/comments/ebjgvl/i_wrote_a_program_that_doodles_things_in_ms_paint/fb6xz4m/\", \"nai?\"], [\"JakubBlaha\", \"/r/Python/comments/ebjgvl/i_wrote_a_program_that_doodles_things_in_ms_paint/fb6zrsx/\", \"Make it so it can recreate a photo!\"], [\"fooHere\", \"/r/Python/comments/ebki4a/getting_browser_console_output_using_selenium/fb70g6v/\", \"post the app you're testing or your exact code. it\"], [\"ourlastchancefortea\", \"/r/Python/comments/ebjgvl/i_wrote_a_program_that_doodles_things_in_ms_paint/fb6xnnv/\", \"Read the first letter of every line in the code.\"], [\"esp_py\", \"/r/Python/comments/ebpxeg/any_flask_developer_with_passion_for_football_here/fb74srh/\", \"You drop a dm\"], [\"mtrajk93\", \"/r/Python/comments/ebf7rc/github_mtrajkcodingproblems_python_solutions_for/fb73znu/\", \"Yes, that's even more Pythonic way.\"], [\"cglacet\", \"/r/Python/comments/ebf7rc/github_mtrajkcodingproblems_python_solutions_for/fb74uhq/\", \"I haven't read your code, just following up on you\"], [\"AutoModerator\", \"/r/Python/comments/ebtfsd/i_cant_run_python_programmes_on_command_line/fb74gkd/\", \"Your submission has been automatically removed.\\n\\nY\"], [\"footynotes\", \"/r/Python/comments/ebpxeg/any_flask_developer_with_passion_for_football_here/fb734kl/\", \"Please let me know how I can communicate with you.\"], [\"pythonHelperBot\", \"/r/Python/comments/ebrc2i/would_python_be_a_good_way_to_make_a_small_win_10/fb789nk/\", \"Hello! I'm a bot!\\n\\nIt looks to me like your post m\"], [\"po2ptym2\", \"/r/Python/comments/ebpxeg/any_flask_developer_with_passion_for_football_here/fb78fdx/\", \"I\\u2019m interested! Also love football. Hook me up\"], [\"azidified\", \"/r/Python/comments/ebjgvl/i_wrote_a_program_that_doodles_things_in_ms_paint/fb7bjrc/\", \"\\ud83d\\udc10\"], [\"The_FanciestOfPants\", \"/r/Python/comments/ebjgvl/i_wrote_a_program_that_doodles_things_in_ms_paint/fb793rv/\", \"Aaand sold for two million dollars as interpretive\"], [\"naren_klu\", \"/r/Python/comments/ebjgvl/i_wrote_a_program_that_doodles_things_in_ms_paint/fb7bwpb/\", \"It seems to generate million dollar art pieces.\"], [\"johannadambergk\", \"/r/Python/comments/ebu5mi/the_little_book_of_python_antipatterns_python/fb7d530/\", \"Very helpful, thanks!\"], [\"querymcsearchface\", \"/r/Python/comments/ea0ay2/python_pickles_should_you_include_raw_data_in/fb7e0g1/\", \"Awesome. Thanks for letting me know.\"], [\"surbhicis\", \"/r/Python/comments/ebtnxv/no_such_file_or_directory_ls/fb7epmh/\", \"No, I am on Linux\"], [\"thefrenchflo\", \"/r/Python/comments/ebvpn0/round_to_only_2_decimals/fb7gbo1/\", \"Multiply by 100. \\nTake the int part.  \\nDivide by 1\"], [\"[deleted]\", \"/r/Python/comments/ebvx57/python_tutorial_for_beginners_python_tutorial_for/fb7hboz/\", \"[removed]\"], [\"MrK_HS\", \"/r/Python/comments/ebrc2i/would_python_be_a_good_way_to_make_a_small_win_10/fb7idbh/\", \"Python + standard library ctypes are your friends \"], [\"shawnohare\", \"/r/Python/comments/ebu5mi/the_little_book_of_python_antipatterns_python/fb8ggnt/\", \"There\\u2019s a bit of cognitive load associated to long\"], [\"tunisia3507\", \"/r/Python/comments/ebyf45/how_to_support_a_python_package_that_uses_c/fb8f2xe/\", \"Don't support python 2. It's EOL in 2 weeks and wo\"], [\"its4thecatlol\", \"/r/Python/comments/ebu5mi/the_little_book_of_python_antipatterns_python/fb8fzet/\", \"I don't think many of these are clear anti-pattern\"], [\"zvxp\", \"/r/Python/comments/ebww8n/looking_for_a_mentor/fb8g7ug/\", \"Never pay for mentorship. Anyone who charges you t\"], [\"Blaidd-XIII\", \"/r/Python/comments/ec5cn7/first_thingy_made_in_python_but_why_did_my_first/fb9abgy/\", \"My first thought is that you are editing a list as\"], [\"rajbabu0663\", \"/r/Python/comments/ebww8n/looking_for_a_mentor/fb8j80n/\", \"Do you want to help me in my side project? I can a\"], [\"MarkZuckerman\", \"/r/Python/comments/ec0j6z/quick_mods_are_asleep_upvote_pics_of_python/fb8ii15/\", \"I swear too god if this loads and it's a real pyth\"], [\"MrK_HS\", \"/r/Python/comments/ec0yni/i_code_a_multiple_sudoku_grids_solver_in_python/fb8kw2z/\", \"Why neural networks instead of the much faster and\"], [\"Zdmins\", \"/r/Python/comments/ec0j6z/quick_mods_are_asleep_upvote_pics_of_python/fb8i0cn/\", \"Where are these mods based that they\\u2019re asleep alr\"], [\"taloy42\", \"/r/Python/comments/ec0d46/learning_python_and_couldnt_think_of_a_good/fb8ken0/\", \"Please upload the code, I need it for research pur\"], [\"footloooops\", \"/r/Python/comments/ec0yni/i_code_a_multiple_sudoku_grids_solver_in_python/fb8kogx/\", \"Is this using your phone? If so, do you have any g\"], [\"iamlocal\", \"/r/Python/comments/ebw6fy/faster_enum_comparison_with_enum_from_the_python/fb8iqa3/\", \"So it can go up to eleven\"], [\"911OpenUp\", \"/r/Python/comments/ec0j6z/quick_mods_are_asleep_upvote_pics_of_python/fb8jfr4/\", \"Its its python 3.7.sssssssssssixtynine UwU\"], [\"FeetlessColon\", \"/r/Python/comments/ec0yni/i_code_a_multiple_sudoku_grids_solver_in_python/fb8mraj/\", \"Brute Force is the only way!\"], [\"blabbities\", \"/r/Python/comments/ebxg4w/how_to_get_started_with_coding_python_on_a_chrome/fb8ndcr/\", \"Can you evenbinstall applications on a regular Chr\"], [\"Gionson13\", \"/r/Python/comments/ebytlq/interesting_project/fb8o5p9/\", \"I am a beginner, but I already know some stuff.\\nFo\"], [\"West7780\", \"/r/Python/comments/ec0d46/learning_python_and_couldnt_think_of_a_good/fb8o5mo/\", \"That would be incredibly more interesting\"], [\"lift_spin_d\", \"/r/Python/comments/ebxg4w/how_to_get_started_with_coding_python_on_a_chrome/fb8o9ya/\", \"i'm gonna go with \\\"hmm. . .\\\" because I can't say y\"], [\"4ipp\", \"/r/Python/comments/ec1pf2/i_want_your_opinion_mypy/fb8lz5n/\", \"I am curious to know what type of programs you dev\"], [\"WulfiePoo\", \"/r/Python/comments/ebw39p/conda_is_fing_slow/fb8nisx/\", \"I've found that the slowness scales with the numbe\"], [\"j03f\", \"/r/Python/comments/ec5x5h/can_i_get_some_help_with_python/fb9bx6l/\", \"r/learnpython\"], [\"MistBornDragon\", \"/r/Python/comments/ebw95t/whats_everyone_working_on_this_week/fb9ccrc/\", \"Binary Classification Based Predictive Model\"], [\"My_Name_Wuz_Taken\", \"/r/Python/comments/ec0d46/learning_python_and_couldnt_think_of_a_good/fb9chye/\", \"Have insult other people, on their own computers, \"], [\"Reeee93616\", \"/r/Python/comments/ec5x5h/can_i_get_some_help_with_python/fb9cj4b/\", \"So I've got the interpreter down, now I just have \"], [\"j03f\", \"/r/Python/comments/ec5x5h/can_i_get_some_help_with_python/fb9c411/\", \"NP, it\\u2019s a great place to ask questions like this \"], [\"SWgeek10056\", \"/r/Python/comments/ec0d46/learning_python_and_couldnt_think_of_a_good/fb8pc2t/\", \"now make this a bash script and incorporate it in \"], [\"zpwd\", \"/r/Python/comments/ebww8n/looking_for_a_mentor/fb8pqlp/\", \"&gt; OP has stated he's tried for a job, and hasn'\"], [\"Kaarjuus\", \"/r/Python/comments/ebu5mi/the_little_book_of_python_antipatterns_python/fb8qv2j/\", \"&gt; I think the \\\"dont use single letter variables\"], [\"Turkino\", \"/r/Python/comments/ebw95t/whats_everyone_working_on_this_week/fb8r1v2/\", \"I've been working on learning React.\\n\\nAs part of m\"], [\"totemcatcher\", \"/r/Python/comments/ebu5mi/the_little_book_of_python_antipatterns_python/fb8rpvf/\", \"That document would get out of hand if they were t\"], [\"Al3xR3ads\", \"/r/Python/comments/ebu5mi/the_little_book_of_python_antipatterns_python/fb8pmov/\", \"I think the \\\"dont use single letter variables\\\" thi\"], [\"phigo50\", \"/r/Python/comments/ec0d46/learning_python_and_couldnt_think_of_a_good/fb8qdbp/\", \"How appropriate, you fight like a cow!\"], [\"ItzKarmaOwO\", \"/r/Python/comments/ec0j6z/quick_mods_are_asleep_upvote_pics_of_python/fb8q8du/\", \"*When the mods wake up* Who posted this picture of\"], [\"nightking_4president\", \"/r/Python/comments/ec3c4j/classes_and_were_to_use_them/fb9g76u/\", \"&gt;Use classes when you find yourself referencing\"], [\"mraza007\", \"/r/Python/comments/ec6opk/so_i_wrote_this_script_a_ago_year_but_today_i/fb9gxdt/\", \"Lol won\\u2019t that be evil plan \\nHahaha\"], [\"iBlag\", \"/r/Python/comments/ebu5mi/the_little_book_of_python_antipatterns_python/fb8ti6b/\", \"I think `ctrl` is preferable since it\\u2019s an element\"], [\"yatpay\", \"/r/Python/comments/ec0d46/learning_python_and_couldnt_think_of_a_good/fb8twkg/\", \"You might enjoy [Advent of Code](http://www.advent\"], [\"Kaarjuus\", \"/r/Python/comments/ebu5mi/the_little_book_of_python_antipatterns_python/fb8u7jo/\", \"Absolutely, exactly like I said in my initial comm\"], [\"chinawcswing\", \"/r/Python/comments/ebyf45/how_to_support_a_python_package_that_uses_c/fb8urlv/\", \"I had a lecture with Raymond Hettinger who said th\"], [\"robo__Dev\", \"/r/Python/comments/ebx65k/could_someone_explain_to_me_why_tkinter_is_being/fb8vn5a/\", \"Some of this is legacy, so I may need to look at d\"], [\"RemindMeBot\", \"/r/Python/comments/ec0d46/learning_python_and_couldnt_think_of_a_good/fb8uhi1/\", \"I will be messaging you in 10 hours on [**2019-12-\"], [\"matthewjc\", \"/r/Python/comments/ec0d46/learning_python_and_couldnt_think_of_a_good/fb9jrww/\", \"Way too ADHD for me to handle\"], [\"Normbias\", \"/r/Python/comments/dy2ler/jinja_templates_for_nbconvert/fb9jxr8/\", \"I wasn't aware of rst. Not the automated solution \"], [\"MysticalKittyHerder\", \"/r/Python/comments/ec0d46/learning_python_and_couldnt_think_of_a_good/fb9l0y5/\", \"    curl insults.duckdns.org:8080/insultme\"], [\"archaeolinuxgeek\", \"/r/Python/comments/ebxjbh/advice_on_images_scraping/fb8jeqb/\", \"You'll be loving life once you get to a site that \"], [\"muikrad\", \"/r/Python/comments/ec1pf2/i_want_your_opinion_mypy/fb8wyu0/\", \"I developped 2 internal testing frameworks, and mo\"], [\"MysticalKittyHerder\", \"/r/Python/comments/ec0d46/learning_python_and_couldnt_think_of_a_good/fb8y1b5/\", \"Ok, Fuck My Holes\"], [\"gidoca\", \"/r/Python/comments/ec0d46/learning_python_and_couldnt_think_of_a_good/fb8yiw6/\", \"Mein Mampf.\"], [\"TKTubro\", \"/r/Python/comments/ec39zq/run_python_code_in_browser/fb8zzba/\", \"Python obviously can't be run in the browser nativ\"], [\"SushiWithoutSushi\", \"/r/Python/comments/ec0d46/learning_python_and_couldnt_think_of_a_good/fb92dxy/\", \"Cool. Try doing some motovational sentences, might\"], [\"SirBaas\", \"/r/Python/comments/ec0d46/learning_python_and_couldnt_think_of_a_good/fb919b0/\", \"I think all you have to do is run &lt;py&gt; in th\"], [\"fernly\", \"/r/Python/comments/ec0yni/i_code_a_multiple_sudoku_grids_solver_in_python/fb94c96/\", \"Peter Norvig's classic blog post on this: http://n\"], [\"botblue\", \"/r/Python/comments/ec0d46/learning_python_and_couldnt_think_of_a_good/fb96egp/\", \"Not really Python related, but your post made me t\"], [\"mitchell271\", \"/r/Python/comments/ec0d46/learning_python_and_couldnt_think_of_a_good/fb96q3k/\", \"Mein Kampfy Couch\"], [\"FukMyHoles\", \"/r/Python/comments/ec0d46/learning_python_and_couldnt_think_of_a_good/fb9lg16/\", \"There was an option to install Trinity and I decid\"], [\"WalesAuburn\", \"/r/Python/comments/ec3iv5/sqlalchemy_vs_pyodbc/fb9mayc/\", \"And you can use, cx\\\\_Oracle in python code  to exe\"], [\"sgramstrup\", \"/r/Python/comments/ec0d46/learning_python_and_couldnt_think_of_a_good/fb9mc6j/\", \"..ah, just as if my mom were still here. Bless the\"], [\"MysticalKittyHerder\", \"/r/Python/comments/ec0d46/learning_python_and_couldnt_think_of_a_good/fb9mpn2/\", \"Just click import file\"], [\"patchikoooo\", \"/r/Python/comments/ccq1yj/i_also_made_a_bot_using_pyautogui_and_reading/fb9q0by/\", \"Hi, do you still share your sourcecode? I noticed \"], [\"miketimmons1160\", \"/r/Python/comments/ec5osq/how_can_i_run_an_excel_addin_vba_macro_on_a/fb9ntpc/\", \"You have to have have the macros loaded in the wor\"], [\"mraza007\", \"/r/Python/comments/ec6opk/so_i_wrote_this_script_a_ago_year_but_today_i/fb9saj4/\", \"I think your personal phone number \\nThere\\u2019s no api\"], [\"rouille\", \"/r/Python/comments/ebyq0v/production_setup_for_websockets_asyncio/fb9u2ti/\", \"I can also vouch for aiohttp in production, it is \"], [\"BertoLaDK\", \"/r/Python/comments/ec0d46/learning_python_and_couldnt_think_of_a_good/fb9wkb7/\", \"shit went from 0 to 100 real quick... that is next\"], [\"chmod--777\", \"/r/Python/comments/ec0d46/learning_python_and_couldnt_think_of_a_good/fb9x4uv/\", \"`math.choice(insults)` is better if you're just pi\"], [\"AutoModerator\", \"/r/Python/comments/ec9snf/new_to_python_trying_to_create_an_appropriate/fb9zk85/\", \"Your submission has been automatically removed.\\n\\nY\"], [\"chmod--777\", \"/r/Python/comments/ec0d46/learning_python_and_couldnt_think_of_a_good/fb9xpvf/\", \"lmao I figured at least js due to the triple equal\"], [\"jdnewmil\", \"/r/Python/comments/ec91s7/lost_and_afraid/fb9yps2/\", \"I don't know about biology, but most scientific wo\"], [\"chmod--777\", \"/r/Python/comments/ec0d46/learning_python_and_couldnt_think_of_a_good/fb9xocx/\", \"`insult | cowsay | lolcat` for maximum insult\"], [\"AvidPuking\", \"/r/Python/comments/ec91s7/lost_and_afraid/fba3lgf/\", \"*Reading* books is fine, but I think it suffers fr\"], [\"A_Good_Hunter\", \"/r/Python/comments/ec1pf2/i_want_your_opinion_mypy/fba3o70/\", \"Trying to write C++ or C# in Python is pointless. \"], [\"DK4409\", \"/r/Python/comments/ecanxc/what_is_a_good_library_to_connect_sql_to_python/fba4c7k/\", \"Thanks for suggesting it, I will try\"], [\"Xormak\", \"/r/Python/comments/ebx66h/12_trending_alternatives_for_distributing_python/fba3w6f/\", \"Maybe but I'm not Dutch\"], [\"Astrokiwi\", \"/r/Python/comments/ec0d46/learning_python_and_couldnt_think_of_a_good/fba5abk/\", \"On Mac, change the print statements to bash calls \"], [\"dragonddragondragon\", \"/r/Python/comments/ebd3uz/how_to_control_your_raspberry_pi_from_anywhere_in/fb4ddq3/\", \"Probably, yes.\"], [\"nero-gg\", \"/r/Python/comments/ebd3uz/how_to_control_your_raspberry_pi_from_anywhere_in/fb4hp5a/\", \"Discord is an external chat provider. You're relyi\"], [\"Nils1704\", \"/r/Python/comments/eb6sgl/how_to_simulate_middle_click_with_right_click_and/fb4h8qg/\", \"If you're not 100% set on using python autohotkey \"], [\"blahhhhh\", \"/r/Python/comments/ebfoug/8_reasons_why_python_is_good_for_artificial/fb4kwgv/\", \"Why is that?\"], [\"PharaohBigDickimus\", \"/r/Python/comments/ebfo58/which_orm_for_python_and_abstraction_between_db/fb4law4/\", \"I like SQLAlchemy a lot. It\\u2019s extremely popular be\"], [\"MikeTheWatchGuy\", \"/r/Python/comments/eb5qil/made_conways_game_of_life_using_tkinter/fb4lmxx/\", \"Yea I did one using PySimpleGUI and [posted about \"], [\"__deerlord__\", \"/r/Python/comments/ebd3uz/how_to_control_your_raspberry_pi_from_anywhere_in/fb4n3q5/\", \"\\\"Calm down\\\" is not a way to secure your network.\"], [\"Miner_ChAI\", \"/r/Python/comments/e50ikr/whats_your_favorite_aphorism_from_the_zen_of/fb4mn3l/\", \"[This](https://mystb.in/afavocusip.py) is the code\"], [\"chris1610\", \"/r/Python/comments/ebe72x/can_python_be_used_as_macros_across_different/fb4o6do/\", \"This [article](https://pbpython.com/advanced-excel\"], [\"dynaken\", \"/r/Python/comments/eb58bb/installed_anaconda_onto_windows_10_via_the_wsl/fb4sysj/\", \"Did you install xorg and X11? Those may be needed.\"], [\"chinawcswing\", \"/r/Python/comments/eb4ulv/best_online_python_interpreter_with_code/fb4ugow/\", \"This is great thanks.\"], [\"Zenith_N\", \"/r/Python/comments/eb58bb/installed_anaconda_onto_windows_10_via_the_wsl/fb4wstp/\", \"Thank you for your patience.\\n\\nI tried the followin\"], [\"DarkCeptor44\", \"/r/Python/comments/ebf7rc/github_mtrajkcodingproblems_python_solutions_for/fb50qzb/\", \"This is really cool but I don't understand why not\"], [\"mtrajk93\", \"/r/Python/comments/ebf7rc/github_mtrajkcodingproblems_python_solutions_for/fb5205z/\", \"Thank you too. I'm happy if this helped you someho\"], [\"theinkedambivert\", \"/r/Python/comments/ebjgvl/i_wrote_a_program_that_doodles_things_in_ms_paint/fb6vibk/\", \"Modern Jackson Pollock.\"], [\"911OpenUp\", \"/r/Python/comments/ebjgvl/i_wrote_a_program_that_doodles_things_in_ms_paint/fb6upol/\", \"Hey! Amazing one. \\nCould you also add a program to\"], [\"socal_nerdtastic\", \"/r/Python/comments/ebrw1p/divide_number_into_ratios_of_more_than_2/fb6wfgd/\", \"&gt; Not sure if this is more of a math problem\\n\\nY\"], [\"hotdeo\", \"/r/Python/comments/ebjgvl/i_wrote_a_program_that_doodles_things_in_ms_paint/fb6wvym/\", \"Sell it for $2,000,000 to an art museum.\"], [\"Orio_n\", \"/r/Python/comments/ebjgvl/i_wrote_a_program_that_doodles_things_in_ms_paint/fb6wvoa/\", \"Pyautogui is the most powerful module\"], [\"panupatc\", \"/r/Python/comments/ebrw1p/divide_number_into_ratios_of_more_than_2/fb718o4/\", \"Thank you :D\"], [\"Versaiteis\", \"/r/Python/comments/ebjgvl/i_wrote_a_program_that_doodles_things_in_ms_paint/fb6xyz1/\", \"Confetti generator!\"], [\"Gawd_is_great\", \"/r/Python/comments/eazg05/made_my_first_fractal/fb6zy3v/\", \"Ok just put the entire make trail function in a tr\"], [\"cetpanig\", \"/r/Python/comments/ebjgvl/i_wrote_a_program_that_doodles_things_in_ms_paint/fb75u1j/\", \"Useful video you have shared here. How the concept\"], [\"Free-_-Yourself\", \"/r/Python/comments/ebjgvl/i_wrote_a_program_that_doodles_things_in_ms_paint/fb72o0q/\", \"How do you make Python to Inter at with the progra\"], [\"footynotes\", \"/r/Python/comments/ebpxeg/any_flask_developer_with_passion_for_football_here/fb734r7/\", \"Please let me know how I can communicate with you.\"], [\"footynotes\", \"/r/Python/comments/ebpxeg/any_flask_developer_with_passion_for_football_here/fb734e0/\", \"Please let me know how I can communicate with you.\"], [\"aes110\", \"/r/Python/comments/ebnzoa/can_you_assign_variables_in_a_lambda/fb74wp8/\", \"You cant do that, not only in lambda but in regula\"], [\"xd1142\", \"/r/Python/comments/ebd3uz/how_to_control_your_raspberry_pi_from_anywhere_in/fb76fxx/\", \"All of this are issues with shitty clients, not wi\"], [\"MrK_HS\", \"/r/Python/comments/eazg05/made_my_first_fractal/fb78wqa/\", \"Getting internet points on Reddit\"], [\"Gawd_is_great\", \"/r/Python/comments/ebst39/i_saw_people_post_animations_on_fractals_mazes/fb77ety/\", \"What exactly is this?\"], [\"davehodg\", \"/r/Python/comments/ebu0k5/python_vs_ruby_which_is_better_for_businesses/fb792ra/\", \"Python. But Ruby is reasonably capable. I know som\"], [\"ZenixSlayer\", \"/r/Python/comments/ebu5mi/the_little_book_of_python_antipatterns_python/fb7bcrl/\", \"Definitely worth a read.\"], [\"jistjoalal\", \"/r/Python/comments/eaz80r/programming_this_playlist_oh_my_god_full/fb7b97a/\", \"Hey thanks for posting. I've been jamming to this \"], [\"[deleted]\", \"/r/Python/comments/ebuxek/python_chatbot_tutorial_for_beginners_python/fb7becm/\", \"[removed]\"], [\"DSC34\", \"/r/Python/comments/ebqfeh/day_1_python_learner_sos/fb7f4h8/\", \"Give this a read. I think it will clear up any iss\"], [\"imdwalrus_nor\", \"/r/Python/comments/ebjgvl/i_wrote_a_program_that_doodles_things_in_ms_paint/fb7fs4j/\", \"Really cool code! Nice job mate!\"], [\"Irrwurzel\", \"/r/Python/comments/ebjgvl/i_wrote_a_program_that_doodles_things_in_ms_paint/fb7fv0m/\", \"Oh nice it makes me so calm looking at that.\"], [\"tipsy_python\", \"/r/Python/comments/ebu0k5/python_vs_ruby_which_is_better_for_businesses/fb7ftn5/\", \"Lol I wrote some Scala that would occasionally fai\"], [\"AirHamyes\", \"/r/Python/comments/ebjgvl/i_wrote_a_program_that_doodles_things_in_ms_paint/fb6t5zu/\", \"Didn't even notice it. Cameras were off and I fell\"], [\"bd_econ\", \"/r/Python/comments/ebw39p/conda_is_fing_slow/fb7kugi/\", \"You could try\\n\\n    conda clean --all\\n\\nOr you could\"], [\"MrK_HS\", \"/r/Python/comments/ebu0k5/python_vs_ruby_which_is_better_for_businesses/fb7i5uk/\", \"Ruby is still somewhat relevant because of ROR, bu\"], [\"YellowSharkMT\", \"/r/Python/comments/ebl24m/sorry_to_be_dumb_but_how_do_you_install_python_36/fb7jpik/\", \"dude doesn't this overwrite the system python?\"], [\"zpwd\", \"/r/Python/comments/ebvitl/whats_possible_with_python/fb7jpzo/\", \"&gt; Could a python script read that pdf file?\\n\\nYe\"], [\"Note45_\", \"/r/Python/comments/ebw95t/whats_everyone_working_on_this_week/fb7kcv7/\", \"I am working in a project with python and kivy. It\"], [\"pythonHelperBot\", \"/r/Python/comments/ebdabr/is_it_possible_to_scrap_dynamically_generated/fb5a7mh/\", \"Hello! I'm a bot!\\n\\nIt looks to me like your post m\"], [\"social_tech_10\", \"/r/Python/comments/ebh0gt/how_to_detect_dominant_color_in_masked_image/fb5bblr/\", \"I've had good luck using \\\"k-means clustering\\\" algo\"], [\"pythonHelperBot\", \"/r/Python/comments/ebjp0s/issue_with_regular_expression_wont_find_digit/fb5alyz/\", \"Hello! I'm a bot!\\n\\nIt looks to me like your post m\"], [\"bonestormII\", \"/r/Python/comments/ebjp0s/issue_with_regular_expression_wont_find_digit/fb5csb7/\", \"I don\\u2019t believe re.search returns a bool. Ultimate\"], [\"omegacoo\", \"/r/Python/comments/ebjgvl/i_wrote_a_program_that_doodles_things_in_ms_paint/fb5dr21/\", \"Truly a missed opportunity.\"], [\"stephan42_42\", \"/r/Python/comments/ebh0gt/how_to_detect_dominant_color_in_masked_image/fb5gzag/\", \"Yellow\"], [\"social_tech_10\", \"/r/Python/comments/ebfbo8/software_entrepreneur_will_you_advise/fb5gu1w/\", \"I would encourage you to keep dedicating your free\"], [\"gnomejodas\", \"/r/Python/comments/ebjgvl/i_wrote_a_program_that_doodles_things_in_ms_paint/fb5cuzd/\", \"I expected a \\\"Epstein didn't kill himself\\\" at the \"], [\"Justinian_is_taken\", \"/r/Python/comments/ebjgvl/i_wrote_a_program_that_doodles_things_in_ms_paint/fb5lsp6/\", \"Could you post the link here so we all can see it \"], [\"MrK_HS\", \"/r/Python/comments/ebhdmm/as_a_dev_what_are_your_main_challenge_keeping_fit/fb5mtga/\", \"I don't know how this is related to python. Howeve\"], [\"MrK_HS\", \"/r/Python/comments/eaxuev/currency_converter_the_cheat_way/fb5lx6p/\", \"It's just always better to use integers.\"], [\"RedSword13\", \"/r/Python/comments/ebjgvl/i_wrote_a_program_that_doodles_things_in_ms_paint/fb5mclh/\", \"!reminder 2 hours\"], [\"CookieGuyOof\", \"/r/Python/comments/ebjt38/hey_everyone/fb5n3uq/\", \"HOLY FUCKIN SHIT BRO.\\n\\ni cannot stress how much i \"], [\"[deleted]\", \"/r/Python/comments/ebkm5x/learning_python_is_boring_me_i_learn_from/fb5nhx3/\", \"[removed]\"], [\"ireadyourmedrecord\", \"/r/Python/comments/ebkeyr/new_to_python_but_need_a_method_or_example_of/fb5hn3a/\", \"Alternatively, you can specify a list of column na\"], [\"makotomike\", \"/r/Python/comments/ebhdmm/as_a_dev_what_are_your_main_challenge_keeping_fit/fb5irfy/\", \"Workplace culture.\\n\\nA lot of the retiring staff is\"], [\"Filip22012005\", \"/r/Python/comments/ebjgvl/i_wrote_a_program_that_doodles_things_in_ms_paint/fb5kfit/\", \"I heard the tune of \\\"Saved by the Bell\\\" in my head\"], [\"Mr_804\", \"/r/Python/comments/ebjgvl/i_wrote_a_program_that_doodles_things_in_ms_paint/fb5qyo5/\", \"Jackson Pyllock\"], [\"AirHamyes\", \"/r/Python/comments/ebjgvl/i_wrote_a_program_that_doodles_things_in_ms_paint/fb5tjp4/\", \"I accept donations thru PayPal!\\n\\n\\n\\nNo I don't...\"], [\"ArthurAKAJuStlCe\", \"/r/Python/comments/ebjgvl/i_wrote_a_program_that_doodles_things_in_ms_paint/fb5sgzr/\", \"And the paintings are worth MILLIONS\"], [\"ultraDross\", \"/r/Python/comments/ebhdmm/as_a_dev_what_are_your_main_challenge_keeping_fit/fb5v1z5/\", \"Walk in place of public transport when possible. U\"], [\"ominous_anonymous\", \"/r/Python/comments/eblvdq/linked_list_in_python/fb5v1ix/\", \"Some other linked list stuff in Python that was su\"], [\"MrK_HS\", \"/r/Python/comments/ebh41z/how_to_save_christmas_with_the_travelling/fb5xiu7/\", \"By knowing Santa's average travelling speed you co\"], [\"dcsim0n\", \"/r/Python/comments/eblyxu/what_can_be_a_reason_that_python_imports_behave/fb5yoqg/\", \"Are you importing b.py into a.py? \\n\\nAre a.py and b\"], [\"chinpokomon\", \"/r/Python/comments/ebjgvl/i_wrote_a_program_that_doodles_things_in_ms_paint/fb5yxv0/\", \"Read the code...\"], [\"DDFoster96\", \"/r/Python/comments/eaxuev/currency_converter_the_cheat_way/fb5695t/\", \"If I need currency converting I usually shout at m\"], [\"01110111-01100001\", \"/r/Python/comments/ebfoug/8_reasons_why_python_is_good_for_artificial/fb56qel/\", \"It's a joke.\"], [\"haydennyyy\", \"/r/Python/comments/ebjgvl/i_wrote_a_program_that_doodles_things_in_ms_paint/fb615bp/\", \"It's like a jackson pullock painting.\"], [\"MainRotorGearbox\", \"/r/Python/comments/ebjgvl/i_wrote_a_program_that_doodles_things_in_ms_paint/fb625kd/\", \"Yep but i forgot the /s so im about to get downvot\"], [\"ShibaOne\", \"/r/Python/comments/ebnzoa/can_you_assign_variables_in_a_lambda/fb68z4h/\", \"Why would you do that? I might be having a 5IQ mom\"], [\"pythn101\", \"/r/Python/comments/ebl24m/sorry_to_be_dumb_but_how_do_you_install_python_36/fb64o3s/\", \"Very dumb question but it\\u2019s ok\"], [\"AirHamyes\", \"/r/Python/comments/ebjgvl/i_wrote_a_program_that_doodles_things_in_ms_paint/fb64439/\", \"Yep. Thanks u/alsweigert\"], [\"Cyb0rgBrain\", \"/r/Python/comments/ebnfsj/simple_hangman_game/fb65osw/\", \"How much do you pay?\"], [\"JFRHorton\", \"/r/Python/comments/ebjgvl/i_wrote_a_program_that_doodles_things_in_ms_paint/fb65jai/\", \"PyAit Mondrian?\"], [\"rhcrise\", \"/r/Python/comments/ebngug/review_for_python/fb65wyr/\", \"Did you try Reddit ?\"], [\"firefrommoonlight\", \"/r/Python/comments/ebl24m/sorry_to_be_dumb_but_how_do_you_install_python_36/fb6dj2x/\", \"[Download the source code](https://www.python.org/\"], [\"eljuany\", \"/r/Python/comments/ebp07u/python_web_development_saas_question/fb6dwku/\", \"Have you taken a look at Stripe for payments?\"], [\"aneurysm_\", \"/r/Python/comments/ebjgvl/i_wrote_a_program_that_doodles_things_in_ms_paint/fb6j9fo/\", \"The Epstein print statement made me laugh\"], [\"arkteris13\", \"/r/Python/comments/ebpixv/why_is_my_program_only_printing_the_last_letter/fb6iu4d/\", \"No you assigned the string at names\\\\[1\\\\] to names\\\\\"], [\"Trghpy00\", \"/r/Python/comments/ebpixv/why_is_my_program_only_printing_the_last_letter/fb6iyca/\", \"You took a string from an array, then broke that s\"], [\"airick187\", \"/r/Python/comments/ebjgvl/i_wrote_a_program_that_doodles_things_in_ms_paint/fb6o0rg/\", \"Nice little print message in there ;-)\"], [\"Attendis\", \"/r/Python/comments/ebjgvl/i_wrote_a_program_that_doodles_things_in_ms_paint/fb6n10q/\", \"Now print it out and see how much ink you have lef\"], [\"AirHamyes\", \"/r/Python/comments/ebjgvl/i_wrote_a_program_that_doodles_things_in_ms_paint/fb63g7a/\", \"Anyone get it to work?  DM me some images!\"], [\"College4321\", \"/r/Python/comments/ebqfeh/day_1_python_learner_sos/fb6pcrn/\", \"Thanks! It was the version that needed to be chang\"], [\"SnakeSneakers\", \"/r/Python/comments/e9hle8/im_a_noob_how_would_i_get_the_total_number_of/fb6plvy/\", \"hi\"], [\"PazDak\", \"/r/Python/comments/ebqfeh/day_1_python_learner_sos/fb6ow2w/\", \"Check your settings... f\\\"{whatever}\\\" only joined t\"], [\"blabbities\", \"/r/Python/comments/ebl24m/sorry_to_be_dumb_but_how_do_you_install_python_36/fb6rkh8/\", \"Python 3.66 is availabe in the bionic repos --&gt;\"], [\"huqd9\", \"/r/Python/comments/e5hms3/whats_everyone_working_on_this_week/fb6rhey/\", \"I still do some research on OOD, data structures a\"], [\"DDFoster96\", \"/r/Python/comments/eaxuev/currency_converter_the_cheat_way/fb55tp1/\", \"Would the decimal module also solve the problem?\"], [\"hkamran85\", \"/r/Python/comments/e5hms3/whats_everyone_working_on_this_week/fb55xxn/\", \"Why not use Flask?\"], [\"AndrewLobsti\", \"/r/Python/comments/eb8cmr/found_a_ghost_from_pacman_and_a_dude_with_a_funny/fb41bhx/\", \"center-top of the image, right at the border betwe\"], [\"muikrad\", \"/r/Python/comments/eba1w4/how_do_you_turn_just_code_into_code_for_a_game/fb43ght/\", \"Python is great for a lot of things but graphics i\"], [\"dragonddragondragon\", \"/r/Python/comments/ebd3uz/how_to_control_your_raspberry_pi_from_anywhere_in/fb43wej/\", \"episode 2: how to secure your raspberry pi \\n\\nEpiso\"], [\"funkmaster322\", \"/r/Python/comments/ebe72x/can_python_be_used_as_macros_across_different/fb461vi/\", \"pandas\"], [\"dragonddragondragon\", \"/r/Python/comments/ebfbo8/software_entrepreneur_will_you_advise/fb4a6gj/\", \"Kind of highly personal question really.\\n\\nThere is\"], [\"BoaVersusPython\", \"/r/Python/comments/ebb3e1/just_started_working_on_a_portfolio_for/fb4akda/\", \"You gave a complete stranger a code review.\\n\\nYou a\"], [\"dragonddragondragon\", \"/r/Python/comments/ebd3uz/how_to_control_your_raspberry_pi_from_anywhere_in/fb4b1v2/\", \"It depends on OP\\u2019s implementation, but even on a p\"], [\"PacketPowered\", \"/r/Python/comments/ebe72x/can_python_be_used_as_macros_across_different/fb4c7sq/\", \"openpyxl\"], [\"dragonddragondragon\", \"/r/Python/comments/ebd3uz/how_to_control_your_raspberry_pi_from_anywhere_in/fb4c9w7/\", \"I don\\u2019t believe that it\\u2019s impossible for a hacker \"], [\"potato1sgood\", \"/r/Python/comments/ebjgvl/i_wrote_a_program_that_doodles_things_in_ms_paint/fb7ocnt/\", \"Brb, gonna manually parse the algorithm.\"], [\"CowboyBoats\", \"/r/Python/comments/ebx65k/could_someone_explain_to_me_why_tkinter_is_being/fb7qygn/\", \"[This answer](https://apple.stackexchange.com/ques\"], [\"raskoln31\", \"/r/Python/comments/ebjgvl/i_wrote_a_program_that_doodles_things_in_ms_paint/fb7r5fq/\", \"Oh hypnotized forever, gj!\"], [\"mamcx\", \"/r/Python/comments/e032gu/rpython_job_board/fb7rjs2/\", \"Hola, gracias por responder. \\n\\nEs un proyecto par \"], [\"AutoModerator\", \"/r/Python/comments/ebxhja/manifesto_for_applied_artificial_intelligence/fb7rlq2/\", \"Your submission has been automatically removed.\\n\\nY\"], [\"jedidihah\", \"/r/Python/comments/ebxg4w/how_to_get_started_with_coding_python_on_a_chrome/fb7rqx1/\", \"If you google that exact question, or shorten it t\"], [\"nathanjell\", \"/r/Python/comments/ec3iv5/sqlalchemy_vs_pyodbc/fb8zpkz/\", \"Supported by Microsoft for what? And who cares? Th\"], [\"Daharka\", \"/r/Python/comments/ec0d46/learning_python_and_couldnt_think_of_a_good/fb8zvx0/\", \"[An introduction to his work](https://www.youtube.\"], [\"Sir_not_sir\", \"/r/Python/comments/ec48rb/need_to_add_2_for_loops_beginner_python_not_sure/fb910g5/\", \"Your link has no code.\\n\\nPaste your code in a post \"], [\"AutoModerator\", \"/r/Python/comments/ebzoxt/pascals_triangle/fb86n01/\", \"Your submission has been automatically removed.\\n\\nY\"], [\"ChocolateBunny\", \"/r/Python/comments/ec0d46/learning_python_and_couldnt_think_of_a_good/fb92ntp/\", \"Wow.  I would have just put a big ass \\\"\\\"\\\"\\\"/\\\"\\\"\\\"\\\" bl\"], [\"panupatc\", \"/r/Python/comments/ec0d46/learning_python_and_couldnt_think_of_a_good/fb9qx5n/\", \"That's a compliment - that you as a sperm was stro\"], [\"ProfessionalTune0\", \"/r/Python/comments/ebx65k/could_someone_explain_to_me_why_tkinter_is_being/fb88ncl/\", \"You might want to try something more performant li\"], [\"OnyxPhoenix\", \"/r/Python/comments/ebxg4w/how_to_get_started_with_coding_python_on_a_chrome/fb88n08/\", \"Id honestly recommend buying a raspberry pi. If yo\"], [\"galaxyWanderer\", \"/r/Python/comments/ebvec3/new_python_project_starter_tool_with_poetry/fb890qk/\", \"Might be worthwhile including black for formatting\"], [\"chinawcswing\", \"/r/Python/comments/ebyf45/how_to_support_a_python_package_that_uses_c/fb886o8/\", \"How would I automate something like the use of f-s\"], [\"thekatshow\", \"/r/Python/comments/e032gu/rpython_job_board/fb88j64/\", \"Global\"], [\"karouh\", \"/r/Python/comments/ebw6fy/faster_enum_comparison_with_enum_from_the_python/fb8a5t3/\", \"What is the point of adding a new dependency in or\"], [\"Kalub1125\", \"/r/Python/comments/ebw95t/whats_everyone_working_on_this_week/fb8af62/\", \"I plan on making my discord bot connect to the Spo\"], [\"Conrad_noble\", \"/r/Python/comments/ebw95t/whats_everyone_working_on_this_week/fb8g8kh/\", \"End goal get it to order your groceries to click a\"], [\"nemec\", \"/r/Python/comments/ebxjbh/advice_on_images_scraping/fb8hd7n/\", \"TBH I would start with [Parsel](https://github.com\"], [\"sambhavgarrg\", \"/r/Python/comments/ec0j6z/quick_mods_are_asleep_upvote_pics_of_python/fb8ijfw/\", \"The real og\"], [\"llivejo\", \"/r/Python/comments/ebxg4w/how_to_get_started_with_coding_python_on_a_chrome/fb8gmul/\", \"Use crouton or Chrostini - Linux diestro inside Ch\"], [\"DrTautology\", \"/r/Python/comments/ec0j6z/quick_mods_are_asleep_upvote_pics_of_python/fb8hxkh/\", \"from python import ball\"], [\"ChasingLogic\", \"/r/Python/comments/ebww8n/looking_for_a_mentor/fb8ia6r/\", \"My recommendation is find an open source project a\"], [\"Starlyns\", \"/r/Python/comments/ebz6pj/scanner_app_inventory_management_from_scratch/fb8ipmb/\", \"OK have never used any of those languages am more \"], [\"FukMyHoles\", \"/r/Python/comments/ec0d46/learning_python_and_couldnt_think_of_a_good/fb8l7jh/\", \"For those interested in the script, I'll upload it\"], [\"footloooops\", \"/r/Python/comments/ec0yni/i_code_a_multiple_sudoku_grids_solver_in_python/fb8kqk8/\", \"So do u record a video, then pass it through? It's\"], [\"MrK_HS\", \"/r/Python/comments/ec0yni/i_code_a_multiple_sudoku_grids_solver_in_python/fb8m6hn/\", \"I took a look at the code and in fact he is using \"], [\"jellef\", \"/r/Python/comments/ebx66h/12_trending_alternatives_for_distributing_python/fb8npv9/\", \"[There should be one-- and preferably only one --o\"], [\"Jake-Ballard\", \"/r/Python/comments/ebw95t/whats_everyone_working_on_this_week/fb8kbmx/\", \"I\\u2019ve started this project to automate some stuff a\"], [\"ziggomatic_17\", \"/r/Python/comments/ebu5mi/the_little_book_of_python_antipatterns_python/fb8pri1/\", \"I generally agree. But I also think there are some\"], [\"Moonberry8\", \"/r/Python/comments/ec0d46/learning_python_and_couldnt_think_of_a_good/fb8pw6t/\", \"Now make a passive aggressive compliment generator\"], [\"NeoM02\", \"/r/Python/comments/ec0d46/learning_python_and_couldnt_think_of_a_good/fb8pyex/\", \"Yeah so I'll try that\"], [\"UnexpectedBSOD\", \"/r/Python/comments/ebsg40/professional_python_coding/fb7vqvw/\", \"Test automation\"], [\"carebeartears\", \"/r/Python/comments/ebrc2i/would_python_be_a_good_way_to_make_a_small_win_10/fb8sh2i/\", \"yeah, I saw a blurb in my travels about autohotkey\"], [\"MysticalKittyHerder\", \"/r/Python/comments/ec0d46/learning_python_and_couldnt_think_of_a_good/fb8rmdd/\", \"Why didn't you post a github link yet?? We're all \"], [\"willm\", \"/r/Python/comments/ebyq0v/production_setup_for_websockets_asyncio/fb8sdp1/\", \"I built a socket server using aiohttp. In producti\"], [\"kaihatsusha\", \"/r/Python/comments/ec0d46/learning_python_and_couldnt_think_of_a_good/fb8u5o5/\", \"Yes, if the integer keys are densely spaced, but l\"], [\"Sir_not_sir\", \"/r/Python/comments/ebylo8/advanced_python_book_with_cool_science_excersizes/fb81bo1/\", \"Fluent Python and Numerical Python are probably ge\"], [\"Balacktoid\", \"/r/Python/comments/ebt8q5/my_code_keeps_giving_me_this_error_please_help_me/fb83s9p/\", \"def get\\\\_arguments():  \\nparser = optparse.OptionPa\"], [\"tahmsplat\", \"/r/Python/comments/ebu5mi/the_little_book_of_python_antipatterns_python/fb83v8u/\", \"I think \\\"single letters doubled\\\" is better e.g. `i\"], [\"pythonHelperBot\", \"/r/Python/comments/ebyydg/please_help_new_and_confused/fb81uf8/\", \"Hello! I'm a bot!\\n\\nIt looks to me like your post m\"], [\"putnam78\", \"/r/Python/comments/ebmj0m/using_python_with_other_languages/fb82jlh/\", \"thanks for your quick reply\"], [\"makotomike\", \"/r/Python/comments/ebw95t/whats_everyone_working_on_this_week/fb81gzk/\", \"...Trying to figure out why my company uses so man\"], [\"blahhhhh\", \"/r/Python/comments/ebfoug/8_reasons_why_python_is_good_for_artificial/fb82ned/\", \"I'll check it out, sounds like an idea to test\"], [\"mahtats\", \"/r/Python/comments/ec3c4j/classes_and_were_to_use_them/fb8x4xc/\", \"Use classes when you need to consolidate functiona\"], [\"CuriousDwarf\", \"/r/Python/comments/ec0d46/learning_python_and_couldnt_think_of_a_good/fb8wjy1/\", \"!remindMe 2 hours\"], [\"TicklesMcFancy\", \"/r/Python/comments/ec3c4j/classes_and_were_to_use_them/fb8v4bb/\", \"Hey i just watched a video on YouTube that explain\"], [\"damian_work_account\", \"/r/Python/comments/ebu5mi/the_little_book_of_python_antipatterns_python/fb84s7n/\", \"&gt; an example and I'll provide the better variab\"], [\"Yoghurt42\", \"/r/Python/comments/ebxfls/question_regarding_class_int_is_not_json/fb85ghn/\", \"&gt; TypeError: &lt;map object at ...&gt; is not J\"], [\"hkamran85\", \"/r/Python/comments/ec0d46/learning_python_and_couldnt_think_of_a_good/fb8z412/\", \"Never heard of him\"], [\"Kyle_Is_On_Reddit\", \"/r/Python/comments/ec0d46/learning_python_and_couldnt_think_of_a_good/fb8ydwm/\", \"Mein Kampf mit Schokoladenkuchen\"], [\"Herman_Weinstein\", \"/r/Python/comments/ec0j6z/quick_mods_are_asleep_upvote_pics_of_python/fb8d3i0/\", \"Cutie!\"], [\"real_men_use_vba\", \"/r/Python/comments/ebw39p/conda_is_fing_slow/fb8f548/\", \"Are you running the latest conda? It was a lot slo\"], [\"CodeSkunky\", \"/r/Python/comments/ebu5mi/the_little_book_of_python_antipatterns_python/fb8dc8p/\", \"It's better is why. It immediately tells me as opp\"], [\"moonlandings\", \"/r/Python/comments/ec0a67/builtin_function_or_method_object_has_no_attribute/fb8e7x3/\", \"He\\u2019s trying to do \\u201c{:.2f}\\u201d\"], [\"firefrommoonlight\", \"/r/Python/comments/ebx66h/12_trending_alternatives_for_distributing_python/fb93qk6/\", \"That one hasn't been relevant in a while. For exam\"], [\"Imagine-existance\", \"/r/Python/comments/ec0d46/learning_python_and_couldnt_think_of_a_good/fb97umu/\", \"*racist against asians and white people since reev\"], [\"flohjiyamamoto\", \"/r/Python/comments/ebyf45/how_to_support_a_python_package_that_uses_c/fb96h3t/\", \"It\\u2019s not just Raymond, I love f-strings too\"], [\"Clyde3167\", \"/r/Python/comments/ec5osq/how_can_i_run_an_excel_addin_vba_macro_on_a/fb9bfc5/\", \"Can you not just add the add-in to a button on a s\"], [\"ArtoriusSmith\", \"/r/Python/comments/ec56kr/signal_procesing/fb992ba/\", \"NumPy and SciPy will give you most of the function\"], [\"nathanjell\", \"/r/Python/comments/ec3iv5/sqlalchemy_vs_pyodbc/fb9ath9/\", \"Not quite. You've got two options: use an ORM or e\"], [\"iaalaughlin\", \"/r/Python/comments/ec0d46/learning_python_and_couldnt_think_of_a_good/fb989pz/\", \"Chocolate cake is delicious\"], [\"paspascal\", \"/r/Python/comments/ebylo8/advanced_python_book_with_cool_science_excersizes/fb9c51j/\", \"So I too work in science and dabble often with the\"], [\"PythonKoder\", \"/r/Python/comments/ec3c4j/classes_and_were_to_use_them/fb9cx11/\", \"Use classes when you find yourself referencing ver\"], [\"MistBornDragon\", \"/r/Python/comments/ebytlq/interesting_project/fb9cvip/\", \"Create a runescape bot\"], [\"smalltalker\", \"/r/Python/comments/ec3iv5/sqlalchemy_vs_pyodbc/fb9gntg/\", \"A small clarification on the other comment: Both t\"], [\"AZNman1111\", \"/r/Python/comments/dy2ler/jinja_templates_for_nbconvert/fb9h3dz/\", \"Ipynb --&gt; rst --&gt; html?\"], [\"BDube_Lensman\", \"/r/Python/comments/ec4ibh/taking_the_loglinear_results_of_a_fourier/fb9iq4a/\", \"FFT frequency bins are inherently log spaced., you\"], [\"wazor911\", \"/r/Python/comments/ebpxeg/any_flask_developer_with_passion_for_football_here/fb9k1x8/\", \"Dm is fine\"], [\"pavlik_enemy\", \"/r/Python/comments/ec1pf2/i_want_your_opinion_mypy/fb9lw4u/\", \"I come from .NET background and currently do most \"], [\"BDube_Lensman\", \"/r/Python/comments/ebw39p/conda_is_fing_slow/fb9j70v/\", \"ITT: it\\u2019s almost as if extremely large dependency \"], [\"FukMyHoles\", \"/r/Python/comments/ec6opk/so_i_wrote_this_script_a_ago_year_but_today_i/fb9o33t/\", \"I made a similar one when I was messing around and\"], [\"BrettFavreFlavored\", \"/r/Python/comments/ec6opk/so_i_wrote_this_script_a_ago_year_but_today_i/fb9uld2/\", \"Good to know.\"], [\"mipadi\", \"/r/Python/comments/ec1pf2/i_want_your_opinion_mypy/fb9v2tq/\", \"I'm not a big fan. If you want type safety, there \"], [\"idairis\", \"/r/Python/comments/ec91s7/lost_and_afraid/fb9x3xj/\", \"The python mega course on Udemy is excellent and w\"], [\"PingouinFarfelu\", \"/r/Python/comments/ec0yni/i_code_a_multiple_sudoku_grids_solver_in_python/fb9xaic/\", \"Hey Dude, \\n\\nThx for the comment ! What do you mean\"], [\"pythonHelperBot\", \"/r/Python/comments/ec8cwd/isnt_django_too_fast/fb9z1vk/\", \"Hello! I'm a bot!\\n\\nIt looks to me like your post m\"], [\"LightShadow\", \"/r/Python/comments/ebu5mi/the_little_book_of_python_antipatterns_python/fb9ywyw/\", \"Nothing like doubling the RAM to do a simple check\"], [\"TheReverend403\", \"/r/Python/comments/ec0d46/learning_python_and_couldnt_think_of_a_good/fb9yyzg/\", \"http://www.pangloss.com/seidel/Shaker/\"], [\"PM_ME_YOUR_TORNADOS\", \"/r/Python/comments/ec0d46/learning_python_and_couldnt_think_of_a_good/fba0574/\", \"Don't be so flippant. OP is doing better than a 5 \"], [\"Jak_from_Venice\", \"/r/Python/comments/ec0d46/learning_python_and_couldnt_think_of_a_good/fb9yl6h/\", \"Wanna a good project?\\n\\n- mail spam filter\\n- GUI ma\"], [\"Scumbag1234\", \"/r/Python/comments/ec91s7/lost_and_afraid/fb9zoes/\", \"numpy and matplotlib is all you need for plotting \"], [\"SteinSteenStern\", \"/r/Python/comments/ec0d46/learning_python_and_couldnt_think_of_a_good/fba2ss4/\", \" \\\\[ calmly closes laptop \\\\] \\n\\n\\\\[script starts send\"], [\"pythonHelperBot\", \"/r/Python/comments/ecakha/question_how_to_download_txt_files_from_django/fba3n97/\", \"Hello! I'm a bot!\\n\\nIt looks to me like your post m\"], [\"davehodg\", \"/r/Python/comments/ec3c4j/classes_and_were_to_use_them/fba2n5k/\", \"I remember there were three buzzwords like encapsu\"], [\"Astrokiwi\", \"/r/Python/comments/ec0d46/learning_python_and_couldnt_think_of_a_good/fba58sh/\", \"Sure but it's more ` P Y T H O N I C`\"], [\"chincherpa\", \"/r/Python/comments/ecanxc/what_is_a_good_library_to_connect_sql_to_python/fba655f/\", \"There is also a SQL library already buit-in.\\nhttps\"], [\"[deleted]\", \"/r/Python/comments/ec0d46/learning_python_and_couldnt_think_of_a_good/fba863n/\", \"[removed]\"], [\"Aereskiko\", \"/r/Python/comments/ecbczc/problem_with_pyinstaller/fba7hrm/\", \"Think it might have to do with hidden imports, or \"], [\"[deleted]\", \"/r/Python/comments/ec0d46/learning_python_and_couldnt_think_of_a_good/fba8ojb/\", \"[removed]\"], [\"xd1142\", \"/r/Python/comments/ecat9l/can_i_help_automate_some_of_your_work/fba7o63/\", \"housechores\"], [\"[deleted]\", \"/r/Python/comments/ecat9l/can_i_help_automate_some_of_your_work/fba940g/\", \"[removed]\"], [\"[deleted]\", \"/r/Python/comments/ec0d46/learning_python_and_couldnt_think_of_a_good/fba8e2j/\", \"[removed]\"], [\"1-SLIPPERY-SLOPE\", \"/r/Python/comments/ebjgvl/i_wrote_a_program_that_doodles_things_in_ms_paint/fb5pqjd/\", \"!remindme 2 hours\"], [\"princelySid\", \"/r/Python/comments/ebl24m/sorry_to_be_dumb_but_how_do_you_install_python_36/fb5omy2/\", \"Co-signing this because you should be using virtua\"], [\"kpook11\", \"/r/Python/comments/ebjgvl/i_wrote_a_program_that_doodles_things_in_ms_paint/fb5orl8/\", \"So this is how they make the 90s designs for bus s\"], [\"Daylight617\", \"/r/Python/comments/ebjgvl/i_wrote_a_program_that_doodles_things_in_ms_paint/fb5pi88/\", \"\\\\*every modern art piece\\\\*\"], [\"AutoModerator\", \"/r/Python/comments/eblpdz/bank_atm_project_function_issue/fb5qx2u/\", \"Your submission has been automatically removed.\\n\\nY\"], [\"ddensa\", \"/r/Python/comments/ebjgvl/i_wrote_a_program_that_doodles_things_in_ms_paint/fb5szse/\", \"Would be interesting to mix this idea to some kind\"], [\"Plutone00100\", \"/r/Python/comments/e5hms3/whats_everyone_working_on_this_week/fb5o35c/\", \"Some Qt for Python, first contact ever with the li\"], [\"a1b3rt\", \"/r/Python/comments/ebjgvl/i_wrote_a_program_that_doodles_things_in_ms_paint/fb5o888/\", \"Next official wallpaper for Samsung/Apple flagship\"], [\"AirHamyes\", \"/r/Python/comments/ebjgvl/i_wrote_a_program_that_doodles_things_in_ms_paint/fb5qcbe/\", \" [https://pastebin.com/98EWgWyq](https://pastebin.\"], [\"VaginalPodiatrist216\", \"/r/Python/comments/ebjgvl/i_wrote_a_program_that_doodles_things_in_ms_paint/fb5rbx4/\", \"*Jackson Pollock wants to know your location*\"], [\"oligonucleotides\", \"/r/Python/comments/eblyxu/what_can_be_a_reason_that_python_imports_behave/fb5tiwr/\", \"Not sure, debugging python imports sucks, especial\"], [\"Not_A_Pumpkin\", \"/r/Python/comments/ebmj0m/using_python_with_other_languages/fb5y0t2/\", \"Without more information/instruction we can't real\"], [\"joyrida12\", \"/r/Python/comments/ebkm5x/learning_python_is_boring_me_i_learn_from/fb5ypy2/\", \"Learning to program is going to require you consum\"], [\"mRWafflesFTW\", \"/r/Python/comments/eblyxu/what_can_be_a_reason_that_python_imports_behave/fb60ne1/\", \"The context in which you run code changes how the \"], [\"WibblyWobblyWabbit\", \"/r/Python/comments/ebjgvl/i_wrote_a_program_that_doodles_things_in_ms_paint/fb63xpb/\", \"Or maybe Pywin32?\"], [\"Ahaterhater\", \"/r/Python/comments/ebjgvl/i_wrote_a_program_that_doodles_things_in_ms_paint/fb68nhy/\", \"I like bot's art!\"], [\"DazedWithCoffee\", \"/r/Python/comments/ebjgvl/i_wrote_a_program_that_doodles_things_in_ms_paint/fb6avwx/\", \"Yeah... but does it duct tape a banana to the canv\"], [\"scottyrogers10\", \"/r/Python/comments/ebjgvl/i_wrote_a_program_that_doodles_things_in_ms_paint/fb6ax15/\", \"This passes as a \\\"doodle\\\" ?\"], [\"pythonHelperBot\", \"/r/Python/comments/ebolwq/help_with_a_file_problem_on_python/fb6b7jv/\", \"Hello! I'm a bot!\\n\\nIt looks to me like your post m\"], [\"d3vi4nt1337\", \"/r/Python/comments/ebjgvl/i_wrote_a_program_that_doodles_things_in_ms_paint/fb6dwnb/\", \"Now tape a banana to it.\"], [\"chuck_01272003\", \"/r/Python/comments/ebnzoa/can_you_assign_variables_in_a_lambda/fb6ewcm/\", \"Lol, np\"], [\"ifiwasmaybe\", \"/r/Python/comments/ebp07u/python_web_development_saas_question/fb6en2h/\", \"Both Stripe and PayPal can do subscriptions via AP\"], [\"chuck_01272003\", \"/r/Python/comments/ebnzoa/can_you_assign_variables_in_a_lambda/fb6eso7/\", \"I forget to mention that this is within the scope \"], [\"tipsy_python\", \"/r/Python/comments/ebfbo8/software_entrepreneur_will_you_advise/fb4dy5v/\", \"Gonna add background: I graduated with a business \"], [\"kenneho\", \"/r/Python/comments/ea022g/subscribe_to_security_news_about_specific_python/fb4gaw6/\", \"Thanks, I'll look into these.\"], [\"j03f\", \"/r/Python/comments/ebg58i/starting_out/fb4gf9b/\", \"r/learnpython \\ud83d\\ude00\"], [\"tipsy_python\", \"/r/Python/comments/ebfbo8/software_entrepreneur_will_you_advise/fb4d9bj/\", \"Agree with u/dragonddragondragon, very personal qu\"], [\"edosv\", \"/r/Python/comments/eb5qil/made_conways_game_of_life_using_tkinter/fb4jngr/\", \"I am aware of problems with the eficiency of the p\"], [\"ImpulsivePuffin\", \"/r/Python/comments/eb5qil/made_conways_game_of_life_using_tkinter/fb4n5pb/\", \"Thanks bro, evolution looks much more interesting \"], [\"tsunii\", \"/r/Python/comments/eayfs0/learn_regex_the_fun_way/fb4lz4e/\", \"looks like a really fun little project :)\\n\\nbtw wha\"], [\"tewojacinto\", \"/r/Python/comments/eb20wt/built_a_free_json_cloud_storage_solution_in_flask/fb4ptf4/\", \"cool!\"], [\"ItsBarney01\", \"/r/Python/comments/ebf7rc/github_mtrajkcodingproblems_python_solutions_for/fb4nvps/\", \"This is cool! With the string palindrome thing, wo\"], [\"austapasta\", \"/r/Python/comments/ebb3e1/just_started_working_on_a_portfolio_for/fb4vtye/\", \"Thank you for the review. I super appreciate it. I\"], [\"KopfKrieg\", \"/r/Python/comments/ebfqtm/how_much_systemhardware_information_do_you_guys/fb4x44o/\", \"&gt;Would you  please give your advice on the matt\"], [\"Kerbart\", \"/r/Python/comments/ebe72x/can_python_be_used_as_macros_across_different/fb4wzhu/\", \"Well, Pandas has all kind of pivot table like func\"], [\"ManBearHybrid\", \"/r/Python/comments/ebifcm/what_is_the_workflow_to_work_and_the_package/fb522zf/\", \"Can you post the full sentences in which these ter\"], [\"jedwards8th\", \"/r/Python/comments/ebfo58/which_orm_for_python_and_abstraction_between_db/fb4z4h9/\", \"I think it's worth learning SQLalchemy, TBH. Yes, \"], [\"noencia\", \"/r/Python/comments/ebhdmm/as_a_dev_what_are_your_main_challenge_keeping_fit/fb51kce/\", \"Some time ago I was trappend in the 2) loop of dem\"], [\"FrankBlack78\", \"/r/Python/comments/ea2pn1/problem_installing_docx_in_a_virtual_environment/fb55c15/\", \" I  found out, that I can use virtual environments\"], [\"mssxtn\", \"/r/Python/comments/ebiuft/how_should_i_get_started_with_open_source/fb561fk/\", \"There are lists on GitHub of projects looking for \"], [\"omegacoo\", \"/r/Python/comments/ebjgvl/i_wrote_a_program_that_doodles_things_in_ms_paint/fb5dpm4/\", \"Wow\"], [\"CodeSkunky\", \"/r/Python/comments/eba1w4/how_do_you_turn_just_code_into_code_for_a_game/fb5ek6c/\", \"I don't think users have experience in using game \"], [\"PineappleNarwhal\", \"/r/Python/comments/ebfoug/8_reasons_why_python_is_good_for_artificial/fb5e11v/\", \"They say PyInstaller can be used to prepare your c\"], [\"BananeHD01\", \"/r/Python/comments/e5hms3/whats_everyone_working_on_this_week/fb5bvjz/\", \"To make a reddit bot ist my current goal. Bit firs\"], [\"CookieGuyOof\", \"/r/Python/comments/ebjt38/hey_everyone/fb5f5jo/\", \"isnt that what im doin tho\\n\\n&amp;#x200B;\\n\\nluv u\"], [\"JustSoManyCups420\", \"/r/Python/comments/ebjgvl/i_wrote_a_program_that_doodles_things_in_ms_paint/fb5gtl4/\", \"Name it the \\u2018Jackson pollock bot\\u2019\"], [\"LuminarySquirrel\", \"/r/Python/comments/ebjt38/hey_everyone/fb5evhz/\", \"Everyone is new at some point. The best way to imp\"], [\"fressfeind\", \"/r/Python/comments/ebdabr/is_it_possible_to_scrap_dynamically_generated/fb4reag/\", \"Welcome\"], [\"ned334\", \"/r/Python/comments/ebjgvl/i_wrote_a_program_that_doodles_things_in_ms_paint/fb5l85j/\", \"$120.000 modern art piece\"], [\"xMa998\", \"/r/Python/comments/e5hms3/whats_everyone_working_on_this_week/fb5locx/\", \"Trying to start with coding, because it seems real\"], [\"cantmemberpasswordx3\", \"/r/Python/comments/ebjgvl/i_wrote_a_program_that_doodles_things_in_ms_paint/fb5hwck/\", \"Looks cool man. Is your program a fan of 90's Will\"], [\"CMphys\", \"/r/Python/comments/ebjt38/hey_everyone/fb5iwhz/\", \"Well, there are probably many ways, but the first \"], [\"Rnugg\", \"/r/Python/comments/ebjgvl/i_wrote_a_program_that_doodles_things_in_ms_paint/fb5kjk8/\", \"Now that\\u2019s art!\"], [\"MagicpotterFirstHit\", \"/r/Python/comments/ebjgvl/i_wrote_a_program_that_doodles_things_in_ms_paint/fb5jskq/\", \"Great! Now try to sell he result for 1M$\"], [\"KomaKurt\", \"/r/Python/comments/ebjgvl/i_wrote_a_program_that_doodles_things_in_ms_paint/fb5kf79/\", \"Looks a bit like the upholstery pattern in busses \"], [\"shymenJESUS\", \"/r/Python/comments/ebjgvl/i_wrote_a_program_that_doodles_things_in_ms_paint/fb5m6zc/\", \"Watch it get sold for a milion dollars\"], [\"pythonHelperBot\", \"/r/Python/comments/ebl3jg/i_need_help_with_my_python/fb5mbto/\", \"Hello! I'm a bot!\\n\\nIt looks to me like your post m\"], [\"MrsBigead\", \"/r/Python/comments/ebjgvl/i_wrote_a_program_that_doodles_things_in_ms_paint/fb5mnyw/\", \"!remindme 2 hours\"], [\"Old_Winterton\", \"/r/Python/comments/ebjgvl/i_wrote_a_program_that_doodles_things_in_ms_paint/fb5moci/\", \"I was thinkin if it got turned into a robot, that\\u2019\"], [\"RemindMeBot\", \"/r/Python/comments/ebjgvl/i_wrote_a_program_that_doodles_things_in_ms_paint/fb5mqag/\", \"I will be messaging you in 2 hours on [**2019-12-1\"], [\"djimbob\", \"/r/Python/comments/eazg05/made_my_first_fractal/fb4am3n/\", \"I'm not saying you need it for this, but they didn\"], [\"Kerbart\", \"/r/Python/comments/ebe72x/can_python_be_used_as_macros_across_different/fb4am43/\", \"Well not everything. I wish it did. The two big hu\"], [\"TotesMessenger\", \"/r/Python/comments/ebf7rc/github_mtrajkcodingproblems_python_solutions_for/fb4ayrd/\", \"I'm a bot, *bleep*, *bloop*. Someone has linked to\"], [\"Ashutoshkv\", \"/r/Python/comments/ebd3uz/how_to_control_your_raspberry_pi_from_anywhere_in/fb48evw/\", \"What the hell?\"], [\"fedeleeee\", \"/r/Python/comments/eb1fb5/writing_to_a_csv/fb480jx/\", \"Yeah I\\u2019m not doing that but I definitely need to t\"], [\"dynaken\", \"/r/Python/comments/eb58bb/installed_anaconda_onto_windows_10_via_the_wsl/fb6if1j/\", \"I got spyder to work to after installing it using \"], [\"WhatASave456\", \"/r/Python/comments/ebpixv/why_is_my_program_only_printing_the_last_letter/fb6iocp/\", \"I assigned it to names[1] which would be the secon\"], [\"robin-gvx\", \"/r/Python/comments/ebnzoa/can_you_assign_variables_in_a_lambda/fb6k8iv/\", \"If you share with us the relevant bits of your act\"], [\"DSC34\", \"/r/Python/comments/ebp8tr/any_good_tutorials_on_sending_user_input_from/fb6jo8i/\", \"Possibly some good material in Django tutorials fo\"], [\"incognitodw\", \"/r/Python/comments/ebpixv/why_is_my_program_only_printing_the_last_letter/fb6l406/\", \"U did not assign a variable at the split\"], [\"Trghpy00\", \"/r/Python/comments/ebpixv/why_is_my_program_only_printing_the_last_letter/fb6iunb/\", \"Yes, 1 name. A string.\"], [\"efmccurdy\", \"/r/Python/comments/ebnzoa/can_you_assign_variables_in_a_lambda/fb6mk4r/\", \"    lambda self: self.x = 23\"], [\"LetMe_\", \"/r/Python/comments/ebu3yt/python_statistics_fundamentals_how_to_describe/fb78st7/\", \"I didn't know that Ruby is still being considered \"], [\"mtrajk93\", \"/r/Python/comments/ebf7rc/github_mtrajkcodingproblems_python_solutions_for/fb780td/\", \"Thanks, I added comments in all these reversing so\"], [\"pandoira\", \"/r/Python/comments/d0fagg/automatic_reddit_to_youtube_texttospeech_channel/fb7986k/\", \"If you look at all the monetized TTS channels you \"], [\"pythonHelperBot\", \"/r/Python/comments/ebupgg/new_to_python_can_someone_help_me_with_this_error/fb7aduj/\", \"Hello! I'm a bot!\\n\\nIt looks to me like your post m\"], [\"dragonddragondragon\", \"/r/Python/comments/ebd3uz/how_to_control_your_raspberry_pi_from_anywhere_in/fb77639/\", \"Client v protocol differences does not matter to t\"], [\"Jonisas0407\", \"/r/Python/comments/ebjgvl/i_wrote_a_program_that_doodles_things_in_ms_paint/fb77qfl/\", \"There is a possibility that it would paint every k\"], [\"ddensa\", \"/r/Python/comments/ebjgvl/i_wrote_a_program_that_doodles_things_in_ms_paint/fb78nxl/\", \"That's interesting, but from the gallery I see tha\"], [\"911OpenUp\", \"/r/Python/comments/ebjgvl/i_wrote_a_program_that_doodles_things_in_ms_paint/fb7bbn0/\", \"I wish i could if i knew how to \\u00af\\\\\\\\\\\\_(\\u30c4)_/\\u00af\"], [\"MrK_HS\", \"/r/Python/comments/eazg05/made_my_first_fractal/fb78vjl/\", \"/r/Python is slowly becoming an alias for /r/fract\"], [\"thanksfortheride\", \"/r/Python/comments/eb8oce/whats_the_best_way_to_check_grammar_in_python/fb6qb7x/\", \"lol hey, I tell them then need to write this much,\"], [\"robin-gvx\", \"/r/Python/comments/eblvdq/linked_list_in_python/fb6p7dr/\", \"* Try out appending `0`, `False`, `()`, `None` and\"], [\"StringCheeseInc\", \"/r/Python/comments/ebjgvl/i_wrote_a_program_that_doodles_things_in_ms_paint/fb6qot7/\", \"That\\u2019s amazing\"], [\"bored_and_scrolling\", \"/r/Python/comments/ebjgvl/i_wrote_a_program_that_doodles_things_in_ms_paint/fb6qsu9/\", \"Is there a paint API?\"], [\"zperk13\", \"/r/Python/comments/ebjgvl/i_wrote_a_program_that_doodles_things_in_ms_paint/fb6rb41/\", \"this look way better than it should\"], [\"College4321\", \"/r/Python/comments/ebqfeh/day_1_python_learner_sos/fb6p029/\", \"it is trying to print a name but the error is appe\"], [\"SnakeSneakers\", \"/r/Python/comments/e9hle8/im_a_noob_how_would_i_get_the_total_number_of/fb6pltm/\", \"hi\"], [\"College4321\", \"/r/Python/comments/ebqfeh/day_1_python_learner_sos/fb6oydm/\", \"The only thing is that the textbook that I am usin\"], [\"TrappingRainWater\", \"/r/Python/comments/eb8oce/whats_the_best_way_to_check_grammar_in_python/fb6qmla/\", \"Just seeing the phrase \\\"exit ticket\\\" gives me PTSD\"], [\"College4321\", \"/r/Python/comments/ebqfeh/day_1_python_learner_sos/fb6pc3h/\", \"Thank you! It was the text editor that was not set\"], [\"amcphe21\", \"/r/Python/comments/ebjgvl/i_wrote_a_program_that_doodles_things_in_ms_paint/fb7ea52/\", \"I vote picasso\"], [\"ProfessionalTune0\", \"/r/Python/comments/e5hms3/whats_everyone_working_on_this_week/fb7cccw/\", \"I haven't been working on it this week specificall\"], [\"sboobinator\", \"/r/Python/comments/ebjgvl/i_wrote_a_program_that_doodles_things_in_ms_paint/fb7bsg7/\", \"You are an artist, thanks for this.\"], [\"nielsrolf\", \"/r/Python/comments/eblyxu/what_can_be_a_reason_that_python_imports_behave/fb7cb6a/\", \"Yes, a and b are in the same directory. import b w\"], [\"PineappleNarwhal\", \"/r/Python/comments/ebu5mi/the_little_book_of_python_antipatterns_python/fb7eqgf/\", \"I really don't understand the tabs vs spaces thing\"], [\"gods_programmer\", \"/r/Python/comments/ebfbo8/software_entrepreneur_will_you_advise/fb7fx6j/\", \"Hi, thank you for your words. I do appreciate it. \"], [\"YmFzZTY0dXNlcm5hbWU_\", \"/r/Python/comments/eb8j7p/evolving_images_using_genetic_algorithms_and/fb7flza/\", \"Pretty sure this was the site I was thinking of, t\"], [\"MrK_HS\", \"/r/Python/comments/ebh0gt/how_to_detect_dominant_color_in_masked_image/fb7ikkc/\", \"Not average. I'd go with frequency.\"], [\"tipsy_python\", \"/r/Python/comments/ebu5mi/the_little_book_of_python_antipatterns_python/fb7gbde/\", \"Yeah, but tabs aren\\u2019t displayed consistently acros\"], [\"ram_n\", \"/r/Python/comments/ebjgvl/i_wrote_a_program_that_doodles_things_in_ms_paint/fb7fhol/\", \"Yes, it is working for me. I had to learn some of \"], [\"A_Good_Hunter\", \"/r/Python/comments/ebvec3/new_python_project_starter_tool_with_poetry/fb7hlvk/\", \"This is a fine note.\"], [\"pythonHelperBot\", \"/r/Python/comments/ebwf5s/how_do_i_use_gui/fb7kmek/\", \"Hello! I'm a bot!\\n\\nIt looks to me like your post m\"], [\"newtonewacc\", \"/r/Python/comments/e9stnp/back_end_and_data_structures_algorithms_need_an/fb7lupp/\", \"Hahah yeah man imma serve my time. \\n\\nAnyway if u h\"], [\"inarighas\", \"/r/Python/comments/ebw39p/conda_is_fing_slow/fb7m0h2/\", \"Thanks, I know that too. But it confirms my belief\"], [\"zacharius_zipfelmann\", \"/r/Python/comments/ebf7rc/github_mtrajkcodingproblems_python_solutions_for/fb6ve53/\", \"Very cool! Sadly wont be able to take a look the n\"], [\"Gawd_is_great\", \"/r/Python/comments/eazg05/made_my_first_fractal/fb6vcop/\", \"Uncomment the line #draw()\"], [\"rico5678\", \"/r/Python/comments/eb8j7p/evolving_images_using_genetic_algorithms_and/fb6wrb3/\", \"Thanks! That one was the inspiration for sure.  Th\"], [\"Gawd_is_great\", \"/r/Python/comments/eazg05/made_my_first_fractal/fb6vjqh/\", \"Okay it's Perfectly fixed  now.\\nDoesn't crash and \"], [\"xd1142\", \"/r/Python/comments/ebw39p/conda_is_fing_slow/fb7m80j/\", \"Try Enthought EDM.\"], [\"N3OX\", \"/r/Python/comments/ebsg40/professional_python_coding/fb7mwg5/\", \"Data analysis and summarization, data acquisition,\"], [\"K900_\", \"/r/Python/comments/ebtnxv/no_such_file_or_directory_ls/fb7oed7/\", \"Is your production server on Linux too?\"], [\"chhuang\", \"/r/Python/comments/ebjgvl/i_wrote_a_program_that_doodles_things_in_ms_paint/fb6zqkn/\", \"You would think you get any penny without any duck\"], [\"drbobb\", \"/r/Python/comments/eb1fb5/writing_to_a_csv/fb6yiq3/\", \"The usual reason for outputting a csv file is that\"], [\"Gawd_is_great\", \"/r/Python/comments/eazg05/made_my_first_fractal/fb7012l/\", \"Okay I think I fixed the crash. See the code.\"], [\"tenyu9\", \"/r/Python/comments/ebsg40/professional_python_coding/fb6zzxd/\", \"We have a couple of backend APIs in flask. And lot\"], [\"esp_py\", \"/r/Python/comments/ebpxeg/any_flask_developer_with_passion_for_football_here/fb704bm/\", \"Can help, have some experience with flask\"], [\"MartyMacGyver\", \"/r/Python/comments/eazg05/made_my_first_fractal/fb6zxlp/\", \"Gotcha - cool!\"], [\"Meefims\", \"/r/Python/comments/ebw76t/python_as_a_back_end_language_for_a_wep_app/fb7qp7f/\", \"[The Flask Mega Tutorial](https://blog.miguelgrinb\"], [\"Meefims\", \"/r/Python/comments/ebwk8h/python_and_data_science_for_aws/fb7pwh1/\", \"This question is too broad to answer effectively b\"], [\"zpwd\", \"/r/Python/comments/ebww8n/looking_for_a_mentor/fb7pg6i/\", \"Consider internship - it is exactly what you need.\"], [\"kaztaraka\", \"/r/Python/comments/ebw95t/whats_everyone_working_on_this_week/fb7pkxx/\", \"I work in the medical animation field. I am curren\"], [\"neozhaoliang\", \"/r/Python/comments/ebst39/i_saw_people_post_animations_on_fractals_mazes/fb71dr1/\", \"The gif animation contains 3887 frames, has 1.1MB \"], [\"cglacet\", \"/r/Python/comments/ebf7rc/github_mtrajkcodingproblems_python_solutions_for/fb731lw/\", \"Ah, nevermind, it's already in the list ^^.\"], [\"cglacet\", \"/r/Python/comments/ebf7rc/github_mtrajkcodingproblems_python_solutions_for/fb72m5w/\", \"Reversing strings \\\"in-place\\\" is not possible in mo\"], [\"aesthetixell\", \"/r/Python/comments/ebiuft/how_should_i_get_started_with_open_source/fb730fk/\", \"Oh thank you so much for the response.\\nCan I text \"], [\"pythonHelperBot\", \"/r/Python/comments/ebw7vw/how_to_fix_requested_python_version_3_is_not/fb7twqp/\", \"Hello! I'm a bot!\\n\\nIt looks to me like your post m\"], [\"rhcrise\", \"/r/Python/comments/ebw39p/conda_is_fing_slow/fb7uf6i/\", \"Have you tried reinstalling it? Does it happen on \"], [\"Forschkeeper\", \"/r/Python/comments/ec0j6z/quick_mods_are_asleep_upvote_pics_of_python/fb8dl6z/\", \"Is this python 4?\"], [\"justingolden21\", \"/r/Python/comments/ebjgvl/i_wrote_a_program_that_doodles_things_in_ms_paint/fb8dol5/\", \"For sure. Your program is awesome though. Just a l\"], [\"MrsDyslexia\", \"/r/Python/comments/ebzqpe/need_help/fb8aa5u/\", \"Yes it is, i changed it and its still saying inval\"], [\"a1brit\", \"/r/Python/comments/ebvec3/new_python_project_starter_tool_with_poetry/fb89lri/\", \"That goes against the wemake-style ethics.\\n\\n[https\"], [\"parles\", \"/r/Python/comments/ebwk8h/python_and_data_science_for_aws/fb7rgof/\", \"Let me clarify: I'm looking for data science tasks\"], [\"gods_programmer\", \"/r/Python/comments/ebww8n/looking_for_a_mentor/fb7rmmx/\", \"I've been trying to get hired as an entry-level / \"], [\"robo__Dev\", \"/r/Python/comments/ebx65k/could_someone_explain_to_me_why_tkinter_is_being/fb7rttv/\", \"I'm using Python 3. I haven't really dove into fig\"], [\"moistbuckets\", \"/r/Python/comments/ebjgvl/i_wrote_a_program_that_doodles_things_in_ms_paint/fb74sio/\", \"Machine learning to make it draw????\"], [\"CliftonPark1\", \"/r/Python/comments/ebw39p/conda_is_fing_slow/fb8cjpo/\", \"I had this problem. Anytime you install a package \"], [\"naught-me\", \"/r/Python/comments/ebxg4w/how_to_get_started_with_coding_python_on_a_chrome/fb8c7xj/\", \"Alternatively, get a VPS and work in its shell.\"], [\"giraffactory\", \"/r/Python/comments/ebsg40/professional_python_coding/fb7tcur/\", \"I develop and maintain a set of internal systems i\"], [\"jagkagd\", \"/r/Python/comments/e9kszt/a_library_to_perform_a_numpy_array_transformation/fb74yg9/\", \"Thanks for the feedback. I've update my README in \"], [\"cglacet\", \"/r/Python/comments/ebf7rc/github_mtrajkcodingproblems_python_solutions_for/fb74zpm/\", \"Definitively worth spending some time reading and \"], [\"dragonddragondragon\", \"/r/Python/comments/ebsgnv/ultra_simple_morse_code_translator/fb756al/\", \"If you want comments on code, provide a link to th\"], [\"F1eshWound\", \"/r/Python/comments/ebjgvl/i_wrote_a_program_that_doodles_things_in_ms_paint/fb754k3/\", \"I'd happily pay 200mil for that.\"], [\"Wirukasu\", \"/r/Python/comments/ebxfls/question_regarding_class_int_is_not_json/fb8lojt/\", \"The error pointed me to line 77 of my code and tha\"], [\"Terry_From_HR\", \"/r/Python/comments/ec0yni/i_code_a_multiple_sudoku_grids_solver_in_python/fb8lyck/\", \"This is seriously impressive, nice work!\"], [\"Gionson13\", \"/r/Python/comments/ebytlq/interesting_project/fb8nhgq/\", \"I'll do it in 5 minutes\"], [\"lazySaimon\", \"/r/Python/comments/ebxjbh/advice_on_images_scraping/fb8nk6y/\", \"Sorry, but I am a bit in disagreement here. Seleni\"], [\"RedSane\", \"/r/Python/comments/ec0d46/learning_python_and_couldnt_think_of_a_good/fb8lpy2/\", \"...why of all things an insult generator? Lol\"], [\"B166er_\", \"/r/Python/comments/ec0d46/learning_python_and_couldnt_think_of_a_good/fb8mfff/\", \"This + cowsay\"], [\"djcmwshzsh\", \"/r/Python/comments/ebjgvl/i_wrote_a_program_that_doodles_things_in_ms_paint/fb83zwf/\", \"If you run it enough times, would it paints the Mo\"], [\"VeinyAngus\", \"/r/Python/comments/ebw95t/whats_everyone_working_on_this_week/fb86sem/\", \"Writing a program that emails me a spreadsheet of \"], [\"mraza007\", \"/r/Python/comments/ebjgvl/i_wrote_a_program_that_doodles_things_in_ms_paint/fb88mzb/\", \"That\\u2019s an abstract piece of art right there !!\"], [\"ppuppet\", \"/r/Python/comments/ebw76t/python_as_a_back_end_language_for_a_wep_app/fb873fw/\", \"There are a couple of good video series on Flask a\"], [\"Kallleeeeh\", \"/r/Python/comments/ebyydg/please_help_new_and_confused/fb87uhl/\", \"This is not a python problem; and if it would be y\"], [\"pcdinh\", \"/r/Python/comments/ebu5mi/the_little_book_of_python_antipatterns_python/fb88ddm/\", \"Worth a read. But it is just yet another opinionat\"], [\"lift_spin_d\", \"/r/Python/comments/ebxg4w/how_to_get_started_with_coding_python_on_a_chrome/fb894l6/\", \"use an online compiler. chromebooks are like toys.\"], [\"NixelGamer12\", \"/r/Python/comments/ebjgvl/i_wrote_a_program_that_doodles_things_in_ms_paint/fb88jcp/\", \"Programing is an art\\nMe:\"], [\"West7780\", \"/r/Python/comments/ec0d46/learning_python_and_couldnt_think_of_a_good/fb8odbx/\", \"A good beginner project that will help you learn i\"], [\"kevin_with_rice\", \"/r/Python/comments/ec0d46/learning_python_and_couldnt_think_of_a_good/fb8qj7q/\", \"Isn't a dict with integer keys the same as a tradi\"], [\"_meow4\", \"/r/Python/comments/ec0d46/learning_python_and_couldnt_think_of_a_good/fb8q6dr/\", \"Make a script using the Shakespearean insult gener\"], [\"apiad\", \"/r/Python/comments/ebrw1p/divide_number_into_ratios_of_more_than_2/fb769za/\", \"It becomes interesting when the number is not exac\"], [\"moto68040\", \"/r/Python/comments/ebxjbh/advice_on_images_scraping/fb89xzr/\", \"start with bs4. if and when you need to expand you\"], [\"hossam7\", \"/r/Python/comments/ebxjbh/advice_on_images_scraping/fb8aaog/\", \"Great! I think I'll do just that.\"], [\"toomc\", \"/r/Python/comments/ec0yni/i_code_a_multiple_sudoku_grids_solver_in_python/fb8rzbb/\", \"Very cool project! :)\"], [\"8BallDuVal\", \"/r/Python/comments/ec0d46/learning_python_and_couldnt_think_of_a_good/fb8stvd/\", \"\\ud83e\\udd23\\ud83e\\udd23\\ud83e\\udd23\\ud83e\\udd23 literally thought the same thing\"], [\"Auntie_Whispers\", \"/r/Python/comments/ec0d46/learning_python_and_couldnt_think_of_a_good/fb8t1k3/\", \"Yeah, I feel like this ought to be a fortunes libr\"], [\"FukMyHoles\", \"/r/Python/comments/ec0d46/learning_python_and_couldnt_think_of_a_good/fb8sb14/\", \"Currently at work, don't have access to my laptop\"], [\"archaeolinuxgeek\", \"/r/Python/comments/ebsg40/professional_python_coding/fb8jkoj/\", \"Machine learning and image recognition/segmentatio\"], [\"VishalSharna\", \"/r/Python/comments/ec0d46/learning_python_and_couldnt_think_of_a_good/fb8ugso/\", \"!remindme 10 hours\"], [\"Daharka\", \"/r/Python/comments/ec0d46/learning_python_and_couldnt_think_of_a_good/fb8ugqx/\", \"I'm surprised Michael reeves isn't mentioned more \"], [\"Zenith_N\", \"/r/Python/comments/eb58bb/installed_anaconda_onto_windows_10_via_the_wsl/fb8ujia/\", \"Thank you very much. \\nI will run the above and fin\"], [\"tipsy_python\", \"/r/Python/comments/ebw76t/python_as_a_back_end_language_for_a_wep_app/fb7wsgc/\", \"Sounds like you'd just be replacing, or extending \"], [\"Kaarjuus\", \"/r/Python/comments/ebrc2i/would_python_be_a_good_way_to_make_a_small_win_10/fb7xklu/\", \"Python would work for this, no problem, but I'd re\"], [\"vickeerooney\", \"/r/Python/comments/ec48rb/need_to_add_2_for_loops_beginner_python_not_sure/fb93x8y/\", \"for x in y:\\n    for y in x:\\n         y.append(x)\\n \"], [\"gabbagabbahey38\", \"/r/Python/comments/ec0yni/i_code_a_multiple_sudoku_grids_solver_in_python/fb9489e/\", \"This is dope, great job.\"], [\"soccerboy5411\", \"/r/Python/comments/ec5cn7/first_thingy_made_in_python_but_why_did_my_first/fb98r3z/\", \"What is the difference between the two?  Did the f\"], [\"BioluminescentTurkey\", \"/r/Python/comments/ebw95t/whats_everyone_working_on_this_week/fb81o3b/\", \"I\\u2019m working on a text based multiplayer game calle\"], [\"DenseEntertainment\", \"/r/Python/comments/ebyydg/please_help_new_and_confused/fb82qgn/\", \"You tried updating emacs?\"], [\"flavorontheroad\", \"/r/Python/comments/ec0yni/i_code_a_multiple_sudoku_grids_solver_in_python/fb8knp6/\", \"Damn that\\u2019s cool\"], [\"Gardoki\", \"/r/Python/comments/ec0d46/learning_python_and_couldnt_think_of_a_good/fb8h4l7/\", \"This is inspiring\"], [\"pemboa\", \"/r/Python/comments/ebxg4w/how_to_get_started_with_coding_python_on_a_chrome/fb8hpae/\", \"&gt; chromebooks are like toys\\n\\nThat no longer see\"], [\"slipped_and_missed_x\", \"/r/Python/comments/ebytlq/interesting_project/fb8ibs3/\", \"Procedurally generate Bill Wurtz songs including v\"], [\"khan9813\", \"/r/Python/comments/ec0yni/i_code_a_multiple_sudoku_grids_solver_in_python/fb8ghzo/\", \"The Kenny angel brought me in and the sexy cnn mad\"], [\"JakubBlaha\", \"/r/Python/comments/ec0d46/learning_python_and_couldnt_think_of_a_good/fb8ktt0/\", \"Source code pls.\"], [\"MeowMeow33\", \"/r/Python/comments/ec0j6z/quick_mods_are_asleep_upvote_pics_of_python/fb8hw4l/\", \"It is python boi\"], [\"terminalzebra\", \"/r/Python/comments/ec0d46/learning_python_and_couldnt_think_of_a_good/fb9d1a3/\", \"i set my alarms to insult me. it works alot better\"], [\"pythonHelperBot\", \"/r/Python/comments/ec5x5h/can_i_get_some_help_with_python/fb9bs84/\", \"Hello! I'm a bot!\\n\\nIt looks to me like your post m\"], [\"HipsterTwister\", \"/r/Python/comments/ec0d46/learning_python_and_couldnt_think_of_a_good/fb9diel/\", \"What desktop environment is that?\"], [\"mraza007\", \"/r/Python/comments/ec6opk/so_i_wrote_this_script_a_ago_year_but_today_i/fb9h4wo/\", \"Here\\u2019s the code if you are looking to try this on \"], [\"melovedownvotes\", \"/r/Python/comments/ebu5mi/the_little_book_of_python_antipatterns_python/fb9hh9a/\", \"They talk about returning multiple types being bad\"], [\"NeitherBandicoot\", \"/r/Python/comments/ebww8n/looking_for_a_mentor/fb9ev3t/\", \"r/choosingbeggars\"], [\"_irome_\", \"/r/Python/comments/ec6opk/so_i_wrote_this_script_a_ago_year_but_today_i/fb9hd01/\", \"Thanks!!!\"], [\"robin-gvx\", \"/r/Python/comments/ec1pf2/i_want_your_opinion_mypy/fb9kqu4/\", \"For me, it really depends on the code base. Large \"], [\"deadwisdom\", \"/r/Python/comments/ec0d46/learning_python_and_couldnt_think_of_a_good/fb9kvi4/\", \"AI can only curve fit.  It can't accomplish true i\"], [\"MysticalKittyHerder\", \"/r/Python/comments/ec0d46/learning_python_and_couldnt_think_of_a_good/fb9l05k/\", \"done\\n\\n    curl insults.duckdns.org:8080/insultme\"], [\"ParxyB\", \"/r/Python/comments/ec0d46/learning_python_and_couldnt_think_of_a_good/fb9mu49/\", \"All you have to do is build a data set of 40+ insu\"], [\"social_tech_10\", \"/r/Python/comments/ec5qqg/can_i_have_gui_tkinter_interface_run_in_parallel/fb9nfav/\", \"Have the GUI part build the command_line as a stri\"], [\"MountainRiderAK\", \"/r/Python/comments/ec0d46/learning_python_and_couldnt_think_of_a_good/fb9o7rn/\", \"You should be able to put a [shebang](https://en.w\"], [\"house_monkey\", \"/r/Python/comments/ec0d46/learning_python_and_couldnt_think_of_a_good/fb9nxc2/\", \"After his, mine\"], [\"cmjdev\", \"/r/Python/comments/ec0d46/learning_python_and_couldnt_think_of_a_good/fb90gab/\", \"There\\u2019s a fortune -o API out there.\"], [\"pythonHelperBot\", \"/r/Python/comments/ec7tm8/why_are_afl_draw_and_undraw_not_working_properly/fb9oeeo/\", \"Hello! I'm a bot!\\n\\nIt looks to me like your post m\"], [\"BrettFavreFlavored\", \"/r/Python/comments/ec6opk/so_i_wrote_this_script_a_ago_year_but_today_i/fb9uoei/\", \"It's using legal APIs, illegality is gonna be abou\"], [\"me_lucky_lips\", \"/r/Python/comments/ec0yni/i_code_a_multiple_sudoku_grids_solver_in_python/fb9skke/\", \"hahahaha Imagine going to a sudoku competion with \"], [\"memevaddar\", \"/r/Python/comments/ec0d46/learning_python_and_couldnt_think_of_a_good/fb9t856/\", \"Thanks , Satan\"], [\"wischichr\", \"/r/Python/comments/ec94xl/put_3_coordinate_data_point_to_2d_plane_in_python/fb9wy4r/\", \"There is no mapping from 3d to 2d space that would\"], [\"Akmed_Dead_Terrorist\", \"/r/Python/comments/ec0d46/learning_python_and_couldnt_think_of_a_good/fb9wjgh/\", \"Would importing from /r/rareinsults make this bett\"], [\"Bolitho\", \"/r/Python/comments/ec90x0/image/fb9vtee/\", \"How does this relate to python in any way?\"], [\"saxondown\", \"/r/Python/comments/ec885u/i_pressed_something_in_vsc_and_now_im_getting/fba1nal/\", \"If you want anyone to help you, you need to provid\"], [\"theawesomenachos\", \"/r/Python/comments/ec0d46/learning_python_and_couldnt_think_of_a_good/fba1jb5/\", \"he generated the curses themselves though, only ha\"], [\"Givingbacktoreddit\", \"/r/Python/comments/ebww8n/looking_for_a_mentor/fba1p1w/\", \"A book would be your best mentor. Many of the pyth\"], [\"chrisl25\", \"/r/Python/comments/ec39zq/run_python_code_in_browser/fba2l4c/\", \"Is jupyter notebook something for you?\"], [\"stevenjd\", \"/r/Python/comments/ec91s7/lost_and_afraid/fba5viw/\", \"You could do worse than start with the basic Pytho\"], [\"plistig\", \"/r/Python/comments/ec0d46/learning_python_and_couldnt_think_of_a_good/fba87j9/\", \"&gt; Should I continue? :-)\\n\\nNo.\"], [\"MrK_HS\", \"/r/Python/comments/ec0yni/i_code_a_multiple_sudoku_grids_solver_in_python/fba7foq/\", \"Generate and test is a way to solve constraint pro\"], [\"[deleted]\", \"/r/Python/comments/ec0d46/learning_python_and_couldnt_think_of_a_good/fba7wcy/\", \"[removed]\"]], \"hoverlabel\": {\"namelength\": 0}, \"hovertemplate\": \"sentiment=positive<br>Date comment was posted=%{x}<br>Comment positivity=%{y}<br>score=%{marker.size}<br>author=%{customdata[0]}<br>permalink=%{customdata[1]}<br>preview=%{customdata[2]}\", \"legendgroup\": \"sentiment=positive\", \"marker\": {\"color\": \"lightseagreen\", \"size\": [2, 1, 1, 1, 1, 1, 1, 1, 1, 1, 1, 1, 1, 1, 1, 1, 1, 1, 1, 1, 1, 1, 1, 1, 1, 1, 1, 1, 1, 1, 1, 1, 1, 1, 1, 1, 1, 1, 1, 1, 1, 1, 1, 1, 1, 1, 1, 1, 1, 1, 1, 1, 1, 1, 1, 1, 1, 1, 1, 1, 1, 1, 1, 1, 1, 1, 1, 1, 1, 1, 1, 1, 1, 1, 1, 1, 1, 1, 1, 1, 1, 1, 1, 1, 1, 1, 1, 1, 1, 1, 1, 1, 1, 1, 1, 1, 1, 1, 1, 1, 1, 1, 1, 1, 1, 1, 1, 1, 1, 1, 1, 1, 1, 1, 1, 1, 1, 1, 1, 1, 1, 1, 1, 1, 1, 1, 1, 1, 1, 1, 1, 1, 1, 1, 1, 1, 1, 1, 1, 1, 1, 1, 1, 1, 1, 1, 1, 1, 1, 1, 1, 1, 1, 1, 1, 1, 1, 1, 1, 1, 1, 1, 1, 1, 1, 1, 1, 1, 1, 1, 1, 1, 1, 1, 1, 1, 1, 1, 1, 1, 1, 1, 1, 1, 1, 1, 1, 1, 1, 1, 1, 1, 1, 1, 1, 1, 1, 1, 1, 1, 1, 1, 1, 1, 1, 1, 1, 1, 1, 1, 1, 1, 1, 1, 1, 1, 1, 1, 1, 1, 1, 1, 1, 1, 1, 1, 1, 1, 1, 1, 1, 1, 1, 1, 1, 1, 1, 1, 1, 1, 1, 1, 1, 1, 1, 1, 1, 1, 1, 1, 1, 1, 1, 1, 1, 1, 1, 1, 1, 1, 1, 1, 1, 1, 1, 1, 1, 1, 1, 1, 1, 1, 1, 1, 1, 1, 1, 1, 1, 1, 1, 1, 1, 1, 1, 1, 1, 1, 1, 1, 1, 1, 1, 1, 1, 1, 1, 1, 1, 1, 1, 1, 1, 1, 1, 1, 1, 1, 1, 1, 1, 1, 1, 1, 1, 1, 1, 1, 1, 1, 1, 1, 1, 1, 1, 1, 1, 1, 1, 1, 1, 1, 1, 1, 1, 1, 1, 1, 1, 1, 1, 1, 1, 1, 1, 1, 1, 1, 1, 1, 1, 1, 1, 1, 1, 1, 1, 1, 1, 1, 1, 1, 1, 1, 1, 1, 1, 1, 1, 1, 1, 1, 1, 1, 1, 1, 1, 1, 1, 1, 1, 1, 1, 1, 1, 1, 1, 1, 1, 1, 1, 1, 1, 1, 1, 1, 1, 1, 1, 1, 1, 1, 1, 1, 1, 1, 1, 1, 1, 1, 1, 1, 1, 1, 1, 1, 1, 1, 1, 1, 1, 1, 1, 1, 1, 1, 1, 1, 1, 1, 1, 1, 1, 1, 1, 1, 1, 1, 1, 1, 1, 1, 1, 1, 1, 1, 1, 1, 1, 1, 1, 1, 1, 1, 1, 1, 1, 1, 1, 1, 1, 1, 1, 1, 1, 1, 1, 1, 1, 1, 1, 1, 1, 1, 1, 1, 1, 1, 1, 1, 1, 1, 1, 1, 1, 1, 1, 1, 1, 1, 1, 1, 1, 1, 1, 1, 1, 1, 1, 1, 1, 1, 1, 1, 1, 1, 1, 1, 1, 1, 1, 1, 1, 1, 1, 1, 1, 1, 1, 1, 1, 1, 1, 1, 1, 1, 1, 1, 1, 1, 1, 1, 1, 1, 1, 1, 1, 1, 1, 1, 1, 1, 1, 1, 1, 1, 1, 1, 1, 1, 1, 1, 1, 1, 1, 1, 1, 1, 1, 1, 1, 1, 1, 1, 1, 1, 1, 1, 1, 1, 1, 1, 1, 1, 1, 1, 1, 1, 1, 1, 1, 1, 1, 1, 1, 1, 1, 1, 1, 1, 1, 1, 1, 1, 1, 1, 1, 1, 1, 1, 1, 1, 1, 1, 1, 1, 1, 1, 1, 1, 1, 1, 1, 1, 1, 1, 1, 1, 1, 1, 1, 1, 1, 1, 1, 1, 1, 1, 1, 1, 1, 1, 1, 1, 1, 1, 1, 1, 1, 1, 1, 1, 1, 1, 1, 1, 1, 1, 1, 1, 1, 1, 1, 1, 1, 1, 1, 1, 1, 1, 1, 1, 1, 1, 1, 1, 1, 1, 1, 1, 1, 1, 1, 1, 1, 1, 1, 1, 1, 1, 1, 1, 1, 1, 1, 1, 1, 1, 1, 1, 1, 1, 1, 1, 1, 1, 1, 1, 1, 1, 1, 1, 1, 1, 1, 1, 1, 1, 1, 1, 1, 1, 1, 1, 1, 1, 1, 1, 1, 1, 1, 1, 1, 1, 1, 1, 1, 1, 1, 1, 1, 1, 1, 1, 1, 1, 1, 1, 1, 1, 1, 1, 1, 1, 1, 1, 1, 1, 1, 1, 1, 1, 1, 1, 1, 1, 1, 1, 1, 1, 1, 1, 1, 1, 1, 1, 1, 1, 1, 1, 1, 1, 1, 1, 1, 1, 1, 1, 1, 1, 1, 1, 1, 1, 1, 1, 1, 1, 1, 1, 1, 1, 1, 1, 1, 1, 1, 1, 1, 1, 1, 1, 1, 1, 1, 1, 1], \"sizemode\": \"area\", \"sizeref\": 0.02, \"symbol\": \"circle\"}, \"mode\": \"markers\", \"name\": \"sentiment=positive\", \"showlegend\": true, \"type\": \"scatter\", \"x\": [\"2019-12-16T15:15:30\", \"2019-12-16T14:49:41\", \"2019-12-16T15:17:42\", \"2019-12-16T15:11:25\", \"2019-12-16T14:46:13\", \"2019-12-16T14:49:53\", \"2019-12-16T15:15:52\", \"2019-12-16T16:06:32\", \"2019-12-16T15:38:26\", \"2019-12-16T16:00:54\", \"2019-12-16T16:27:59\", \"2019-12-16T16:25:01\", \"2019-12-16T16:41:45\", \"2019-12-16T17:47:25\", \"2019-12-16T16:54:53\", \"2019-12-16T17:02:32\", \"2019-12-16T18:10:13\", \"2019-12-16T18:39:10\", \"2019-12-16T18:36:02\", \"2019-12-16T14:29:23\", \"2019-12-16T14:29:58\", \"2019-12-16T19:31:38\", \"2019-12-16T19:12:45\", \"2019-12-16T13:10:06\", \"2019-12-16T13:30:05\", \"2019-12-16T13:29:30\", \"2019-12-16T14:15:37\", \"2019-12-16T13:55:42\", \"2019-12-16T13:55:05\", \"2019-12-16T14:07:56\", \"2019-12-17T04:01:05\", \"2019-12-17T04:27:11\", \"2019-12-16T22:56:39\", \"2019-12-16T23:03:28\", \"2019-12-16T23:15:37\", \"2019-12-16T23:05:10\", \"2019-12-17T12:14:45\", \"2019-12-17T12:47:25\", \"2019-12-17T12:25:16\", \"2019-12-17T12:39:56\", \"2019-12-16T23:59:39\", \"2019-12-16T23:35:05\", \"2019-12-17T13:16:25\", \"2019-12-17T13:18:56\", \"2019-12-17T04:32:25\", \"2019-12-17T04:56:47\", \"2019-12-17T13:28:13\", \"2019-12-17T13:32:20\", \"2019-12-16T19:55:49\", \"2019-12-16T20:06:08\", \"2019-12-16T19:55:06\", \"2019-12-16T19:47:50\", \"2019-12-16T20:18:20\", \"2019-12-16T20:33:28\", \"2019-12-16T20:31:25\", \"2019-12-16T21:05:00\", \"2019-12-17T01:48:13\", \"2019-12-16T21:40:41\", \"2019-12-16T21:20:19\", \"2019-12-16T21:35:57\", \"2019-12-16T21:33:22\", \"2019-12-16T21:40:25\", \"2019-12-17T02:38:24\", \"2019-12-17T02:50:27\", \"2019-12-17T02:55:26\", \"2019-12-16T22:46:46\", \"2019-12-16T22:50:30\", \"2019-12-16T22:26:10\", \"2019-12-17T03:47:14\", \"2019-12-17T03:30:25\", \"2019-12-17T03:39:36\", \"2019-12-17T21:21:20\", \"2019-12-17T17:51:08\", \"2019-12-17T18:57:03\", \"2019-12-17T19:24:22\", \"2019-12-17T21:49:59\", \"2019-12-17T18:37:28\", \"2019-12-17T18:38:03\", \"2019-12-17T21:46:01\", \"2019-12-17T00:05:56\", \"2019-12-17T20:45:31\", \"2019-12-17T20:43:51\", \"2019-12-17T13:53:26\", \"2019-12-17T14:11:29\", \"2019-12-17T14:11:20\", \"2019-12-17T14:17:29\", \"2019-12-17T14:15:50\", \"2019-12-17T05:40:56\", \"2019-12-17T06:02:34\", \"2019-12-17T06:24:44\", \"2019-12-17T06:37:41\", \"2019-12-17T06:29:15\", \"2019-12-17T14:59:08\", \"2019-12-17T14:48:06\", \"2019-12-17T15:29:19\", \"2019-12-17T07:16:24\", \"2019-12-17T07:16:17\", \"2019-12-17T07:02:01\", \"2019-12-17T07:21:40\", \"2019-12-17T07:15:59\", \"2019-12-17T15:56:07\", \"2019-12-17T15:53:52\", \"2019-12-17T15:40:19\", \"2019-12-17T08:58:08\", \"2019-12-17T08:38:37\", \"2019-12-17T08:33:54\", \"2019-12-17T09:12:21\", \"2019-12-17T08:30:06\", \"2019-12-17T09:00:01\", \"2019-12-17T08:25:58\", \"2019-12-17T09:34:53\", \"2019-12-17T16:44:58\", \"2019-12-17T10:26:16\", \"2019-12-17T10:52:44\", \"2019-12-17T10:56:34\", \"2019-12-17T05:28:36\", \"2019-12-17T18:09:25\", \"2019-12-17T16:54:52\", \"2019-12-17T16:54:29\", \"2019-12-17T17:04:12\", \"2019-12-17T17:10:20\", \"2019-12-17T19:15:53\", \"2019-12-17T19:16:27\", \"2019-12-17T18:50:57\", \"2019-12-17T18:51:48\", \"2019-12-17T19:34:28\", \"2019-12-17T19:27:16\", \"2019-12-17T19:30:53\", \"2019-12-17T19:13:47\", \"2019-12-17T19:31:47\", \"2019-12-17T19:14:19\", \"2019-12-17T23:46:03\", \"2019-12-17T23:16:52\", \"2019-12-17T23:03:23\", \"2019-12-17T23:06:29\", \"2019-12-17T23:39:50\", \"2019-12-17T20:08:42\", \"2019-12-17T20:10:28\", \"2019-12-18T00:00:57\", \"2019-12-18T00:51:48\", \"2019-12-17T20:25:11\", \"2019-12-17T20:52:51\", \"2019-12-17T20:40:01\", \"2019-12-18T01:25:27\", \"2019-12-17T11:21:16\", \"2019-12-17T12:02:08\", \"2019-12-17T12:03:33\", \"2019-12-17T17:23:19\", \"2019-12-17T17:31:32\", \"2019-12-17T17:19:02\", \"2019-12-18T01:53:10\", \"2019-12-18T02:00:26\", \"2019-12-18T02:03:56\", \"2019-12-18T03:02:50\", \"2019-12-18T03:19:52\", \"2019-12-17T22:26:04\", \"2019-12-17T22:39:28\", \"2019-12-17T22:23:43\", \"2019-12-17T22:12:55\", \"2019-12-18T04:16:16\", \"2019-12-18T04:24:42\", \"2019-12-18T04:24:47\", \"2019-12-18T04:05:34\", \"2019-12-18T04:43:38\", \"2019-12-18T05:21:45\", \"2019-12-18T05:09:44\", \"2019-12-18T05:28:18\", \"2019-12-18T05:30:36\", \"2019-12-18T05:14:59\", \"2019-12-18T06:51:52\", \"2019-12-18T07:20:50\", \"2019-12-18T07:31:46\", \"2019-12-18T07:46:46\", \"2019-12-18T07:41:13\", \"2019-12-18T07:18:48\", \"2019-12-18T07:28:27\", \"2019-12-17T21:00:05\", \"2019-12-17T21:07:30\", \"2019-12-17T20:56:01\", \"2019-12-17T21:06:27\", \"2019-12-17T21:16:17\", \"2019-12-17T20:54:36\", \"2019-12-17T21:03:26\", \"2019-12-18T08:14:12\", \"2019-12-18T02:31:21\", \"2019-12-18T02:39:30\", \"2019-12-18T02:55:40\", \"2019-12-18T10:08:23\", \"2019-12-18T10:29:27\", \"2019-12-18T10:37:12\", \"2019-12-18T11:52:12\", \"2019-12-16T19:33:47\", \"2019-12-16T19:12:19\", \"2019-12-16T18:52:57\", \"2019-12-16T19:54:40\", \"2019-12-16T19:51:56\", \"2019-12-16T20:03:55\", \"2019-12-16T19:35:06\", \"2019-12-16T19:58:59\", \"2019-12-16T20:26:39\", \"2019-12-16T21:00:34\", \"2019-12-16T20:37:00\", \"2019-12-16T20:41:01\", \"2019-12-16T21:35:12\", \"2019-12-16T21:42:18\", \"2019-12-16T21:34:31\", \"2019-12-16T21:46:16\", \"2019-12-16T21:46:46\", \"2019-12-16T22:13:03\", \"2019-12-16T22:43:10\", \"2019-12-16T22:28:01\", \"2019-12-16T22:30:34\", \"2019-12-16T23:02:15\", \"2019-12-16T18:38:31\", \"2019-12-16T12:38:31\", \"2019-12-17T14:53:07\", \"2019-12-17T15:05:53\", \"2019-12-17T16:12:34\", \"2019-12-17T16:04:03\", \"2019-12-17T15:40:46\", \"2019-12-17T16:14:11\", \"2019-12-17T16:05:42\", \"2019-12-17T16:10:23\", \"2019-12-17T16:14:30\", \"2019-12-17T16:11:26\", \"2019-12-17T16:13:00\", \"2019-12-17T16:07:57\", \"2019-12-17T15:52:23\", \"2019-12-17T16:39:35\", \"2019-12-17T17:33:35\", \"2019-12-17T17:39:06\", \"2019-12-17T18:00:04\", \"2019-12-17T17:55:44\", \"2019-12-17T17:56:15\", \"2019-12-17T17:47:25\", \"2019-12-17T17:47:28\", \"2019-12-17T17:38:38\", \"2019-12-17T17:01:21\", \"2019-12-17T17:11:46\", \"2019-12-17T16:59:45\", \"2019-12-17T18:06:16\", \"2019-12-17T18:22:41\", \"2019-12-17T18:38:27\", \"2019-12-17T18:34:14\", \"2019-12-17T18:46:57\", \"2019-12-17T18:54:09\", \"2019-12-17T19:03:06\", \"2019-12-17T18:53:20\", \"2019-12-17T19:03:47\", \"2019-12-17T19:01:44\", \"2019-12-17T19:11:18\", \"2019-12-17T19:17:22\", \"2019-12-17T19:22:02\", \"2019-12-17T19:27:39\", \"2019-12-17T19:30:02\", \"2019-12-17T00:21:47\", \"2019-12-17T00:18:10\", \"2019-12-17T00:22:04\", \"2019-12-17T01:34:37\", \"2019-12-17T01:46:23\", \"2019-12-17T01:45:35\", \"2019-12-17T02:19:32\", \"2019-12-17T02:07:22\", \"2019-12-17T02:38:45\", \"2019-12-17T02:41:09\", \"2019-12-17T03:00:33\", \"2019-12-17T02:47:40\", \"2019-12-17T03:41:52\", \"2019-12-17T03:31:13\", \"2019-12-17T03:48:49\", \"2019-12-17T04:19:25\", \"2019-12-17T04:09:28\", \"2019-12-16T23:59:50\", \"2019-12-17T05:49:08\", \"2019-12-17T05:11:20\", \"2019-12-17T05:27:24\", \"2019-12-17T05:43:45\", \"2019-12-16T14:15:45\", \"2019-12-16T14:06:14\", \"2019-12-16T14:05:22\", \"2019-12-16T14:08:37\", \"2019-12-16T14:52:14\", \"2019-12-16T14:03:09\", \"2019-12-16T16:10:48\", \"2019-12-16T15:59:26\", \"2019-12-16T16:15:55\", \"2019-12-16T16:15:39\", \"2019-12-16T16:35:12\", \"2019-12-16T16:38:22\", \"2019-12-16T16:38:46\", \"2019-12-16T16:54:33\", \"2019-12-16T17:22:21\", \"2019-12-16T17:32:42\", \"2019-12-16T17:45:58\", \"2019-12-16T17:29:51\", \"2019-12-16T13:48:00\", \"2019-12-16T13:53:31\", \"2019-12-16T18:02:22\", \"2019-12-16T18:04:49\", \"2019-12-16T18:11:13\", \"2019-12-17T06:45:18\", \"2019-12-17T06:37:50\", \"2019-12-17T07:14:08\", \"2019-12-17T07:28:25\", \"2019-12-17T06:31:49\", \"2019-12-17T09:12:18\", \"2019-12-17T08:51:17\", \"2019-12-17T09:13:34\", \"2019-12-17T09:03:15\", \"2019-12-17T08:29:47\", \"2019-12-17T10:43:10\", \"2019-12-17T10:47:20\", \"2019-12-17T12:00:44\", \"2019-12-17T11:04:46\", \"2019-12-17T12:08:10\", \"2019-12-17T12:31:45\", \"2019-12-17T12:47:07\", \"2019-12-17T12:59:06\", \"2019-12-17T13:25:18\", \"2019-12-17T13:40:30\", \"2019-12-17T13:55:33\", \"2019-12-17T20:09:55\", \"2019-12-17T19:55:16\", \"2019-12-17T20:04:41\", \"2019-12-17T20:07:14\", \"2019-12-18T01:43:50\", \"2019-12-17T20:38:32\", \"2019-12-17T20:31:17\", \"2019-12-17T20:55:20\", \"2019-12-17T20:26:20\", \"2019-12-17T20:50:23\", \"2019-12-17T20:53:09\", \"2019-12-17T20:33:35\", \"2019-12-17T20:40:43\", \"2019-12-17T21:14:30\", \"2019-12-17T21:20:44\", \"2019-12-17T21:28:39\", \"2019-12-17T21:28:38\", \"2019-12-17T21:29:50\", \"2019-12-17T21:06:35\", \"2019-12-17T21:22:16\", \"2019-12-18T02:03:27\", \"2019-12-18T02:08:43\", \"2019-12-18T02:10:30\", \"2019-12-18T02:10:55\", \"2019-12-18T02:05:46\", \"2019-12-17T21:40:31\", \"2019-12-17T21:44:34\", \"2019-12-17T21:55:59\", \"2019-12-17T21:57:55\", \"2019-12-17T22:04:58\", \"2019-12-17T21:43:30\", \"2019-12-17T21:50:59\", \"2019-12-17T21:49:35\", \"2019-12-18T02:55:18\", \"2019-12-18T03:04:23\", \"2019-12-17T22:25:32\", \"2019-12-17T22:29:50\", \"2019-12-17T22:33:11\", \"2019-12-17T22:39:14\", \"2019-12-17T22:48:49\", \"2019-12-17T22:36:12\", \"2019-12-18T03:41:09\", \"2019-12-18T03:43:16\", \"2019-12-18T03:57:43\", \"2019-12-17T20:40:25\", \"2019-12-17T23:03:33\", \"2019-12-17T23:15:42\", \"2019-12-17T23:21:24\", \"2019-12-17T23:38:25\", \"2019-12-18T00:07:10\", \"2019-12-17T23:53:37\", \"2019-12-18T00:30:28\", \"2019-12-18T00:55:36\", \"2019-12-18T00:59:34\", \"2019-12-18T04:03:25\", \"2019-12-18T04:15:18\", \"2019-12-18T04:15:46\", \"2019-12-18T04:20:54\", \"2019-12-18T05:09:45\", \"2019-12-18T04:36:36\", \"2019-12-18T05:46:56\", \"2019-12-18T06:18:26\", \"2019-12-18T07:06:13\", \"2019-12-18T07:18:07\", \"2019-12-18T08:12:42\", \"2019-12-18T07:30:49\", \"2019-12-18T07:53:10\", \"2019-12-18T07:29:54\", \"2019-12-18T09:52:07\", \"2019-12-18T09:54:05\", \"2019-12-18T10:11:13\", \"2019-12-18T09:59:41\", \"2019-12-18T10:35:23\", \"2019-12-16T14:32:51\", \"2019-12-16T15:13:00\", \"2019-12-16T15:08:43\", \"2019-12-16T15:41:02\", \"2019-12-16T15:44:41\", \"2019-12-16T15:47:38\", \"2019-12-16T15:59:56\", \"2019-12-16T15:56:09\", \"2019-12-16T16:09:14\", \"2019-12-16T16:49:32\", \"2019-12-16T17:02:02\", \"2019-12-16T17:21:11\", \"2019-12-16T17:53:24\", \"2019-12-16T18:04:45\", \"2019-12-17T05:52:26\", \"2019-12-17T05:38:32\", \"2019-12-17T06:08:51\", \"2019-12-17T06:17:18\", \"2019-12-17T06:17:08\", \"2019-12-17T07:45:55\", \"2019-12-17T06:37:45\", \"2019-12-17T07:17:47\", \"2019-12-17T09:39:15\", \"2019-12-17T08:18:39\", \"2019-12-17T08:29:53\", \"2019-12-17T08:29:39\", \"2019-12-17T09:15:12\", \"2019-12-17T09:55:15\", \"2019-12-17T10:59:47\", \"2019-12-17T10:20:48\", \"2019-12-17T11:04:02\", \"2019-12-17T11:56:41\", \"2019-12-17T11:54:36\", \"2019-12-17T11:57:37\", \"2019-12-17T13:06:05\", \"2019-12-17T13:16:47\", \"2019-12-17T13:18:04\", \"2019-12-17T13:17:27\", \"2019-12-17T05:12:57\", \"2019-12-17T14:28:52\", \"2019-12-17T13:52:39\", \"2019-12-17T14:14:02\", \"2019-12-17T14:14:13\", \"2019-12-17T14:22:34\", \"2019-12-16T19:17:59\", \"2019-12-16T19:27:59\", \"2019-12-16T19:21:33\", \"2019-12-16T19:40:46\", \"2019-12-16T19:49:07\", \"2019-12-16T20:17:20\", \"2019-12-16T20:16:01\", \"2019-12-16T19:41:23\", \"2019-12-16T20:59:40\", \"2019-12-16T21:08:37\", \"2019-12-16T21:00:46\", \"2019-12-16T21:04:26\", \"2019-12-16T21:11:07\", \"2019-12-16T21:14:35\", \"2019-12-16T20:22:52\", \"2019-12-16T20:33:22\", \"2019-12-16T20:48:03\", \"2019-12-16T21:45:11\", \"2019-12-16T22:07:48\", \"2019-12-16T21:58:14\", \"2019-12-16T22:21:30\", \"2019-12-16T22:21:22\", \"2019-12-16T22:45:33\", \"2019-12-16T22:58:30\", \"2019-12-16T23:01:22\", \"2019-12-16T18:42:48\", \"2019-12-16T18:47:05\", \"2019-12-16T23:26:43\", \"2019-12-16T23:38:28\", \"2019-12-17T00:59:35\", \"2019-12-17T00:08:16\", \"2019-12-17T00:01:35\", \"2019-12-17T00:20:14\", \"2019-12-17T00:18:28\", \"2019-12-17T00:22:54\", \"2019-12-17T01:53:32\", \"2019-12-17T01:57:56\", \"2019-12-17T03:01:06\", \"2019-12-17T02:56:01\", \"2019-12-17T02:57:24\", \"2019-12-17T03:58:09\", \"2019-12-17T03:45:33\", \"2019-12-16T23:53:48\", \"2019-12-17T04:15:55\", \"2019-12-17T04:19:25\", \"2019-12-17T04:09:33\", \"2019-12-17T04:47:49\", \"2019-12-17T04:46:33\", \"2019-12-16T18:38:58\", \"2019-12-16T18:40:01\", \"2019-12-16T12:24:02\", \"2019-12-16T12:49:07\", \"2019-12-16T12:54:13\", \"2019-12-16T13:18:50\", \"2019-12-16T14:01:47\", \"2019-12-16T14:05:40\", \"2019-12-16T14:10:21\", \"2019-12-16T14:21:47\", \"2019-12-16T14:22:23\", \"2019-12-17T15:11:59\", \"2019-12-17T15:42:04\", \"2019-12-17T15:44:18\", \"2019-12-17T15:48:44\", \"2019-12-17T15:49:20\", \"2019-12-17T15:50:57\", \"2019-12-17T23:35:14\", \"2019-12-17T23:37:17\", \"2019-12-17T23:50:39\", \"2019-12-17T18:28:18\", \"2019-12-18T00:10:25\", \"2019-12-18T05:24:20\", \"2019-12-17T18:48:59\", \"2019-12-17T18:48:52\", \"2019-12-17T18:52:49\", \"2019-12-17T18:44:12\", \"2019-12-17T18:47:47\", \"2019-12-17T19:04:38\", \"2019-12-17T19:07:20\", \"2019-12-17T20:07:27\", \"2019-12-17T20:19:45\", \"2019-12-17T20:31:41\", \"2019-12-17T20:11:49\", \"2019-12-17T20:25:33\", \"2019-12-17T20:29:07\", \"2019-12-17T20:33:24\", \"2019-12-17T20:58:36\", \"2019-12-17T20:53:44\", \"2019-12-17T21:08:37\", \"2019-12-17T21:24:13\", \"2019-12-17T20:49:33\", \"2019-12-17T21:44:49\", \"2019-12-17T21:46:09\", \"2019-12-17T21:46:45\", \"2019-12-17T16:34:32\", \"2019-12-17T22:14:28\", \"2019-12-17T22:03:55\", \"2019-12-17T22:13:27\", \"2019-12-17T22:32:36\", \"2019-12-17T17:33:01\", \"2019-12-17T17:58:37\", \"2019-12-17T17:59:29\", \"2019-12-17T17:38:26\", \"2019-12-17T17:45:46\", \"2019-12-17T17:34:34\", \"2019-12-17T17:46:54\", \"2019-12-17T23:05:27\", \"2019-12-17T22:58:53\", \"2019-12-17T22:43:03\", \"2019-12-17T18:09:04\", \"2019-12-17T18:16:08\", \"2019-12-17T23:28:14\", \"2019-12-17T23:19:48\", \"2019-12-17T19:35:01\", \"2019-12-17T19:55:54\", \"2019-12-17T19:37:31\", \"2019-12-17T19:46:32\", \"2019-12-18T00:23:16\", \"2019-12-18T01:13:32\", \"2019-12-18T00:56:29\", \"2019-12-18T01:57:24\", \"2019-12-18T01:28:33\", \"2019-12-18T01:50:00\", \"2019-12-18T01:18:47\", \"2019-12-18T02:06:06\", \"2019-12-18T02:15:44\", \"2019-12-18T02:15:13\", \"2019-12-18T03:01:04\", \"2019-12-18T03:06:27\", \"2019-12-18T03:27:28\", \"2019-12-18T03:44:46\", \"2019-12-18T04:09:34\", \"2019-12-18T03:33:37\", \"2019-12-18T04:40:27\", \"2019-12-18T06:27:54\", \"2019-12-18T06:36:58\", \"2019-12-18T07:17:35\", \"2019-12-18T07:21:33\", \"2019-12-18T08:00:57\", \"2019-12-18T07:57:46\", \"2019-12-18T07:59:04\", \"2019-12-18T08:26:25\", \"2019-12-18T07:50:17\", \"2019-12-18T08:15:28\", \"2019-12-18T09:31:53\", \"2019-12-18T09:53:24\", \"2019-12-18T09:27:58\", \"2019-12-18T10:34:17\", \"2019-12-18T10:56:24\", \"2019-12-18T11:42:40\", \"2019-12-18T11:28:02\", \"2019-12-18T11:53:07\", \"2019-12-18T11:31:58\", \"2019-12-18T12:01:42\", \"2019-12-18T11:47:14\", \"2019-12-16T21:34:38\", \"2019-12-16T21:25:16\", \"2019-12-16T21:26:20\", \"2019-12-16T21:32:41\", \"2019-12-16T21:44:48\", \"2019-12-16T22:02:45\", \"2019-12-16T21:20:30\", \"2019-12-16T21:21:43\", \"2019-12-16T21:39:52\", \"2019-12-16T21:48:21\", \"2019-12-16T22:07:36\", \"2019-12-16T22:51:06\", \"2019-12-16T22:58:54\", \"2019-12-16T23:20:59\", \"2019-12-16T23:59:28\", \"2019-12-17T00:55:40\", \"2019-12-17T01:22:39\", \"2019-12-17T01:23:01\", \"2019-12-17T01:26:27\", \"2019-12-17T01:57:58\", \"2019-12-17T02:09:30\", \"2019-12-17T02:06:29\", \"2019-12-17T02:08:17\", \"2019-12-16T14:38:05\", \"2019-12-16T14:59:58\", \"2019-12-16T15:01:07\", \"2019-12-16T14:31:46\", \"2019-12-16T15:30:13\", \"2019-12-16T16:00:24\", \"2019-12-16T15:50:31\", \"2019-12-16T16:23:12\", \"2019-12-16T16:06:38\", \"2019-12-16T17:13:16\", \"2019-12-16T17:23:41\", \"2019-12-16T17:22:38\", \"2019-12-16T18:05:24\", \"2019-12-16T17:40:02\", \"2019-12-16T18:00:45\", \"2019-12-16T18:34:31\", \"2019-12-16T18:40:52\", \"2019-12-16T19:48:47\", \"2019-12-16T19:56:08\", \"2019-12-16T19:51:34\", \"2019-12-16T19:32:47\", \"2019-12-16T20:01:22\", \"2019-12-16T20:15:54\", \"2019-12-16T19:58:56\", \"2019-12-16T16:36:44\", \"2019-12-16T20:54:52\", \"2019-12-16T20:58:37\", \"2019-12-16T20:25:18\", \"2019-12-16T20:34:38\", \"2019-12-16T20:49:02\", \"2019-12-16T20:42:28\", \"2019-12-16T20:47:59\", \"2019-12-16T21:03:03\", \"2019-12-16T21:04:14\", \"2019-12-16T21:07:17\", \"2019-12-16T21:07:22\", \"2019-12-16T21:07:51\", \"2019-12-16T14:06:08\", \"2019-12-16T14:06:08\", \"2019-12-16T14:09:32\", \"2019-12-16T13:43:52\", \"2019-12-16T13:39:52\", \"2019-12-17T02:50:59\", \"2019-12-17T02:54:06\", \"2019-12-17T03:12:24\", \"2019-12-17T03:05:48\", \"2019-12-17T03:22:46\", \"2019-12-17T02:56:12\", \"2019-12-17T03:39:52\", \"2019-12-17T10:57:00\", \"2019-12-17T10:36:51\", \"2019-12-17T11:07:50\", \"2019-12-17T11:35:39\", \"2019-12-17T10:14:32\", \"2019-12-17T10:29:15\", \"2019-12-17T10:53:29\", \"2019-12-17T11:56:01\", \"2019-12-17T10:58:56\", \"2019-12-17T04:29:17\", \"2019-12-17T04:13:51\", \"2019-12-17T04:34:39\", \"2019-12-17T04:36:20\", \"2019-12-17T04:43:56\", \"2019-12-17T04:11:02\", \"2019-12-17T04:19:24\", \"2019-12-17T04:10:25\", \"2019-12-17T04:33:48\", \"2019-12-17T04:15:39\", \"2019-12-17T12:51:49\", \"2019-12-17T12:16:44\", \"2019-12-17T12:05:47\", \"2019-12-17T12:16:05\", \"2019-12-17T12:59:29\", \"2019-12-17T13:19:01\", \"2019-12-17T13:14:03\", \"2019-12-17T13:58:21\", \"2019-12-17T13:25:10\", \"2019-12-17T13:12:04\", \"2019-12-17T13:44:40\", \"2019-12-17T14:26:00\", \"2019-12-17T14:41:32\", \"2019-12-17T14:43:34\", \"2019-12-17T05:50:24\", \"2019-12-17T05:49:42\", \"2019-12-17T06:14:52\", \"2019-12-17T05:53:07\", \"2019-12-17T14:46:09\", \"2019-12-17T14:54:30\", \"2019-12-17T15:12:32\", \"2019-12-17T07:13:26\", \"2019-12-17T06:48:32\", \"2019-12-17T07:19:30\", \"2019-12-17T07:18:49\", \"2019-12-17T07:21:26\", \"2019-12-17T07:17:29\", \"2019-12-17T15:39:10\", \"2019-12-17T15:30:01\", \"2019-12-17T15:24:49\", \"2019-12-17T15:26:20\", \"2019-12-17T07:49:10\", \"2019-12-17T08:27:47\", \"2019-12-17T08:17:24\", \"2019-12-17T08:26:59\", \"2019-12-17T16:14:51\", \"2019-12-17T16:20:22\", \"2019-12-17T19:40:06\", \"2019-12-17T19:41:04\", \"2019-12-17T19:05:53\", \"2019-12-17T18:58:50\", \"2019-12-17T15:47:46\", \"2019-12-17T15:49:38\", \"2019-12-17T15:51:50\", \"2019-12-17T09:12:07\", \"2019-12-17T19:29:18\", \"2019-12-17T19:25:57\", \"2019-12-17T16:08:47\", \"2019-12-17T09:16:27\", \"2019-12-17T09:17:20\", \"2019-12-17T09:22:09\", \"2019-12-17T09:20:54\", \"2019-12-17T21:03:31\", \"2019-12-17T21:06:21\", \"2019-12-17T21:21:53\", \"2019-12-17T21:22:39\", \"2019-12-17T21:03:56\", \"2019-12-17T21:11:09\", \"2019-12-17T18:00:50\", \"2019-12-17T18:29:49\", \"2019-12-17T18:48:52\", \"2019-12-17T18:32:58\", \"2019-12-17T18:40:43\", \"2019-12-17T18:46:07\", \"2019-12-17T18:53:55\", \"2019-12-17T18:47:50\", \"2019-12-17T21:30:47\", \"2019-12-17T21:52:39\", \"2019-12-17T21:49:01\", \"2019-12-17T09:50:56\", \"2019-12-17T19:02:23\", \"2019-12-17T19:06:02\", \"2019-12-17T22:09:05\", \"2019-12-17T22:18:20\", \"2019-12-17T22:20:36\", \"2019-12-17T22:12:39\", \"2019-12-17T20:42:06\", \"2019-12-17T22:35:59\", \"2019-12-17T22:35:58\", \"2019-12-17T22:36:48\", \"2019-12-17T16:45:34\", \"2019-12-17T16:53:47\", \"2019-12-18T00:25:28\", \"2019-12-18T00:29:09\", \"2019-12-18T01:24:44\", \"2019-12-17T17:36:37\", \"2019-12-17T17:47:47\", \"2019-12-17T20:52:56\", \"2019-12-17T20:17:15\", \"2019-12-17T20:23:14\", \"2019-12-17T20:29:33\", \"2019-12-17T20:10:19\", \"2019-12-17T20:54:40\", \"2019-12-17T20:25:09\", \"2019-12-18T02:17:11\", \"2019-12-18T02:01:48\", \"2019-12-18T02:22:52\", \"2019-12-18T03:06:58\", \"2019-12-18T03:11:23\", \"2019-12-18T02:38:56\", \"2019-12-18T03:09:50\", \"2019-12-18T03:53:56\", \"2019-12-18T03:55:41\", \"2019-12-18T03:57:25\", \"2019-12-18T04:22:39\", \"2019-12-18T04:30:56\", \"2019-12-18T04:42:22\", \"2019-12-18T04:38:06\", \"2019-12-17T23:43:58\", \"2019-12-18T04:45:04\", \"2019-12-18T06:29:27\", \"2019-12-18T05:51:40\", \"2019-12-18T06:03:00\", \"2019-12-18T07:14:11\", \"2019-12-18T07:05:45\", \"2019-12-18T06:51:15\", \"2019-12-18T09:02:52\", \"2019-12-18T09:00:09\", \"2019-12-18T09:04:06\", \"2019-12-18T09:26:34\", \"2019-12-18T10:49:58\", \"2019-12-18T11:43:31\", \"2019-12-18T11:26:46\", \"2019-12-18T11:36:57\"], \"xaxis\": \"x\", \"y\": [0.2, 0.35, 0.0, 0.13392857142857142, 0.18571428571428572, 0.225, 0.024337916984975803, 0.4, 0.23035714285714284, 0.0, 0.1442857142857143, 0.625, 0.24375000000000002, 0.49444444444444446, 0.0, 0.75, 0.6, 0.0, 0.0, 0.10222222222222224, 0.3154761904761905, 0.0, 0.3666666666666667, 0.0, 0.35, 0.24999999999999997, 0.155, 0.07878787878787878, 0.0, 0.0, 0.0, 0.2, 0.0, 0.16, 0.0, 0.5, 0.0, 0.25, 0.0, 0.375, 0.0, 0.0, 0.0, 0.8, 0.0, 0.5, 0.5166666666666666, 0.2, 0.0, 1.0, 0.0, 0.2, 0.0, 0.203125, 0.5, 0.13333333333333333, 0.0, 0.0, 0.15625, 0.0, 0.0, 0.5, 0.2, 0.0, 0.44999999999999996, 0.5, 0.375, 0.06666666666666665, 0.5, 0.0, 1.0, 0.375, 0.2875, 0.0, 0.0, 0.0, 0.0, 0.0, 0.0, 0.1812728937728938, 0.55, 0.2375, 0.0, 0.0, 0.7, 0.03214285714285715, 0.2, 0.2, 0.43333333333333335, 0.0, 0.09375, 0.2552910052910053, 0.275, 0.010000000000000009, 0.375, 0.25, 0.175, 0.2552910052910053, 0.0, 0.5, 0.5, 0.25366666666666665, 0.0, 0.0, 0.2552910052910053, 0.721111111111111, 0.16999999999999998, 0.5, 0.5, 0.3090909090909091, 0.0, 0.0, 0.0, 0.0, 1.0, 0.0, 0.25, 0.3454545454545454, 0.08305555555555555, 0.0, 0.16666666666666666, 0.0, 0.625, 0.0, 0.2375, 0.024999999999999994, 0.0, 0.2333333333333333, 0.0, 0.07333333333333333, 1.0, 0.0, 0.25, 0.0, 0.0, 0.2, 0.2778333333333333, 0.0, 0.0, 0.0, 0.5625, 0.0, 0.0, 0.25, 0.575, 0.0, 0.125, 0.07333333333333333, 0.0, 0.2591666666666667, 0.0, 0.0, 0.0, 0.0, 0.0, 0.75, 0.5, 0.22470238095238093, 0.0, 0.0, 0.16527777777777777, 0.8, 0.225, 0.0, 0.0, 0.0, 0.2625, 0.0, 0.25555555555555554, 0.26805555555555555, 0.225, 0.04833333333333334, 0.0, 0.2722222222222222, 0.8, 0.07333333333333333, 1.0, 0.278125, 0.0, 0.25, 0.443452380952381, 0.0, 0.25, 0.39375, 0.125, 0.07333333333333333, 0.0, 0.0, 0.2166666666666667, 0.0, 0.0, 0.1, 0.0, 0.12465277777777778, 0.4375, 0.0, 0.2857142857142857, 0.35, 0.0, 0.25, 0.06203703703703703, 0.175, 0.0, 0.0, 0.0, 0.125, 0.0, 0.0, 0.0, 0.25, 0.0, 0.2552910052910053, 1.0, 0.2673611111111111, 0.0, 0.41666666666666663, 0.25, 0.0, 0.0, 0.0, 1.0, 0.05873015873015872, 0.0, 0.0, 0.16666666666666666, 0.0, 0.21666666666666667, 0.3, 0.22470238095238093, 0.0, 0.0, 0.11904761904761904, 0.0, 0.0, 0.0, 0.0, 0.0, 0.16416666666666666, 0.0, 0.0, 0.0, 0.0, 0.07333333333333333, 0.22470238095238093, 0.0, 0.15000000000000002, 0.175, 0.05000000000000001, 0.0, 0.09583333333333333, 0.2708333333333333, 0.25, 0.0, 0.0, 0.012830687830687824, 0.3, 0.1458241758241758, 0.375, 0.25833333333333336, 0.25, 0.0, 0.125, 0.35, 0.45833333333333337, 0.0, 0.3704545454545454, 0.0, 0.0, 0.625, 0.0, 0.8, 0.0, 0.8, 0.0, 0.0, 0.33999999999999997, 0.0, 0.33571428571428574, 0.2325757575757576, 0.225, 0.07261904761904761, 0.05, 0.25, 0.0, 0.0, 0.5, 0.046000000000000006, 0.4, 0.07142857142857142, 0.0, 0.019332421964000902, 0.14874939874939871, 0.33285714285714285, 0.5375, 0.03333333333333333, 0.0, 0.225, 0.05952380952380952, 0.06477272727272727, 0.0, 0.22470238095238093, 0.0, 0.0, 0.25, 0.25, 0.0, 0.5, 0.044576719576719576, 0.07333333333333333, 0.0, 0.22470238095238093, 0.40625, 0.0, 0.0, 0.0, 0.225, 0.6, 0.0, 0.0, 0.0, 0.0, 0.0, 0.19863516113516114, 0.3416666666666666, 0.3333333333333333, 0.25, 0.0, 0.2, 0.2, 0.0, 0.0, 0.7, 0.0, 0.0, 0.0, 0.075, 0.25, 0.5, 0.25, 0.03928571428571429, 0.1275482093663912, 0.0, 0.0, 0.2375, 0.2117460317460317, 0.8, 0.0, 0.24812499999999998, 0.032057823129251706, 0.1855218855218855, 0.41666666666666663, 0.2330952380952381, 0.16666666666666669, 0.0, 0.125, 1.850371707708594e-17, 0.18511904761904763, 0.16218614718614718, 0.09702380952380951, 0.0, 0.0, 0.0, 0.0, 0.0625, 0.0, 0.16249999999999998, 0.17346938775510207, 0.04999999999999999, 0.0, 0.1, 0.425, 0.5, 0.16666666666666666, 0.09791666666666667, 0.0, 0.0, 0.0, 0.1, 0.0, 0.022222222222222213, 0.0, 0.25, 0.4, 0.09999999999999999, 0.5, 0.07333333333333333, 0.05833333333333333, 0.25, 0.0, 0.0880952380952381, 0.15, 0.2, 0.0, 0.0, 0.0, 0.0, 0.0, 0.0, 0.5333333333333333, 0.25555555555555554, 0.1814814814814815, 0.0, 0.2928571428571428, 0.25, 0.5, 0.0, 0.35, 0.8, 0.2, 0.33571428571428574, 0.08333333333333333, 0.0, 0.4, 1.0, 0.0, 0.25, 0.08333333333333333, 0.0, 0.0, 0.0, 0.375, 0.0, 0.0, 0.25, 0.1, 0.3, 0.2451048951048951, 0.0, 0.10000000000000002, 0.59375, 0.45, 0.15000000000000002, 0.0, 0.3666666666666667, 0.21250000000000002, 0.0, 0.0, 0.1, 0.22470238095238093, 0.7, 0.2552910052910053, 0.049999999999999996, 0.0, 0.0, 0.19162878787878784, 0.05, 0.48750000000000004, 0.39999999999999997, 0.5, 0.0, 0.16538461538461538, 0.0, 0.0, 0.004166666666666673, 0.0, 0.0, 0.0, 0.3, 0.0, 0.06944444444444446, 0.14999999999999997, 0.0, 0.0, 0.0625, 0.0, 0.0, 0.0, 0.125, 0.006249999999999978, 0.2, 0.2, 0.0, 0.0, 0.15833333333333333, 0.0, 0.3, 0.0, 0.0, 0.22083333333333333, 0.3, 0.0, 0.25, 0.0, 0.0, 0.37366071428571435, 0.23409090909090907, 0.0, 0.0, 0.26785714285714285, 0.31060606060606055, 0.4, 0.0, 0.3, 0.1, 0.0, 0.0, 0.16805555555555554, 0.0, 0.25, 0.0, 0.0, 0.07333333333333333, 0.09999999999999999, 0.037500000000000006, 0.2, 0.0, 0.07333333333333333, 0.05, 0.4333333333333333, 0.5, 0.35, 0.16666666666666669, 0.25, 0.0, 0.06818181818181818, 0.3, 0.0, 0.24722222222222223, 0.2, 0.0, 0.0, 0.4107142857142857, 0.42857142857142855, 0.25, 0.2, 0.09166666666666667, 0.0, 0.0, 0.10984848484848485, 0.625, 0.0, 0.0, 0.5, 0.25, 0.14428571428571427, 0.9, 0.18333333333333335, 0.0, 0.3761904761904762, 0.22470238095238093, 0.26666666666666666, 0.5, 0.0, 0.0, 0.0, 0.15833333333333335, 0.30952380952380953, 0.0, 0.0, 0.0, 0.0, 0.5, 0.5, 0.0, 0.3, 0.0, 0.5, 0.0, 0.575, 0.09375, 1.0, 0.3625, 0.0, 0.0, 0.13000000000000003, 0.0, 0.0, 0.4166666666666667, 0.5, 0.007857142857142865, 0.16666666666666666, 0.7, 0.28500000000000003, 0.44000000000000006, 0.32916666666666666, 0.2552910052910053, 0.0, 0.0, 0.4166666666666667, 0.25357142857142856, 0.0, 0.30000000000000004, 0.22470238095238093, 0.0, 0.5, 0.0, 0.0, 0.09523809523809525, 0.0, 0.0, 0.0, 0.0, 0.0, 1.0, 0.0, 0.2, 0.07333333333333333, 0.55, 0.25, 0.25, 0.0, 0.2, 0.09, 0.2402116402116402, 0.21314814814814814, 0.11388888888888891, 0.0, 0.0, 0.0, 0.0, 0.2552910052910053, 0.0, 0.8, 0.1, 0.25, 0.28775510204081634, 0.2, 0.0, 0.013888888888888885, 0.3125, 0.39999999999999997, 0.2041666666666667, 0.4375, 0.16294642857142858, 0.3333333333333333, 0.1909090909090909, 0.14874939874939871, 0.35, 0.1, 0.10551346801346802, 0.0, 0.2857142857142857, 0.1, 0.06666666666666665, 0.08035714285714285, 0.08333333333333333, 0.0, 0.0, 0.5681818181818181, 0.8, 0.2, 0.4, 0.35, 0.07777777777777778, 0.0, 1.0, 0.5, 0.0, 0.2552910052910053, 0.0, 0.0, 0.0, 0.031150793650793658, 0.04285714285714286, 0.135, 0.0, 0.0, 0.3625, 0.0, 0.3, 0.35, 0.0, 0.0, 0.0, 0.13636363636363635, 0.35, 0.03333333333333333, 0.22470238095238093, 0.0, 0.0, 0.28409090909090906, 0.0, 0.45, 0.5, 0.03854166666666666, 0.6000000000000001, 0.0, 0.5, 0.35, 0.0, 0.1875, 0.0, 0.3571428571428571, 0.0, 0.5, 0.2, 0.0, 0.1, 0.09785714285714285, 0.31666666666666665, 0.075, 0.005272108843537412, 0.26791666666666664, 0.4166666666666667, 0.22470238095238093, 0.15000000000000002, 0.4, 0.08875, 0.0, 0.4375, 0.3, 0.0, 0.0, 0.0, 0.0, 0.06547619047619048, 0.3, 0.0, 0.0, 0.4375, 0.175, 0.11041666666666666, 0.0, 0.1392857142857143, 0.07142857142857144, 0.0, 0.25, 0.0, 0.2552910052910053, 0.0, 0.0, 0.328125, 0.0, 0.35625, 0.0, 0.2, 0.31666666666666665, 0.0, 0.0, 0.0, 0.0, 0.3666666666666667, 0.34285714285714286, 0.0, 0.8, 0.25, 0.875, 0.0, 0.11249999999999999, 0.8, 0.0, 0.0, 0.3, 0.4464285714285714, 0.35, 0.12, 0.3, 0.0, 0.0, 0.625, 0.0, 0.0, 0.1875, 0.0, 1.0, 0.534375, 0.0, 0.0, 0.0, 0.0, 0.0, 0.033333333333333326, 0.115, 0.0, 0.04583333333333334, 0.0, 0.8, 0.125, 0.03057851239669421, 0.0, 0.35, 0.5, 0.175, 0.0, 0.5, 0.0, 0.0, 0.26666666666666666, 0.2552910052910053, 0.0, 0.0, 0.32, 0.0, 0.390625, 0.10494505494505495, 0.25, 0.0, 0.0, 0.0, 0.625, 0.0, 0.0, 0.2552910052910053, 0.2, 0.2, 0.2, 0.1590909090909091, 0.04999999999999999, 0.0, 0.5, 0.0, 0.425, 0.0, 0.14983379715522574, 0.5, 0.0, 0.0], \"yaxis\": \"y\"}, {\"customdata\": [[\"shufflingshuffler\", \"/r/Python/comments/eaawp0/integrating_python_with_java_swing/fb4opxj/\", \"Dang!  That's depressing.\"], [\"ProfessorGrizzly\", \"/r/Python/comments/ebh0gt/how_to_detect_dominant_color_in_masked_image/fb4plgw/\", \"Collect the average RGB values of pixels in the im\"], [\"roerd\", \"/r/Python/comments/ebfo58/which_orm_for_python_and_abstraction_between_db/fb4q45k/\", \"SQLAlchemy and the Django ORM are not the same. Th\"], [\"xd1142\", \"/r/Python/comments/ebh0gt/how_to_detect_dominant_color_in_masked_image/fb4ufud/\", \"what answer do you expect from that image? yellow \"], [\"21KOGHQqBpwFReIeSYlF\", \"/r/Python/comments/ean4f7/i_created_a_maze_generator_then_solved_it_with/fb4u6e3/\", \"&gt;It has nothing to do with the type hints syste\"], [\"FinalRewind\", \"/r/Python/comments/ebd3uz/how_to_control_your_raspberry_pi_from_anywhere_in/fb545fe/\", \"&gt;Their security isn't designed to keep bad guys\"], [\"hellnukes\", \"/r/Python/comments/ebjgvl/i_wrote_a_program_that_doodles_things_in_ms_paint/fb7d3gd/\", \"Stupid robots will never understand our art...\"], [\"chuck_01272003\", \"/r/Python/comments/ebnzoa/can_you_assign_variables_in_a_lambda/fb69wyx/\", \"What do you mean?\"], [\"a22e\", \"/r/Python/comments/ebjgvl/i_wrote_a_program_that_doodles_things_in_ms_paint/fb5fi4a/\", \"Completely randomly generated.\"], [\"Throwmeawayplznthx\", \"/r/Python/comments/ebkm5x/learning_python_is_boring_me_i_learn_from/fb5kxqs/\", \"Learning anything is boring for me, I learn from e\"], [\"mssxtn\", \"/r/Python/comments/ebl3jg/i_need_help_with_my_python/fb5mqry/\", \"https://www.daniweb.com/programming/software-devel\"], [\"joyrida12\", \"/r/Python/comments/ebkm5x/learning_python_is_boring_me_i_learn_from/fb5itup/\", \"If the initial learning process is boring to you, \"], [\"nupil\", \"/r/Python/comments/ebyydg/please_help_new_and_confused/fb82jrd/\", \"It still doesn\\u2019t allow me to use emacs as a comman\"], [\"Kaarjuus\", \"/r/Python/comments/ebu5mi/the_little_book_of_python_antipatterns_python/fb88905/\", \"What is `^F-i`? \\n\\nMy typical approach is to use do\"], [\"inarighas\", \"/r/Python/comments/ebw39p/conda_is_fing_slow/fb7k7kl/\", \"Yes, I am talking about the anaconda prompt. \\n\\nMy \"], [\"OmerSdeChen\", \"/r/Python/comments/ebjgvl/i_wrote_a_program_that_doodles_things_in_ms_paint/fb6u9wi/\", \"I can watch it all day long\"], [\"MartyMacGyver\", \"/r/Python/comments/eazg05/made_my_first_fractal/fb6zr7i/\", \"Shows everything, but it *does* still crash in the\"], [\"0xde1\", \"/r/Python/comments/ebxfls/question_regarding_class_int_is_not_json/fb7smk9/\", \"Your code worked for me in Python 3.6.5. \\n\\n    imp\"], [\"AirHamyes\", \"/r/Python/comments/ebjgvl/i_wrote_a_program_that_doodles_things_in_ms_paint/fb7vpaj/\", \"Copy the run program, call it erase. In the dragTo\"], [\"jeffrey_f\", \"/r/Python/comments/ebw95t/whats_everyone_working_on_this_week/fb7w90f/\", \"Somehow is when:\\n\\nA task is a time sink, tedious, \"], [\"VertigoLol\", \"/r/Python/comments/ebxjbh/advice_on_images_scraping/fb84bzb/\", \"You can 100% get the same results with bs4 + resul\"], [\"parles\", \"/r/Python/comments/ebwk8h/python_and_data_science_for_aws/fb7yqvh/\", \"What I'm really looking for is any example of data\"], [\"hotpotatobeans\", \"/r/Python/comments/ebnzoa/can_you_assign_variables_in_a_lambda/fb7xpjr/\", \"You're confusing Python's name scoping rules with \"], [\"CliftonPark1\", \"/r/Python/comments/ebw39p/conda_is_fing_slow/fb8d3z8/\", \"I only add new packages to my base installation if\"], [\"inarighas\", \"/r/Python/comments/ebw39p/conda_is_fing_slow/fb8co20/\", \"yes. what do you mean by \\\"proactive\\\"?\"], [\"willm\", \"/r/Python/comments/ec1pf2/i_want_your_opinion_mypy/fb8xcgd/\", \"Black is another game changer. It returned 10% men\"], [\"robin-gvx\", \"/r/Python/comments/ec0d46/learning_python_and_couldnt_think_of_a_good/fb912r1/\", \"It could be an alias, but it doesn't have to be.\\n\\n\"], [\"maxbridgland\", \"/r/Python/comments/ec529x/made_my_first_discord_bot_using_disco_to_paste/fb967gh/\", \"Never tried making a Discord bot with discord.py b\"], [\"911OpenUp\", \"/r/Python/comments/ec0j6z/quick_mods_are_asleep_upvote_pics_of_python/fb8jity/\", \"*import poison as Deadly*\"], [\"Jespor\", \"/r/Python/comments/ebjgvl/i_wrote_a_program_that_doodles_things_in_ms_paint/fb79f57/\", \"This should be part of the \\\"how to automate the bo\"], [\"shevy-ruby\", \"/r/Python/comments/ebu0k5/python_vs_ruby_which_is_better_for_businesses/fb7auhc/\", \"I have seen bad articles before - but this one top\"], [\"Whoopska\", \"/r/Python/comments/ec0d46/learning_python_and_couldnt_think_of_a_good/fb9baqz/\", \"This reminds me of a project I ran into a project \"], [\"LightShadow\", \"/r/Python/comments/ebu5mi/the_little_book_of_python_antipatterns_python/fb9nshs/\", \"The \\\"map() or filter() vs list comprehensions\\\" mis\"], [\"LegaLess007\", \"/r/Python/comments/ebw95t/whats_everyone_working_on_this_week/fb8lqe2/\", \"I want to finish my minichess AI using negamax alg\"], [\"ProfessionalTune0\", \"/r/Python/comments/ebx65k/could_someone_explain_to_me_why_tkinter_is_being/fba1udm/\", \"The Python Software Foundation suggest not using t\"], [\"stevenjd\", \"/r/Python/comments/ebu5mi/the_little_book_of_python_antipatterns_python/fba4fa0/\", \"&gt; Provide an example and I'll provide the bette\"], [\"stevenjd\", \"/r/Python/comments/ec91s7/lost_and_afraid/fba67oc/\", \"Following up on my earlier comment, how I personal\"], [\"CookieGuyOof\", \"/r/Python/comments/ebjt38/hey_everyone/fb5fcme/\", \"how do i do that tho? im sorry if im bugging you, \"], [\"CMphys\", \"/r/Python/comments/eb85vu/how_to_create_a_3d_graph/fb5f37q/\", \"Matplotlib also has 3D capabilities, see some exam\"], [\"Old_Winterton\", \"/r/Python/comments/eb1fb5/writing_to_a_csv/fb5mb3k/\", \"I dig it!  \\nAnother way that would avoid middle-sc\"], [\"stephan42_42\", \"/r/Python/comments/ebh0gt/how_to_detect_dominant_color_in_masked_image/fb5hkwy/\", \"I also have the masked version of that image, so t\"], [\"ManBearHybrid\", \"/r/Python/comments/ebifcm/what_is_the_workflow_to_work_and_the_package/fb5hu5l/\", \"It's still not clear what they mean. Please post a\"], [\"AirHamyes\", \"/r/Python/comments/ebjgvl/i_wrote_a_program_that_doodles_things_in_ms_paint/fb5rzmg/\", \"Fuck\"], [\"TheReverend403\", \"/r/Python/comments/eayfs0/learn_regex_the_fun_way/fb43rp1/\", \"Probably because the other 3 aren't widely despise\"], [\"DesperatePleasure\", \"/r/Python/comments/ebw95t/whats_everyone_working_on_this_week/fb7o0is/\", \"Going through the basics in Automate the boring st\"], [\"TastyMaple\", \"/r/Python/comments/ebu5mi/the_little_book_of_python_antipatterns_python/fb7tpil/\", \"I've used this site in the past and have it bookma\"], [\"vidazinho\", \"/r/Python/comments/ebsgnv/ultra_simple_morse_code_translator/fb7s8lj/\", \"Geez sorry you're right. I wasn't thinking, I even\"], [\"Kaarjuus\", \"/r/Python/comments/ebu5mi/the_little_book_of_python_antipatterns_python/fb7x4rq/\", \"A few of the items are very questionably \\\"anti-pat\"], [\"jackacase\", \"/r/Python/comments/ebxg4w/how_to_get_started_with_coding_python_on_a_chrome/fb84s74/\", \"I've started using [gitpod.io](https://gitpod.io) \"], [\"Kaarjuus\", \"/r/Python/comments/ebu5mi/the_little_book_of_python_antipatterns_python/fb87s5k/\", \"Small simple example from a current project:\\n\\n    \"], [\"ShibaOne\", \"/r/Python/comments/ebnzoa/can_you_assign_variables_in_a_lambda/fb6ejhr/\", \"Lmao idk. I'm bad at python\"], [\"robin-gvx\", \"/r/Python/comments/eblyxu/what_can_be_a_reason_that_python_imports_behave/fb6naic/\", \"That's weird.\\n\\nHave you confirmed that everyone is\"], [\"TheReverend403\", \"/r/Python/comments/ebjgvl/i_wrote_a_program_that_doodles_things_in_ms_paint/fb6tn47/\", \"Found you bushidoboy :\\\\^)\\n\\nNow let's bully someone\"], [\"K900_\", \"/r/Python/comments/ebffcz/autocopy_all_displayed_print_results_into/fb49mae/\", \"There is no way to do that out of the box, but you\"], [\"Sagittarius-Astar\", \"/r/Python/comments/eb5qil/made_conways_game_of_life_using_tkinter/fb4fuo3/\", \"You should do in another way, just pick a fix numb\"], [\"CanadianPython\", \"/r/Python/comments/eb5qil/made_conways_game_of_life_using_tkinter/fb4hns5/\", \"Sweet, I also made a Game of Life using Python dur\"], [\"kenneho\", \"/r/Python/comments/ea022g/subscribe_to_security_news_about_specific_python/fb4gctf/\", \"Thanks for the tip. Unfortunately, our code is hos\"], [\"nwss00\", \"/r/Python/comments/ebe72x/can_python_be_used_as_macros_across_different/fb4k1fe/\", \"Years ago, I used a famous Python book called \\\"Aut\"], [\"drbobb\", \"/r/Python/comments/eb4cj2/is_it_possible_to_convert_a_number_from_datetime/fb4ofem/\", \"    In [2]: from datetime import datetime\\n\\n    In \"], [\"samtonatorn\", \"/r/Python/comments/eba1w4/how_do_you_turn_just_code_into_code_for_a_game/fb48qwo/\", \"Yes thank you! Also Godot engine is a game engine \"], [\"Gawd_is_great\", \"/r/Python/comments/eazg05/made_my_first_fractal/fb6zu5x/\", \"I made it so that after everything is finished it \"], [\"jagkagd\", \"/r/Python/comments/e9kszt/a_library_to_perform_a_numpy_array_transformation/fb75jbs/\", \"Thanks for the feedback. Yes, I use strings, but I\"], [\"mRWafflesFTW\", \"/r/Python/comments/eblyxu/what_can_be_a_reason_that_python_imports_behave/fb7j25p/\", \"It depends on your project and what you are trying\"], [\"karthikkumars\", \"/r/Python/comments/ebzqpe/need_help/fb8ew4s/\", \"You haven't closed the parenthesis of the studentl\"], [\"inarighas\", \"/r/Python/comments/ebw39p/conda_is_fing_slow/fb8dw2t/\", \"yes I agree. that how i am using it. Currently i a\"], [\"FishBlues\", \"/r/Python/comments/ec0d46/learning_python_and_couldnt_think_of_a_good/fb8ihqz/\", \"[ slowly closes laptop ]\\n\\n[ begins to sob uncontro\"], [\"zpwd\", \"/r/Python/comments/ebyf45/how_to_support_a_python_package_that_uses_c/fb8ourc/\", \"I have bad news for you: f-strings cannot be consi\"], [\"isoblvck\", \"/r/Python/comments/ec0d46/learning_python_and_couldnt_think_of_a_good/fb8mo46/\", \"\\nDict of input with integer keys and insult values\"], [\"cornycrunch\", \"/r/Python/comments/ec0d46/learning_python_and_couldnt_think_of_a_good/fb8qydl/\", \"If it's being \\\"picked randomly\\\", just do this:\\n```\"], [\"SethWms\", \"/r/Python/comments/ec0d46/learning_python_and_couldnt_think_of_a_good/fb8tsh6/\", \"Next step: Script changes power options to do noth\"], [\"kevin_with_rice\", \"/r/Python/comments/ec0d46/learning_python_and_couldnt_think_of_a_good/fb8u9jf/\", \"Right, but why would the indices be sparse for a l\"], [\"kaihatsusha\", \"/r/Python/comments/ec0d46/learning_python_and_couldnt_think_of_a_good/fb8upim/\", \"Definitely, it wouldn't in this case, assuming ind\"], [\"FukMyHoles\", \"/r/Python/comments/ec0d46/learning_python_and_couldnt_think_of_a_good/fb9mb2j/\", \"Just got off, googling how to upload stuff to GitH\"], [\"mraza007\", \"/r/Python/comments/ec6opk/so_i_wrote_this_script_a_ago_year_but_today_i/fb9s794/\", \"You can get banned\\nYou just cap the sending limit \"], [\"Givingbacktoreddit\", \"/r/Python/comments/ec6opk/so_i_wrote_this_script_a_ago_year_but_today_i/fba0pih/\", \"Unless the person thinks of it as harassment, whic\"], [\"YmFzZTY0dXNlcm5hbWU_\", \"/r/Python/comments/eb8j7p/evolving_images_using_genetic_algorithms_and/fb4eqrd/\", \"I remember there being a site that did this in 201\"], [\"SurpriseAttachyon\", \"/r/Python/comments/e8yomi/the_new_walrus_operator_in_python38_is_everything/fb4gl4r/\", \"You mean `(object = get_object())` as opposed to `\"], [\"33ngineer\", \"/r/Python/comments/ebi3r3/development_environment/fb4zj9k/\", \"A common method is to use a virtual environment. L\"], [\"JayJayPeeko\", \"/r/Python/comments/ebnfsj/simple_hangman_game/fb72k2f/\", \"Oh you're wrong because I did it and got 10/10\"], [\"nielsrolf\", \"/r/Python/comments/eblyxu/what_can_be_a_reason_that_python_imports_behave/fb7ccp0/\", \"This is what I currently do but I find it super ug\"], [\"shevy-ruby\", \"/r/Python/comments/ebu0k5/python_vs_ruby_which_is_better_for_businesses/fb7bigy/\", \"&gt;  But is you think you want to investigate AI \"], [\"moonlandings\", \"/r/Python/comments/ebvpn0/round_to_only_2_decimals/fb7gvmy/\", \"round(number,2)\\n\\nRound takes a second argument for\"], [\"mangoed\", \"/r/Python/comments/ebvitl/whats_possible_with_python/fb7fw5y/\", \"Extracting text from pdf does not always work as e\"], [\"rhcrise\", \"/r/Python/comments/ebw39p/conda_is_fing_slow/fb7jmpg/\", \":| how\\u2019s it slow? If you\\u2019re talking about when you\"], [\"CookieGuyOof\", \"/r/Python/comments/ebjt38/hey_everyone/fb5bgwo/\", \"im sorry if the mistake is obvious, im fairly new \"], [\"kigurai\", \"/r/Python/comments/ean4f7/i_created_a_maze_generator_then_solved_it_with/fb5c9yl/\", \"I'm honestly not well versed enough in the practic\"], [\"nosklo\", \"/r/Python/comments/ebjgvl/i_wrote_a_program_that_doodles_things_in_ms_paint/fb5dwoa/\", \"disappointed. Expected dickbutt.\"], [\"CookieGuyOof\", \"/r/Python/comments/ebjt38/hey_everyone/fb5fo6s/\", \"k yeah the letters just go crazy past z, i dont kn\"], [\"drbobb\", \"/r/Python/comments/eb1fb5/writing_to_a_csv/fb5h6xp/\", \"    with open('file.csv', 'a') as f:\\n        w = c\"], [\"CMphys\", \"/r/Python/comments/ebjt38/hey_everyone/fb5lf8h/\", \"This seems to work, try rewriting the other functi\"], [\"PurelyCreative\", \"/r/Python/comments/ebhjoa/is_it_an_antenna_is_it_a_parking_lot_its_another/fb5jquj/\", \"https://github.com/Perseus-Perry/Fractal\\n\\nIt\\u2019s pro\"], [\"covabishop\", \"/r/Python/comments/ebjgvl/i_wrote_a_program_that_doodles_things_in_ms_paint/fb5kotv/\", \"If you named it anything other than pycasso you're\"], [\"MalawianPoop\", \"/r/Python/comments/duugyi/pls_help_me/fb56gws/\", \"Did you fail the IB and become homeless yet?\"], [\"MrRikkert\", \"/r/Python/comments/ebaf1e/syntax_question/fb47eq8/\", \"For question one: You have to use\\n\\n    pd.to_datet\"], [\"CodeSkunky\", \"/r/Python/comments/ebu5mi/the_little_book_of_python_antipatterns_python/fb8zneu/\", \"What is it at worst?\\n\\n..and no, I'm not going to.\"], [\"Billblarney\", \"/r/Python/comments/ebytlq/interesting_project/fb9oe59/\", \"Sure and you'll make a million bucks. Create a fre\"], [\"Thecrawsome\", \"/r/Python/comments/ec0j6z/quick_mods_are_asleep_upvote_pics_of_python/fb8jfbz/\", \"this sub sucks\"], [\"Blaidd-XIII\", \"/r/Python/comments/ec0j6z/quick_mods_are_asleep_upvote_pics_of_python/fb8hfl4/\", \"[You make me sad. ](https://media.giphy.com/media/\"], [\"FukMyHoles\", \"/r/Python/comments/ec0d46/learning_python_and_couldnt_think_of_a_good/fb8lypw/\", \"Better than a calculator and all the other boring \"], [\"BTiberius\", \"/r/Python/comments/ec0d46/learning_python_and_couldnt_think_of_a_good/fb8lj48/\", \"Now build this as a flask api so we can all secret\"], [\"GorbyXD\", \"/r/Python/comments/ec1oeq/freelance_work/fb8qj6u/\", \"Hi Jared,\\n\\nAs far as I know, you don\\u2019t have a base\"], [\"willm\", \"/r/Python/comments/ec1pf2/i_want_your_opinion_mypy/fb8tfhx/\", \"Entirely agree. I came from C++ background and alt\"], [\"codeOnMaster\", \"/r/Python/comments/ebytlq/interesting_project/fb83mzk/\", \"Maybe pickup the books Python Crash Course or Auto\"], [\"nupil\", \"/r/Python/comments/ebyydg/please_help_new_and_confused/fb83kr5/\", \"https://imgur.com/gallery/SHQjjST\\n\\nSo usually I us\"], [\"iTecX\", \"/r/Python/comments/ebw95t/whats_everyone_working_on_this_week/fb84ehm/\", \"Im making an interface for a DIY D&amp;D game scre\"], [\"DARPA1191969v1\", \"/r/Python/comments/ebz6pj/scanner_app_inventory_management_from_scratch/fb98l3v/\", \"They are both just javascript, and nope nit really\"], [\"jkmacc\", \"/r/Python/comments/ec56kr/signal_procesing/fb9a9w0/\", \"When I first started out, [NumPy for Matlab users]\"], [\"PythonKoder\", \"/r/Python/comments/ec1oeq/freelance_work/fb9c2lu/\", \"I've had 0 luck with freelancing sites as it's nea\"], [\"panta34\", \"/r/Python/comments/ebsgnv/ultra_simple_morse_code_translator/fb9u31l/\", \"You can use comprehensions instead of \\\"for if\\\" blo\"], [\"ASIC_SP\", \"/r/Python/comments/ec56kr/signal_procesing/fb9vvl5/\", \"I have a few resources collected here: https://lea\"], [\"timkpaine\", \"/r/Python/comments/ec94xl/put_3_coordinate_data_point_to_2d_plane_in_python/fb9xcuu/\", \"You could do 2 axes and then color the points for \"], [\"chmod--777\", \"/r/Python/comments/ec0d46/learning_python_and_couldnt_think_of_a_good/fb9xl17/\", \"Wait are you fucking serious? Sudoers handles an i\"], [\"xd1142\", \"/r/Python/comments/ec1pf2/i_want_your_opinion_mypy/fba3dhs/\", \"black does not respect pep8\"], [\"stevenjd\", \"/r/Python/comments/ebu5mi/the_little_book_of_python_antipatterns_python/fba4jxj/\", \"&gt; It immediately tells me as opposed to having \"], [\"zpwd\", \"/r/Python/comments/ebyf45/how_to_support_a_python_package_that_uses_c/fba5d9b/\", \"Preferred for *what*? How do you pass an f-string \"], [\"gaming_weed\", \"/r/Python/comments/ec0d46/learning_python_and_couldnt_think_of_a_good/fba6znz/\", \"shit dude XD\"], [\"AirHamyes\", \"/r/Python/comments/ebjgvl/i_wrote_a_program_that_doodles_things_in_ms_paint/fb5qgcd/\", \" [https://pastebin.com/98EWgWyq](https://pastebin.\"], [\"CanadianPython\", \"/r/Python/comments/eb5qil/made_conways_game_of_life_using_tkinter/fb4iyae/\", \"Unlikely anything you have done is wrong, with the\"], [\"21KOGHQqBpwFReIeSYlF\", \"/r/Python/comments/ean4f7/i_created_a_maze_generator_then_solved_it_with/fb4l2ph/\", \"&gt;\\\"It\\\" in this case is the interpreter\\n\\nThe inte\"], [\"mtrajk93\", \"/r/Python/comments/ebf7rc/github_mtrajkcodingproblems_python_solutions_for/fb4o9rj/\", \"Hi, sorry I'm not sure about what problem you're a\"], [\"FinalRewind\", \"/r/Python/comments/ebd3uz/how_to_control_your_raspberry_pi_from_anywhere_in/fb5441g/\", \"And their security isn't designed to keep bad guys\"], [\"AirHamyes\", \"/r/Python/comments/ebjgvl/i_wrote_a_program_that_doodles_things_in_ms_paint/fb5do3n/\", \"yea, gimme a sec. I'm gonna add a function to remo\"], [\"spicypixel\", \"/r/Python/comments/ebdtk8/trying_to_create_csv_file_directly_in_s3_and/fb5i2n4/\", \"Isn't S3 object store not file store? There's not \"], [\"MikeTheWatchGuy\", \"/r/Python/comments/eb5qil/made_conways_game_of_life_using_tkinter/fb4az4x/\", \"I'm having trouble with the window becoming unresp\"], [\"Eze-Wong\", \"/r/Python/comments/ebe72x/can_python_be_used_as_macros_across_different/fb4ae8c/\", \"Yes entirely possible. My work has me opening mult\"], [\"maxbridgland\", \"/r/Python/comments/eb20wt/built_a_free_json_cloud_storage_solution_in_flask/fb4cm7z/\", \"There were some mongoDB upgrades overnight, the we\"], [\"Ashutoshkv\", \"/r/Python/comments/ebd3uz/how_to_control_your_raspberry_pi_from_anywhere_in/fb4csuv/\", \"Yeah! I am too trying to understand this. But I sa\"], [\"tipsy_python\", \"/r/Python/comments/ebsg40/professional_python_coding/fb7go7e/\", \"Lots of micro-services, both REST APIs and messagi\"], [\"MartyMacGyver\", \"/r/Python/comments/eazg05/made_my_first_fractal/fb703f3/\", \"Removing those unnecessary `del`s was easier.\\n\\nPre\"], [\"the_television\", \"/r/Python/comments/ebvpn0/round_to_only_2_decimals/fb7qaqb/\", \"`round()` only returns the rounded number, it does\"], [\"zpwd\", \"/r/Python/comments/ebww8n/looking_for_a_mentor/fb7qv7u/\", \"Right, but you **do** realize per-hour salary grad\"], [\"MartyMacGyver\", \"/r/Python/comments/eazg05/made_my_first_fractal/fb72gy8/\", \"I'm sure that'll work... And I'm pretty sure that \"], [\"aMillenarian\", \"/r/Python/comments/ebu5mi/the_little_book_of_python_antipatterns_python/fb8b79u/\", \"EAFP can avoid race conditions in some circumstanc\"], [\"dragonddragondragon\", \"/r/Python/comments/ebd3uz/how_to_control_your_raspberry_pi_from_anywhere_in/fb75ihc/\", \"I can't comment on tiktok or vine, but getting new\"], [\"vidazinho\", \"/r/Python/comments/ebsgnv/ultra_simple_morse_code_translator/fb844w6/\", \"Wow, crap! You're right, that's great. It's even s\"], [\"GlitchyBlasphemer\", \"/r/Python/comments/ebzqpe/need_help/fb8874h/\", \"3rd line down under Frame.\\n\\nMainFram.grid()\\n\\nIs it\"], [\"archaeolinuxgeek\", \"/r/Python/comments/ebf1fg/github_sumercyappi_yet_another_python_profiler/fb8jwcg/\", \"Curious to see how this plays with the ad-hoc prof\"], [\"ae8_bos\", \"/r/Python/comments/ec0j6z/quick_mods_are_asleep_upvote_pics_of_python/fb8jxo5/\", \"I love python but I fucking hate snakes\"], [\"muikrad\", \"/r/Python/comments/ec1pf2/i_want_your_opinion_mypy/fb8x1wb/\", \"Maybe they will like \\\"black\\\" formatting, it kinda \"], [\"WalesAuburn\", \"/r/Python/comments/ec3iv5/sqlalchemy_vs_pyodbc/fb97xnv/\", \"&gt; if people want to integrate with an SQL datab\"], [\"zpwd\", \"/r/Python/comments/ebyf45/how_to_support_a_python_package_that_uses_c/fb817k1/\", \"You have a number of question which are not relate\"], [\"steveisredatw\", \"/r/Python/comments/ebw95t/whats_everyone_working_on_this_week/fb9iye0/\", \"I\\u2019m writing a internal tool at my work that is a w\"], [\"twotime\", \"/r/Python/comments/ebu5mi/the_little_book_of_python_antipatterns_python/fb9l7fi/\", \"(1) x,y,z in graphing contexts\\n\\n(2) pretty much an\"], [\"KingDamager\", \"/r/Python/comments/ec0d46/learning_python_and_couldnt_think_of_a_good/fb8vq6c/\", \"If you've got an Alexa enabled device it'd probabl\"], [\"Yoghurt42\", \"/r/Python/comments/ebxfls/question_regarding_class_int_is_not_json/fb8w5o1/\", \"That's because it's the last line that defines the\"], [\"mraza007\", \"/r/Python/comments/ec6opk/so_i_wrote_this_script_a_ago_year_but_today_i/fb9s7wx/\", \"I\\u2019m not sure about that\"], [\"-DivineGod-\", \"/r/Python/comments/ec0d46/learning_python_and_couldnt_think_of_a_good/fb9rp0m/\", \"you mean you are adhd? HUHHHHHH\"], [\"chmod--777\", \"/r/Python/comments/ec0d46/learning_python_and_couldnt_think_of_a_good/fb9xg77/\", \"&gt;Python _does_ look for `.py` files when import\"], [\"idairis\", \"/r/Python/comments/ec9181/best_python_training_institute_for_industrial/fb9x6ld/\", \"Crap\"], [\"asim_kaleem\", \"/r/Python/comments/ec0d46/learning_python_and_couldnt_think_of_a_good/fba5dcl/\", \"i think i need to create one too :(\"], [\"AlphaGamer753\", \"/r/Python/comments/ec0yni/i_code_a_multiple_sudoku_grids_solver_in_python/fba8h90/\", \"You could do it at a \\\"realtime\\\" 20ish fps though c\"]], \"hoverlabel\": {\"namelength\": 0}, \"hovertemplate\": \"sentiment=negative<br>Date comment was posted=%{x}<br>Comment positivity=%{y}<br>score=%{marker.size}<br>author=%{customdata[0]}<br>permalink=%{customdata[1]}<br>preview=%{customdata[2]}\", \"legendgroup\": \"sentiment=negative\", \"marker\": {\"color\": \"indianred\", \"size\": [1, 1, 1, 1, 1, 1, 1, 1, 1, 1, 1, 1, 1, 1, 1, 1, 1, 1, 1, 1, 1, 1, 1, 1, 1, 1, 1, 1, 1, 1, 1, 1, 1, 1, 1, 1, 1, 1, 1, 1, 1, 1, 1, 1, 1, 1, 1, 1, 1, 1, 1, 1, 1, 1, 1, 1, 1, 1, 1, 1, 1, 1, 1, 1, 1, 1, 1, 1, 1, 1, 1, 1, 1, 1, 1, 1, 1, 1, 1, 1, 1, 1, 1, 1, 1, 1, 1, 1, 1, 1, 1, 1, 1, 1, 1, 1, 1, 1, 1, 1, 1, 1, 1, 1, 1, 1, 1, 1, 1, 1, 1, 1, 1, 1, 1, 1, 1, 1, 1, 1, 1, 1, 1, 1, 1, 1, 1, 1, 1, 1, 1, 1, 1, 1, 1, 1, 1, 1, 1, 1, 1, 1, 1, 1, 1, 1, 1, 1, 1, 1, 1], \"sizemode\": \"area\", \"sizeref\": 0.02, \"symbol\": \"circle\"}, \"mode\": \"markers\", \"name\": \"sentiment=negative\", \"showlegend\": true, \"type\": \"scatter\", \"x\": [\"2019-12-16T16:13:48\", \"2019-12-16T16:21:19\", \"2019-12-16T16:25:45\", \"2019-12-16T17:01:50\", \"2019-12-16T16:59:33\", \"2019-12-16T18:24:02\", \"2019-12-17T12:30:55\", \"2019-12-17T01:11:01\", \"2019-12-16T20:04:19\", \"2019-12-16T20:52:30\", \"2019-12-16T21:07:58\", \"2019-12-16T20:33:58\", \"2019-12-17T17:45:49\", \"2019-12-17T18:44:52\", \"2019-12-17T14:20:39\", \"2019-12-17T05:31:09\", \"2019-12-17T07:13:48\", \"2019-12-17T16:00:43\", \"2019-12-17T16:34:05\", \"2019-12-17T16:39:52\", \"2019-12-17T18:04:22\", \"2019-12-17T17:06:09\", \"2019-12-17T16:55:14\", \"2019-12-17T19:35:09\", \"2019-12-17T19:30:34\", \"2019-12-17T23:07:51\", \"2019-12-17T23:51:26\", \"2019-12-18T00:53:12\", \"2019-12-17T20:41:35\", \"2019-12-17T11:12:39\", \"2019-12-17T11:45:55\", \"2019-12-18T01:55:52\", \"2019-12-18T04:36:07\", \"2019-12-17T21:04:04\", \"2019-12-18T09:07:46\", \"2019-12-18T10:13:24\", \"2019-12-18T10:58:08\", \"2019-12-16T20:03:02\", \"2019-12-16T20:00:50\", \"2019-12-16T21:04:03\", \"2019-12-16T20:22:24\", \"2019-12-16T20:24:43\", \"2019-12-16T21:53:57\", \"2019-12-16T12:52:43\", \"2019-12-17T15:07:59\", \"2019-12-17T16:12:39\", \"2019-12-17T15:56:25\", \"2019-12-17T16:49:10\", \"2019-12-17T18:09:04\", \"2019-12-17T18:40:03\", \"2019-12-17T02:05:18\", \"2019-12-17T03:48:51\", \"2019-12-17T05:20:40\", \"2019-12-16T13:56:22\", \"2019-12-16T14:55:47\", \"2019-12-16T15:12:38\", \"2019-12-16T15:00:28\", \"2019-12-16T15:33:37\", \"2019-12-16T16:11:26\", \"2019-12-16T13:47:21\", \"2019-12-17T07:15:30\", \"2019-12-17T09:31:32\", \"2019-12-17T14:05:08\", \"2019-12-17T19:53:21\", \"2019-12-17T19:43:12\", \"2019-12-17T20:31:12\", \"2019-12-17T21:35:43\", \"2019-12-17T21:13:37\", \"2019-12-17T21:56:56\", \"2019-12-17T22:28:36\", \"2019-12-17T22:33:46\", \"2019-12-17T22:38:36\", \"2019-12-18T04:15:21\", \"2019-12-18T05:45:24\", \"2019-12-18T08:39:55\", \"2019-12-16T14:45:30\", \"2019-12-16T15:02:37\", \"2019-12-16T17:43:28\", \"2019-12-17T08:16:01\", \"2019-12-17T12:16:55\", \"2019-12-17T12:00:00\", \"2019-12-17T13:33:50\", \"2019-12-17T13:18:35\", \"2019-12-17T14:12:59\", \"2019-12-16T19:29:16\", \"2019-12-16T19:36:13\", \"2019-12-16T19:50:31\", \"2019-12-16T20:05:50\", \"2019-12-16T20:19:09\", \"2019-12-16T20:56:24\", \"2019-12-16T20:42:03\", \"2019-12-16T20:50:21\", \"2019-12-16T18:44:42\", \"2019-12-16T13:33:41\", \"2019-12-17T23:34:32\", \"2019-12-18T04:44:57\", \"2019-12-17T20:40:35\", \"2019-12-17T20:20:27\", \"2019-12-17T21:06:27\", \"2019-12-17T21:01:56\", \"2019-12-17T21:52:38\", \"2019-12-17T22:24:45\", \"2019-12-17T17:57:07\", \"2019-12-17T17:56:29\", \"2019-12-17T18:05:04\", \"2019-12-18T01:22:38\", \"2019-12-18T01:43:18\", \"2019-12-18T02:05:16\", \"2019-12-18T06:18:32\", \"2019-12-18T06:52:28\", \"2019-12-18T07:22:56\", \"2019-12-18T07:27:52\", \"2019-12-18T09:46:22\", \"2019-12-18T10:16:42\", \"2019-12-18T10:37:26\", \"2019-12-18T11:16:37\", \"2019-12-16T21:40:52\", \"2019-12-16T15:24:02\", \"2019-12-16T15:42:33\", \"2019-12-16T16:10:03\", \"2019-12-16T18:23:40\", \"2019-12-16T19:48:24\", \"2019-12-16T20:27:05\", \"2019-12-16T14:09:38\", \"2019-12-16T14:03:55\", \"2019-12-16T14:25:39\", \"2019-12-16T14:27:20\", \"2019-12-17T13:30:37\", \"2019-12-17T07:20:53\", \"2019-12-17T15:34:33\", \"2019-12-17T15:41:02\", \"2019-12-17T08:13:58\", \"2019-12-17T19:15:28\", \"2019-12-17T09:30:56\", \"2019-12-17T18:02:18\", \"2019-12-17T18:44:20\", \"2019-12-17T20:45:20\", \"2019-12-17T20:45:41\", \"2019-12-17T23:04:30\", \"2019-12-18T01:14:35\", \"2019-12-17T17:31:49\", \"2019-12-18T03:30:30\", \"2019-12-18T04:00:10\", \"2019-12-17T22:49:42\", \"2019-12-17T22:54:26\", \"2019-12-18T05:45:42\", \"2019-12-18T05:36:54\", \"2019-12-18T07:24:58\", \"2019-12-18T07:19:10\", \"2019-12-18T10:37:30\", \"2019-12-18T11:49:04\"], \"xaxis\": \"x\", \"y\": [-0.6, -0.06904761904761904, -0.06666666666666667, -0.025, -0.1061011904761905, -0.2999999999999999, -0.7999999999999999, -0.3125, -0.5, -1.0, -0.1, -0.225, -0.125, -0.07936507936507936, -0.03333333333333333, -0.05, -0.014285714285714287, -0.5, -0.10714285714285715, -0.08, -0.0625, -0.033333333333333326, -0.15, -0.06963684463684464, -0.3125, -0.20833333333333331, -0.0046245421245421255, -0.025277777777777777, -0.2, -1.0, -0.45989583333333334, -0.45, -0.16388888888888886, -0.04583333333333334, -0.3333333333333333, -0.00625, -0.04907407407407408, -0.5, -0.75, -0.3, -0.20833333333333331, -0.015624999999999986, -0.4, -0.1125, -0.16250000000000003, -0.075, -0.17857142857142855, -0.018864468864468877, -0.125, -0.08333333333333333, -0.04999999999999993, -0.05833333333333333, -0.25, -0.6999999999999998, -0.275, -0.025000000000000022, -0.15, -0.26, -0.75, -0.14166666666666666, -0.125, -0.075, -0.13999999999999999, -0.062121212121212126, -0.25, -0.30000000000000004, -0.07057142857142855, -0.25, -0.5, -0.3666666666666667, -0.0380952380952381, -0.07142857142857142, -0.4, -0.10625, -0.45, -0.3, -0.020833333333333332, -0.3, -0.5, -0.12222222222222222, -0.1716372912801484, -0.1, -0.02239583333333333, -0.10000000000000002, -0.12121212121212122, -0.013095238095238096, -0.425, -0.2833333333333333, -0.375, -0.03125, -0.2, -0.1625, -0.5, -0.13333333333333333, -1.0, -0.09340659340659338, -0.3, -0.5, -0.0625, -0.2, -0.20625000000000002, -0.06428571428571428, -0.325, -0.0625, -0.16874999999999998, -0.15, -0.25, -0.07748015873015872, -0.1875, -0.2, -0.024242424242424242, -0.4444444444444444, -0.16666666666666666, -0.17592592592592593, -0.20142857142857143, -0.2, -0.2, -0.09375, -0.15, -0.25, -0.2999999999999999, -0.1, -0.05, -0.024999999999999994, -0.0014102564102564052, -0.25, -0.6999999999999998, -0.03749999999999999, -0.05000000000000002, -0.1, -0.29732142857142857, -0.02857142857142855, -0.05, -0.03093434343434344, -0.18571428571428572, -0.07777777777777779, -0.05, -0.15000000000000002, -0.16666666666666666, -0.28125, -0.16428571428571428, -0.14583333333333334, -0.03047619047619048, -0.16666666666666666, -0.03766233766233767, -0.25, -0.3125, -0.09999999999999999, -0.8, -0.75, -0.2], \"yaxis\": \"y\"}],\n",
       "                        {\"legend\": {\"itemsizing\": \"constant\", \"tracegroupgap\": 0}, \"template\": {\"data\": {\"bar\": [{\"error_x\": {\"color\": \"#2a3f5f\"}, \"error_y\": {\"color\": \"#2a3f5f\"}, \"marker\": {\"line\": {\"color\": \"#E5ECF6\", \"width\": 0.5}}, \"type\": \"bar\"}], \"barpolar\": [{\"marker\": {\"line\": {\"color\": \"#E5ECF6\", \"width\": 0.5}}, \"type\": \"barpolar\"}], \"carpet\": [{\"aaxis\": {\"endlinecolor\": \"#2a3f5f\", \"gridcolor\": \"white\", \"linecolor\": \"white\", \"minorgridcolor\": \"white\", \"startlinecolor\": \"#2a3f5f\"}, \"baxis\": {\"endlinecolor\": \"#2a3f5f\", \"gridcolor\": \"white\", \"linecolor\": \"white\", \"minorgridcolor\": \"white\", \"startlinecolor\": \"#2a3f5f\"}, \"type\": \"carpet\"}], \"choropleth\": [{\"colorbar\": {\"outlinewidth\": 0, \"ticks\": \"\"}, \"type\": \"choropleth\"}], \"contour\": [{\"colorbar\": {\"outlinewidth\": 0, \"ticks\": \"\"}, \"colorscale\": [[0.0, \"#0d0887\"], [0.1111111111111111, \"#46039f\"], [0.2222222222222222, \"#7201a8\"], [0.3333333333333333, \"#9c179e\"], [0.4444444444444444, \"#bd3786\"], [0.5555555555555556, \"#d8576b\"], [0.6666666666666666, \"#ed7953\"], [0.7777777777777778, \"#fb9f3a\"], [0.8888888888888888, \"#fdca26\"], [1.0, \"#f0f921\"]], \"type\": \"contour\"}], \"contourcarpet\": [{\"colorbar\": {\"outlinewidth\": 0, \"ticks\": \"\"}, \"type\": \"contourcarpet\"}], \"heatmap\": [{\"colorbar\": {\"outlinewidth\": 0, \"ticks\": \"\"}, \"colorscale\": [[0.0, \"#0d0887\"], [0.1111111111111111, \"#46039f\"], [0.2222222222222222, \"#7201a8\"], [0.3333333333333333, \"#9c179e\"], [0.4444444444444444, \"#bd3786\"], [0.5555555555555556, \"#d8576b\"], [0.6666666666666666, \"#ed7953\"], [0.7777777777777778, \"#fb9f3a\"], [0.8888888888888888, \"#fdca26\"], [1.0, \"#f0f921\"]], \"type\": \"heatmap\"}], \"heatmapgl\": [{\"colorbar\": {\"outlinewidth\": 0, \"ticks\": \"\"}, \"colorscale\": [[0.0, \"#0d0887\"], [0.1111111111111111, \"#46039f\"], [0.2222222222222222, \"#7201a8\"], [0.3333333333333333, \"#9c179e\"], [0.4444444444444444, \"#bd3786\"], [0.5555555555555556, \"#d8576b\"], [0.6666666666666666, \"#ed7953\"], [0.7777777777777778, \"#fb9f3a\"], [0.8888888888888888, \"#fdca26\"], [1.0, \"#f0f921\"]], \"type\": \"heatmapgl\"}], \"histogram\": [{\"marker\": {\"colorbar\": {\"outlinewidth\": 0, \"ticks\": \"\"}}, \"type\": \"histogram\"}], \"histogram2d\": [{\"colorbar\": {\"outlinewidth\": 0, \"ticks\": \"\"}, \"colorscale\": [[0.0, \"#0d0887\"], [0.1111111111111111, \"#46039f\"], [0.2222222222222222, \"#7201a8\"], [0.3333333333333333, \"#9c179e\"], [0.4444444444444444, \"#bd3786\"], [0.5555555555555556, \"#d8576b\"], [0.6666666666666666, \"#ed7953\"], [0.7777777777777778, \"#fb9f3a\"], [0.8888888888888888, \"#fdca26\"], [1.0, \"#f0f921\"]], \"type\": \"histogram2d\"}], \"histogram2dcontour\": [{\"colorbar\": {\"outlinewidth\": 0, \"ticks\": \"\"}, \"colorscale\": [[0.0, \"#0d0887\"], [0.1111111111111111, \"#46039f\"], [0.2222222222222222, \"#7201a8\"], [0.3333333333333333, \"#9c179e\"], [0.4444444444444444, \"#bd3786\"], [0.5555555555555556, \"#d8576b\"], [0.6666666666666666, \"#ed7953\"], [0.7777777777777778, \"#fb9f3a\"], [0.8888888888888888, \"#fdca26\"], [1.0, \"#f0f921\"]], \"type\": \"histogram2dcontour\"}], \"mesh3d\": [{\"colorbar\": {\"outlinewidth\": 0, \"ticks\": \"\"}, \"type\": \"mesh3d\"}], \"parcoords\": [{\"line\": {\"colorbar\": {\"outlinewidth\": 0, \"ticks\": \"\"}}, \"type\": \"parcoords\"}], \"pie\": [{\"automargin\": true, \"type\": \"pie\"}], \"scatter\": [{\"marker\": {\"colorbar\": {\"outlinewidth\": 0, \"ticks\": \"\"}}, \"type\": \"scatter\"}], \"scatter3d\": [{\"line\": {\"colorbar\": {\"outlinewidth\": 0, \"ticks\": \"\"}}, \"marker\": {\"colorbar\": {\"outlinewidth\": 0, \"ticks\": \"\"}}, \"type\": \"scatter3d\"}], \"scattercarpet\": [{\"marker\": {\"colorbar\": {\"outlinewidth\": 0, \"ticks\": \"\"}}, \"type\": \"scattercarpet\"}], \"scattergeo\": [{\"marker\": {\"colorbar\": {\"outlinewidth\": 0, \"ticks\": \"\"}}, \"type\": \"scattergeo\"}], \"scattergl\": [{\"marker\": {\"colorbar\": {\"outlinewidth\": 0, \"ticks\": \"\"}}, \"type\": \"scattergl\"}], \"scattermapbox\": [{\"marker\": {\"colorbar\": {\"outlinewidth\": 0, \"ticks\": \"\"}}, \"type\": \"scattermapbox\"}], \"scatterpolar\": [{\"marker\": {\"colorbar\": {\"outlinewidth\": 0, \"ticks\": \"\"}}, \"type\": \"scatterpolar\"}], \"scatterpolargl\": [{\"marker\": {\"colorbar\": {\"outlinewidth\": 0, \"ticks\": \"\"}}, \"type\": \"scatterpolargl\"}], \"scatterternary\": [{\"marker\": {\"colorbar\": {\"outlinewidth\": 0, \"ticks\": \"\"}}, \"type\": \"scatterternary\"}], \"surface\": [{\"colorbar\": {\"outlinewidth\": 0, \"ticks\": \"\"}, \"colorscale\": [[0.0, \"#0d0887\"], [0.1111111111111111, \"#46039f\"], [0.2222222222222222, \"#7201a8\"], [0.3333333333333333, \"#9c179e\"], [0.4444444444444444, \"#bd3786\"], [0.5555555555555556, \"#d8576b\"], [0.6666666666666666, \"#ed7953\"], [0.7777777777777778, \"#fb9f3a\"], [0.8888888888888888, \"#fdca26\"], [1.0, \"#f0f921\"]], \"type\": \"surface\"}], \"table\": [{\"cells\": {\"fill\": {\"color\": \"#EBF0F8\"}, \"line\": {\"color\": \"white\"}}, \"header\": {\"fill\": {\"color\": \"#C8D4E3\"}, \"line\": {\"color\": \"white\"}}, \"type\": \"table\"}]}, \"layout\": {\"annotationdefaults\": {\"arrowcolor\": \"#2a3f5f\", \"arrowhead\": 0, \"arrowwidth\": 1}, \"coloraxis\": {\"colorbar\": {\"outlinewidth\": 0, \"ticks\": \"\"}}, \"colorscale\": {\"diverging\": [[0, \"#8e0152\"], [0.1, \"#c51b7d\"], [0.2, \"#de77ae\"], [0.3, \"#f1b6da\"], [0.4, \"#fde0ef\"], [0.5, \"#f7f7f7\"], [0.6, \"#e6f5d0\"], [0.7, \"#b8e186\"], [0.8, \"#7fbc41\"], [0.9, \"#4d9221\"], [1, \"#276419\"]], \"sequential\": [[0.0, \"#0d0887\"], [0.1111111111111111, \"#46039f\"], [0.2222222222222222, \"#7201a8\"], [0.3333333333333333, \"#9c179e\"], [0.4444444444444444, \"#bd3786\"], [0.5555555555555556, \"#d8576b\"], [0.6666666666666666, \"#ed7953\"], [0.7777777777777778, \"#fb9f3a\"], [0.8888888888888888, \"#fdca26\"], [1.0, \"#f0f921\"]], \"sequentialminus\": [[0.0, \"#0d0887\"], [0.1111111111111111, \"#46039f\"], [0.2222222222222222, \"#7201a8\"], [0.3333333333333333, \"#9c179e\"], [0.4444444444444444, \"#bd3786\"], [0.5555555555555556, \"#d8576b\"], [0.6666666666666666, \"#ed7953\"], [0.7777777777777778, \"#fb9f3a\"], [0.8888888888888888, \"#fdca26\"], [1.0, \"#f0f921\"]]}, \"colorway\": [\"#636efa\", \"#EF553B\", \"#00cc96\", \"#ab63fa\", \"#FFA15A\", \"#19d3f3\", \"#FF6692\", \"#B6E880\", \"#FF97FF\", \"#FECB52\"], \"font\": {\"color\": \"#2a3f5f\"}, \"geo\": {\"bgcolor\": \"white\", \"lakecolor\": \"white\", \"landcolor\": \"#E5ECF6\", \"showlakes\": true, \"showland\": true, \"subunitcolor\": \"white\"}, \"hoverlabel\": {\"align\": \"left\"}, \"hovermode\": \"closest\", \"mapbox\": {\"style\": \"light\"}, \"paper_bgcolor\": \"white\", \"plot_bgcolor\": \"#E5ECF6\", \"polar\": {\"angularaxis\": {\"gridcolor\": \"white\", \"linecolor\": \"white\", \"ticks\": \"\"}, \"bgcolor\": \"#E5ECF6\", \"radialaxis\": {\"gridcolor\": \"white\", \"linecolor\": \"white\", \"ticks\": \"\"}}, \"scene\": {\"xaxis\": {\"backgroundcolor\": \"#E5ECF6\", \"gridcolor\": \"white\", \"gridwidth\": 2, \"linecolor\": \"white\", \"showbackground\": true, \"ticks\": \"\", \"zerolinecolor\": \"white\"}, \"yaxis\": {\"backgroundcolor\": \"#E5ECF6\", \"gridcolor\": \"white\", \"gridwidth\": 2, \"linecolor\": \"white\", \"showbackground\": true, \"ticks\": \"\", \"zerolinecolor\": \"white\"}, \"zaxis\": {\"backgroundcolor\": \"#E5ECF6\", \"gridcolor\": \"white\", \"gridwidth\": 2, \"linecolor\": \"white\", \"showbackground\": true, \"ticks\": \"\", \"zerolinecolor\": \"white\"}}, \"shapedefaults\": {\"line\": {\"color\": \"#2a3f5f\"}}, \"ternary\": {\"aaxis\": {\"gridcolor\": \"white\", \"linecolor\": \"white\", \"ticks\": \"\"}, \"baxis\": {\"gridcolor\": \"white\", \"linecolor\": \"white\", \"ticks\": \"\"}, \"bgcolor\": \"#E5ECF6\", \"caxis\": {\"gridcolor\": \"white\", \"linecolor\": \"white\", \"ticks\": \"\"}}, \"title\": {\"x\": 0.05}, \"xaxis\": {\"automargin\": true, \"gridcolor\": \"white\", \"linecolor\": \"white\", \"ticks\": \"\", \"title\": {\"standoff\": 15}, \"zerolinecolor\": \"white\", \"zerolinewidth\": 2}, \"yaxis\": {\"automargin\": true, \"gridcolor\": \"white\", \"linecolor\": \"white\", \"ticks\": \"\", \"title\": {\"standoff\": 15}, \"zerolinecolor\": \"white\", \"zerolinewidth\": 2}}}, \"title\": {\"text\": \"Comment sentiment in /r/python for the past 48h\"}, \"xaxis\": {\"anchor\": \"y\", \"domain\": [0.0, 1.0], \"title\": {\"text\": \"Date comment was posted\"}}, \"yaxis\": {\"anchor\": \"x\", \"domain\": [0.0, 1.0], \"title\": {\"text\": \"Comment positivity\"}}},\n",
       "                        {\"responsive\": true}\n",
       "                    ).then(function(){\n",
       "                            \n",
       "var gd = document.getElementById('7366ee2f-5561-43a2-9b19-85f616b19f0e');\n",
       "var x = new MutationObserver(function (mutations, observer) {{\n",
       "        var display = window.getComputedStyle(gd).display;\n",
       "        if (!display || display === 'none') {{\n",
       "            console.log([gd, 'removed!']);\n",
       "            Plotly.purge(gd);\n",
       "            observer.disconnect();\n",
       "        }}\n",
       "}});\n",
       "\n",
       "// Listen for the removal of the full notebook cells\n",
       "var notebookContainer = gd.closest('#notebook-container');\n",
       "if (notebookContainer) {{\n",
       "    x.observe(notebookContainer, {childList: true});\n",
       "}}\n",
       "\n",
       "// Listen for the clearing of the current output cell\n",
       "var outputEl = gd.closest('.output');\n",
       "if (outputEl) {{\n",
       "    x.observe(outputEl, {childList: true});\n",
       "}}\n",
       "\n",
       "                        })\n",
       "                };\n",
       "                });\n",
       "            </script>\n",
       "        </div>"
      ]
     },
     "metadata": {},
     "output_type": "display_data"
    }
   ],
   "source": [
    "data = get_pushshift_data(data_type=\"comment\", after=TIMEFRAME, size=1000, sort_type=\"score\", sort=\"desc\", subreddit=SUBREDDIT_OF_INTEREST).get(\"data\")\n",
    "df = pandas.DataFrame.from_records(data)[[\"author\", \"body\", \"created_utc\", \"score\", \"permalink\"]]\n",
    "\n",
    "df[\"sentiment_polarity\"] = df.apply(lambda row: textblob.TextBlob(row[\"body\"]).sentiment.polarity, axis=1)\n",
    "df[\"sentiment_subjectivity\"] = df.apply(lambda row: textblob.TextBlob(row[\"body\"]).sentiment.subjectivity, axis=1)\n",
    "df[\"sentiment\"] = df.apply(lambda row: \"positive\" if row[\"sentiment_polarity\"] >= 0 else \"negative\", axis=1)\n",
    "\n",
    "df[\"preview\"] = df[\"body\"].str[0:50]\n",
    "\n",
    "df[\"date\"] = pandas.to_datetime(df['created_utc'],unit='s')\n",
    "\n",
    "px.scatter(df, x=\"date\", \n",
    "               y=\"sentiment_polarity\",\n",
    "               hover_data=[\"author\", \"permalink\", \"preview\"],\n",
    "               color_discrete_sequence=[\"lightseagreen\", \"indianred\"],\n",
    "               color=\"sentiment\",\n",
    "               size=\"score\",\n",
    "               size_max=10,\n",
    "               labels={\"sentiment_polarity\": \"Comment positivity\", \"date\": \"Date comment was posted\"},\n",
    "               title=f\"Comment sentiment in /r/{SUBREDDIT_OF_INTEREST} for the past {TIMEFRAME}\",\n",
    "          )\n"
   ]
  },
  {
   "cell_type": "markdown",
   "metadata": {},
   "source": [
    "<p><center>Made with 🐍 and 🍕 by <a href=\"https://duarteocarmo.com\">Duarte OC</a></center></p>"
   ]
  }
 ],
 "metadata": {
  "kernelspec": {
   "display_name": "Python 3",
   "language": "python",
   "name": "python3"
  },
  "language_info": {
   "codemirror_mode": {
    "name": "ipython",
    "version": 3
   },
   "file_extension": ".py",
   "mimetype": "text/x-python",
   "name": "python",
   "nbconvert_exporter": "python",
   "pygments_lexer": "ipython3",
   "version": "3.7.5"
  }
 },
 "nbformat": 4,
 "nbformat_minor": 4
}
